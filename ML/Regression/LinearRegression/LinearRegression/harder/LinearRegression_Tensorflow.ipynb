{
 "cells": [
  {
   "cell_type": "markdown",
   "metadata": {},
   "source": [
    "In this notebook I want to present how to implement Linear Regression with Tensorflow."
   ]
  },
  {
   "cell_type": "code",
   "execution_count": 1,
   "metadata": {
    "collapsed": true
   },
   "outputs": [],
   "source": [
    "from sklearn.datasets import make_regression\n",
    "import tensorflow as tf\n",
    "\n",
    "%matplotlib inline \n",
    "import matplotlib\n",
    "import matplotlib.pyplot as plt\n",
    "\n",
    "import numpy as np "
   ]
  },
  {
   "cell_type": "code",
   "execution_count": 2,
   "metadata": {},
   "outputs": [
    {
     "name": "stdout",
     "output_type": "stream",
     "text": [
      "Tensorflow version: 1.2.1\n"
     ]
    }
   ],
   "source": [
    "print(\"Tensorflow version: \" + tf.__version__)"
   ]
  },
  {
   "cell_type": "markdown",
   "metadata": {},
   "source": [
    "### Constants"
   ]
  },
  {
   "cell_type": "code",
   "execution_count": 3,
   "metadata": {
    "collapsed": true
   },
   "outputs": [],
   "source": [
    "# Data parameters\n",
    "DATA_NUM = 1000\n",
    "DATA_FEATURES = 1\n",
    "DATA_LABELS = 1\n",
    "\n",
    "# Directory to/from which tf.train.Saver will save/load Tensorflow graph\n",
    "MODEL_SAVE_DIR = \"./cpkt_data/\"\n",
    "MODEL_SAVE_FILE_NAME = \"tf_linear_regression.cpkt\"\n",
    "\n",
    "# Directory to which tf.summary.FileWriter will save logs\n",
    "TENSORBOARD_FILES_DIR = \"./tensorboard_data/\" "
   ]
  },
  {
   "cell_type": "markdown",
   "metadata": {},
   "source": [
    "### Generate problem"
   ]
  },
  {
   "cell_type": "code",
   "execution_count": 4,
   "metadata": {
    "collapsed": true
   },
   "outputs": [],
   "source": [
    "def generate_linear_regression_problem(samples_num):\n",
    "    \"\"\"Function that uses 'make_regression' of sklearn as a core. It's purpose it to \n",
    "    generate point that can be aproximated by linear function. Returns tuple of data \n",
    "    and it's labels.\n",
    "    \n",
    "    Arguments:\n",
    "    ---------\n",
    "    samples_num:\n",
    "        Numer of points that should be generated.\n",
    "    \"\"\"\n",
    "    bias = np.random.uniform(-5, 5)\n",
    "    data_noise = np.random.uniform(4, 8)\n",
    "    x_values, y_values = make_regression(n_samples=samples_num, n_features=1, noise=data_noise, \n",
    "                                         bias=bias)\n",
    "    \n",
    "    return x_values, y_values.reshape(-1, 1)"
   ]
  },
  {
   "cell_type": "code",
   "execution_count": 5,
   "metadata": {},
   "outputs": [
    {
     "data": {
      "image/png": "[encoded data removed]",
      "text/plain": [
       "<matplotlib.figure.Figure at 0x1111aad30>"
      ]
     },
     "metadata": {},
     "output_type": "display_data"
    }
   ],
   "source": [
    "# Generating values 'X' and labels 'y'\n",
    "X, y = generate_linear_regression_problem(DATA_NUM)\n",
    "\n",
    "# Presenting generated data\n",
    "plt.scatter(X, y, s=15)\n",
    "plt.title(\"Linear Regression Problem to fit\")\n",
    "plt.xlabel(\"X values\")\n",
    "plt.ylabel(\"y values\")\n",
    "plt.show()"
   ]
  },
  {
   "cell_type": "markdown",
   "metadata": {},
   "source": [
    "### Linear Regression - in Tensorflow"
   ]
  },
  {
   "cell_type": "markdown",
   "metadata": {},
   "source": [
    "Model implementation"
   ]
  },
  {
   "cell_type": "code",
   "execution_count": 6,
   "metadata": {
    "collapsed": true
   },
   "outputs": [],
   "source": [
    "# Resetting Tensorflow graph\n",
    "tf.reset_default_graph()\n",
    "\n",
    "with tf.name_scope(\"io-scope\"):\n",
    "    # Placeholder to which data will be fed to model during training/predicting\n",
    "    inputs_ = tf.placeholder(tf.float32, [None, DATA_FEATURES], name=\"inputs\")\n",
    "    \n",
    "    # Placeholder to which expected values (labels) will be fed to model during training\n",
    "    targets_ = tf.placeholder(tf.float32, [None, DATA_LABELS], name=\"targets\")\n",
    "\n",
    "with tf.name_scope(\"lr-scope\"):\n",
    "    # Placeholder to which learning rate for optimizer will be fed during training\n",
    "    learning_rate_ = tf.placeholder(tf.float32, None, name=\"learning_rate\")\n",
    "\n",
    "with tf.name_scope(\"weights-scope\"):\n",
    "    # Variable - trained part 'weights' of linear function 'weights * inputs_ + bias'\n",
    "    weights = tf.Variable(tf.random_normal([DATA_FEATURES, 1]), name=\"weights\")\n",
    "\n",
    "with tf.name_scope(\"bias-scope\"):\n",
    "    # Variable - trained part 'bias' of linear function 'weights * inputs_ + bias'\n",
    "    bias = tf.Variable(tf.random_normal([DATA_LABELS]), name=\"bias\")"
   ]
  },
  {
   "cell_type": "markdown",
   "metadata": {},
   "source": [
    "Model interactions"
   ]
  },
  {
   "cell_type": "code",
   "execution_count": 7,
   "metadata": {},
   "outputs": [],
   "source": [
    "# Op for making predictions with current 'weights' and 'bias' of model stored in \n",
    "# Tensorflow graph\n",
    "prediction = tf.add(tf.matmul(inputs_, weights), bias)\n",
    "\n",
    "with tf.name_scope(\"MSE-scope\"):\n",
    "    # Op for calculating Squared Error cost function for tracking model performance\n",
    "    mse = tf.reduce_sum(tf.pow(prediction - targets_, 2))/(2*DATA_NUM)\n",
    "    \n",
    "    # Tensorboard tracking for Mean Squared Error\n",
    "    tf.summary.scalar(\"cost\", mse)\n",
    "    \n",
    "# Op for optimizing model variables by minimizing Mean Squared Error cost function \n",
    "# with usage of Gradient Descent method\n",
    "optimizer = tf.train.GradientDescentOptimizer(learning_rate_).minimize(mse)"
   ]
  },
  {
   "cell_type": "markdown",
   "metadata": {},
   "source": [
    "Tensorflow utils for model saving"
   ]
  },
  {
   "cell_type": "code",
   "execution_count": 8,
   "metadata": {
    "collapsed": true
   },
   "outputs": [],
   "source": [
    "# Creating tf.train.Saver for storing trained model. Only 'weights' and 'bias' variables\n",
    "# will be saved\n",
    "saver = tf.train.Saver([weights, bias])"
   ]
  },
  {
   "cell_type": "markdown",
   "metadata": {},
   "source": [
    "Tensorflow utils for logging"
   ]
  },
  {
   "cell_type": "code",
   "execution_count": 9,
   "metadata": {
    "collapsed": true
   },
   "outputs": [],
   "source": [
    "# Function for providing Tensorboard tf.summary.FileWritter, it needs to have reference to graph\n",
    "def create_tensorboard_file_writer(session):\n",
    "    return tf.summary.FileWriter(TENSORBOARD_FILES_DIR, session.graph)\n",
    "\n",
    "# Op that will merge all tf.summary related logging statements into single object that can be saved\n",
    "# by FileWriter\n",
    "gather_graph_data = tf.summary.merge_all()"
   ]
  },
  {
   "cell_type": "markdown",
   "metadata": {},
   "source": [
    "### Hyperparameters"
   ]
  },
  {
   "cell_type": "code",
   "execution_count": 10,
   "metadata": {
    "collapsed": true
   },
   "outputs": [],
   "source": [
    "epochs = 1500\n",
    "learning_rate = 0.005"
   ]
  },
  {
   "cell_type": "markdown",
   "metadata": {},
   "source": [
    "### Training cycle"
   ]
  },
  {
   "cell_type": "code",
   "execution_count": 11,
   "metadata": {
    "scrolled": false
   },
   "outputs": [
    {
     "name": "stdout",
     "output_type": "stream",
     "text": [
      "Epoch: 050 cost= 1133.60999 weights= [[ 12.86243248]] bias= [ 2.51129794]\n",
      "Epoch: 100 cost= 694.24298 weights= [[ 23.25608635]] bias= [ 3.17179561]\n",
      "Epoch: 150 cost= 427.19440 weights= [[ 31.36148643]] bias= [ 3.64894891]\n",
      "Epoch: 200 cost= 264.86719 weights= [[ 37.68254471]] bias= [ 3.99153185]\n",
      "Epoch: 250 cost= 166.18678 weights= [[ 42.61218643]] bias= [ 4.23571634]\n",
      "Epoch: 300 cost= 106.19300 weights= [[ 46.45676804]] bias= [ 4.40825701]\n",
      "Epoch: 350 cost= 69.71613 weights= [[ 49.45516968]] bias= [ 4.52888918]\n",
      "Epoch: 400 cost= 47.53560 weights= [[ 51.7937088]] bias= [ 4.61212826]\n",
      "Epoch: 450 cost= 34.04727 weights= [[ 53.61761856]] bias= [ 4.66860771]\n",
      "Epoch: 500 cost= 25.84397 weights= [[ 55.04021072]] bias= [ 4.70608711]\n",
      "Epoch: 550 cost= 20.85460 weights= [[ 56.14978409]] bias= [ 4.73020411]\n",
      "Epoch: 600 cost= 17.81970 weights= [[ 57.0152359]] bias= [ 4.74503374]\n",
      "Epoch: 650 cost= 15.97350 weights= [[ 57.69029236]] bias= [ 4.75350046]\n",
      "Epoch: 700 cost= 14.85028 weights= [[ 58.21686172]] bias= [ 4.75769329]\n",
      "Epoch: 750 cost= 14.16690 weights= [[ 58.62760544]] bias= [ 4.75908518]\n",
      "Epoch: 800 cost= 13.75109 weights= [[ 58.94799805]] bias= [ 4.75870991]\n",
      "Epoch: 850 cost= 13.49804 weights= [[ 59.1979332]] bias= [ 4.75727844]\n",
      "Epoch: 900 cost= 13.34404 weights= [[ 59.39290237]] bias= [ 4.75527716]\n",
      "Epoch: 950 cost= 13.25032 weights= [[ 59.54499817]] bias= [ 4.75302744]\n",
      "Epoch: 1000 cost= 13.19326 weights= [[ 59.66365814]] bias= [ 4.75073481]\n",
      "Epoch: 1050 cost= 13.15854 weights= [[ 59.75622177]] bias= [ 4.74852848]\n",
      "Epoch: 1100 cost= 13.13739 weights= [[ 59.82843399]] bias= [ 4.74648333]\n",
      "Epoch: 1150 cost= 13.12453 weights= [[ 59.88477325]] bias= [ 4.74463463]\n",
      "Epoch: 1200 cost= 13.11668 weights= [[ 59.92874527]] bias= [ 4.74299574]\n",
      "Epoch: 1250 cost= 13.11191 weights= [[ 59.96305466]] bias= [ 4.74156427]\n",
      "Epoch: 1300 cost= 13.10900 weights= [[ 59.98981094]] bias= [ 4.74032831]\n",
      "Epoch: 1350 cost= 13.10723 weights= [[ 60.0106926]] bias= [ 4.73927069]\n",
      "Epoch: 1400 cost= 13.10615 weights= [[ 60.02697754]] bias= [ 4.7383728]\n",
      "Epoch: 1450 cost= 13.10550 weights= [[ 60.0396843]] bias= [ 4.73761702]\n",
      "Epoch: 1500 cost= 13.10510 weights= [[ 60.04959488]] bias= [ 4.73698378]\n"
     ]
    }
   ],
   "source": [
    "# Container for model preformance tracking - as an alternative to Tensorboard\n",
    "train = {\"cost\": list()}\n",
    "\n",
    "with tf.Session() as sess:\n",
    "    # Connecting tf.summary.FileWritter to current context session\n",
    "    file_writer = create_tensorboard_file_writer(sess)\n",
    "    \n",
    "    # Adding values to tf.Variables\n",
    "    sess.run(tf.global_variables_initializer())\n",
    "\n",
    "    # Training\n",
    "    for epoch in range(epochs):\n",
    "        \n",
    "        # Performing Gradient Descent Step, gathering model data, calculating error\n",
    "        _, summary, cost = sess.run([optimizer, gather_graph_data, mse], \n",
    "                                    feed_dict={inputs_: X, targets_: y, \n",
    "                                               learning_rate_: learning_rate})\n",
    "        \n",
    "        # Saving calculated error - as an alternative to Tensorboard\n",
    "        train[\"cost\"].append(cost)\n",
    "        \n",
    "        # Saving Tensorboard data\n",
    "        file_writer.add_summary(summary, epoch)\n",
    "        \n",
    "        # Printing model stats every 50 epochs\n",
    "        if (epoch + 1) % 50 == 0:\n",
    "            print(\"Epoch:\", \"%03d\" % (epoch + 1), \"cost=\", \"{:.5f}\".format(cost), \n",
    "                \"weights=\", sess.run(weights), \"bias=\", sess.run(bias))\n",
    "\n",
    "    # Saving model to .cpkt file\n",
    "    saver.save(sess, MODEL_SAVE_DIR + MODEL_SAVE_FILE_NAME)"
   ]
  },
  {
   "cell_type": "code",
   "execution_count": 12,
   "metadata": {},
   "outputs": [
    {
     "data": {
      "image/png": "[encoded data removed]",
      "text/plain": [
       "<matplotlib.figure.Figure at 0x11149f358>"
      ]
     },
     "metadata": {},
     "output_type": "display_data"
    }
   ],
   "source": [
    "# Model learning history\n",
    "plt.plot(range(epochs), train[\"cost\"], label=\"Mean Squared Error\")\n",
    "plt.legend()\n",
    "plt.show()"
   ]
  },
  {
   "cell_type": "markdown",
   "metadata": {},
   "source": [
    "### Tensorboard\n",
    "- Full Tensorboard launch command: \n",
    "\n",
    "      tensorboard --logdir=<tensorboard_file_dir>"
   ]
  },
  {
   "cell_type": "markdown",
   "metadata": {},
   "source": [
    "### Reuse trained model"
   ]
  },
  {
   "cell_type": "code",
   "execution_count": 13,
   "metadata": {},
   "outputs": [
    {
     "name": "stdout",
     "output_type": "stream",
     "text": [
      "INFO:tensorflow:Restoring parameters from ./cpkt_data/tf_linear_regression.cpkt\n"
     ]
    },
    {
     "data": {
      "image/png": "[encoded data removed]",
      "text/plain": [
       "<matplotlib.figure.Figure at 0x111272550>"
      ]
     },
     "metadata": {},
     "output_type": "display_data"
    }
   ],
   "source": [
    "with tf.Session() as sess:\n",
    "    # Restroing values stored in model .cpkt to current session\n",
    "    saver.restore(sess, MODEL_SAVE_DIR + MODEL_SAVE_FILE_NAME)\n",
    "    \n",
    "    # Using trained model for prediction\n",
    "    predictions = sess.run([prediction], feed_dict={inputs_: X})\n",
    "    \n",
    "    # Displaying predictions on plot\n",
    "    plt.scatter(X, y, c=\"r\", s=15, label=\"Data\")\n",
    "    plt.plot(X, predictions[0], label=\"Fitted line\")\n",
    "    plt.legend()\n",
    "    plt.show()"
   ]
  }
 ],
 "metadata": {
  "kernelspec": {
   "display_name": "Python 3",
   "language": "python",
   "name": "python3"
  },
  "language_info": {
   "codemirror_mode": {
    "name": "ipython",
    "version": 3
   },
   "file_extension": ".py",
   "mimetype": "text/x-python",
   "name": "python",
   "nbconvert_exporter": "python",
   "pygments_lexer": "ipython3",
   "version": "3.6.1"
  }
 },
 "nbformat": 4,
 "nbformat_minor": 2
}
