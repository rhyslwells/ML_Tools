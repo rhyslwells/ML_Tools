{
 "cells": [
  {
   "cell_type": "markdown",
   "metadata": {},
   "source": [
    "This is a copy of notebook PolynomialRegression_Degree2_Raw.ipynb to show how written code works with aproximating Polynomial Functions of degree 3."
   ]
  },
  {
   "cell_type": "code",
   "execution_count": 11,
   "metadata": {
    "collapsed": true
   },
   "outputs": [],
   "source": [
    "from sklearn import linear_model\n",
    "\n",
    "%matplotlib inline \n",
    "from mpl_toolkits.mplot3d import Axes3D\n",
    "import matplotlib\n",
    "import matplotlib.pyplot as plt\n",
    "\n",
    "import numpy as np "
   ]
  },
  {
   "cell_type": "markdown",
   "metadata": {},
   "source": [
    "### Constants"
   ]
  },
  {
   "cell_type": "code",
   "execution_count": 12,
   "metadata": {
    "collapsed": true
   },
   "outputs": [],
   "source": [
    "DATA_NUM = 150\n",
    "DATA_DEGREE = 3"
   ]
  },
  {
   "cell_type": "markdown",
   "metadata": {},
   "source": [
    "### Generate problem"
   ]
  },
  {
   "cell_type": "code",
   "execution_count": 13,
   "metadata": {
    "collapsed": true
   },
   "outputs": [],
   "source": [
    "def generate_polynomial_regression_problem(samples_num, degree):\n",
    "    \"\"\"Generates 'samples_num' points that can be easily generalized and fit with usage of\n",
    "    Polynomial Regression algorithm.\n",
    "    \n",
    "    Arguments:\n",
    "    ---------\n",
    "    samples_num: int\n",
    "        Numer of points that should be generated.\n",
    "    degree: int\n",
    "        The power of the polynomial.\n",
    "    \"\"\"\n",
    "    \n",
    "    def _polynomial_function(x_values, degree, function_param_min, function_param_max):\n",
    "        \"\"\"For each value in list 'x_values' returns value which corresponds to equation:\n",
    "            \n",
    "               f(x) = param[0] + param[1] * x + param[2] * x^2 + ... param[degree] + x^degree \n",
    "            \n",
    "           where 'param' is a random float number from range <function_param_min, function_param_max).\n",
    "        \"\"\"\n",
    "        function_parameters = list()\n",
    "\n",
    "        for i in range(1, degree + 1):\n",
    "            function_parameters.append((np.random.uniform(function_param_min, function_param_max), i))\n",
    "\n",
    "        y_values = list()\n",
    "        for x in x_values:\n",
    "            y = 0\n",
    "            for parameter in function_parameters:\n",
    "                y += parameter[0] * np.power(x, parameter[1])\n",
    "            y_values.append(y)\n",
    "\n",
    "        return y_values\n",
    "    \n",
    "    def _add_noise(values):\n",
    "        \"\"\"Adds noise to each value in list 'values' according to equation:\n",
    "        \n",
    "               value += value * random value from range (-0.1, 0.1>\n",
    "        \"\"\"\n",
    "        noised_values = list()\n",
    "        for val in values:\n",
    "            noised_val = val + np.max(values) * np.random.uniform(-0.1, 0.1)\n",
    "            noised_values.append(noised_val)\n",
    "\n",
    "        return noised_values\n",
    "    \n",
    "    x_values = [np.random.uniform(-10, 10) for _ in range(samples_num)]\n",
    "    \n",
    "    y_values = _polynomial_function(x_values, degree, -15 , 15)\n",
    "    y_values = _add_noise(y_values)\n",
    "    \n",
    "    return np.array(x_values).reshape(-1, 1), np.array((y_values)).reshape(-1, 1)"
   ]
  },
  {
   "cell_type": "code",
   "execution_count": 14,
   "metadata": {},
   "outputs": [
    {
     "data": {
      "image/png": "[encoded data removed]",
      "text/plain": [
       "<matplotlib.figure.Figure at 0x108836a90>"
      ]
     },
     "metadata": {},
     "output_type": "display_data"
    }
   ],
   "source": [
    "# Generating values 'X' and labels 'y'\n",
    "X, y = generate_polynomial_regression_problem(DATA_NUM, DATA_DEGREE)\n",
    "\n",
    "# Presenting generated data\n",
    "plt.scatter(X, y, s=15)\n",
    "plt.title(\"Polynomial Regression Problem of Degree 3 - to fit\")\n",
    "plt.xlabel(\"X values\")\n",
    "plt.ylabel(\"y values\")\n",
    "plt.show()"
   ]
  },
  {
   "cell_type": "markdown",
   "metadata": {},
   "source": [
    "### Polynomial Regression - Raw implementation"
   ]
  },
  {
   "cell_type": "code",
   "execution_count": 15,
   "metadata": {
    "collapsed": true
   },
   "outputs": [],
   "source": [
    "class PolynomialRegression:\n",
    "    \"\"\"Polynomial Regression model.\n",
    "    \n",
    "    Arguments:\n",
    "    ---------\n",
    "    degree: int\n",
    "        The power of the polynomial that should be used to fit data X.\n",
    "    iterations: int\n",
    "        Number of Gradient Descent Steps that will be performed in order to change weights of\n",
    "        linear model\n",
    "    learning_rate: float\n",
    "        Weight applied for Gradient Descent Step during updating weights. (default: 0.001)\n",
    "    normalize: boolean\n",
    "        Flag for normalization. If set to true data will be scaled to values which mean is close\n",
    "        to 0 and standard deviation close to 1. \n",
    "    verbose: boolean\n",
    "        Flag for debugging. If set to true then error values achieved by model during training\n",
    "        cycle will be displayed.\n",
    "    \"\"\"\n",
    "    def __init__(self, degree, iterations, learning_rate=0.001, \n",
    "                 normalize=False, verbose=False):\n",
    "        self.w = None\n",
    "        self._normalize_mean = None\n",
    "        self._normalize_std = None\n",
    "        \n",
    "        self.error_history = list()\n",
    "        self.degree = degree\n",
    "        self.iterations = iterations\n",
    "        self.learning_rate = learning_rate\n",
    "        self.normalize = normalize\n",
    "        self.verbose = verbose\n",
    "        \n",
    "        \n",
    "    def fit(self, X, y):\n",
    "        \"\"\"Function that is adjusting Polynomial Regression Model weights 'w' to inserted data 'X'\n",
    "        according to target values 'y'.\"\"\"\n",
    "        \n",
    "        # Ensure data is float type\n",
    "        X = X.astype(np.float32)\n",
    "        y = y.astype(np.float32)\n",
    "        \n",
    "        if self.normalize:\n",
    "            # Scaling X values\n",
    "            self._normalize_mean = X.mean()\n",
    "            self._normalize_std = X.std()\n",
    "            X = self._normalize(X)\n",
    "        \n",
    "        # Insert bias and polynomial values\n",
    "        X = np.column_stack([X**d for d in range(self.degree + 1)])\n",
    "        \n",
    "        # Creating weight for each feature in dataset\n",
    "        self.w = np.zeros((X.shape[1], 1))\n",
    "        \n",
    "      # Updating weights by Gradient Descent\n",
    "        for i in range(self.iterations):\n",
    "            \n",
    "            # Gradient step - Calculating gradient\n",
    "            pred = np.dot(X, self.w)\n",
    "            gradient = (1 / len(X)) * (np.dot(X.T, pred - y))\n",
    "            \n",
    "            # Gradient step - Updating weights\n",
    "            self.w = self.w - self.learning_rate * gradient\n",
    "            \n",
    "            # Calculating error for new weights\n",
    "            error = self._mse(X, y)\n",
    "            self.error_history.append(error)\n",
    "            \n",
    "            # Displaying learning progress every 100 iterations\n",
    "            if self.verbose and i % 100 == 0:\n",
    "                print(\"Iteration no. \" + str(i) + \", error: \" + str(error))\n",
    "    \n",
    "    def _normalize(self, X):\n",
    "        \"\"\"Feature scaling for input matrix 'X' for avoiding gradient overflow.\"\"\"\n",
    "        return (X - self._normalize_mean) / self._normalize_std\n",
    "        \n",
    "        \n",
    "    def _mse(self, X, y):\n",
    "        \"\"\"Implementation of Mean Squared Errors - cost function for monitoring how Polynomial Model\n",
    "        is performing with current 'w' values\"\"\"\n",
    "        \n",
    "        # Calculating Mean Squared Error\n",
    "        pred = np.dot(X, self.w)\n",
    "        mean_square_error = (1 / (2 * len(X))) * np.sum(np.square(pred - y))\n",
    "        \n",
    "        return mean_square_error\n",
    "                \n",
    "    def predict(self, X):\n",
    "        \"\"\"Functions that takes feature values 'X' and returns predictions with usage of \n",
    "        current 'w' values\"\"\"\n",
    "        \n",
    "        # Ensure data is float type\n",
    "        X = X.astype(np.float32)\n",
    "        \n",
    "        if self.normalize:\n",
    "            # Scaling X values\n",
    "            X = self._normalize(X)\n",
    "            \n",
    "        # Insert bias and polynomial values\n",
    "        X = np.column_stack([X**d for d in range(self.degree + 1)])\n",
    "        \n",
    "        pred = np.dot(X, self.w)\n",
    "        return pred\n",
    "        "
   ]
  },
  {
   "cell_type": "markdown",
   "metadata": {},
   "source": [
    "### Training model to fit generated data"
   ]
  },
  {
   "cell_type": "markdown",
   "metadata": {},
   "source": [
    "Hyperparameters\n"
   ]
  },
  {
   "cell_type": "code",
   "execution_count": 16,
   "metadata": {
    "collapsed": true
   },
   "outputs": [],
   "source": [
    "iterations = 6000"
   ]
  },
  {
   "cell_type": "markdown",
   "metadata": {},
   "source": [
    "Fitting to generated data"
   ]
  },
  {
   "cell_type": "code",
   "execution_count": 17,
   "metadata": {},
   "outputs": [
    {
     "name": "stdout",
     "output_type": "stream",
     "text": [
      "Iteration no. 0, error: 12567399.9286\n",
      "Iteration no. 100, error: 5184629.57664\n",
      "Iteration no. 200, error: 2253581.20033\n",
      "Iteration no. 300, error: 1088195.12407\n",
      "Iteration no. 400, error: 623608.053177\n",
      "Iteration no. 500, error: 437478.428541\n",
      "Iteration no. 600, error: 362184.39722\n",
      "Iteration no. 700, error: 331128.662533\n",
      "Iteration no. 800, error: 317808.424233\n",
      "Iteration no. 900, error: 311650.149359\n",
      "Iteration no. 1000, error: 308419.081913\n",
      "Iteration no. 1100, error: 306409.115267\n",
      "Iteration no. 1200, error: 304926.684824\n",
      "Iteration no. 1300, error: 303686.008169\n",
      "Iteration no. 1400, error: 302566.948772\n",
      "Iteration no. 1500, error: 301517.517112\n",
      "Iteration no. 1600, error: 300514.276565\n",
      "Iteration no. 1700, error: 299546.061756\n",
      "Iteration no. 1800, error: 298607.161898\n",
      "Iteration no. 1900, error: 297694.394952\n",
      "Iteration no. 2000, error: 296805.809966\n",
      "Iteration no. 2100, error: 295940.087771\n",
      "Iteration no. 2200, error: 295096.251118\n",
      "Iteration no. 2300, error: 294273.517548\n",
      "Iteration no. 2400, error: 293471.221177\n",
      "Iteration no. 2500, error: 292688.76939\n",
      "Iteration no. 2600, error: 291925.618047\n",
      "Iteration no. 2700, error: 291181.256879\n",
      "Iteration no. 2800, error: 290455.200706\n",
      "Iteration no. 2900, error: 289746.984038\n",
      "Iteration no. 3000, error: 289056.157692\n",
      "Iteration no. 3100, error: 288382.286618\n",
      "Iteration no. 3200, error: 287724.948462\n",
      "Iteration no. 3300, error: 287083.732581\n",
      "Iteration no. 3400, error: 286458.239333\n",
      "Iteration no. 3500, error: 285848.079546\n",
      "Iteration no. 3600, error: 285252.874087\n",
      "Iteration no. 3700, error: 284672.253511\n",
      "Iteration no. 3800, error: 284105.857747\n",
      "Iteration no. 3900, error: 283553.33582\n",
      "Iteration no. 4000, error: 283014.345591\n",
      "Iteration no. 4100, error: 282488.553513\n",
      "Iteration no. 4200, error: 281975.6344\n",
      "Iteration no. 4300, error: 281475.271207\n",
      "Iteration no. 4400, error: 280987.154814\n",
      "Iteration no. 4500, error: 280510.98382\n",
      "Iteration no. 4600, error: 280046.464342\n",
      "Iteration no. 4700, error: 279593.309823\n",
      "Iteration no. 4800, error: 279151.240842\n",
      "Iteration no. 4900, error: 278719.98493\n",
      "Iteration no. 5000, error: 278299.276392\n",
      "Iteration no. 5100, error: 277888.856137\n",
      "Iteration no. 5200, error: 277488.471505\n",
      "Iteration no. 5300, error: 277097.876106\n",
      "Iteration no. 5400, error: 276716.829658\n",
      "Iteration no. 5500, error: 276345.097837\n",
      "Iteration no. 5600, error: 275982.452119\n",
      "Iteration no. 5700, error: 275628.669639\n",
      "Iteration no. 5800, error: 275283.533045\n",
      "Iteration no. 5900, error: 274946.830358\n"
     ]
    }
   ],
   "source": [
    "polynomial_regression_model = PolynomialRegression(DATA_DEGREE, iterations, normalize=True, verbose=True)\n",
    "polynomial_regression_model.fit(X, y)"
   ]
  },
  {
   "cell_type": "markdown",
   "metadata": {},
   "source": [
    "Training results"
   ]
  },
  {
   "cell_type": "code",
   "execution_count": 18,
   "metadata": {},
   "outputs": [
    {
     "name": "stdout",
     "output_type": "stream",
     "text": [
      "[[  -12.815919  ]\n",
      " [ -574.92082402]\n",
      " [   14.25563794]\n",
      " [-2303.28457149]]\n"
     ]
    }
   ],
   "source": [
    "# Trained weights of Polynomial Model of Degree 3 - w0 + w1 * x + w2 * x^2 + w3 * x^3\n",
    "print(polynomial_regression_model.w)"
   ]
  },
  {
   "cell_type": "code",
   "execution_count": 19,
   "metadata": {},
   "outputs": [
    {
     "data": {
      "image/png": "[encoded data removed]",
      "text/plain": [
       "<matplotlib.figure.Figure at 0x1085362e8>"
      ]
     },
     "metadata": {},
     "output_type": "display_data"
    }
   ],
   "source": [
    "# Model learning history\n",
    "plt.plot(polynomial_regression_model.error_history)\n",
    "plt.title(\"Error per iteration\")\n",
    "plt.ylabel('MSE Error')\n",
    "plt.xlabel('Iteration')\n",
    "plt.show()"
   ]
  },
  {
   "cell_type": "code",
   "execution_count": 20,
   "metadata": {},
   "outputs": [
    {
     "data": {
      "image/png": "[encoded data removed]",
      "text/plain": [
       "<matplotlib.figure.Figure at 0x10870efd0>"
      ]
     },
     "metadata": {},
     "output_type": "display_data"
    }
   ],
   "source": [
    "# Displaying dataset\n",
    "plt.scatter(X, y, s=15)\n",
    "\n",
    "# Displaying aproximated function\n",
    "function_x = np.arange(np.min(X), np.max(X), 0.01).reshape(-1, 1)\n",
    "\n",
    "plt.plot(function_x, polynomial_regression_model.predict(function_x), c=\"red\")\n",
    "plt.scatter(X, polynomial_regression_model.predict(X), s=20, c='red')\n",
    "\n",
    "plt.title(\"Regression line\")\n",
    "plt.xlabel(\"X values\")\n",
    "plt.ylabel(\"Y values\")\n",
    "plt.show()"
   ]
  }
 ],
 "metadata": {
  "kernelspec": {
   "display_name": "Python 3",
   "language": "python",
   "name": "python3"
  },
  "language_info": {
   "codemirror_mode": {
    "name": "ipython",
    "version": 3
   },
   "file_extension": ".py",
   "mimetype": "text/x-python",
   "name": "python",
   "nbconvert_exporter": "python",
   "pygments_lexer": "ipython3",
   "version": "3.6.1"
  }
 },
 "nbformat": 4,
 "nbformat_minor": 2
}
