{
 "cells": [
  {
   "cell_type": "markdown",
   "metadata": {},
   "source": [
    "In this notebook I will want to implement PolynomialRegression from scratch. This implementation should not be used for real problems as it's slower than excelent available tools like e.g. sci-kit learn."
   ]
  },
  {
   "cell_type": "code",
   "execution_count": 31,
   "metadata": {
    "collapsed": true
   },
   "outputs": [],
   "source": [
    "from sklearn import linear_model\n",
    "\n",
    "%matplotlib inline \n",
    "from mpl_toolkits.mplot3d import Axes3D\n",
    "import matplotlib\n",
    "import matplotlib.pyplot as plt\n",
    "\n",
    "import numpy as np "
   ]
  },
  {
   "cell_type": "markdown",
   "metadata": {},
   "source": [
    "### Constants"
   ]
  },
  {
   "cell_type": "code",
   "execution_count": 32,
   "metadata": {
    "collapsed": true
   },
   "outputs": [],
   "source": [
    "DATA_NUM = 300\n",
    "DATA_DEGREE = 2"
   ]
  },
  {
   "cell_type": "markdown",
   "metadata": {},
   "source": [
    "### Generate problem"
   ]
  },
  {
   "cell_type": "code",
   "execution_count": 33,
   "metadata": {
    "collapsed": true
   },
   "outputs": [],
   "source": [
    "def generate_polynomial_regression_problem(samples_num, degree):\n",
    "    \"\"\"Generates 'samples_num' points that can be easily generalized and fit with usage of\n",
    "    Polynomial Regression algorithm.\n",
    "    \n",
    "    Arguments:\n",
    "    ---------\n",
    "    samples_num: int\n",
    "        Numer of points that should be generated.\n",
    "    degree: int\n",
    "        The power of the polynomial.\n",
    "    \"\"\"\n",
    "    \n",
    "    def _polynomial_function(x_values, degree, function_param_min, function_param_max):\n",
    "        \"\"\"For each value in list 'x_values' returns value which corresponds to equation:\n",
    "            \n",
    "               f(x) = param[0] + param[1] * x + param[2] * x^2 + ... param[degree] + x^degree \n",
    "            \n",
    "           where 'param' is a random float number from range <function_param_min, function_param_max).\n",
    "        \"\"\"\n",
    "        function_parameters = list()\n",
    "\n",
    "        for i in range(1, degree + 1):\n",
    "            function_parameters.append((np.random.uniform(function_param_min, function_param_max), i))\n",
    "\n",
    "        y_values = list()\n",
    "        for x in x_values:\n",
    "            y = 0\n",
    "            for parameter in function_parameters:\n",
    "                y += parameter[0] * np.power(x, parameter[1])\n",
    "            y_values.append(y)\n",
    "\n",
    "        return y_values\n",
    "    \n",
    "    def _add_noise(values):\n",
    "        \"\"\"Adds noise to each value in list 'values' according to equation:\n",
    "        \n",
    "               value += value * random value from range (-0.1, 0.1>\n",
    "        \"\"\"\n",
    "        noised_values = list()\n",
    "        for val in values:\n",
    "            noised_val = val + np.max(values) * np.random.uniform(-0.1, 0.1)\n",
    "            noised_values.append(noised_val)\n",
    "\n",
    "        return noised_values\n",
    "    \n",
    "    x_values = [np.random.uniform(-10, 10) for _ in range(samples_num)]\n",
    "    \n",
    "    y_values = _polynomial_function(x_values, degree, -15 , 15)\n",
    "    y_values = _add_noise(y_values)\n",
    "    \n",
    "    return np.array(x_values).reshape(-1, 1), np.array((y_values)).reshape(-1, 1)"
   ]
  },
  {
   "cell_type": "code",
   "execution_count": 34,
   "metadata": {},
   "outputs": [
    {
     "data": {
      "image/png": "[encoded data removed]",
      "text/plain": [
       "<matplotlib.figure.Figure at 0x114fc0ac8>"
      ]
     },
     "metadata": {},
     "output_type": "display_data"
    }
   ],
   "source": [
    "# Generating values 'X' and labels 'y'\n",
    "X, y = generate_polynomial_regression_problem(DATA_NUM, DATA_DEGREE)\n",
    "\n",
    "# Presenting generated data\n",
    "plt.scatter(X, y, s=15)\n",
    "plt.title(\"Polynomial Regression Problem of Degree 2 - to fit\")\n",
    "plt.xlabel(\"X values\")\n",
    "plt.ylabel(\"y values\")\n",
    "plt.show()"
   ]
  },
  {
   "cell_type": "markdown",
   "metadata": {},
   "source": [
    "### Polynomial Regression - Raw implementation"
   ]
  },
  {
   "cell_type": "code",
   "execution_count": 35,
   "metadata": {
    "collapsed": true
   },
   "outputs": [],
   "source": [
    "class PolynomialRegression:\n",
    "    \"\"\"Polynomial Regression model.\n",
    "    \n",
    "    Arguments:\n",
    "    ---------\n",
    "    degree: int\n",
    "        The power of the polynomial that should be used to fit data X.\n",
    "    iterations: int\n",
    "        Number of Gradient Descent Steps that will be performed in order to change weights of\n",
    "        linear model\n",
    "    learning_rate: float\n",
    "        Weight applied for Gradient Descent Step during updating weights. (default: 0.001)\n",
    "    normalize: boolean\n",
    "        Flag for normalization. If set to true data will be scaled to values which mean is close\n",
    "        to 0 and standard deviation close to 1. \n",
    "    verbose: boolean\n",
    "        Flag for debugging. If set to true then error values achieved by model during training\n",
    "        cycle will be displayed.\n",
    "    \"\"\"\n",
    "    def __init__(self, degree, iterations, learning_rate=0.001, \n",
    "                 normalize=False, verbose=False):\n",
    "        self.w = None\n",
    "        self._normalize_mean = None\n",
    "        self._normalize_std = None\n",
    "        \n",
    "        self.error_history = list()\n",
    "        self.degree = degree\n",
    "        self.iterations = iterations\n",
    "        self.learning_rate = learning_rate\n",
    "        self.normalize = normalize\n",
    "        self.verbose = verbose\n",
    "        \n",
    "        \n",
    "    def fit(self, X, y):\n",
    "        \"\"\"Function that is adjusting Polynomial Regression Model weights 'w' to inserted data 'X'\n",
    "        according to target values 'y'.\"\"\"\n",
    "        \n",
    "        # Ensure data is float type\n",
    "        X = X.astype(np.float32)\n",
    "        y = y.astype(np.float32)\n",
    "        \n",
    "        if self.normalize:\n",
    "            # Scaling X values\n",
    "            self._normalize_mean = X.mean()\n",
    "            self._normalize_std = X.std()\n",
    "            X = self._normalize(X)\n",
    "        \n",
    "        # Insert bias and polynomial values\n",
    "        X = np.column_stack([X**d for d in range(self.degree + 1)])\n",
    "        \n",
    "        # Creating weight for each feature in dataset\n",
    "        self.w = np.zeros((X.shape[1], 1))\n",
    "        \n",
    "      # Updating weights by Gradient Descent\n",
    "        for i in range(self.iterations):\n",
    "            \n",
    "            # Gradient step - Calculating gradient\n",
    "            pred = np.dot(X, self.w)\n",
    "            gradient = (1 / len(X)) * (np.dot(X.T, pred - y))\n",
    "            \n",
    "            # Gradient step - Updating weights\n",
    "            self.w = self.w - self.learning_rate * gradient\n",
    "            \n",
    "            # Calculating error for new weights\n",
    "            error = self._mse(X, y)\n",
    "            self.error_history.append(error)\n",
    "            \n",
    "            # Displaying learning progress every 100 iterations\n",
    "            if self.verbose and i % 100 == 0:\n",
    "                print(\"Iteration no. \" + str(i) + \", error: \" + str(error))\n",
    "    \n",
    "    def _normalize(self, X):\n",
    "        \"\"\"Feature scaling for input matrix 'X' for avoiding gradient overflow.\"\"\"\n",
    "        return (X - self._normalize_mean) / self._normalize_std\n",
    "        \n",
    "        \n",
    "    def _mse(self, X, y):\n",
    "        \"\"\"Implementation of Mean Squared Errors - cost function for monitoring how Polynomial Model\n",
    "        is performing with current 'w' values\"\"\"\n",
    "        \n",
    "        # Calculating Mean Squared Error\n",
    "        pred = np.dot(X, self.w)\n",
    "        mean_square_error = (1 / (2 * len(X))) * np.sum(np.square(pred - y))\n",
    "        \n",
    "        return mean_square_error\n",
    "                \n",
    "    def predict(self, X):\n",
    "        \"\"\"Functions that takes feature values 'X' and returns predictions with usage of \n",
    "        current 'w' values\"\"\"\n",
    "        \n",
    "        # Ensure data is float type\n",
    "        X = X.astype(np.float32)\n",
    "        \n",
    "        if self.normalize:\n",
    "            # Scaling X values\n",
    "            X = self._normalize(X)\n",
    "            \n",
    "        # Insert bias and polynomial values\n",
    "        X = np.column_stack([X**d for d in range(self.degree + 1)])\n",
    "        \n",
    "        pred = np.dot(X, self.w)\n",
    "        return pred\n",
    "        "
   ]
  },
  {
   "cell_type": "markdown",
   "metadata": {},
   "source": [
    "### Training model to fit generated data"
   ]
  },
  {
   "cell_type": "markdown",
   "metadata": {},
   "source": [
    "Hyperparameters\n"
   ]
  },
  {
   "cell_type": "code",
   "execution_count": 36,
   "metadata": {
    "collapsed": true
   },
   "outputs": [],
   "source": [
    "iterations = 8000"
   ]
  },
  {
   "cell_type": "markdown",
   "metadata": {},
   "source": [
    "Fitting to generated data"
   ]
  },
  {
   "cell_type": "code",
   "execution_count": 37,
   "metadata": {},
   "outputs": [
    {
     "name": "stdout",
     "output_type": "stream",
     "text": [
      "Iteration no. 0, error: 120703.780425\n",
      "Iteration no. 100, error: 75835.2520405\n",
      "Iteration no. 200, error: 48603.9737284\n",
      "Iteration no. 300, error: 32028.0203952\n",
      "Iteration no. 400, error: 21892.6657946\n",
      "Iteration no. 500, error: 15653.4080572\n",
      "Iteration no. 600, error: 11773.8755003\n",
      "Iteration no. 700, error: 9326.20900648\n",
      "Iteration no. 800, error: 7749.86505548\n",
      "Iteration no. 900, error: 6706.03544234\n",
      "Iteration no. 1000, error: 5989.77771219\n",
      "Iteration no. 1100, error: 5476.9777661\n",
      "Iteration no. 1200, error: 5092.33603811\n",
      "Iteration no. 1300, error: 4790.04289924\n",
      "Iteration no. 1400, error: 4542.11298637\n",
      "Iteration no. 1500, error: 4331.34234407\n",
      "Iteration no. 1600, error: 4147.05588251\n",
      "Iteration no. 1700, error: 3982.53911129\n",
      "Iteration no. 1800, error: 3833.48657126\n",
      "Iteration no. 1900, error: 3697.0640268\n",
      "Iteration no. 2000, error: 3571.34120882\n",
      "Iteration no. 2100, error: 3454.9483063\n",
      "Iteration no. 2200, error: 3346.86759245\n",
      "Iteration no. 2300, error: 3246.30669352\n",
      "Iteration no. 2400, error: 3152.62120714\n",
      "Iteration no. 2500, error: 3065.26717268\n",
      "Iteration no. 2600, error: 2983.77162021\n",
      "Iteration no. 2700, error: 2907.71408648\n",
      "Iteration no. 2800, error: 2836.71480145\n",
      "Iteration no. 2900, error: 2770.42694768\n",
      "Iteration no. 3000, error: 2708.5314212\n",
      "Iteration no. 3100, error: 2650.73314208\n",
      "Iteration no. 3200, error: 2596.75833692\n",
      "Iteration no. 3300, error: 2546.35244212\n",
      "Iteration no. 3400, error: 2499.27841312\n",
      "Iteration no. 3500, error: 2455.31530799\n",
      "Iteration no. 3600, error: 2414.25706343\n",
      "Iteration no. 3700, error: 2375.91141213\n",
      "Iteration no. 3800, error: 2340.09890871\n",
      "Iteration no. 3900, error: 2306.65204277\n",
      "Iteration no. 4000, error: 2275.41442476\n",
      "Iteration no. 4100, error: 2246.24003449\n",
      "Iteration no. 4200, error: 2218.99252483\n",
      "Iteration no. 4300, error: 2193.54457505\n",
      "Iteration no. 4400, error: 2169.77728923\n",
      "Iteration no. 4500, error: 2147.57963587\n",
      "Iteration no. 4600, error: 2126.8479257\n",
      "Iteration no. 4700, error: 2107.48532458\n",
      "Iteration no. 4800, error: 2089.40139914\n",
      "Iteration no. 4900, error: 2072.51169286\n",
      "Iteration no. 5000, error: 2056.73733034\n",
      "Iteration no. 5100, error: 2042.00464794\n",
      "Iteration no. 5200, error: 2028.24484899\n",
      "Iteration no. 5300, error: 2015.3936819\n",
      "Iteration no. 5400, error: 2003.39113961\n",
      "Iteration no. 5500, error: 1992.18117894\n",
      "Iteration no. 5600, error: 1981.71145864\n",
      "Iteration no. 5700, error: 1971.93309463\n",
      "Iteration no. 5800, error: 1962.80043159\n",
      "Iteration no. 5900, error: 1954.27082958\n",
      "Iteration no. 6000, error: 1946.30446482\n",
      "Iteration no. 6100, error: 1938.86414363\n",
      "Iteration no. 6200, error: 1931.91512865\n",
      "Iteration no. 6300, error: 1925.42497664\n",
      "Iteration no. 6400, error: 1919.36338685\n",
      "Iteration no. 6500, error: 1913.70205959\n",
      "Iteration no. 6600, error: 1908.414564\n",
      "Iteration no. 6700, error: 1903.47621464\n",
      "Iteration no. 6800, error: 1898.86395622\n",
      "Iteration no. 6900, error: 1894.5562559\n",
      "Iteration no. 7000, error: 1890.53300281\n",
      "Iteration no. 7100, error: 1886.77541406\n",
      "Iteration no. 7200, error: 1883.26594711\n",
      "Iteration no. 7300, error: 1879.98821781\n",
      "Iteration no. 7400, error: 1876.92692393\n",
      "Iteration no. 7500, error: 1874.0677737\n",
      "Iteration no. 7600, error: 1871.39741909\n",
      "Iteration no. 7700, error: 1868.90339348\n",
      "Iteration no. 7800, error: 1866.57405345\n",
      "Iteration no. 7900, error: 1864.39852446\n"
     ]
    }
   ],
   "source": [
    "polynomial_regression_model = PolynomialRegression(DATA_DEGREE, iterations, normalize=True, verbose=True)\n",
    "polynomial_regression_model.fit(X, y)"
   ]
  },
  {
   "cell_type": "markdown",
   "metadata": {},
   "source": [
    "Training results"
   ]
  },
  {
   "cell_type": "code",
   "execution_count": 38,
   "metadata": {},
   "outputs": [
    {
     "name": "stdout",
     "output_type": "stream",
     "text": [
      "[[   8.89024662]\n",
      " [ -10.53708812]\n",
      " [ 352.16703531]]\n"
     ]
    }
   ],
   "source": [
    "# Trained weights of Polynomial Model of Degree 2 - w0 + w1 * x + w2 * x^2\n",
    "print(polynomial_regression_model.w)"
   ]
  },
  {
   "cell_type": "code",
   "execution_count": 39,
   "metadata": {},
   "outputs": [
    {
     "data": {
      "image/png": "[encoded data removed]",
      "text/plain": [
       "<matplotlib.figure.Figure at 0x114dc2278>"
      ]
     },
     "metadata": {},
     "output_type": "display_data"
    }
   ],
   "source": [
    "# Model learning history\n",
    "plt.plot(polynomial_regression_model.error_history)\n",
    "plt.title(\"Error per iteration\")\n",
    "plt.ylabel('MSE Error')\n",
    "plt.xlabel('Iteration')\n",
    "plt.show()"
   ]
  },
  {
   "cell_type": "code",
   "execution_count": 40,
   "metadata": {},
   "outputs": [
    {
     "data": {
      "image/png": "[encoded data removed]",
      "text/plain": [
       "<matplotlib.figure.Figure at 0x114ef27f0>"
      ]
     },
     "metadata": {},
     "output_type": "display_data"
    }
   ],
   "source": [
    "# Displaying dataset\n",
    "plt.scatter(X, y, s=15)\n",
    "\n",
    "# Displaying aproximated function\n",
    "function_x = np.arange(np.min(X), np.max(X), 0.01).reshape(-1, 1)\n",
    "\n",
    "plt.plot(function_x, polynomial_regression_model.predict(function_x), c=\"red\")\n",
    "plt.scatter(X, polynomial_regression_model.predict(X), s=20, c='red')\n",
    "\n",
    "plt.title(\"Regression line\")\n",
    "plt.xlabel(\"X values\")\n",
    "plt.ylabel(\"Y values\")\n",
    "plt.show()"
   ]
  }
 ],
 "metadata": {
  "kernelspec": {
   "display_name": "Python 3",
   "language": "python",
   "name": "python3"
  },
  "language_info": {
   "codemirror_mode": {
    "name": "ipython",
    "version": 3
   },
   "file_extension": ".py",
   "mimetype": "text/x-python",
   "name": "python",
   "nbconvert_exporter": "python",
   "pygments_lexer": "ipython3",
   "version": "3.6.1"
  }
 },
 "nbformat": 4,
 "nbformat_minor": 2
}
