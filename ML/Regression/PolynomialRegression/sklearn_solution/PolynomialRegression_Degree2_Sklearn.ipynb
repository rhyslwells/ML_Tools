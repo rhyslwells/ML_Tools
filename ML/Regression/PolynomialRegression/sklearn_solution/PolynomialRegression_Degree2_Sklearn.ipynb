{
 "cells": [
  {
   "cell_type": "markdown",
   "metadata": {},
   "source": [
    "In this notebook I show how to use Sklearn in odrer to aproximate function of degree 2."
   ]
  },
  {
   "cell_type": "code",
   "execution_count": 1,
   "metadata": {
    "collapsed": true
   },
   "outputs": [],
   "source": [
    "from sklearn import linear_model\n",
    "\n",
    "%matplotlib inline \n",
    "from mpl_toolkits.mplot3d import Axes3D\n",
    "import matplotlib\n",
    "import matplotlib.pyplot as plt\n",
    "\n",
    "import numpy as np "
   ]
  },
  {
   "cell_type": "markdown",
   "metadata": {},
   "source": [
    "### Constants"
   ]
  },
  {
   "cell_type": "code",
   "execution_count": 2,
   "metadata": {
    "collapsed": true
   },
   "outputs": [],
   "source": [
    "DATA_NUM = 300\n",
    "DATA_DEGREE = 2"
   ]
  },
  {
   "cell_type": "markdown",
   "metadata": {},
   "source": [
    "### Generate problem"
   ]
  },
  {
   "cell_type": "code",
   "execution_count": 3,
   "metadata": {
    "collapsed": true
   },
   "outputs": [],
   "source": [
    "def generate_polynomial_regression_problem(samples_num, degree):\n",
    "    \"\"\"Generates 'samples_num' points that can be easily generalized and fit with usage of\n",
    "    Polynomial Regression algorithm.\n",
    "    \n",
    "    Arguments:\n",
    "    ---------\n",
    "    samples_num: int\n",
    "        Numer of points that should be generated.\n",
    "    degree: int\n",
    "        The power of the polynomial.\n",
    "    \"\"\"\n",
    "    \n",
    "    def _polynomial_function(x_values, degree, function_param_min, function_param_max):\n",
    "        \"\"\"For each value in list 'x_values' returns value which corresponds to equation:\n",
    "            \n",
    "               f(x) = param[0] + param[1] * x + param[2] * x^2 + ... param[degree] + x^degree \n",
    "            \n",
    "           where 'param' is a random float number from range <function_param_min, function_param_max).\n",
    "        \"\"\"\n",
    "        function_parameters = list()\n",
    "\n",
    "        for i in range(1, degree + 1):\n",
    "            function_parameters.append((np.random.uniform(function_param_min, function_param_max), i))\n",
    "\n",
    "        y_values = list()\n",
    "        for x in x_values:\n",
    "            y = 0\n",
    "            for parameter in function_parameters:\n",
    "                y += parameter[0] * np.power(x, parameter[1])\n",
    "            y_values.append(y)\n",
    "\n",
    "        return y_values\n",
    "    \n",
    "    def _add_noise(values):\n",
    "        \"\"\"Adds noise to each value in list 'values' according to equation:\n",
    "        \n",
    "               value += value * random value from range (-0.1, 0.1>\n",
    "        \"\"\"\n",
    "        noised_values = list()\n",
    "        for val in values:\n",
    "            noised_val = val + np.max(values) * np.random.uniform(-0.1, 0.1)\n",
    "            noised_values.append(noised_val)\n",
    "\n",
    "        return noised_values\n",
    "    \n",
    "    x_values = [np.random.uniform(-10, 10) for _ in range(samples_num)]\n",
    "    \n",
    "    y_values = _polynomial_function(x_values, degree, -15 , 15)\n",
    "    y_values = _add_noise(y_values)\n",
    "    \n",
    "    return np.array(x_values).reshape(-1, 1), np.array((y_values)).reshape(-1, 1)"
   ]
  },
  {
   "cell_type": "code",
   "execution_count": 4,
   "metadata": {},
   "outputs": [
    {
     "data": {
      "image/png": "[encoded data removed]",
      "text/plain": [
       "<matplotlib.figure.Figure at 0x1139554a8>"
      ]
     },
     "metadata": {},
     "output_type": "display_data"
    }
   ],
   "source": [
    "# Generating values 'X' and labels 'y'\n",
    "X, y = generate_polynomial_regression_problem(DATA_NUM, DATA_DEGREE)\n",
    "\n",
    "# Presenting generated data\n",
    "plt.scatter(X, y, s=15)\n",
    "plt.title(\"Polynomial Regression Problem of Degree 2 - to fit\")\n",
    "plt.xlabel(\"X values\")\n",
    "plt.ylabel(\"y values\")\n",
    "plt.show()"
   ]
  },
  {
   "cell_type": "markdown",
   "metadata": {},
   "source": [
    "### Polynomial Regression - by sci-kit learn"
   ]
  },
  {
   "cell_type": "markdown",
   "metadata": {},
   "source": [
    "In order to make sklearn predict polynomial function for single feature it is necessary to reshape it [1, degree] shape and raise X value to the power - respectively to it's position."
   ]
  },
  {
   "cell_type": "code",
   "execution_count": 5,
   "metadata": {
    "collapsed": true
   },
   "outputs": [],
   "source": [
    "X_pow = np.column_stack([X**d for d in range(0, DATA_DEGREE + 1)])"
   ]
  },
  {
   "cell_type": "code",
   "execution_count": 6,
   "metadata": {},
   "outputs": [
    {
     "name": "stdout",
     "output_type": "stream",
     "text": [
      "Input 0: [ 1.         -1.73113113  2.99681498]\n",
      "Input 1: [  1.           7.625629    58.15021765]\n",
      "Input 2: [ 1.         -0.04218829  0.00177985]\n",
      "Input 3: [ 1.         -1.74678728  3.05126579]\n",
      "Input 4: [ 1.          0.79317047  0.6291194 ]\n"
     ]
    }
   ],
   "source": [
    "for i, x_row in enumerate(X_pow):\n",
    "    if i == 5:\n",
    "        break;\n",
    "        \n",
    "    print(\"Input \" + str(i) + \": \" + str(x_row))"
   ]
  },
  {
   "cell_type": "markdown",
   "metadata": {},
   "source": [
    "LinearRegression object of Sklearn is capable of creating Polynomial functions"
   ]
  },
  {
   "cell_type": "code",
   "execution_count": 7,
   "metadata": {
    "collapsed": true
   },
   "outputs": [],
   "source": [
    "regression = linear_model.LinearRegression()"
   ]
  },
  {
   "cell_type": "markdown",
   "metadata": {},
   "source": [
    "Fitting to generated data"
   ]
  },
  {
   "cell_type": "code",
   "execution_count": 8,
   "metadata": {},
   "outputs": [
    {
     "name": "stderr",
     "output_type": "stream",
     "text": [
      "/Users/F1sherKK/.pyenv/versions/3.6.1/lib/python3.6/site-packages/scipy/linalg/basic.py:1018: RuntimeWarning: internal gelsd driver lwork query error, required iwork dimension not returned. This is likely the result of LAPACK bug 0038, fixed in LAPACK 3.2.2 (released July 21, 2010). Falling back to 'gelss' driver.\n",
      "  warnings.warn(mesg, RuntimeWarning)\n"
     ]
    },
    {
     "data": {
      "text/plain": [
       "LinearRegression(copy_X=True, fit_intercept=True, n_jobs=1, normalize=False)"
      ]
     },
     "execution_count": 8,
     "metadata": {},
     "output_type": "execute_result"
    }
   ],
   "source": [
    "regression.fit(X_pow, y)"
   ]
  },
  {
   "cell_type": "markdown",
   "metadata": {},
   "source": [
    "Training results"
   ]
  },
  {
   "cell_type": "code",
   "execution_count": 9,
   "metadata": {},
   "outputs": [
    {
     "name": "stdout",
     "output_type": "stream",
     "text": [
      "Weights: [ 3.39489461][[ 0.         -7.49980643  8.37024414]]\n"
     ]
    }
   ],
   "source": [
    "# Trained weights of Polynomial Model - w0 + w1 * x + w2 * x^2\n",
    "print(\"Weights: \" + str(regression.intercept_) + str(regression.coef_))"
   ]
  },
  {
   "cell_type": "code",
   "execution_count": 10,
   "metadata": {},
   "outputs": [
    {
     "name": "stdout",
     "output_type": "stream",
     "text": [
      "Minimized error value: 9.11648935041\n"
     ]
    }
   ],
   "source": [
    "# Error - Mean Squared Errors\n",
    "print(\"Minimized error value: \" + str((1 / DATA_NUM) * np.mean((regression.predict(X_pow) - y) ** 2)))"
   ]
  },
  {
   "cell_type": "code",
   "execution_count": 11,
   "metadata": {},
   "outputs": [
    {
     "data": {
      "image/png": "[encoded data removed]",
      "text/plain": [
       "<matplotlib.figure.Figure at 0x113b4c828>"
      ]
     },
     "metadata": {},
     "output_type": "display_data"
    }
   ],
   "source": [
    "# Displaying dataset\n",
    "plt.scatter(X, y, s=15)\n",
    "\n",
    "# Displaying aproximated function\n",
    "function_x = np.arange(np.min(X), np.max(X), 0.01).reshape(-1,1)\n",
    "function_x_pow = np.column_stack([function_x**d for d in range(0, DATA_DEGREE + 1)])\n",
    "plt.plot(function_x, regression.predict(function_x_pow), c=\"red\")\n",
    "plt.scatter(X, regression.predict(X_pow), s=20, c='red')\n",
    "\n",
    "plt.title(\"Regression line\")\n",
    "plt.ylabel(\"y values\")\n",
    "plt.xlabel(\"x values\")\n",
    "plt.show()"
   ]
  }
 ],
 "metadata": {
  "kernelspec": {
   "display_name": "Python 3",
   "language": "python",
   "name": "python3"
  },
  "language_info": {
   "codemirror_mode": {
    "name": "ipython",
    "version": 3
   },
   "file_extension": ".py",
   "mimetype": "text/x-python",
   "name": "python",
   "nbconvert_exporter": "python",
   "pygments_lexer": "ipython3",
   "version": "3.6.1"
  }
 },
 "nbformat": 4,
 "nbformat_minor": 2
}
