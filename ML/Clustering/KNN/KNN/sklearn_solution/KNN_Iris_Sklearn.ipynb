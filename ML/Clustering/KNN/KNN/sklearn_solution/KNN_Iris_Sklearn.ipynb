{
 "cells": [
  {
   "cell_type": "code",
   "execution_count": 1,
   "metadata": {
    "collapsed": true
   },
   "outputs": [],
   "source": [
    "import os\n",
    "import csv\n",
    "from random import shuffle\n",
    "import numpy as np\n",
    "import matplotlib.pyplot as plt\n",
    "from sklearn import datasets\n",
    "from sklearn.metrics import accuracy_score\n",
    "from sklearn.neighbors import KNeighborsClassifier"
   ]
  },
  {
   "cell_type": "markdown",
   "metadata": {},
   "source": [
    "#### Dataset info"
   ]
  },
  {
   "cell_type": "code",
   "execution_count": 2,
   "metadata": {
    "collapsed": true
   },
   "outputs": [],
   "source": [
    "# info: https://en.wikipedia.org/wiki/Iris_flower_data_set"
   ]
  },
  {
   "cell_type": "markdown",
   "metadata": {},
   "source": [
    "#### Loading files & extracting data"
   ]
  },
  {
   "cell_type": "code",
   "execution_count": 3,
   "metadata": {
    "collapsed": true
   },
   "outputs": [],
   "source": [
    "iris = datasets.load_iris()\n",
    "iris_rows = iris.data.astype(\"float32\")\n",
    "iris_labels = iris.target.astype(\"float32\")"
   ]
  },
  {
   "cell_type": "markdown",
   "metadata": {},
   "source": [
    "#### Data presentation"
   ]
  },
  {
   "cell_type": "code",
   "execution_count": 4,
   "metadata": {
    "collapsed": true
   },
   "outputs": [],
   "source": [
    "rows_to_show = 10"
   ]
  },
  {
   "cell_type": "code",
   "execution_count": 5,
   "metadata": {},
   "outputs": [
    {
     "name": "stdout",
     "output_type": "stream",
     "text": [
      "Sample no. 0 - [ 5.0999999   3.5         1.39999998  0.2       ]\n",
      "Sample no. 1 - [ 4.9000001   3.          1.39999998  0.2       ]\n",
      "Sample no. 2 - [ 4.69999981  3.20000005  1.29999995  0.2       ]\n",
      "Sample no. 3 - [ 4.5999999  3.0999999  1.5        0.2      ]\n",
      "Sample no. 4 - [ 5.          3.5999999   1.39999998  0.2       ]\n",
      "Sample no. 5 - [ 5.4000001   3.9000001   1.70000005  0.40000001]\n",
      "Sample no. 6 - [ 4.5999999   3.4000001   1.39999998  0.30000001]\n",
      "Sample no. 7 - [ 5.         3.4000001  1.5        0.2      ]\n",
      "Sample no. 8 - [ 4.4000001   2.9000001   1.39999998  0.2       ]\n",
      "Sample no. 9 - [ 4.9000001  3.0999999  1.5        0.1      ]\n"
     ]
    }
   ],
   "source": [
    "for i in range(0, rows_to_show):\n",
    "    print(\"Sample no. \" + str(i) + \" - \" + str(iris_rows[i]))"
   ]
  },
  {
   "cell_type": "code",
   "execution_count": 6,
   "metadata": {},
   "outputs": [
    {
     "name": "stdout",
     "output_type": "stream",
     "text": [
      "Label no. 0 - 0.0\n",
      "Label no. 1 - 0.0\n",
      "Label no. 2 - 0.0\n",
      "Label no. 3 - 0.0\n",
      "Label no. 4 - 0.0\n",
      "Label no. 5 - 0.0\n",
      "Label no. 6 - 0.0\n",
      "Label no. 7 - 0.0\n",
      "Label no. 8 - 0.0\n",
      "Label no. 9 - 0.0\n"
     ]
    }
   ],
   "source": [
    "for i in range(0, rows_to_show):\n",
    "    print(\"Label no. \" + str(i) + \" - \" + str(iris_labels[i]))"
   ]
  },
  {
   "cell_type": "code",
   "execution_count": 7,
   "metadata": {},
   "outputs": [
    {
     "name": "stdout",
     "output_type": "stream",
     "text": [
      "Number of samples: 150\n"
     ]
    }
   ],
   "source": [
    "print(\"Number of samples: \" + str(len(iris_rows)))"
   ]
  },
  {
   "cell_type": "markdown",
   "metadata": {},
   "source": [
    "#### Divide data:"
   ]
  },
  {
   "cell_type": "markdown",
   "metadata": {},
   "source": [
    "Classes will be divided so each set contains same amount of each class type."
   ]
  },
  {
   "cell_type": "code",
   "execution_count": 8,
   "metadata": {},
   "outputs": [
    {
     "name": "stdout",
     "output_type": "stream",
     "text": [
      "Detected num of different classes: 3\n",
      "{0.0, 1.0, 2.0}\n"
     ]
    }
   ],
   "source": [
    "classes = set(iris_labels)\n",
    "num_of_classes = len(classes)\n",
    "print(\"Detected num of different classes: \" + str(num_of_classes))\n",
    "print(classes)"
   ]
  },
  {
   "cell_type": "code",
   "execution_count": 9,
   "metadata": {
    "collapsed": true
   },
   "outputs": [],
   "source": [
    "samples_divided_by_classes = dict()\n",
    "for row, label in zip(iris_rows, iris_labels):\n",
    "    if label not in samples_divided_by_classes.keys():\n",
    "        samples_divided_by_classes.update({label: list()})\n",
    "    \n",
    "    samples_divided_by_classes[label].append(row)"
   ]
  },
  {
   "cell_type": "markdown",
   "metadata": {},
   "source": [
    "Spliting into train, validation, test sets."
   ]
  },
  {
   "cell_type": "code",
   "execution_count": 10,
   "metadata": {
    "collapsed": true
   },
   "outputs": [],
   "source": [
    "test_samples_ratio = 0.65\n",
    "val_test_samples_ratio = 0.5"
   ]
  },
  {
   "cell_type": "code",
   "execution_count": 11,
   "metadata": {},
   "outputs": [
    {
     "name": "stdout",
     "output_type": "stream",
     "text": [
      "Counting number of remaining samples to split: \n",
      "- Class: 0.0, num samples: 50\n",
      "- Class: 1.0, num samples: 50\n",
      "- Class: 2.0, num samples: 50\n",
      "\n",
      "Trimming data: \n",
      "- Trimming samples of class '0.0'to 50.\n",
      "- Trimming samples of class '1.0'to 50.\n",
      "- Trimming samples of class '2.0'to 50.\n",
      "\n",
      "Creating training set: \n",
      "- Adding 32 samples of class '0.0' to training set.\n",
      "- Adding 32 samples of class '1.0' to training set.\n",
      "- Adding 32 samples of class '2.0' to training set.\n",
      "\n",
      "Counting number of remaining samples to split: \n",
      "- Class: 0.0, num samples: 18\n",
      "- Class: 1.0, num samples: 18\n",
      "- Class: 2.0, num samples: 18\n",
      "\n",
      "Creating validation and test set: \n",
      "- Adding 9 samples of class '0.0' to validation set.\n",
      "- Adding 9 samples of class '0.0' to test set.\n",
      "- Adding 9 samples of class '1.0' to validation set.\n",
      "- Adding 9 samples of class '1.0' to test set.\n",
      "- Adding 9 samples of class '2.0' to validation set.\n",
      "- Adding 9 samples of class '2.0' to test set.\n",
      "\n",
      "Converting types to ndarray.\n"
     ]
    }
   ],
   "source": [
    "train_rows = list()\n",
    "val_rows = list()\n",
    "test_rows = list()\n",
    "\n",
    "train_labels = list()\n",
    "val_labels = list()\n",
    "test_labels = list()\n",
    "\n",
    "print(\"Counting number of remaining samples to split: \")\n",
    "num_of_samples_per_class = list()\n",
    "for key in samples_divided_by_classes.keys():\n",
    "    num_of_samples_per_class.append(len(samples_divided_by_classes[key]))\n",
    "    print(\"- Class: \" + str(key) + \", num samples: \" + str(len(samples_divided_by_classes[key])))\n",
    "\n",
    "print(\"\\nTrimming data: \")\n",
    "for sample_class in classes:\n",
    "    trimmed = samples_divided_by_classes[sample_class][:min(num_of_samples_per_class)]\n",
    "    samples_divided_by_classes[sample_class] = trimmed\n",
    "    print(\"- Trimming samples of class '\" + str(sample_class) + \"'to \" \n",
    "          + str(min(num_of_samples_per_class)) + \".\")\n",
    "\n",
    "\n",
    "print(\"\\nCreating training set: \")\n",
    "split_index = int(min(num_of_samples_per_class) * test_samples_ratio)\n",
    "for sample_class in classes:\n",
    "    train_rows.extend(samples_divided_by_classes[sample_class][:split_index])\n",
    "    train_labels = [sample_class for sample in train_rows]\n",
    "    print(\"- Adding \" + str(len(samples_divided_by_classes[sample_class][:split_index])) \n",
    "          + \" samples of class '\" + str(sample_class) + \"' to training set.\")\n",
    "    samples_divided_by_classes[sample_class] = samples_divided_by_classes[sample_class][split_index:]\n",
    "\n",
    "print(\"\\nCounting number of remaining samples to split: \")\n",
    "num_of_samples_per_class = list()\n",
    "for key in samples_divided_by_classes.keys():\n",
    "    num_of_samples_per_class.append(len(samples_divided_by_classes[key]))\n",
    "    print(\"- Class: \" + str(key) + \", num samples: \" + str(len(samples_divided_by_classes[key])))\n",
    "\n",
    "print(\"\\nCreating validation and test set: \")\n",
    "split_index = int(min(num_of_samples_per_class) * val_test_samples_ratio)\n",
    "for sample_class in classes:\n",
    "    val_rows.extend(samples_divided_by_classes[sample_class][:split_index])\n",
    "    val_labels = [sample_class for sample in val_rows]\n",
    "    print(\"- Adding \" + str(len(samples_divided_by_classes[sample_class][:split_index])) \n",
    "          + \" samples of class '\" + str(sample_class) + \"' to validation set.\")\n",
    "    \n",
    "    test_rows.extend(samples_divided_by_classes[sample_class][split_index:])\n",
    "    test_labels = [sample_class for sample in test_rows]\n",
    "    print(\"- Adding \" + str(len(samples_divided_by_classes[sample_class][split_index:])) \n",
    "          + \" samples of class '\" + str(sample_class) + \"' to test set.\")\n",
    "    \n",
    "print(\"\\nConverting types to ndarray.\")\n",
    "train_rows = np.array(train_rows)\n",
    "val_rows = np.array(val_rows)\n",
    "test_rows = np.array(test_rows)\n",
    "\n",
    "train_labels = np.array(train_labels)\n",
    "val_labels = np.array(val_labels)\n",
    "test_labels = np.array(test_labels)"
   ]
  },
  {
   "cell_type": "code",
   "execution_count": 12,
   "metadata": {},
   "outputs": [
    {
     "name": "stdout",
     "output_type": "stream",
     "text": [
      "Train data samples: 96\n",
      "Validation data samples: 27\n",
      "Test data samples: 27\n"
     ]
    }
   ],
   "source": [
    "print(\"Train data samples: \" + str(len(train_rows)))\n",
    "print(\"Validation data samples: \" + str(len(val_rows)))\n",
    "print(\"Test data samples: \" + str(len(test_rows)))"
   ]
  },
  {
   "cell_type": "markdown",
   "metadata": {},
   "source": [
    "#### KNN"
   ]
  },
  {
   "cell_type": "markdown",
   "metadata": {},
   "source": [
    "- p=2 which means KNN will use L2 similarity distance"
   ]
  },
  {
   "cell_type": "code",
   "execution_count": 13,
   "metadata": {
    "collapsed": true
   },
   "outputs": [],
   "source": [
    "p=2"
   ]
  },
  {
   "cell_type": "code",
   "execution_count": 14,
   "metadata": {
    "collapsed": true
   },
   "outputs": [],
   "source": [
    "k_candidates = [number for number in range(1, 16)]"
   ]
  },
  {
   "cell_type": "code",
   "execution_count": 15,
   "metadata": {
    "collapsed": true
   },
   "outputs": [],
   "source": [
    "k_results = dict()\n",
    "for k in k_candidates:\n",
    "    # Create new classifier with different parameters\n",
    "    knn = KNeighborsClassifier(p=p, n_neighbors=k)\n",
    "    knn.fit(train_rows, train_labels)\n",
    "    \n",
    "    # Check accuracy for validation set\n",
    "    predictions = knn.predict(val_rows)\n",
    "    acc = accuracy_score(predictions, val_labels)\n",
    "    \n",
    "    k_results.update({k: acc})"
   ]
  },
  {
   "cell_type": "code",
   "execution_count": 16,
   "metadata": {},
   "outputs": [
    {
     "name": "stdout",
     "output_type": "stream",
     "text": [
      "Best results for K = 1\n"
     ]
    }
   ],
   "source": [
    "K = max(k_results, key=k_results.get)\n",
    "print(\"Best results for K = \" + str(K))"
   ]
  },
  {
   "cell_type": "code",
   "execution_count": 17,
   "metadata": {},
   "outputs": [
    {
     "data": {
      "text/plain": [
       "KNeighborsClassifier(algorithm='auto', leaf_size=30, metric='minkowski',\n",
       "           metric_params=None, n_jobs=1, n_neighbors=1, p=2,\n",
       "           weights='uniform')"
      ]
     },
     "execution_count": 17,
     "metadata": {},
     "output_type": "execute_result"
    }
   ],
   "source": [
    "knn = KNeighborsClassifier(p=p, n_neighbors=K)\n",
    "knn.fit(train_rows, train_labels)"
   ]
  },
  {
   "cell_type": "markdown",
   "metadata": {},
   "source": [
    "#### Test"
   ]
  },
  {
   "cell_type": "code",
   "execution_count": 18,
   "metadata": {},
   "outputs": [
    {
     "name": "stdout",
     "output_type": "stream",
     "text": [
      "Accuracy for test set: 1.0\n"
     ]
    }
   ],
   "source": [
    "predictions = knn.predict(test_rows)\n",
    "test_accuracy = accuracy_score(predictions, test_labels)\n",
    "\n",
    "print(\"Accuracy for test set: \" + str(test_accuracy)) "
   ]
  },
  {
   "cell_type": "markdown",
   "metadata": {},
   "source": [
    "#### Presenting results"
   ]
  },
  {
   "cell_type": "code",
   "execution_count": 19,
   "metadata": {},
   "outputs": [
    {
     "data": {
      "image/png": "[encoded data removed]",
      "text/plain": [
       "<matplotlib.figure.Figure at 0x10fe980b8>"
      ]
     },
     "metadata": {},
     "output_type": "display_data"
    }
   ],
   "source": [
    "X = iris_rows[:, [0, 2]]\n",
    "y = iris_labels\n",
    "\n",
    "x_min, x_max = X[:, 0].min() - 1, X[:, 0].max() + 1\n",
    "y_min, y_max = X[:, 1].min() - 1, X[:, 1].max() + 1\n",
    "xx, yy = np.meshgrid(np.arange(x_min, x_max, 0.1), np.arange(y_min, y_max, 0.1))\n",
    "\n",
    "knn_2features = KNeighborsClassifier(p=p, n_neighbors=K)\n",
    "knn_2features.fit(X, y)\n",
    "\n",
    "Z = knn_2features.predict(np.c_[xx.ravel(), yy.ravel()])\n",
    "Z = np.array(Z).reshape(xx.shape)\n",
    "\n",
    "plt.contourf(xx, yy, Z, alpha=0.4)\n",
    "plt.scatter(X[:, 0], X[:, 1], c=y, alpha=0.8)\n",
    "plt.xlabel(\"SepalLength\")\n",
    "plt.ylabel(\"SepalWidth\")\n",
    "plt.title(\"KNN for 2 first Iris paremeters, K = \" + str(K))\n",
    "\n",
    "plt.show()"
   ]
  },
  {
   "cell_type": "markdown",
   "metadata": {},
   "source": [
    "Results are unclear because to display results on plane only 2 out of 4 paremeters were used. It is not clear enough for KNN how to correctly separate data. K can be increased though to compare tested sample to more train samples."
   ]
  },
  {
   "cell_type": "code",
   "execution_count": 20,
   "metadata": {
    "collapsed": true
   },
   "outputs": [],
   "source": [
    "K = 7"
   ]
  },
  {
   "cell_type": "code",
   "execution_count": 21,
   "metadata": {},
   "outputs": [
    {
     "data": {
      "image/png": "[encoded data removed]",
      "text/plain": [
       "<matplotlib.figure.Figure at 0x10fea9630>"
      ]
     },
     "metadata": {},
     "output_type": "display_data"
    }
   ],
   "source": [
    "X = iris_rows[:, [0, 2]]\n",
    "y = iris_labels\n",
    "\n",
    "x_min, x_max = X[:, 0].min() - 1, X[:, 0].max() + 1\n",
    "y_min, y_max = X[:, 1].min() - 1, X[:, 1].max() + 1\n",
    "xx, yy = np.meshgrid(np.arange(x_min, x_max, 0.1), np.arange(y_min, y_max, 0.1))\n",
    "\n",
    "knn_2features = KNeighborsClassifier(p=p, n_neighbors=K)\n",
    "knn_2features.fit(X, y)\n",
    "\n",
    "Z = knn_2features.predict(np.c_[xx.ravel(), yy.ravel()])\n",
    "Z = np.array(Z).reshape(xx.shape)\n",
    "\n",
    "plt.contourf(xx, yy, Z, alpha=0.4)\n",
    "plt.scatter(X[:, 0], X[:, 1], c=y, alpha=0.8)\n",
    "plt.xlabel(\"SepalLength\")\n",
    "plt.ylabel(\"SepalWidth\")\n",
    "plt.title(\"KNN for 2 first Iris paremeters, K = \" + str(K))\n",
    "\n",
    "plt.show()"
   ]
  }
 ],
 "metadata": {
  "kernelspec": {
   "display_name": "Python 3",
   "language": "python",
   "name": "python3"
  },
  "language_info": {
   "codemirror_mode": {
    "name": "ipython",
    "version": 3
   },
   "file_extension": ".py",
   "mimetype": "text/x-python",
   "name": "python",
   "nbconvert_exporter": "python",
   "pygments_lexer": "ipython3",
   "version": "3.6.1"
  }
 },
 "nbformat": 4,
 "nbformat_minor": 2
}
