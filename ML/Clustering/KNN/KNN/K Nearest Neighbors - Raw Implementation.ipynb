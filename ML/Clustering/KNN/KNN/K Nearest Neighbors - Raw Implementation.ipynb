{
 "cells": [
  {
   "cell_type": "markdown",
   "metadata": {
    "ExecuteTime": {
     "end_time": "2019-11-24T16:18:45.168045Z",
     "start_time": "2019-11-24T16:18:45.113080Z"
    }
   },
   "source": [
    "## Description"
   ]
  },
  {
   "cell_type": "markdown",
   "metadata": {},
   "source": [
    "K Nearest Neighbors is an Supervised Learning algorithm usually used for classification. It stores all available cases and provides classification for new ones based on it's similarity to stored cases. \n",
    "\n",
    "### Setup\n",
    "---\n",
    "Given a vector $c$ of $l$ ($l \\geq 2$) **classes** (categories, describing some sample e.g. flower species, item type):\n",
    "\n",
    "$$\n",
    "c = [c_{0}, c_{1}, c_{2}, \\dots, c_{l}]\n",
    "$$\n",
    "\n",
    "---\n",
    "Given a group of representative samples, stored inside matrix $X_{rep}$ of size $m \\times n$, and given a vector $y_{rep}$ of size $m$, storing one classes from vector $c$ for each sample of matrix $X_{rep}$:\n",
    "\n",
    "$$\n",
    "X_{rep} = \n",
    "\\begin{bmatrix}\n",
    "x_{00} & x_{01} & x_{02} & \\dots & x_{0n} \\\\\n",
    "x_{10} & x_{11} & x_{12} & \\dots & x_{1n} \\\\\n",
    "x_{20} & x_{21} & x_{22} & \\dots & x_{2n} \\\\\n",
    "\\vdots & \\vdots & \\vdots & \\ddots & \\vdots \\\\\n",
    "x_{m0} & x_{m1} & x_{m2} & \\dots & x_{mn} \\\\\n",
    "\\end{bmatrix}\n",
    ",\n",
    "y_{rep} = \n",
    "\\begin{bmatrix}\n",
    "y_{0} \\\\\n",
    "y_{1} \\\\\n",
    "y_{2} \\\\\n",
    "\\vdots \\\\\n",
    "y_{m} \\\\\n",
    "\\end{bmatrix}\n",
    "$$\n",
    "\n",
    "where:\n",
    "- $ m $ - number of samples\n",
    "- $ n $ - number of features\n",
    "\n",
    "--- \n",
    "Given a group of samples stored in matrix $X_{new}$ of size $o \\times n$, which are different than those stored inside $X_{rep}$ matrix:\n",
    "\n",
    "$$\n",
    "X_{new} = \n",
    "\\begin{bmatrix}\n",
    "x_{00} & x_{01} & x_{02} & \\dots & x_{0n} \\\\\n",
    "x_{10} & x_{11} & x_{12} & \\dots & x_{1n} \\\\\n",
    "x_{20} & x_{21} & x_{22} & \\dots & x_{2n} \\\\\n",
    "\\vdots & \\vdots & \\vdots & \\ddots & \\vdots \\\\\n",
    "x_{o0} & x_{o1} & x_{o2} & \\dots & x_{on} \\\\\n",
    "\\end{bmatrix}\n",
    "$$\n",
    "\n",
    "where:\n",
    "- $ o $ - number of samples\n",
    "- $ n $ - number of features\n",
    "\n",
    "### Goal\n",
    "\n",
    "The goal is to assign one of classes from vector $c$ for each one of $o$ samples stored inside matrix $X_{new}$ with usage of `KNN` algorithm.\n",
    "\n",
    "### Algorithm\n",
    "For given sample $x_{i}$ ($i\\in{o}$) of matrix $X_{new}$, `KNN` calculates **distance** between every sample $x_{j}$ ($j\\in{m}$) from matrix $X_{rep}$ and given sample $x_{i}$. The distances are sorted and group of $k$ **neighbors** (samples from matrix $X_{rep}$ which distance is closest to sample $x_{i}$) is selected. Class assigned to sample $x_{i}$ is the most appearing class inside selected group of $k$ neighbors (this process is called **vote**). To avoid draw during vote process, value of $k$ should not be divisible by $l$.\n",
    "\n",
    "### Distance\n",
    "The `KNN` can use various distance metrics for comparing vectors representing samples. Most common distances are `Euclidean Distance` and `Manhattan Distance`:\n",
    "\n",
    "#### 1. Euclidean Distance\n",
    "\n",
    "$$d(p,q) = \\sum_{i=1}^{n}\\sqrt{(p_{i} - q_{i})^2}$$\n",
    "\n",
    "where:\n",
    "- $p$ - vector\n",
    "- $q$ - vector\n",
    "- $n$ - number of elements\n",
    "\n",
    "#### 2. Manhattan Distance\n",
    "\n",
    "$$d(p,q) = \\sum_{i=1}^{n}|p_{i} - q_{i}|$$\n",
    "\n",
    "where:\n",
    "- $p$ - vector\n",
    "- $q$ - vector\n",
    "- $n$ - number of elements\n"
   ]
  },
  {
   "cell_type": "markdown",
   "metadata": {},
   "source": [
    "## Code"
   ]
  },
  {
   "cell_type": "markdown",
   "metadata": {},
   "source": [
    "### Imports"
   ]
  },
  {
   "cell_type": "code",
   "execution_count": 114,
   "metadata": {
    "ExecuteTime": {
     "end_time": "2019-12-15T00:29:30.409538Z",
     "start_time": "2019-12-15T00:29:30.404294Z"
    }
   },
   "outputs": [],
   "source": [
    "import numpy as np\n",
    "from sklearn.datasets import load_iris\n",
    "from sklearn.model_selection import train_test_split\n",
    "from sklearn.metrics import accuracy_score\n",
    "\n",
    "import matplotlib.pyplot as plt\n",
    "%matplotlib inline"
   ]
  },
  {
   "cell_type": "markdown",
   "metadata": {},
   "source": [
    "### Loading data"
   ]
  },
  {
   "cell_type": "code",
   "execution_count": 115,
   "metadata": {
    "ExecuteTime": {
     "end_time": "2019-12-15T00:29:30.415360Z",
     "start_time": "2019-12-15T00:29:30.411573Z"
    }
   },
   "outputs": [],
   "source": [
    "def load_data():\n",
    "    \"\"\"Function loads dictionary containing iris dataset from scikit-learn\n",
    "    library and splits samples in stratified way, in 0.8/0.2 ratio, into \n",
    "    train and test datasets.\n",
    "    \"\"\"\n",
    "    iris = load_iris()\n",
    "    samples, targets = iris[\"data\"], iris[\"target\"]\n",
    "    return train_test_split(\n",
    "        samples, targets, \n",
    "        test_size=0.2, \n",
    "        stratify=targets,\n",
    "        shuffle=True, \n",
    "        random_state=42\n",
    "    )"
   ]
  },
  {
   "cell_type": "markdown",
   "metadata": {},
   "source": [
    "### Distance"
   ]
  },
  {
   "cell_type": "code",
   "execution_count": 116,
   "metadata": {
    "ExecuteTime": {
     "end_time": "2019-12-15T00:29:30.421127Z",
     "start_time": "2019-12-15T00:29:30.417433Z"
    }
   },
   "outputs": [],
   "source": [
    "def euclidean_distance(P, Q):\n",
    "    \"\"\"Function returning row-wise Euclidean Distance values for \n",
    "    matrices P and Q. Works with just vectors.\n",
    "    \"\"\"\n",
    "    return np.linalg.norm(P - Q, axis=1)\n",
    "\n",
    "def manhattan_distance(P, Q):\n",
    "    \"\"\"Function returning row-wise Manhattan Distance values for \n",
    "    matrices P and Q. Works with just vectors.\n",
    "    \"\"\"\n",
    "    return np.abs(P - Q).sum(axis=1)"
   ]
  },
  {
   "cell_type": "markdown",
   "metadata": {},
   "source": [
    "### KNN"
   ]
  },
  {
   "cell_type": "code",
   "execution_count": 117,
   "metadata": {
    "ExecuteTime": {
     "end_time": "2019-12-15T00:29:30.432179Z",
     "start_time": "2019-12-15T00:29:30.423570Z"
    }
   },
   "outputs": [],
   "source": [
    "class KNN:\n",
    "    \"\"\"K Nearest Neighbor algorithm implementation\"\"\"\n",
    "    \n",
    "    def __init__(self, k, distance_func):\n",
    "        \"\"\"Constructor of KNN function.\n",
    "        \n",
    "        Parameters:\n",
    "        -----------\n",
    "        k: int\n",
    "            Number of neighbors that will be used in class vote.\n",
    "        distance_func: function\n",
    "            Function for calculating distance between samples.\n",
    "        \"\"\"\n",
    "        \n",
    "        self.k = k\n",
    "        self.distance_func = distance_func\n",
    "        \n",
    "    def _calculate_distances(self, X_rep, sample):\n",
    "        \"\"\"Calculate distance according to distance_func between single sample and all samples from\n",
    "        X_rep matrix.\n",
    "        \n",
    "        Parameters:\n",
    "        -----------\n",
    "        sample: numpy.ndarray\n",
    "            Vector containing feature values of single sample.\n",
    "        X_rep: numpy.ndarray\n",
    "            Matrix of samples based on which predictions will be made.\n",
    "        \n",
    "        Returns:\n",
    "        -----------\n",
    "        distances: numpy.ndarray\n",
    "            Returns 1-dimensional ndarray containing calculated distances.\n",
    "        \"\"\"\n",
    "        distances = self.distance_func(X_rep, sample)\n",
    "        return distances\n",
    "    \n",
    "    def _get_k_neighbors(self, distances):\n",
    "        \"\"\"Returns indices of k lowest numbers in distances ndarray.\n",
    "        \n",
    "        Parameters:\n",
    "        -----------\n",
    "        distances: numpy.ndarray\n",
    "            1-dimensional ndarray containing distances between single sample and all samples in \n",
    "            X_rep matrix.\n",
    "        \n",
    "        Returns:\n",
    "        -----------\n",
    "        top_k_neighbours: numpy.ndarray\n",
    "            Returns 1-dimensional ndarray with indices of lowest k numbers in distances ndarray.\n",
    "        \"\"\"\n",
    "        top_k_neighbours = np.argpartition(distances, self.k)[:self.k]\n",
    "        return top_k_neighbours\n",
    "    \n",
    "    def _vote(self, neighbors, y_rep):\n",
    "        \"\"\"Returns most frequent class id in neighbour group.\n",
    "        \n",
    "        Parameters:\n",
    "        -----------\n",
    "        neighbors: numpy.ndarray\n",
    "            1-dimensional ndarray with indices of lowest k numbers in distances ndarray.\n",
    "        y_rep: numpy.ndarray\n",
    "            Vector containing class ids for each row in matrix X_rep.\n",
    "        \n",
    "        Returns:\n",
    "        -----------\n",
    "        most_frequent_class: int\n",
    "            Returns most frequent class id.\n",
    "        \"\"\"\n",
    "        most_frequent_class = np.bincount(y_rep[neighbors]).argmax()\n",
    "        return most_frequent_class\n",
    "        \n",
    "    def _predict_for_sample(self, sample, X_rep, y_rep):\n",
    "        \"\"\"Implementation of KNN for single sample:\n",
    "        1. Calculates distance betwen sample and all rows of X_rep.\n",
    "        2. Sorts calculated distances and picks ids of rows which distance \n",
    "           is closest to sample.\n",
    "        3. Selects subset of k labels from vector y_rep based on previously\n",
    "           picked indices.\n",
    "        4. Returns most appearing class.\n",
    "        \n",
    "        Parameters:\n",
    "        -----------\n",
    "        sample: numpy.ndarray\n",
    "            Vector containing feature values of single sample.\n",
    "        X_rep: numpy.ndarray\n",
    "            Matrix of samples based on which predictions will be made.\n",
    "        y_rep: numpy.ndarray\n",
    "            Vector containing class ids for each row in matrix X_rep.\n",
    "            \n",
    "        Returns:\n",
    "        -----------\n",
    "        predicted_class: int\n",
    "            Returns class id of most similar class to given sample.\n",
    "        \"\"\"\n",
    "        distances = self._calculate_distances(X_rep, sample)\n",
    "        k_neighbors = self._get_k_neighbors(distances)\n",
    "        predicted_class = self._vote(k_neighbors, y_rep)\n",
    "        return predicted_class\n",
    "            \n",
    "    def predict(self, X_new, X_rep, y_rep):\n",
    "        \"\"\"Function that for each row of matrix X_new performs classification \n",
    "        based on matrix X_rep and it's labels y_rep.\n",
    "        \n",
    "        Parameters:\n",
    "        -----------\n",
    "        X_new: numpy.ndarray\n",
    "            Matrix of samples for which predictions will be made.\n",
    "        X_rep: numpy.ndarray\n",
    "            Matrix of samples based on which predictions will be made.\n",
    "        y_rep: numpy.ndarray\n",
    "            Vector containing class ids for each row in matrix X_rep.\n",
    "            \n",
    "        Returns:\n",
    "        -----------\n",
    "        result: numpy.ndarray\n",
    "            Vector containing predicted class ids for each row in \n",
    "            matrix X_new.\n",
    "        \"\"\"\n",
    "        return np.array([self._predict_for_sample(s, X_rep, y_rep) for s in X_new])"
   ]
  },
  {
   "cell_type": "markdown",
   "metadata": {},
   "source": [
    "## Usage"
   ]
  },
  {
   "cell_type": "code",
   "execution_count": 118,
   "metadata": {
    "ExecuteTime": {
     "end_time": "2019-12-15T00:29:30.444265Z",
     "start_time": "2019-12-15T00:29:30.433731Z"
    }
   },
   "outputs": [
    {
     "name": "stdout",
     "output_type": "stream",
     "text": [
      "X_rep matrix size: (120, 4)\n",
      "y_rep vector size: (120,)\n",
      "X_new matrix size: (30, 4)\n",
      "y_new vector size: (30,)\n",
      "\n",
      "----\n",
      "\n",
      "Prediction vector: [0 2 1 1 0 1 0 0 2 1 2 2 2 1 0 0 0 1 1 2 0 2 1 2 2 1 1 0 2 0]\n",
      "  Expected values: [0 2 1 1 0 1 0 0 2 1 2 2 2 1 0 0 0 1 1 2 0 2 1 2 2 1 1 0 2 0]\n",
      "\n",
      "----\n",
      "\n",
      "Prediction accuracy: 100.0%\n"
     ]
    }
   ],
   "source": [
    "# Loading data\n",
    "X_rep, X_new, y_rep, y_new = load_data()\n",
    "print(\"X_rep matrix size: {}\".format(X_rep.shape))\n",
    "print(\"y_rep vector size: {}\".format(y_rep.shape))\n",
    "print(\"X_new matrix size: {}\".format(X_new.shape))\n",
    "print(\"y_new vector size: {}\".format(y_new.shape))\n",
    "print(\"\\n----\\n\")\n",
    "\n",
    "# Creating KNN object\n",
    "knn = KNN(k=5, distance_func=euclidean_distance)\n",
    "\n",
    "# Making prediction\n",
    "pred = knn.predict(X_new, X_rep, y_rep)\n",
    "print(\"Prediction vector: {}\".format(pred))\n",
    "print(\"  Expected values: {}\".format(y_new))\n",
    "print(\"\\n----\\n\")\n",
    "\n",
    "# Evaluation\n",
    "accuracy = accuracy_score(pred, y_new)\n",
    "print(\"Prediction accuracy: {}%\".format(accuracy * 100.0))"
   ]
  },
  {
   "cell_type": "markdown",
   "metadata": {},
   "source": [
    "## Visualisation"
   ]
  },
  {
   "cell_type": "markdown",
   "metadata": {},
   "source": [
    "For more intuitive visualisation, only two features describing flowers will be used."
   ]
  },
  {
   "cell_type": "code",
   "execution_count": 132,
   "metadata": {
    "ExecuteTime": {
     "end_time": "2019-12-15T00:32:36.892559Z",
     "start_time": "2019-12-15T00:32:36.550839Z"
    }
   },
   "outputs": [
    {
     "data": {
      "image/png": "[encoded data removed]",
      "text/plain": [
       "<Figure size 1080x648 with 1 Axes>"
      ]
     },
     "metadata": {
      "needs_background": "light"
     },
     "output_type": "display_data"
    }
   ],
   "source": [
    "# Loading data\n",
    "X_rep, X_new, y_rep, y_new = load_data()\n",
    "\n",
    "# Leaving only first two features\n",
    "X_rep = X_rep[:, :2]\n",
    "X_new = X_new[:, :2]\n",
    "\n",
    "# Selecting random sample\n",
    "sample_id = 2\n",
    "sample = X_new[sample_id]\n",
    "sample_class = y_new[sample_id]\n",
    "\n",
    "# Creating KNN object\n",
    "knn = KNN(k=5, distance_func=euclidean_distance)\n",
    "\n",
    "# Selecting neighbours\n",
    "knn_distances = knn._calculate_distances(X_rep, sample)\n",
    "neighbor_ids = knn._get_k_neighbors(knn_distances)\n",
    "\n",
    "# Visualisation\n",
    "plt.figure(figsize=(15, 9))\n",
    "plt.scatter(X_rep[y_rep == 0][:, 0], X_rep[y_rep == 0][:, 1], s=100, label=\"setosa\")\n",
    "plt.scatter(X_rep[y_rep == 1][:, 0], X_rep[y_rep == 1][:, 1], s=100, label=\"versicolor\")\n",
    "plt.scatter(X_rep[y_rep == 2][:, 0], X_rep[y_rep == 2][:, 1], s=100, label=\"virginica\")\n",
    "plt.scatter([sample[0]], [sample[1]], color=\"red\", s=100, label=\"query_sample\", marker=\"*\")\n",
    "plt.scatter(X_rep[neighbor_ids, 0], X_rep[neighbor_ids, 1], \n",
    "            color=\"black\", s=120, label=\"neighbours\", marker=\"x\")\n",
    "plt.xlabel(\"sepal length (cm)\")\n",
    "plt.ylabel(\"sepal length (cm)\")\n",
    "plt.legend();"
   ]
  },
  {
   "cell_type": "markdown",
   "metadata": {
    "ExecuteTime": {
     "end_time": "2019-12-15T00:26:08.209378Z",
     "start_time": "2019-12-15T00:26:08.205409Z"
    }
   },
   "source": [
    "As visible inside 5 closest neighbours there are 3 samples of class veriscolor and 1 sample of class setos and virginica."
   ]
  },
  {
   "cell_type": "code",
   "execution_count": 120,
   "metadata": {
    "ExecuteTime": {
     "end_time": "2019-12-15T00:29:30.809942Z",
     "start_time": "2019-12-15T00:29:30.806523Z"
    }
   },
   "outputs": [
    {
     "data": {
      "text/plain": [
       "array([1, 1, 1, 2, 0])"
      ]
     },
     "execution_count": 120,
     "metadata": {},
     "output_type": "execute_result"
    }
   ],
   "source": [
    "y_rep[neighbor_ids]"
   ]
  },
  {
   "cell_type": "markdown",
   "metadata": {},
   "source": [
    "Therefore prediction should be `veriscolor` - so class_id equal to 1"
   ]
  },
  {
   "cell_type": "code",
   "execution_count": 121,
   "metadata": {
    "ExecuteTime": {
     "end_time": "2019-12-15T00:29:30.815514Z",
     "start_time": "2019-12-15T00:29:30.811974Z"
    }
   },
   "outputs": [
    {
     "data": {
      "text/plain": [
       "1"
      ]
     },
     "execution_count": 121,
     "metadata": {},
     "output_type": "execute_result"
    }
   ],
   "source": [
    "knn._vote(neighbor_ids, y_rep)"
   ]
  },
  {
   "cell_type": "markdown",
   "metadata": {},
   "source": [
    "And end-to-end prediction"
   ]
  },
  {
   "cell_type": "code",
   "execution_count": 122,
   "metadata": {
    "ExecuteTime": {
     "end_time": "2019-12-15T00:29:30.820770Z",
     "start_time": "2019-12-15T00:29:30.817211Z"
    }
   },
   "outputs": [
    {
     "data": {
      "text/plain": [
       "array([1])"
      ]
     },
     "execution_count": 122,
     "metadata": {},
     "output_type": "execute_result"
    }
   ],
   "source": [
    "knn.predict([sample], X_rep, y_rep)"
   ]
  },
  {
   "cell_type": "markdown",
   "metadata": {},
   "source": [
    "Expected result"
   ]
  },
  {
   "cell_type": "code",
   "execution_count": 124,
   "metadata": {
    "ExecuteTime": {
     "end_time": "2019-12-15T00:29:58.246813Z",
     "start_time": "2019-12-15T00:29:58.243022Z"
    }
   },
   "outputs": [
    {
     "data": {
      "text/plain": [
       "1"
      ]
     },
     "execution_count": 124,
     "metadata": {},
     "output_type": "execute_result"
    }
   ],
   "source": [
    "y_new[2]"
   ]
  }
 ],
 "metadata": {
  "kernelspec": {
   "display_name": "Python 3",
   "language": "python",
   "name": "python3"
  },
  "language_info": {
   "codemirror_mode": {
    "name": "ipython",
    "version": 3
   },
   "file_extension": ".py",
   "mimetype": "text/x-python",
   "name": "python",
   "nbconvert_exporter": "python",
   "pygments_lexer": "ipython3",
   "version": "3.6.6"
  }
 },
 "nbformat": 4,
 "nbformat_minor": 2
}
