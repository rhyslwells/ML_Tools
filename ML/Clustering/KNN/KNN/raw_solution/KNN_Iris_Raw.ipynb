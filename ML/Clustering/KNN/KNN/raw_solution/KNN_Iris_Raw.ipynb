{
 "cells": [
  {
   "cell_type": "markdown",
   "metadata": {},
   "source": [
    "In this notebook I want to present implementation of raw K-Nearest Neighbours algorithm with both distances L1, L2. I will show how algorithm works on Iris dataset (https://en.wikipedia.org/wiki/Iris_flower_data_set)."
   ]
  },
  {
   "cell_type": "code",
   "execution_count": 71,
   "metadata": {
    "collapsed": true
   },
   "outputs": [],
   "source": [
    "import os\n",
    "import csv\n",
    "from random import shuffle\n",
    "import numpy as np\n",
    "import matplotlib.pyplot as plt\n",
    "from urllib.request import urlretrieve\n",
    "from tqdm import tqdm"
   ]
  },
  {
   "cell_type": "markdown",
   "metadata": {},
   "source": [
    "### Constants"
   ]
  },
  {
   "cell_type": "code",
   "execution_count": 72,
   "metadata": {
    "collapsed": true
   },
   "outputs": [],
   "source": [
    "DATA_URL = \"https://raw.githubusercontent.com/pandas-dev/pandas/master/pandas/tests/data/iris.csv\"\n",
    "IRIS_FILE = \"./iris.csv\""
   ]
  },
  {
   "cell_type": "markdown",
   "metadata": {},
   "source": [
    "### Prepare data"
   ]
  },
  {
   "cell_type": "markdown",
   "metadata": {},
   "source": [
    "#### Download Iris dataset"
   ]
  },
  {
   "cell_type": "code",
   "execution_count": 73,
   "metadata": {
    "collapsed": true
   },
   "outputs": [],
   "source": [
    "class DLProgress(tqdm):\n",
    "    last_block = 0\n",
    "\n",
    "    def hook(self, block_num=1, block_size=1, total_size=None):\n",
    "        self.total = total_size\n",
    "        self.update((block_num - self.last_block) * block_size)\n",
    "        self.last_block = block_num\n",
    "\n",
    "if not os.path.isfile(IRIS_FILE):\n",
    "    with DLProgress(unit=\"B\", unit_scale=True, miniters=1, desc=\"Iris dataset\") as pbar:\n",
    "        urlretrieve(DATA_URL, IRIS_FILE, pbar.hook)"
   ]
  },
  {
   "cell_type": "markdown",
   "metadata": {},
   "source": [
    "#### Loading files & extracting data"
   ]
  },
  {
   "cell_type": "code",
   "execution_count": 74,
   "metadata": {
    "collapsed": true
   },
   "outputs": [],
   "source": [
    "iris_headers = None\n",
    "iris_rows = None\n",
    "iris_labels = None\n",
    "\n",
    "with open(IRIS_FILE, \"r\") as csv_file:\n",
    "    temp = list(csv.reader(csv_file))\n",
    "    iris_headers = temp[0]\n",
    "    iris_rows = np.array([np.array(row[:-1]).astype(np.float32) for row in temp[1:]])\n",
    "    iris_labels = [row[-1] for row in temp[1:]]"
   ]
  },
  {
   "cell_type": "markdown",
   "metadata": {},
   "source": [
    "#### Data presentation"
   ]
  },
  {
   "cell_type": "code",
   "execution_count": 75,
   "metadata": {
    "collapsed": true
   },
   "outputs": [],
   "source": [
    "rows_to_show = 10"
   ]
  },
  {
   "cell_type": "code",
   "execution_count": 76,
   "metadata": {},
   "outputs": [
    {
     "name": "stdout",
     "output_type": "stream",
     "text": [
      "Headers:['SepalLength', 'SepalWidth', 'PetalLength', 'PetalWidth', 'Name']\n"
     ]
    }
   ],
   "source": [
    "print(\"Headers:\" + str(iris_headers))"
   ]
  },
  {
   "cell_type": "code",
   "execution_count": 77,
   "metadata": {},
   "outputs": [
    {
     "name": "stdout",
     "output_type": "stream",
     "text": [
      "Sample no. 0 - [ 5.0999999   3.5         1.39999998  0.2       ]\n",
      "Sample no. 1 - [ 4.9000001   3.          1.39999998  0.2       ]\n",
      "Sample no. 2 - [ 4.69999981  3.20000005  1.29999995  0.2       ]\n",
      "Sample no. 3 - [ 4.5999999  3.0999999  1.5        0.2      ]\n",
      "Sample no. 4 - [ 5.          3.5999999   1.39999998  0.2       ]\n",
      "Sample no. 5 - [ 5.4000001   3.9000001   1.70000005  0.40000001]\n",
      "Sample no. 6 - [ 4.5999999   3.4000001   1.39999998  0.30000001]\n",
      "Sample no. 7 - [ 5.         3.4000001  1.5        0.2      ]\n",
      "Sample no. 8 - [ 4.4000001   2.9000001   1.39999998  0.2       ]\n",
      "Sample no. 9 - [ 4.9000001  3.0999999  1.5        0.1      ]\n"
     ]
    }
   ],
   "source": [
    "for i in range(0, rows_to_show):\n",
    "    print(\"Sample no. \" + str(i) + \" - \" + str(iris_rows[i]))"
   ]
  },
  {
   "cell_type": "code",
   "execution_count": 78,
   "metadata": {},
   "outputs": [
    {
     "name": "stdout",
     "output_type": "stream",
     "text": [
      "Label no. 0 - Iris-setosa\n",
      "Label no. 1 - Iris-setosa\n",
      "Label no. 2 - Iris-setosa\n",
      "Label no. 3 - Iris-setosa\n",
      "Label no. 4 - Iris-setosa\n",
      "Label no. 5 - Iris-setosa\n",
      "Label no. 6 - Iris-setosa\n",
      "Label no. 7 - Iris-setosa\n",
      "Label no. 8 - Iris-setosa\n",
      "Label no. 9 - Iris-setosa\n"
     ]
    }
   ],
   "source": [
    "for i in range(0, rows_to_show):\n",
    "    print(\"Label no. \" + str(i) + \" - \" + str(iris_labels[i]))"
   ]
  },
  {
   "cell_type": "code",
   "execution_count": 79,
   "metadata": {},
   "outputs": [
    {
     "name": "stdout",
     "output_type": "stream",
     "text": [
      "Number of samples: 150\n"
     ]
    }
   ],
   "source": [
    "print(\"Number of samples: \" + str(len(iris_rows)))"
   ]
  },
  {
   "cell_type": "markdown",
   "metadata": {},
   "source": [
    "#### Data Preprocessing - prepare to feed into KNN"
   ]
  },
  {
   "cell_type": "markdown",
   "metadata": {},
   "source": [
    "Extracting number of classes, and classes names"
   ]
  },
  {
   "cell_type": "code",
   "execution_count": 80,
   "metadata": {
    "collapsed": true
   },
   "outputs": [],
   "source": [
    "classes_names = set(iris_labels)\n",
    "classes_num = len(classes_names)"
   ]
  },
  {
   "cell_type": "markdown",
   "metadata": {},
   "source": [
    "Dividing classes into lists assigned to class name"
   ]
  },
  {
   "cell_type": "code",
   "execution_count": 81,
   "metadata": {
    "collapsed": true
   },
   "outputs": [],
   "source": [
    "samples_divided_by_classes = dict()\n",
    "for row, label in zip(iris_rows, iris_labels):\n",
    "    if label not in samples_divided_by_classes.keys():\n",
    "        samples_divided_by_classes.update({label: list()})\n",
    "    \n",
    "    samples_divided_by_classes[label].append(row)"
   ]
  },
  {
   "cell_type": "markdown",
   "metadata": {},
   "source": [
    "Spliting into train and test sets."
   ]
  },
  {
   "cell_type": "code",
   "execution_count": 82,
   "metadata": {
    "collapsed": true
   },
   "outputs": [],
   "source": [
    "test_samples_ratio = 0.8"
   ]
  },
  {
   "cell_type": "code",
   "execution_count": 83,
   "metadata": {},
   "outputs": [
    {
     "name": "stdout",
     "output_type": "stream",
     "text": [
      "Counting number of remaining samples to split: \n",
      "- Class: Iris-setosa, num samples: 50\n",
      "- Class: Iris-versicolor, num samples: 50\n",
      "- Class: Iris-virginica, num samples: 50\n",
      "\n",
      "Trimming data: \n",
      "- Trimming samples of class 'Iris-virginica'to 50.\n",
      "- Trimming samples of class 'Iris-setosa'to 50.\n",
      "- Trimming samples of class 'Iris-versicolor'to 50.\n",
      "\n",
      "Creating training set: \n",
      "- Adding 40 samples of class 'Iris-virginica' to training set.\n",
      "- Adding 40 samples of class 'Iris-setosa' to training set.\n",
      "- Adding 40 samples of class 'Iris-versicolor' to training set.\n",
      "\n",
      "Creating test set: \n",
      "- Adding 10 samples of class 'Iris-virginica' to test set.\n",
      "- Adding 10 samples of class 'Iris-setosa' to test set.\n",
      "- Adding 10 samples of class 'Iris-versicolor' to test set.\n",
      "\n",
      "Converting types to ndarray.\n"
     ]
    }
   ],
   "source": [
    "train_rows = list()\n",
    "test_rows = list()\n",
    "\n",
    "train_labels = list()\n",
    "test_labels = list()\n",
    "\n",
    "print(\"Counting number of remaining samples to split: \")\n",
    "num_of_samples_per_class = list()\n",
    "for key in samples_divided_by_classes.keys():\n",
    "    num_of_samples_per_class.append(len(samples_divided_by_classes[key]))\n",
    "    print(\"- Class: \" + key + \", num samples: \" + str(len(samples_divided_by_classes[key])))\n",
    "\n",
    "print(\"\\nTrimming data: \")\n",
    "for sample_class in classes_names:\n",
    "    trimmed = samples_divided_by_classes[sample_class][:min(num_of_samples_per_class)]\n",
    "    samples_divided_by_classes[sample_class] = trimmed\n",
    "    print(\"- Trimming samples of class '\" \n",
    "          + sample_class + \"'to \" + str(min(num_of_samples_per_class)) + \".\")\n",
    "\n",
    "print(\"\\nCreating training set: \")\n",
    "split_index = int(min(num_of_samples_per_class) * test_samples_ratio)\n",
    "for sample_class in classes_names:\n",
    "    train_rows.extend(samples_divided_by_classes[sample_class][:split_index])\n",
    "    train_labels = [sample_class for sample in train_rows]\n",
    "    print(\"- Adding \" + str(len(samples_divided_by_classes[sample_class][:split_index])) \n",
    "          + \" samples of class '\" + sample_class + \"' to training set.\")\n",
    "    samples_divided_by_classes[sample_class] = samples_divided_by_classes[sample_class][split_index:]\n",
    "    \n",
    "print(\"\\nCreating test set: \")\n",
    "for sample_class in classes_names:\n",
    "    test_rows.extend(samples_divided_by_classes[sample_class])\n",
    "    test_labels = [sample_class for sample in test_rows]\n",
    "    print(\"- Adding \" + str(len(samples_divided_by_classes[sample_class])) \n",
    "          + \" samples of class '\" + sample_class + \"' to test set.\")    \n",
    "    \n",
    "print(\"\\nConverting types to ndarray.\")\n",
    "train_rows = np.array(train_rows)\n",
    "test_rows = np.array(test_rows)\n",
    "\n",
    "train_labels = np.array(train_labels)\n",
    "test_labels = np.array(test_labels)"
   ]
  },
  {
   "cell_type": "code",
   "execution_count": 84,
   "metadata": {},
   "outputs": [
    {
     "name": "stdout",
     "output_type": "stream",
     "text": [
      "Train data samples: 120\n",
      "Test data samples: 30\n"
     ]
    }
   ],
   "source": [
    "print(\"Train data samples: \" + str(len(train_rows)))\n",
    "print(\"Test data samples: \" + str(len(test_rows)))"
   ]
  },
  {
   "cell_type": "markdown",
   "metadata": {},
   "source": [
    "### K Nearest Neighbours - raw implementation"
   ]
  },
  {
   "cell_type": "code",
   "execution_count": 85,
   "metadata": {
    "collapsed": true
   },
   "outputs": [],
   "source": [
    "class KNN:\n",
    "    \"\"\"Implementation of K-Nearest Neighbours algorithm.\n",
    "    \n",
    "    Arguments:\n",
    "    ---------\n",
    "    k: int\n",
    "        Number of nearest neighbours that should be used for prediction sample.\n",
    "    similarity_function: string\n",
    "        Function that will be used to calculate similarity between each feature of inserted \n",
    "        sample for prediction and samples with already known labels.\n",
    "    \"\"\"    \n",
    "    \n",
    "    SIMILAIRTY_MANHATTAN = \"l1_distance\"\n",
    "    SIMILARITY_EUCLIDEAN = \"l2_distance\"\n",
    "\n",
    "    def __init__(self, k=1, similarity_function=SIMILARITY_EUCLIDEAN):\n",
    "        self.k = k\n",
    "        self.similarity_function = similarity_function\n",
    "        \n",
    "    @staticmethod\n",
    "    def _l1_manhattan_distance(p, q):\n",
    "        \"\"\"Implementation of similarity function using L1 - Manhattan Distance.\"\"\"\n",
    "        return np.sum(np.abs(p - q), 1)\n",
    "    \n",
    "    @staticmethod\n",
    "    def _l2_euclidean_distance(p, q):\n",
    "        \"\"\"Implementation of similarity function using L2 - Euclidean Distance.\"\"\"\n",
    "        return np.sqrt(np.sum(np.square(p - q), 1))\n",
    "    \n",
    "    def _get_nearest_neighbors(self, train_data, train_labels, data_for_prediction):\n",
    "        \"\"\"Function calculates distance between each sample in 'data_for_prediction' and each\n",
    "        sample in 'train_data' based on set self.similarity_function. Then results are sorted\n",
    "        for each sample which should receive prediction and K closest samples from 'train_data'\n",
    "        are picked and returned as a list assigned to sample which should receive prediction.\"\"\"\n",
    "        neighbors = list()\n",
    "        for i in range(0, len(data_for_prediction)):\n",
    "            # Calculating similarity between sample that should receive prediction \n",
    "            # and every sample in train_data\n",
    "            if self.similarity_function == self.SIMILAIRTY_MANHATTAN:\n",
    "                sample_distances = self._l1_manhattan_distance(train_data, data_for_prediction[i])\n",
    "            elif self.similarity_function == self.SIMILARITY_EUCLIDEAN:\n",
    "                sample_distances = self._l2_euclidean_distance(train_data, data_for_prediction[i])\n",
    "            else:\n",
    "                raise Exception(\"Unsupported similarity function: \" \n",
    "                                + str(self.self.similarity_function))\n",
    "\n",
    "            # Picking K-Neighbours - self.k indexes of closest samples from train_data\n",
    "            # to sample which should receive prediction\n",
    "            indexes_of_closest_k_samples = sample_distances.argsort()[:self.k]\n",
    "            sample_distances = train_labels[indexes_of_closest_k_samples]\n",
    "            neighbors.append(sample_distances)\n",
    "\n",
    "        return neighbors\n",
    "\n",
    "    def _get_responses(self, all_neighbors):\n",
    "        \"\"\"For each sample that should return prediction - counts occurance of each label. \n",
    "        Returns the one which appears most often as prediction for that sample.\"\"\"\n",
    "        responses = list()\n",
    "        for sample_neighbors in all_neighbors:\n",
    "            sample_votes = dict()\n",
    "\n",
    "            # Counting neighbour occurances\n",
    "            for neighbor in sample_neighbors:\n",
    "                if neighbor in sample_votes:\n",
    "                    sample_votes[neighbor] += 1\n",
    "                else:\n",
    "                    sample_votes[neighbor] = 1\n",
    "\n",
    "            # Picking most often appearing neighbour in 'all_neighbour' list\n",
    "            neighbor_with_most_votes = max(sample_votes, key=sample_votes.get)\n",
    "            responses.append(neighbor_with_most_votes)\n",
    "\n",
    "        return responses\n",
    "\n",
    "    def predict(self, train_data, train_labels, data_for_prediction):\n",
    "        \"\"\"Returning prediction for each sample in 'data_for_prediction' list.\"\"\"\n",
    "        neighbors = self._get_nearest_neighbors(train_data, train_labels, data_for_prediction)\n",
    "        return self._get_responses(neighbors)"
   ]
  },
  {
   "cell_type": "markdown",
   "metadata": {},
   "source": [
    "### Using model for prediction"
   ]
  },
  {
   "cell_type": "markdown",
   "metadata": {},
   "source": [
    "Helper function"
   ]
  },
  {
   "cell_type": "code",
   "execution_count": 86,
   "metadata": {
    "collapsed": true
   },
   "outputs": [],
   "source": [
    "def accuracy(a, b):\n",
    "    \"\"\"Function that compares values in two lists(that should be of same length) and returns\n",
    "    numbers of values which are the same.\"\"\"\n",
    "    correct_predictions = 0\n",
    "    for a_value, b_value in zip(a, b):\n",
    "        if a_value == b_value:\n",
    "            correct_predictions += 1\n",
    "    return correct_predictions / len(a)"
   ]
  },
  {
   "cell_type": "code",
   "execution_count": 87,
   "metadata": {
    "collapsed": true
   },
   "outputs": [],
   "source": [
    "def binarize_labels(labels):\n",
    "    \"\"\"Function which takes as argument n-element list of labels. Reduces duplicates and\n",
    "    assigns integer to each label in reduced list. Integer is equal to position d\"\"\"\n",
    "    all_labels = list(set(labels))\n",
    "    return np.array([all_labels.index(label) for label in labels])"
   ]
  },
  {
   "cell_type": "markdown",
   "metadata": {},
   "source": [
    "Creating model"
   ]
  },
  {
   "cell_type": "code",
   "execution_count": 88,
   "metadata": {
    "collapsed": true
   },
   "outputs": [],
   "source": [
    "knn = KNN(k=7)"
   ]
  },
  {
   "cell_type": "markdown",
   "metadata": {},
   "source": [
    "Predicting "
   ]
  },
  {
   "cell_type": "code",
   "execution_count": 89,
   "metadata": {},
   "outputs": [
    {
     "name": "stdout",
     "output_type": "stream",
     "text": [
      "Accuracy for test set: 1.0\n"
     ]
    }
   ],
   "source": [
    "predictions = knn.predict(train_rows, train_labels, test_rows)\n",
    "test_accuracy = accuracy(predictions, test_labels)\n",
    "\n",
    "print(\"Accuracy for test set: \" + str(test_accuracy)) "
   ]
  },
  {
   "cell_type": "markdown",
   "metadata": {},
   "source": [
    "Prediction plot"
   ]
  },
  {
   "cell_type": "code",
   "execution_count": 90,
   "metadata": {},
   "outputs": [
    {
     "data": {
      "image/png": "[encoded data removed]",
      "text/plain": [
       "<matplotlib.figure.Figure at 0x107b3d128>"
      ]
     },
     "metadata": {},
     "output_type": "display_data"
    }
   ],
   "source": [
    "X = iris_rows[:, [0, 2]]\n",
    "y = binarize_labels(iris_labels)\n",
    "\n",
    "x_min, x_max = X[:, 0].min() - 1, X[:, 0].max() + 1\n",
    "y_min, y_max = X[:, 1].min() - 1, X[:, 1].max() + 1\n",
    "xx, yy = np.meshgrid(np.arange(x_min, x_max, 0.1), np.arange(y_min, y_max, 0.1))\n",
    "\n",
    "Z = knn.predict(X, y, np.c_[xx.ravel(), yy.ravel()])\n",
    "\n",
    "Z = np.array(Z).reshape(xx.shape)\n",
    "\n",
    "plt.contourf(xx, yy, Z, alpha=0.4)\n",
    "plt.scatter(X[:, 0], X[:, 1], c=y, alpha=0.8)\n",
    "plt.xlabel(\"SepalLength\")\n",
    "plt.ylabel(\"SepalWidth\")\n",
    "plt.title(\"KNN for 2 first Iris paremeters, K = \" + str(knn.k))\n",
    "\n",
    "plt.show()"
   ]
  }
 ],
 "metadata": {
  "kernelspec": {
   "display_name": "Python 3",
   "language": "python",
   "name": "python3"
  },
  "language_info": {
   "codemirror_mode": {
    "name": "ipython",
    "version": 3
   },
   "file_extension": ".py",
   "mimetype": "text/x-python",
   "name": "python",
   "nbconvert_exporter": "python",
   "pygments_lexer": "ipython3",
   "version": "3.6.1"
  }
 },
 "nbformat": 4,
 "nbformat_minor": 2
}
