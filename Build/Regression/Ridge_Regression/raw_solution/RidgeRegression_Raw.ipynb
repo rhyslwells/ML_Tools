{
 "cells": [
  {
   "cell_type": "markdown",
   "metadata": {},
   "source": [
    "In this notebook I want to present how Ridge Regression algorithm works. Special case of Linear Regression with L2 regularization. This implementation should not be used for real problems as it's slower than excelent available tools like e.g. sci-kit learn."
   ]
  },
  {
   "cell_type": "code",
   "execution_count": 79,
   "metadata": {
    "collapsed": true
   },
   "outputs": [],
   "source": [
    "from sklearn.datasets import make_regression\n",
    "from sklearn import linear_model\n",
    "\n",
    "%matplotlib inline \n",
    "import matplotlib\n",
    "import matplotlib.pyplot as plt\n",
    "\n",
    "import numpy as np "
   ]
  },
  {
   "cell_type": "markdown",
   "metadata": {},
   "source": [
    "### Constants"
   ]
  },
  {
   "cell_type": "code",
   "execution_count": 80,
   "metadata": {
    "collapsed": true
   },
   "outputs": [],
   "source": [
    "DATA_NUM = 20"
   ]
  },
  {
   "cell_type": "markdown",
   "metadata": {},
   "source": [
    "### Generate problem"
   ]
  },
  {
   "cell_type": "code",
   "execution_count": 81,
   "metadata": {
    "collapsed": true
   },
   "outputs": [],
   "source": [
    "def generate_ridge_regression_problem(bias, weight, samples_num):\n",
    "    \"\"\"Function to generate points that can be aproximated by linear function. \n",
    "    Anomalies will be included in data. Returns tuple of data and it's labels. \n",
    "    \n",
    "    Arguments:\n",
    "    ---------\n",
    "    samples_num: int\n",
    "        Numer of points that should be generated.\n",
    "    \"\"\"\n",
    "    def _linear_function(bias, weight, x):\n",
    "        \"\"\"Implementation of linear function.\"\"\"\n",
    "        return weight * x + bias\n",
    "    \n",
    "    x_values = list()\n",
    "    y_values = list()\n",
    "    \n",
    "    # Generating random linear points\n",
    "    x_values_pool = np.arange(-5.0, 5.0, 0.001)\n",
    "    while len(x_values) != samples_num:\n",
    "        x_rand = np.random.choice(x_values_pool)\n",
    "        x_values.append(x_rand)\n",
    "        y_values.append(_linear_function(bias, weight, x_rand))\n",
    "        \n",
    "    # Adding noise to each point\n",
    "    max_y = max(y_values)\n",
    "    min_y = min(y_values)\n",
    "    y_values = [y + np.random.uniform(low=-0.2*min_y, high=0.2*max_y) for y in y_values]\n",
    "    \n",
    "    # Adding few anomalies\n",
    "    anomalies_num = int(np.ceil(0.2 * samples_num))\n",
    "    for x in range(anomalies_num):\n",
    "        x_rand = np.random.choice(x_values_pool)\n",
    "        x_values.append(x_rand)\n",
    "        y_anomaly = 5 * _linear_function(bias, weight, x_rand)\n",
    "        y_values.append(y_anomaly)\n",
    " \n",
    "    return np.array(x_values).reshape(-1, 1), np.array(y_values).reshape(-1, 1)"
   ]
  },
  {
   "cell_type": "code",
   "execution_count": 82,
   "metadata": {},
   "outputs": [
    {
     "data": {
      "image/png": "[encoded data removed]",
      "text/plain": [
       "<matplotlib.figure.Figure at 0x10e64a710>"
      ]
     },
     "metadata": {},
     "output_type": "display_data"
    }
   ],
   "source": [
    "# Generating values 'X' and labels 'y'\n",
    "X, y = generate_ridge_regression_problem(3, 0.5, DATA_NUM)\n",
    "\n",
    "# Presenting generated data\n",
    "plt.scatter(X, y, s=15)\n",
    "plt.title(\"Ridge Regression Problem to fit\")\n",
    "plt.xlabel(\"X values\")\n",
    "plt.ylabel(\"y values\")\n",
    "plt.show()"
   ]
  },
  {
   "cell_type": "markdown",
   "metadata": {},
   "source": [
    "### Ridge Regression -  Raw implementation"
   ]
  },
  {
   "cell_type": "code",
   "execution_count": 83,
   "metadata": {
    "collapsed": true
   },
   "outputs": [],
   "source": [
    "class RidgeRegression:\n",
    "    \"\"\"Ridge Regression model.\n",
    "    \n",
    "    Arguments:\n",
    "    ---------\n",
    "    iterations: int\n",
    "        Number of Gradient Descent Steps that will be performed in order to change weights of\n",
    "        linear model\n",
    "    learning_rate: float\n",
    "        Weight applied for Gradient Descent Step during updating weights. (default: 0.001)\n",
    "    regularization_factor: float\n",
    "        Value that will be increasing impact that large weights value has on model during\n",
    "        Gradient Descent in order to optimize their shrinkage.\n",
    "    normalize: boolean\n",
    "        Flag for normalization. If set to true data will be scaled to values which mean is close\n",
    "        to 0 and standard deviation close to 1. \n",
    "    verbose: boolean\n",
    "        Flag for debugging. If set to true then error values achieved by model during training\n",
    "        cycle will be displayed.\n",
    "    \"\"\"\n",
    "    def __init__(self, iterations, regularization_factor=0.0, learning_rate=0.001, normalize=False, \n",
    "                 verbose=False):\n",
    "        self.w = None\n",
    "        self._normalize_mean = None\n",
    "        self._normalize_std = None\n",
    "        \n",
    "        self.error_history = list()\n",
    "        self.iterations = iterations\n",
    "        self.learning_rate = learning_rate\n",
    "        self.reg_factor = regularization_factor\n",
    "        self.normalize = normalize\n",
    "        self.verbose = verbose\n",
    "        \n",
    "        \n",
    "    def fit(self, X, y):\n",
    "        \"\"\"Function that is adjusting Ridge Regression Model weights 'w' to inserted data 'X'\n",
    "        according to target values 'y'.\"\"\"\n",
    "        \n",
    "        # Ensure data is float type\n",
    "        X = X.astype(np.float32)\n",
    "        y = y.astype(np.float32)\n",
    "        \n",
    "        if self.normalize:\n",
    "            # Scaling X values\n",
    "            self._normalize_mean = X.mean()\n",
    "            self._normalize_std = X.std()\n",
    "            X = self._normalize(X)\n",
    "        \n",
    "        # Insert 1 values in first row of data for bias\n",
    "        X = np.insert(X, 0, 1, axis=1)\n",
    "        \n",
    "        # Creating weight for each feature in dataset\n",
    "        self.w = np.zeros((X.shape[1], 1))\n",
    "        \n",
    "          # Updating weights by Gradient Descent\n",
    "        for i in range(self.iterations):\n",
    "            \n",
    "            # Gradient step - Calculating gradient\n",
    "            pred = np.dot(X, self.w)\n",
    "            gradient = (1 / len(X)) * (np.dot(X.T, pred - y) + self.reg_factor * self.w)\n",
    "            \n",
    "            # Gradient step - Updating weights\n",
    "            self.w = self.w - self.learning_rate * gradient\n",
    "            \n",
    "            # Calculating error for new weights\n",
    "            error = self._mse(X, y, self.reg_factor)\n",
    "            self.error_history.append(error)\n",
    "            \n",
    "            # Displaying learning progress every 100 iterations\n",
    "            if self.verbose and i % 100 == 0:\n",
    "                print(\"Iteration no. \" + str(i) + \", error: \" + str(error))\n",
    "    \n",
    "    def _normalize(self, X):\n",
    "        \"\"\"Feature scaling for input matrix 'X' for avoiding gradient overflow.\"\"\"\n",
    "        return (X - self._normalize_mean) / self._normalize_std\n",
    "        \n",
    "        \n",
    "    def _mse(self, X, y, reg_factor):\n",
    "        \"\"\"Implementation of Mean Squared Errors - cost function for monitoring how Polynomial Model\n",
    "        is performing with current 'w' values\"\"\"\n",
    "        \n",
    "        # Calculating Mean Squared Error\n",
    "        pred = np.dot(X, self.w)\n",
    "        mean_square_error = (1 / (2 * len(X))) * np.sum(np.square(pred - y))\n",
    "        \n",
    "        # Adding Regularization to cost function\n",
    "        regularization = self.reg_factor * np.square(self.w)\n",
    "        regularization[0][0] = 0\n",
    "        regularization = (1 / (2 * len(X))) * np.sum(regularization)\n",
    "        \n",
    "        return mean_square_error + regularization\n",
    "    \n",
    "    def predict(self, X):\n",
    "        \"\"\"Functions that takes feature values 'X' and returns predictions with usage of \n",
    "        current 'w' values\"\"\"\n",
    "        \n",
    "        # Ensure data is float type\n",
    "        X = X.astype(np.float32)\n",
    "        \n",
    "        if self.normalize:\n",
    "            # Scaling X values\n",
    "            X = self._normalize(X)\n",
    "        \n",
    "        # Insert 1 values in first row of data for bias\n",
    "        X = np.insert(X, 0, 1, axis=1)\n",
    "        pred = np.dot(X, self.w)\n",
    "        return pred\n",
    "        "
   ]
  },
  {
   "cell_type": "markdown",
   "metadata": {},
   "source": [
    "### Training model to fit generated data"
   ]
  },
  {
   "cell_type": "markdown",
   "metadata": {},
   "source": [
    "Hyperparameters\n"
   ]
  },
  {
   "cell_type": "code",
   "execution_count": 84,
   "metadata": {
    "collapsed": true
   },
   "outputs": [],
   "source": [
    "iterations = 2500"
   ]
  },
  {
   "cell_type": "markdown",
   "metadata": {},
   "source": [
    "L2 Regularization set to 0 - reducing RidgeRegression to LinearRegression"
   ]
  },
  {
   "cell_type": "code",
   "execution_count": 85,
   "metadata": {},
   "outputs": [
    {
     "name": "stdout",
     "output_type": "stream",
     "text": [
      "Iteration no. 0, error: 37.7870925319\n",
      "Iteration no. 100, error: 33.6897776893\n",
      "Iteration no. 200, error: 30.3355156981\n",
      "Iteration no. 300, error: 27.5895530523\n",
      "Iteration no. 400, error: 25.3415739524\n",
      "Iteration no. 500, error: 23.5012684983\n",
      "Iteration no. 600, error: 21.9947045963\n",
      "Iteration no. 700, error: 20.7613578246\n",
      "Iteration no. 800, error: 19.7516799362\n",
      "Iteration no. 900, error: 18.9251083169\n",
      "Iteration no. 1000, error: 18.24843643\n",
      "Iteration no. 1100, error: 17.6944797833\n",
      "Iteration no. 1200, error: 17.240983824\n",
      "Iteration no. 1300, error: 16.8697298888\n",
      "Iteration no. 1400, error: 16.56580329\n",
      "Iteration no. 1500, error: 16.3169941363\n",
      "Iteration no. 1600, error: 16.1133068144\n",
      "Iteration no. 1700, error: 15.9465584272\n",
      "Iteration no. 1800, error: 15.8100500556\n",
      "Iteration no. 1900, error: 15.6982976372\n",
      "Iteration no. 2000, error: 15.6068116509\n",
      "Iteration no. 2100, error: 15.5319167556\n",
      "Iteration no. 2200, error: 15.4706041373\n",
      "Iteration no. 2300, error: 15.4204106342\n",
      "Iteration no. 2400, error: 15.3793197818\n"
     ]
    }
   ],
   "source": [
    "linear_regression_model = RidgeRegression(iterations, normalize=True, verbose=True)\n",
    "linear_regression_model.fit(X, y)"
   ]
  },
  {
   "cell_type": "markdown",
   "metadata": {},
   "source": [
    "L2 Regularization set to 10 - using RidgeRegression"
   ]
  },
  {
   "cell_type": "code",
   "execution_count": 86,
   "metadata": {},
   "outputs": [
    {
     "name": "stdout",
     "output_type": "stream",
     "text": [
      "Iteration no. 0, error: 37.7870935059\n",
      "Iteration no. 100, error: 33.7780455\n",
      "Iteration no. 200, error: 30.6311410748\n",
      "Iteration no. 300, error: 28.1504004313\n",
      "Iteration no. 400, error: 26.1859981619\n",
      "Iteration no. 500, error: 24.6231632351\n",
      "Iteration no. 600, error: 23.3737804297\n",
      "Iteration no. 700, error: 22.3700314241\n",
      "Iteration no. 800, error: 21.5595764544\n",
      "Iteration no. 900, error: 20.9019000786\n",
      "Iteration no. 1000, error: 20.3655370157\n",
      "Iteration no. 1100, error: 19.9259637019\n",
      "Iteration no. 1200, error: 19.5639937478\n",
      "Iteration no. 1300, error: 19.2645550883\n",
      "Iteration no. 1400, error: 19.0157565025\n",
      "Iteration no. 1500, error: 18.8081737184\n",
      "Iteration no. 1600, error: 18.6343023291\n",
      "Iteration no. 1700, error: 18.4881375835\n",
      "Iteration no. 1800, error: 18.3648508133\n",
      "Iteration no. 1900, error: 18.260539575\n",
      "Iteration no. 2000, error: 18.1720341257\n",
      "Iteration no. 2100, error: 18.0967470313\n",
      "Iteration no. 2200, error: 18.0325558719\n",
      "Iteration no. 2300, error: 17.9777114081\n",
      "Iteration no. 2400, error: 17.9307653816\n"
     ]
    }
   ],
   "source": [
    "ridge_regression_model = RidgeRegression(iterations, regularization_factor=10,normalize=True, verbose=True)\n",
    "ridge_regression_model.fit(X, y)"
   ]
  },
  {
   "cell_type": "markdown",
   "metadata": {},
   "source": [
    "Training results"
   ]
  },
  {
   "cell_type": "code",
   "execution_count": 87,
   "metadata": {},
   "outputs": [
    {
     "name": "stdout",
     "output_type": "stream",
     "text": [
      "Linear Regression model result:\n",
      "[[ 5.84955022]\n",
      " [ 1.98501154]]\n"
     ]
    }
   ],
   "source": [
    "# Trained weights of Linear Model - w0 + w1 * x - by LinearRegression\n",
    "print(\"Linear Regression model result:\\n\" + str(linear_regression_model.w))"
   ]
  },
  {
   "cell_type": "code",
   "execution_count": 88,
   "metadata": {},
   "outputs": [
    {
     "name": "stdout",
     "output_type": "stream",
     "text": [
      "Ridge Regression model result:\n",
      "[[ 4.36788457]\n",
      " [ 1.48221675]]\n"
     ]
    }
   ],
   "source": [
    "# Trained weights of Linear Model - w0 + w1 * x - by RidgeRegression\n",
    "print(\"Ridge Regression model result:\\n\" + str(ridge_regression_model.w))"
   ]
  },
  {
   "cell_type": "code",
   "execution_count": 89,
   "metadata": {},
   "outputs": [
    {
     "data": {
      "image/png": "[encoded data removed]",
      "text/plain": [
       "<matplotlib.figure.Figure at 0x10e4ed860>"
      ]
     },
     "metadata": {},
     "output_type": "display_data"
    }
   ],
   "source": [
    "# Model learning history\n",
    "plt.plot(linear_regression_model.error_history)\n",
    "plt.title(\"Error per iteration - LinearRegression\")\n",
    "plt.ylabel('MSE Error')\n",
    "plt.xlabel('Iteration')\n",
    "plt.show()"
   ]
  },
  {
   "cell_type": "code",
   "execution_count": 90,
   "metadata": {},
   "outputs": [
    {
     "data": {
      "image/png": "[encoded data removed]",
      "text/plain": [
       "<matplotlib.figure.Figure at 0x10efaeda0>"
      ]
     },
     "metadata": {},
     "output_type": "display_data"
    }
   ],
   "source": [
    "# Model learning history\n",
    "plt.plot(ridge_regression_model.error_history)\n",
    "plt.title(\"Error per iteration - RidgeRegression\")\n",
    "plt.ylabel('MSE Error')\n",
    "plt.xlabel('Iteration')\n",
    "plt.show()"
   ]
  },
  {
   "cell_type": "code",
   "execution_count": 91,
   "metadata": {},
   "outputs": [
    {
     "data": {
      "image/png": "[encoded data removed]",
      "text/plain": [
       "<matplotlib.figure.Figure at 0x10ed912b0>"
      ]
     },
     "metadata": {},
     "output_type": "display_data"
    }
   ],
   "source": [
    "# Displaying dataset\n",
    "plt.scatter(X, y, s=15)\n",
    "\n",
    "# Displaying aproximated function\n",
    "function_x = np.arange(np.min(X), np.max(X), 0.01).reshape(-1, 1)\n",
    "\n",
    "plt.plot(function_x, linear_regression_model.predict(function_x), c=\"red\", \n",
    "         label=\"LinearRegression model\")\n",
    "plt.plot(function_x, ridge_regression_model.predict(function_x), c=\"green\", \n",
    "         label='RidgeRegression model')\n",
    "\n",
    "plt.title(\"Regression line - Linear Regression vs Ridge Regression\")\n",
    "plt.xlabel(\"X values\")\n",
    "plt.ylabel(\"Y values\")\n",
    "plt.legend(loc='upper left')\n",
    "plt.show()"
   ]
  }
 ],
 "metadata": {
  "kernelspec": {
   "display_name": "Python 3",
   "language": "python",
   "name": "python3"
  },
  "language_info": {
   "codemirror_mode": {
    "name": "ipython",
    "version": 3
   },
   "file_extension": ".py",
   "mimetype": "text/x-python",
   "name": "python",
   "nbconvert_exporter": "python",
   "pygments_lexer": "ipython3",
   "version": "3.6.1"
  }
 },
 "nbformat": 4,
 "nbformat_minor": 2
}
