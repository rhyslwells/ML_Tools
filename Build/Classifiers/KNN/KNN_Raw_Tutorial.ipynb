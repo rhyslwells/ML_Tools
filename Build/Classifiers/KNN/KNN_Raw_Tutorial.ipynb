{
 "cells": [
  {
   "cell_type": "code",
   "execution_count": 1,
   "metadata": {
    "collapsed": true
   },
   "outputs": [],
   "source": [
    "import os\n",
    "import csv\n",
    "from random import shuffle\n",
    "import numpy as np\n",
    "import matplotlib.pyplot as plt\n",
    "from urllib.request import urlretrieve\n",
    "from tqdm import tqdm"
   ]
  },
  {
   "cell_type": "markdown",
   "metadata": {},
   "source": [
    "#### Dataset info"
   ]
  },
  {
   "cell_type": "code",
   "execution_count": 2,
   "metadata": {
    "collapsed": true
   },
   "outputs": [],
   "source": [
    "# info: https://en.wikipedia.org/wiki/Iris_flower_data_set\n",
    "DATA_URL = \"https://raw.githubusercontent.com/pandas-dev/pandas/master/pandas/tests/data/iris.csv\"\n",
    "IRIS_FILE = \"./iris.csv\""
   ]
  },
  {
   "cell_type": "markdown",
   "metadata": {},
   "source": [
    "#### Download dataset"
   ]
  },
  {
   "cell_type": "code",
   "execution_count": 3,
   "metadata": {
    "collapsed": true
   },
   "outputs": [],
   "source": [
    "class DLProgress(tqdm):\n",
    "    last_block = 0\n",
    "\n",
    "    def hook(self, block_num=1, block_size=1, total_size=None):\n",
    "        self.total = total_size\n",
    "        self.update((block_num - self.last_block) * block_size)\n",
    "        self.last_block = block_num\n",
    "\n",
    "if not os.path.isfile(IRIS_FILE):\n",
    "    with DLProgress(unit=\"B\", unit_scale=True, miniters=1, desc=\"Iris datasate\") as pbar:\n",
    "        urlretrieve(DATA_URL, IRIS_FILE, pbar.hook)"
   ]
  },
  {
   "cell_type": "markdown",
   "metadata": {},
   "source": [
    "#### Loading files & extracting data"
   ]
  },
  {
   "cell_type": "code",
   "execution_count": 4,
   "metadata": {
    "collapsed": true
   },
   "outputs": [],
   "source": [
    "iris_headers = None\n",
    "iris_rows = None\n",
    "iris_labels = None\n",
    "\n",
    "with open(IRIS_FILE, \"r\") as csv_file:\n",
    "    temp = list(csv.reader(csv_file))\n",
    "    iris_headers = temp[0]\n",
    "    iris_rows = np.array([np.array(row[:-1]).astype(np.float32) for row in temp[1:]])\n",
    "    iris_labels = [row[-1] for row in temp[1:]]"
   ]
  },
  {
   "cell_type": "markdown",
   "metadata": {},
   "source": [
    "#### Data presentation"
   ]
  },
  {
   "cell_type": "code",
   "execution_count": 5,
   "metadata": {
    "collapsed": true
   },
   "outputs": [],
   "source": [
    "rows_to_show = 10"
   ]
  },
  {
   "cell_type": "code",
   "execution_count": 6,
   "metadata": {},
   "outputs": [
    {
     "name": "stdout",
     "output_type": "stream",
     "text": [
      "['SepalLength', 'SepalWidth', 'PetalLength', 'PetalWidth', 'Name']\n"
     ]
    }
   ],
   "source": [
    "print(iris_headers)"
   ]
  },
  {
   "cell_type": "code",
   "execution_count": 7,
   "metadata": {},
   "outputs": [
    {
     "name": "stdout",
     "output_type": "stream",
     "text": [
      "Sample no. 0 - [ 5.0999999   3.5         1.39999998  0.2       ]\n",
      "Sample no. 1 - [ 4.9000001   3.          1.39999998  0.2       ]\n",
      "Sample no. 2 - [ 4.69999981  3.20000005  1.29999995  0.2       ]\n",
      "Sample no. 3 - [ 4.5999999  3.0999999  1.5        0.2      ]\n",
      "Sample no. 4 - [ 5.          3.5999999   1.39999998  0.2       ]\n",
      "Sample no. 5 - [ 5.4000001   3.9000001   1.70000005  0.40000001]\n",
      "Sample no. 6 - [ 4.5999999   3.4000001   1.39999998  0.30000001]\n",
      "Sample no. 7 - [ 5.         3.4000001  1.5        0.2      ]\n",
      "Sample no. 8 - [ 4.4000001   2.9000001   1.39999998  0.2       ]\n",
      "Sample no. 9 - [ 4.9000001  3.0999999  1.5        0.1      ]\n"
     ]
    }
   ],
   "source": [
    "for i in range(0, rows_to_show):\n",
    "    print(\"Sample no. \" + str(i) + \" - \" + str(iris_rows[i]))"
   ]
  },
  {
   "cell_type": "code",
   "execution_count": 8,
   "metadata": {},
   "outputs": [
    {
     "name": "stdout",
     "output_type": "stream",
     "text": [
      "Label no. 0 - Iris-setosa\n",
      "Label no. 1 - Iris-setosa\n",
      "Label no. 2 - Iris-setosa\n",
      "Label no. 3 - Iris-setosa\n",
      "Label no. 4 - Iris-setosa\n",
      "Label no. 5 - Iris-setosa\n",
      "Label no. 6 - Iris-setosa\n",
      "Label no. 7 - Iris-setosa\n",
      "Label no. 8 - Iris-setosa\n",
      "Label no. 9 - Iris-setosa\n"
     ]
    }
   ],
   "source": [
    "for i in range(0, rows_to_show):\n",
    "    print(\"Label no. \" + str(i) + \" - \" + str(iris_labels[i]))"
   ]
  },
  {
   "cell_type": "code",
   "execution_count": 9,
   "metadata": {},
   "outputs": [
    {
     "name": "stdout",
     "output_type": "stream",
     "text": [
      "Number of samples: 150\n"
     ]
    }
   ],
   "source": [
    "print(\"Number of samples: \" + str(len(iris_rows)))"
   ]
  },
  {
   "cell_type": "markdown",
   "metadata": {},
   "source": [
    "#### Divide data:"
   ]
  },
  {
   "cell_type": "markdown",
   "metadata": {},
   "source": [
    "Classes will be divided so each set contains same amount of each class type."
   ]
  },
  {
   "cell_type": "code",
   "execution_count": 10,
   "metadata": {},
   "outputs": [
    {
     "name": "stdout",
     "output_type": "stream",
     "text": [
      "Detected num of different classes: 3\n",
      "{'Iris-versicolor', 'Iris-virginica', 'Iris-setosa'}\n"
     ]
    }
   ],
   "source": [
    "classes = set(iris_labels)\n",
    "num_of_classes = len(classes)\n",
    "print(\"Detected num of different classes: \" + str(num_of_classes))\n",
    "print(classes)"
   ]
  },
  {
   "cell_type": "code",
   "execution_count": 11,
   "metadata": {
    "collapsed": true
   },
   "outputs": [],
   "source": [
    "samples_divided_by_classes = dict()\n",
    "for row, label in zip(iris_rows, iris_labels):\n",
    "    if label not in samples_divided_by_classes.keys():\n",
    "        samples_divided_by_classes.update({label: list()})\n",
    "    \n",
    "    samples_divided_by_classes[label].append(row)"
   ]
  },
  {
   "cell_type": "markdown",
   "metadata": {},
   "source": [
    "Spliting into train, validation, test sets."
   ]
  },
  {
   "cell_type": "code",
   "execution_count": 12,
   "metadata": {
    "collapsed": true
   },
   "outputs": [],
   "source": [
    "test_samples_ratio = 0.65\n",
    "val_test_samples_ratio = 0.5"
   ]
  },
  {
   "cell_type": "code",
   "execution_count": 13,
   "metadata": {},
   "outputs": [
    {
     "name": "stdout",
     "output_type": "stream",
     "text": [
      "Counting number of remaining samples to split: \n",
      "- Class: Iris-setosa, num samples: 50\n",
      "- Class: Iris-versicolor, num samples: 50\n",
      "- Class: Iris-virginica, num samples: 50\n",
      "\n",
      "Trimming data: \n",
      "- Trimming samples of class 'Iris-versicolor'to 50.\n",
      "- Trimming samples of class 'Iris-virginica'to 50.\n",
      "- Trimming samples of class 'Iris-setosa'to 50.\n",
      "\n",
      "Creating training set: \n",
      "- Adding 32 samples of class 'Iris-versicolor' to training set.\n",
      "- Adding 32 samples of class 'Iris-virginica' to training set.\n",
      "- Adding 32 samples of class 'Iris-setosa' to training set.\n",
      "\n",
      "Counting number of remaining samples to split: \n",
      "- Class: Iris-setosa, num samples: 18\n",
      "- Class: Iris-versicolor, num samples: 18\n",
      "- Class: Iris-virginica, num samples: 18\n",
      "\n",
      "Creating validation and train set: \n",
      "- Adding 9 samples of class 'Iris-versicolor' to validation set.\n",
      "- Adding 9 samples of class 'Iris-versicolor' to test set.\n",
      "- Adding 9 samples of class 'Iris-virginica' to validation set.\n",
      "- Adding 9 samples of class 'Iris-virginica' to test set.\n",
      "- Adding 9 samples of class 'Iris-setosa' to validation set.\n",
      "- Adding 9 samples of class 'Iris-setosa' to test set.\n",
      "\n",
      "Converting types to ndarray.\n"
     ]
    }
   ],
   "source": [
    "train_rows = list()\n",
    "val_rows = list()\n",
    "test_rows = list()\n",
    "\n",
    "train_labels = list()\n",
    "val_labels = list()\n",
    "test_labels = list()\n",
    "\n",
    "print(\"Counting number of remaining samples to split: \")\n",
    "num_of_samples_per_class = list()\n",
    "for key in samples_divided_by_classes.keys():\n",
    "    num_of_samples_per_class.append(len(samples_divided_by_classes[key]))\n",
    "    print(\"- Class: \" + key + \", num samples: \" + str(len(samples_divided_by_classes[key])))\n",
    "\n",
    "print(\"\\nTrimming data: \")\n",
    "for sample_class in classes:\n",
    "    trimmed = samples_divided_by_classes[sample_class][:min(num_of_samples_per_class)]\n",
    "    samples_divided_by_classes[sample_class] = trimmed\n",
    "    print(\"- Trimming samples of class '\" \n",
    "          + sample_class + \"'to \" + str(min(num_of_samples_per_class)) + \".\")\n",
    "\n",
    "print(\"\\nCreating training set: \")\n",
    "split_index = int(min(num_of_samples_per_class) * test_samples_ratio)\n",
    "for sample_class in classes:\n",
    "    train_rows.extend(samples_divided_by_classes[sample_class][:split_index])\n",
    "    train_labels = [sample_class for sample in train_rows]\n",
    "    print(\"- Adding \" + str(len(samples_divided_by_classes[sample_class][:split_index])) \n",
    "          + \" samples of class '\" + sample_class + \"' to training set.\")\n",
    "    samples_divided_by_classes[sample_class] = samples_divided_by_classes[sample_class][split_index:]\n",
    "\n",
    "print(\"\\nCounting number of remaining samples to split: \")\n",
    "num_of_samples_per_class = list()\n",
    "for key in samples_divided_by_classes.keys():\n",
    "    num_of_samples_per_class.append(len(samples_divided_by_classes[key]))\n",
    "    print(\"- Class: \" + key + \", num samples: \" + str(len(samples_divided_by_classes[key])))\n",
    "\n",
    "print(\"\\nCreating validation and train set: \")\n",
    "split_index = int(min(num_of_samples_per_class) * val_test_samples_ratio)\n",
    "for sample_class in classes:\n",
    "    val_rows.extend(samples_divided_by_classes[sample_class][:split_index])\n",
    "    val_labels = [sample_class for sample in val_rows]\n",
    "    print(\"- Adding \" + str(len(samples_divided_by_classes[sample_class][:split_index])) \n",
    "          + \" samples of class '\" + sample_class + \"' to validation set.\")\n",
    "    \n",
    "    test_rows.extend(samples_divided_by_classes[sample_class][split_index:])\n",
    "    test_labels = [sample_class for sample in test_rows]\n",
    "    print(\"- Adding \" + str(len(samples_divided_by_classes[sample_class][split_index:]))\n",
    "          + \" samples of class '\" + sample_class + \"' to test set.\")\n",
    "    \n",
    "print(\"\\nConverting types to ndarray.\")\n",
    "train_rows = np.array(train_rows)\n",
    "val_rows = np.array(val_rows)\n",
    "test_rows = np.array(test_rows)\n",
    "\n",
    "train_labels = np.array(train_labels)\n",
    "val_labels = np.array(val_labels)\n",
    "test_labels = np.array(test_labels)\n"
   ]
  },
  {
   "cell_type": "code",
   "execution_count": 14,
   "metadata": {},
   "outputs": [
    {
     "name": "stdout",
     "output_type": "stream",
     "text": [
      "Train data samples: 96\n",
      "Validation data samples: 27\n",
      "Test data samples: 27\n"
     ]
    }
   ],
   "source": [
    "print(\"Train data samples: \" + str(len(train_rows)))\n",
    "print(\"Validation data samples: \" + str(len(val_rows)))\n",
    "print(\"Test data samples: \" + str(len(test_rows)))"
   ]
  },
  {
   "cell_type": "markdown",
   "metadata": {},
   "source": [
    "#### Preparing similarity distance measures\n",
    "Distance is a numerical value that shows similarity between two compared samples. It is calculated feature-wise. That means each of sample features are compared with similarity function and if those values are similar then distance is low otherwise its big. There are many ways to compute similarity distance between samples. Most common ones are:\n",
    "\n",
    "Manhattan distance:\n",
    "\n",
    "\\begin{equation*}\n",
    " L1   = \\sum_{i=1}^n  | q_i - p_i |\n",
    "\\end{equation*}     \n",
    "\n",
    "Euclidean distance:\n",
    "\n",
    "\\begin{equation*}\n",
    " L2   = \\sqrt{\\sum_{i=1}^n (q_i - p_i)^2}\n",
    "\\end{equation*}\n",
    "\n",
    "where:\n",
    "\n",
    "- n - number of features\n",
    "- i - current feature index\n",
    "- p - compared sample\n",
    "- q - another compared sample"
   ]
  },
  {
   "cell_type": "code",
   "execution_count": 15,
   "metadata": {
    "collapsed": true
   },
   "outputs": [],
   "source": [
    "def l1_manhattan_distance(p, q):\n",
    "    return np.sum(np.abs(p - q), 1)"
   ]
  },
  {
   "cell_type": "code",
   "execution_count": 16,
   "metadata": {
    "collapsed": true
   },
   "outputs": [],
   "source": [
    "def l2_euclidean_distance(p, q):\n",
    "    return np.sqrt(np.sum(np.square(p - q), 1))"
   ]
  },
  {
   "cell_type": "markdown",
   "metadata": {},
   "source": [
    "#### K Nearest Neighbours\n",
    "In this case \"train_data\" is a bit misleading. KNN is an algorithm where sample that we want to receive label for is being labeled based on comparison (similarity distance) to the K closest samples (called neighbours). That means each time classification is being performed, similarity distance between tested sample and EACH sample in \"train_data\" is being calculated. K samples with smallest distances to tested sample are picked. Most often occuring class type in picked K neighbours - decides on label given to tested sample.\n",
    "\n",
    "- Step 1: Calculate distance between each sample in train_data and tested sample.\n",
    "- Step 2: Pick K neighbours of tested sample.\n",
    "- Step 3: Check which class occurs more often in picked neighbours.\n",
    "- Step 4: Return most often occuring class label as a prediction for tested sample.\n",
    "\n",
    "Note: There is possibility that there will the same amount of each class in selected neighbours. In such situation class label could be picked randomly or not returned at all depending on algorithm author."
   ]
  },
  {
   "cell_type": "code",
   "execution_count": 17,
   "metadata": {
    "collapsed": true
   },
   "outputs": [],
   "source": [
    "def getNearestNeighbors(train_data, train_labels, test_data, similarity_function, k):\n",
    "    neighbors = list()\n",
    "    for i in range(0, len(test_data)):\n",
    "        # Step 1: Calculate distance between each sample in train_data and tested sample\n",
    "        current_sample_distances = similarity_function(train_data, test_data[i])\n",
    "        \n",
    "        # Step 2: Pick K neighbours of tested sample\n",
    "        indexes_of_closest_k_samples = current_sample_distances.argsort()[:k]\n",
    "        current_sample_neighbors = train_labels[indexes_of_closest_k_samples]\n",
    "        neighbors.append(current_sample_neighbors)\n",
    "        \n",
    "    return neighbors"
   ]
  },
  {
   "cell_type": "code",
   "execution_count": 18,
   "metadata": {
    "collapsed": true,
    "scrolled": true
   },
   "outputs": [],
   "source": [
    "def getResponses(all_neighbors):\n",
    "    responses = list()\n",
    "    for current_sample_neighbors in all_neighbors:\n",
    "        current_sample_votes = dict()\n",
    "        \n",
    "        # Step 3: Check which class occurs more often in picked neighbours\n",
    "        for neighbor in current_sample_neighbors:\n",
    "            if neighbor in current_sample_votes:\n",
    "                current_sample_votes[neighbor] += 1\n",
    "            else:\n",
    "                current_sample_votes[neighbor] = 1\n",
    "                \n",
    "        # Step 4: Return most often occuring class label as a prediction for tested sample  \n",
    "        neighbor_with_most_votes = max(current_sample_votes, key=current_sample_votes.get)\n",
    "        responses.append(neighbor_with_most_votes)\n",
    "        \n",
    "    return responses"
   ]
  },
  {
   "cell_type": "code",
   "execution_count": 19,
   "metadata": {
    "collapsed": true
   },
   "outputs": [],
   "source": [
    "def KNN(train_data, train_labels, test_data, similarity_function, k):\n",
    "    neighbors = getNearestNeighbors(train_data, train_labels, test_data, similarity_function, k)\n",
    "    return getResponses(neighbors)"
   ]
  },
  {
   "cell_type": "markdown",
   "metadata": {},
   "source": [
    "#### Accuracy"
   ]
  },
  {
   "cell_type": "code",
   "execution_count": 20,
   "metadata": {
    "collapsed": true
   },
   "outputs": [],
   "source": [
    "def accuracy(predictions, ideal_values):\n",
    "    correct_predictions = 0\n",
    "    for prediction, ideal_value in zip(predictions, ideal_values):\n",
    "        if prediction == ideal_value:\n",
    "            correct_predictions += 1\n",
    "    return correct_predictions / len(predictions)"
   ]
  },
  {
   "cell_type": "markdown",
   "metadata": {},
   "source": [
    "#### Picking K"
   ]
  },
  {
   "cell_type": "code",
   "execution_count": 21,
   "metadata": {
    "collapsed": true
   },
   "outputs": [],
   "source": [
    "k_candidates = [number for number in range(1, 16)]"
   ]
  },
  {
   "cell_type": "code",
   "execution_count": 22,
   "metadata": {
    "collapsed": true
   },
   "outputs": [],
   "source": [
    "k_results = dict()\n",
    "for k in k_candidates:\n",
    "    predictions = KNN(train_rows, train_labels, val_rows, l2_euclidean_distance, k)\n",
    "    acc = accuracy(predictions, val_labels)\n",
    "    k_results.update({k: acc})"
   ]
  },
  {
   "cell_type": "code",
   "execution_count": 23,
   "metadata": {},
   "outputs": [
    {
     "name": "stdout",
     "output_type": "stream",
     "text": [
      "Best results for K = 1\n"
     ]
    }
   ],
   "source": [
    "K = max(k_results, key=k_results.get)\n",
    "print(\"Best results for K = \" + str(K))"
   ]
  },
  {
   "cell_type": "markdown",
   "metadata": {},
   "source": [
    "#### Testing"
   ]
  },
  {
   "cell_type": "code",
   "execution_count": 24,
   "metadata": {},
   "outputs": [
    {
     "name": "stdout",
     "output_type": "stream",
     "text": [
      "Accuracy for test set: 1.0\n"
     ]
    }
   ],
   "source": [
    "predictions = KNN(train_rows, train_labels, test_rows, l2_euclidean_distance, K)\n",
    "test_accuracy = accuracy(predictions, test_labels)\n",
    "\n",
    "print(\"Accuracy for test set: \" + str(test_accuracy)) "
   ]
  },
  {
   "cell_type": "markdown",
   "metadata": {},
   "source": [
    "#### Presenting results"
   ]
  },
  {
   "cell_type": "code",
   "execution_count": 25,
   "metadata": {
    "collapsed": true
   },
   "outputs": [],
   "source": [
    "def binarize_labels(labels):\n",
    "    all_labels = list(set(labels))\n",
    "    return np.array([all_labels.index(label) for label in labels])"
   ]
  },
  {
   "cell_type": "code",
   "execution_count": 26,
   "metadata": {},
   "outputs": [
    {
     "data": {
      "image/png": "[encoded data removed]",
      "text/plain": [
       "<matplotlib.figure.Figure at 0x10b3762b0>"
      ]
     },
     "metadata": {},
     "output_type": "display_data"
    }
   ],
   "source": [
    "X = iris_rows[:, [0, 2]]\n",
    "y = binarize_labels(iris_labels)\n",
    "\n",
    "x_min, x_max = X[:, 0].min() - 1, X[:, 0].max() + 1\n",
    "y_min, y_max = X[:, 1].min() - 1, X[:, 1].max() + 1\n",
    "xx, yy = np.meshgrid(np.arange(x_min, x_max, 0.1), np.arange(y_min, y_max, 0.1))\n",
    "\n",
    "Z = KNN(X, y, np.c_[xx.ravel(), yy.ravel()], l2_euclidean_distance, K)\n",
    "\n",
    "Z = np.array(Z).reshape(xx.shape)\n",
    "\n",
    "plt.contourf(xx, yy, Z, alpha=0.4)\n",
    "plt.scatter(X[:, 0], X[:, 1], c=y, alpha=0.8)\n",
    "plt.xlabel(\"SepalLength\")\n",
    "plt.ylabel(\"SepalWidth\")\n",
    "plt.title(\"KNN for 2 first Iris paremeters, K = \" + str(K))\n",
    "\n",
    "plt.show()"
   ]
  },
  {
   "cell_type": "markdown",
   "metadata": {},
   "source": [
    "Results are unclear because to display results on plane only 2 out of 4 paremeters were used. It is not clear enough for KNN how to correctly separate data. K can be increased though to compare tested sample to more train samples."
   ]
  },
  {
   "cell_type": "code",
   "execution_count": 27,
   "metadata": {
    "collapsed": true
   },
   "outputs": [],
   "source": [
    "K = 7"
   ]
  },
  {
   "cell_type": "code",
   "execution_count": 28,
   "metadata": {},
   "outputs": [
    {
     "data": {
      "image/png": "[encoded data removed]",
      "text/plain": [
       "<matplotlib.figure.Figure at 0x10b31bba8>"
      ]
     },
     "metadata": {},
     "output_type": "display_data"
    }
   ],
   "source": [
    "X = iris_rows[:, [0, 2]]\n",
    "y = binarize_labels(iris_labels)\n",
    "\n",
    "x_min, x_max = X[:, 0].min() - 1, X[:, 0].max() + 1\n",
    "y_min, y_max = X[:, 1].min() - 1, X[:, 1].max() + 1\n",
    "xx, yy = np.meshgrid(np.arange(x_min, x_max, 0.1), np.arange(y_min, y_max, 0.1))\n",
    "\n",
    "Z = KNN(X, y, np.c_[xx.ravel(), yy.ravel()], l2_euclidean_distance, K)\n",
    "\n",
    "Z = np.array(Z).reshape(xx.shape)\n",
    "\n",
    "plt.contourf(xx, yy, Z, alpha=0.4)\n",
    "plt.scatter(X[:, 0], X[:, 1], c=y, alpha=0.8)\n",
    "plt.xlabel(\"SepalLength\")\n",
    "plt.ylabel(\"SepalWidth\")\n",
    "plt.title(\"KNN for 2 first Iris paremeters, K = \" + str(K))\n",
    "\n",
    "plt.show()"
   ]
  }
 ],
 "metadata": {
  "kernelspec": {
   "display_name": "Python 3",
   "language": "python",
   "name": "python3"
  },
  "language_info": {
   "codemirror_mode": {
    "name": "ipython",
    "version": 3
   },
   "file_extension": ".py",
   "mimetype": "text/x-python",
   "name": "python",
   "nbconvert_exporter": "python",
   "pygments_lexer": "ipython3",
   "version": "3.6.1"
  }
 },
 "nbformat": 4,
 "nbformat_minor": 2
}
