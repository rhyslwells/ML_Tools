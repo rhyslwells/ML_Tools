{
 "cells": [
  {
   "cell_type": "code",
   "execution_count": 101,
   "metadata": {},
   "outputs": [],
   "source": [
    "import numpy as np\n",
    "import pandas as pd\n",
    "from sklearn.ensemble import RandomForestClassifier\n",
    "from sklearn.tree import DecisionTreeClassifier\n",
    "from sklearn.metrics import mean_absolute_error\n",
    "\n",
    "from sklearn.model_selection import train_test_split\n"
   ]
  },
  {
   "attachments": {},
   "cell_type": "markdown",
   "metadata": {},
   "source": [
    "# Load data\n"
   ]
  },
  {
   "cell_type": "code",
   "execution_count": null,
   "metadata": {},
   "outputs": [],
   "source": [
    "# paths\n",
    "train = 'data/train.csv'\n",
    "test = 'data/test.csv'\n"
   ]
  },
  {
   "cell_type": "code",
   "execution_count": null,
   "metadata": {},
   "outputs": [],
   "source": [
    "train_data = pd.read_csv(train)\n",
    "test_data = pd.read_csv(test)\n",
    "# train_data.head()\n"
   ]
  },
  {
   "attachments": {},
   "cell_type": "markdown",
   "metadata": {},
   "source": [
    "# Modeling\n"
   ]
  },
  {
   "cell_type": "markdown",
   "metadata": {},
   "source": [
    "The steps to building and using a model are:\n",
    "\n",
    "Define: What type of model will it be? A decision tree? Some other type of model? Some other parameters of the model type are specified too.\n",
    "\n",
    "Fit: Capture patterns from provided data. This is the heart of modeling.\n",
    "\n",
    "Predict: Just what it sounds like\n",
    "\n",
    "Evaluate: Determine how accurate the model's predictions are.\n"
   ]
  },
  {
   "cell_type": "markdown",
   "metadata": {},
   "source": [
    "Training data trains the patterns in a model. Then use model to make predicitions\n"
   ]
  },
  {
   "attachments": {},
   "cell_type": "markdown",
   "metadata": {},
   "source": [
    "# Basic Models\n"
   ]
  },
  {
   "attachments": {},
   "cell_type": "markdown",
   "metadata": {},
   "source": [
    "## Decision trees\n"
   ]
  },
  {
   "attachments": {},
   "cell_type": "markdown",
   "metadata": {},
   "source": [
    "At each branch ask a question andsplits the data. For any data it move along tree to according leaf based on branches. Trees (are a simple model) branch at decisions, leafs are the outcomes.\n"
   ]
  },
  {
   "attachments": {},
   "cell_type": "markdown",
   "metadata": {},
   "source": [
    "tree depth: number of splits before a prediction.\n",
    "\n",
    "Larger depth results in fewer samples tested at the leafs, can results in unreliable predictions and match the training data too close (Overfitting).\n",
    "The oppositie results in (underfitting) as fails to capture differences (leafs to large).\n",
    "\n",
    "To fix this for tree:\n",
    "\n",
    "- some routes through the tree to have greater depth than other routes\n",
    "- max_leaf_nodes in DecisionTreeRegressor\n"
   ]
  },
  {
   "cell_type": "code",
   "execution_count": null,
   "metadata": {},
   "outputs": [],
   "source": [
    "# train_data.describe()\n",
    "# train_data.columns\n"
   ]
  },
  {
   "cell_type": "code",
   "execution_count": null,
   "metadata": {},
   "outputs": [],
   "source": [
    "# Define model. Specify a number for random_state to ensure same results each run\n",
    "# model = DecisionTreeRegressor(random_state=1)\n",
    "model = DecisionTreeClassifier(random_state=1)\n"
   ]
  },
  {
   "cell_type": "code",
   "execution_count": null,
   "metadata": {},
   "outputs": [],
   "source": [
    "# Set up model: training model data\n",
    "\n",
    "# y=column want\n",
    "y = train_data.Survived  # y=train_data[\"Survived\"] # ACTUAL Survivors\n",
    "# X=columns of features.\n",
    "features = [\"Pclass\", \"Sex\", \"SibSp\", \"Parch\"]  # certain columns\n",
    "X = pd.get_dummies(train_data[features])\n"
   ]
  },
  {
   "cell_type": "code",
   "execution_count": null,
   "metadata": {},
   "outputs": [],
   "source": [
    "# Fit Model\n",
    "model.fit(X, y)\n"
   ]
  },
  {
   "cell_type": "code",
   "execution_count": null,
   "metadata": {},
   "outputs": [],
   "source": [
    "# output\n",
    "\n",
    "print(\"Making predictions for the top 5\")\n",
    "print(X.head())\n",
    "print(\"The predictions are for the top 5 are\")\n",
    "print(model.predict(X.head()))\n",
    "\n",
    "print(\"actual survivals\")\n",
    "print(y.head())\n"
   ]
  },
  {
   "attachments": {},
   "cell_type": "markdown",
   "metadata": {},
   "source": [
    "### Model validation\n"
   ]
  },
  {
   "attachments": {},
   "cell_type": "markdown",
   "metadata": {},
   "source": [
    "Good or bad model, based on predictive accuracy against test data. Compare predicted values against actual values by using the metric MAE Mean Absolute Error, where\n",
    "\n",
    "error=actual−predicted,\n",
    "\n",
    "take error absolute value of the error for each row, then take average or rows.\n"
   ]
  },
  {
   "cell_type": "code",
   "execution_count": null,
   "metadata": {},
   "outputs": [],
   "source": [
    "predicted_survivors = model.predict(X)\n",
    "mean_absolute_error(y, predicted_survivors)\n",
    "# 0.25016636267131415\n"
   ]
  },
  {
   "attachments": {},
   "cell_type": "markdown",
   "metadata": {},
   "source": [
    "Want to avoid using in sample score data (we used the same data to build the model as to evaluate it). We therefore need split the data before construction.\n"
   ]
  },
  {
   "cell_type": "code",
   "execution_count": null,
   "metadata": {},
   "outputs": [],
   "source": [
    "\n",
    "# split data into training and validation data, for both features and target\n",
    "# The split is based on a random number generator. Supplying a numeric value to\n",
    "# the random_state argument guarantees we get the same split every time we\n",
    "# run this script.\n",
    "train_X, val_X, train_y, val_y = train_test_split(X, y, random_state=0)\n",
    "# train_X.shape #(668, 5)\n",
    "# val_X.shape #(223, 5)\n"
   ]
  },
  {
   "cell_type": "code",
   "execution_count": null,
   "metadata": {},
   "outputs": [],
   "source": [
    "# Define model\n",
    "model = DecisionTreeClassifier()\n",
    "# Fit model\n",
    "model.fit(train_X, train_y)\n"
   ]
  },
  {
   "cell_type": "code",
   "execution_count": null,
   "metadata": {},
   "outputs": [],
   "source": [
    "# get predicted prices on validation data\n",
    "# new data not seen before what a val_pred to val_y?\n",
    "val_predictions = model.predict(val_X)\n",
    "print(mean_absolute_error(val_y, val_predictions))\n",
    "# 0.2788156218892371\n"
   ]
  },
  {
   "cell_type": "markdown",
   "metadata": {},
   "source": [
    "## Random forest model\n"
   ]
  }
 ],
 "metadata": {
  "kernelspec": {
   "display_name": "base",
   "language": "python",
   "name": "python3"
  },
  "language_info": {
   "codemirror_mode": {
    "name": "ipython",
    "version": 3
   },
   "file_extension": ".py",
   "mimetype": "text/x-python",
   "name": "python",
   "nbconvert_exporter": "python",
   "pygments_lexer": "ipython3",
   "version": "3.10.8"
  },
  "orig_nbformat": 4
 },
 "nbformat": 4,
 "nbformat_minor": 2
}
