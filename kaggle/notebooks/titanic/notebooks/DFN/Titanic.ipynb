{
 "cells": [
  {
   "cell_type": "markdown",
   "metadata": {
    "deletable": true,
    "editable": true
   },
   "source": [
    "## Titanic \n",
    "In this competition we have data about Titanic's passengers. The data is divided into two files: train and test. In \"train\" file a column \"Survival\" shows whether the passenger survived or not.\n",
    "\n",
    "At first I explore the data, modify it and create some new features, then I select the most important of them and make a prediction using Random Forest."
   ]
  },
  {
   "cell_type": "markdown",
   "metadata": {
    "deletable": true,
    "editable": true
   },
   "source": [
    "1. [Data exploration](#datex)\n",
    "\n",
    "    1.1 [Pclass](#pclass)\n",
    "    \n",
    "    1.2 [Name](#name)\n",
    "    \n",
    "    1.3 [Age](#age)\n",
    "    \n",
    "    1.4 [Sex](#sex)\n",
    "    \n",
    "    1.5 [SibSp and Parch](#family)\n",
    "    \n",
    "    1.6 [Ticket](#ticket)\n",
    "    \n",
    "    1.7 [Fare](#fare)\n",
    "    \n",
    "    1.8 [Cabin](#cabin)\n",
    "    \n",
    "    1.9 [Embarked](#em)\n",
    "    \n",
    "2. [Data preparation](#datprer)\n",
    "\n",
    "3. [Model](#model)"
   ]
  },
  {
   "cell_type": "code",
   "execution_count": null,
   "metadata": {
    "collapsed": false,
    "deletable": true,
    "editable": true
   },
   "outputs": [],
   "source": [
    "import pandas as pd\n",
    "pd.set_option('display.max_columns', None)\n",
    "import numpy as np\n",
    "\n",
    "import matplotlib.pyplot as plt\n",
    "%matplotlib inline\n",
    "import seaborn as sns\n",
    "sns.set_style('whitegrid')\n",
    "\n",
    "import re\n",
    "from sklearn.ensemble import RandomForestClassifier\n",
    "from sklearn.model_selection import StratifiedKFold, cross_val_score, train_test_split, GridSearchCV\n",
    "from sklearn.feature_selection import SelectFromModel"
   ]
  },
  {
   "cell_type": "markdown",
   "metadata": {
    "deletable": true,
    "editable": true
   },
   "source": [
    "## <a name=\"datex\">Data exploration</a>"
   ]
  },
  {
   "cell_type": "code",
   "execution_count": null,
   "metadata": {
    "collapsed": false,
    "deletable": true,
    "editable": true
   },
   "outputs": [],
   "source": [
    "#Age is read as float, because later I'll need more precision for calculations.\n",
    "train = pd.read_csv('../input/train.csv', dtype={'Age': np.float64}, )\n",
    "test = pd.read_csv('../input/test.csv', dtype={'Age': np.float64}, )"
   ]
  },
  {
   "cell_type": "code",
   "execution_count": null,
   "metadata": {
    "collapsed": false,
    "deletable": true,
    "editable": true
   },
   "outputs": [],
   "source": [
    "df_train.describe(include='all')"
   ]
  },
  {
   "cell_type": "code",
   "execution_count": null,
   "metadata": {
    "collapsed": false,
    "deletable": true,
    "editable": true
   },
   "outputs": [],
   "source": [
    "df_test.describe(include='all')"
   ]
  },
  {
   "cell_type": "code",
   "execution_count": null,
   "metadata": {
    "collapsed": false,
    "deletable": true,
    "editable": true
   },
   "outputs": [],
   "source": [
    "df_train.info()"
   ]
  },
  {
   "cell_type": "markdown",
   "metadata": {
    "collapsed": false,
    "deletable": true,
    "editable": true
   },
   "source": [
    "819 rows in train data and 418 in test.\n",
    "There are missing values in Age, Cabin and and Embarked columns in train and in Age and Cabin in test.\n",
    "Name, Sex, Ticket, Cabin and Embarked are categorical variables.\n",
    "Name contains a name itself and a title. Cabin and ticket consist of a letters and numbers.\n",
    "Let's deal with each column step by step."
   ]
  },
  {
   "cell_type": "markdown",
   "metadata": {
    "deletable": true,
    "editable": true
   },
   "source": [
    "## <a name=\"pclass\">Pclass</a>"
   ]
  },
  {
   "cell_type": "code",
   "execution_count": null,
   "metadata": {
    "collapsed": false,
    "deletable": true,
    "editable": true
   },
   "outputs": [],
   "source": [
    "df_train.pivot_table('PassengerId', 'Pclass', 'Survived', 'count').plot(kind='bar', stacked=True)"
   ]
  },
  {
   "cell_type": "markdown",
   "metadata": {
    "deletable": true,
    "editable": true
   },
   "source": [
    "Pclass. It seems that Pclass is useful and requires no changes. Passengers with Pclass 3 have less chances for survival. This is reasonable, as passengers with more expensive tickets lived at higher decks and thus could get to lifeboats faster."
   ]
  },
  {
   "cell_type": "markdown",
   "metadata": {
    "deletable": true,
    "editable": true
   },
   "source": [
    "## <a name=\"name\">Name</a>"
   ]
  },
  {
   "cell_type": "markdown",
   "metadata": {
    "deletable": true,
    "editable": true
   },
   "source": [
    "Names by themselves are useful. One way to use them is grouping people by family names - maybe families have better chance for survival? But it is complicated, and there is a better way to create a feature for families. Another way is extracting a title from the name and using it. Let's try."
   ]
  },
  {
   "cell_type": "code",
   "execution_count": null,
   "metadata": {
    "collapsed": false,
    "deletable": true,
    "editable": true
   },
   "outputs": [],
   "source": [
    "df_train['Title'] = df_train['Name'].apply(lambda x: (re.search(' ([a-zA-Z]+)\\.', x)).group(1))\n",
    "df_test['Title'] = df_test['Name'].apply(lambda x: (re.search(' ([a-zA-Z]+)\\.', x)).group(1))\n",
    "\n",
    "df_train['Title'].value_counts()"
   ]
  },
  {
   "cell_type": "markdown",
   "metadata": {
    "deletable": true,
    "editable": true
   },
   "source": [
    "There are many titles, in fact it is a bad idea to use them as they are - I tried and the accuracy got worse. A good idea is grouping them by social status or something like that. I have found several ways to group them. Here is the one I chose."
   ]
  },
  {
   "cell_type": "code",
   "execution_count": null,
   "metadata": {
    "collapsed": false,
    "deletable": true,
    "editable": true
   },
   "outputs": [],
   "source": [
    "titles = {'Capt':       'Officer',\n",
    "          'Col':        'Officer',\n",
    "          'Major':      'Officer',\n",
    "          'Jonkheer':   'Royalty',\n",
    "          'Don':        'Royalty',\n",
    "          'Sir' :       'Royalty',\n",
    "          'Dr':         'Officer',\n",
    "          'Rev':        'Officer',\n",
    "          'Countess':   'Royalty',\n",
    "          'Dona':       'Royalty',\n",
    "          'Mme':        'Mrs',\n",
    "          'Mlle':       'Miss',\n",
    "          'Ms':         'Mrs',\n",
    "          'Mr' :        'Mr',\n",
    "          'Mrs' :       'Mrs',\n",
    "          'Miss' :      'Miss',\n",
    "          'Master' :    'Master',\n",
    "          'Lady' :      'Royalty'\n",
    "                    } \n",
    "\n",
    "for k,v in titles.items():\n",
    "    df_train.loc[df_train['Title'] == k, 'Title'] = v\n",
    "    df_test.loc[df_test['Title'] == k, 'Title'] = v\n",
    "\n",
    "#New frequencies.\n",
    "df_train['Title'].value_counts()"
   ]
  },
  {
   "cell_type": "markdown",
   "metadata": {
    "deletable": true,
    "editable": true
   },
   "source": [
    "## <a name=\"age\">Age</a>"
   ]
  },
  {
   "cell_type": "markdown",
   "metadata": {
    "deletable": true,
    "editable": true
   },
   "source": [
    "Missing values for Age should be filled. I think that simple mean/median isn't good enough. So I tried several ways to group other columns and chose median by Sex, Pclass and Title."
   ]
  },
  {
   "cell_type": "code",
   "execution_count": null,
   "metadata": {
    "collapsed": false,
    "deletable": true,
    "editable": true
   },
   "outputs": [],
   "source": [
    "print(df_train.groupby(['Sex', 'Pclass', 'Title', ])['Age'].median())"
   ]
  },
  {
   "cell_type": "code",
   "execution_count": null,
   "metadata": {
    "collapsed": true,
    "deletable": true,
    "editable": true
   },
   "outputs": [],
   "source": [
    "df_train['Age'] = df_train.groupby(['Sex','Pclass','Title'])['Age'].apply(lambda x: x.fillna(x.median()))\n",
    "df_test['Age'] = df_test.groupby(['Sex','Pclass','Title'])['Age'].apply(lambda x: x.fillna(x.median()))"
   ]
  },
  {
   "cell_type": "markdown",
   "metadata": {
    "deletable": true,
    "editable": true
   },
   "source": [
    "## <a name=\"sex\">Sex</a>"
   ]
  },
  {
   "cell_type": "markdown",
   "metadata": {
    "deletable": true,
    "editable": true
   },
   "source": [
    "At first I wanted to divide passengers into males, females and children, but it increased overfitting. Also I tried to replace values with 1 and 0 (instead of creating dummies), it also worked worse. So doing nothing here."
   ]
  },
  {
   "cell_type": "code",
   "execution_count": null,
   "metadata": {
    "collapsed": false,
    "deletable": true,
    "editable": true
   },
   "outputs": [],
   "source": [
    "df_train.groupby(['Pclass', 'Sex'])['Survived'].value_counts(normalize=True)"
   ]
  },
  {
   "cell_type": "markdown",
   "metadata": {
    "deletable": true,
    "editable": true
   },
   "source": [
    "## <a name=\"family\">SibSp and Parch</a>"
   ]
  },
  {
   "cell_type": "markdown",
   "metadata": {
    "deletable": true,
    "editable": true
   },
   "source": [
    "Number of Siblings/Spouses and Parents/Children Aboard. Basically - amount of family members. So if we sum them, we get the size of the family. At first I created a single feature showing whether the person had family. It wasn't good enough. Then I tried several variants and stopped on four groups: 0 relatives, 1-2, 3 and 5 or more. From the table below we can see that such grouping makes sense."
   ]
  },
  {
   "cell_type": "code",
   "execution_count": null,
   "metadata": {
    "collapsed": false,
    "deletable": true,
    "editable": true
   },
   "outputs": [],
   "source": [
    "df_train['Family'] = df_train['Parch'] + df_train['SibSp']\n",
    "df_test['Family'] = df_test['Parch'] + df_test['SibSp']"
   ]
  },
  {
   "cell_type": "code",
   "execution_count": null,
   "metadata": {
    "collapsed": false,
    "deletable": true,
    "editable": true
   },
   "outputs": [],
   "source": [
    "df_train.groupby(['Family'])['Survived'].value_counts(normalize=True)"
   ]
  },
  {
   "cell_type": "code",
   "execution_count": null,
   "metadata": {
    "collapsed": true,
    "deletable": true,
    "editable": true
   },
   "outputs": [],
   "source": [
    "def FamilySize(x):\n",
    "    \"\"\"\n",
    "    A function for Family size transformation\n",
    "    \"\"\"\n",
    "    if x == 1 or x == 2:\n",
    "        return 'little'\n",
    "    elif x == 3:\n",
    "        return 'medium'\n",
    "    elif x >= 5:\n",
    "        return 'big'\n",
    "    else:\n",
    "        return 'single'\n",
    "\n",
    "df_train['Family'] = df_train['Family'].apply(lambda x : FamilySize(x))\n",
    "df_test['Family'] = df_test['Family'].apply(lambda x : FamilySize(x))"
   ]
  },
  {
   "cell_type": "code",
   "execution_count": null,
   "metadata": {
    "collapsed": false,
    "deletable": true,
    "editable": true
   },
   "outputs": [],
   "source": [
    "df_train.groupby(['Pclass', 'Family'])['Survived'].mean()"
   ]
  },
  {
   "cell_type": "markdown",
   "metadata": {
    "deletable": true,
    "editable": true
   },
   "source": [
    "## <a name=\"ticket\">Ticket</a>"
   ]
  },
  {
   "cell_type": "markdown",
   "metadata": {
    "deletable": true,
    "editable": true
   },
   "source": [
    "This value can't be used by itself. Ticket contains prefix and number. Using ticket number doesn't make sense, but prefix could be useful."
   ]
  },
  {
   "cell_type": "code",
   "execution_count": null,
   "metadata": {
    "collapsed": false,
    "deletable": true,
    "editable": true
   },
   "outputs": [],
   "source": [
    "def Ticket_Prefix(x):\n",
    "    \"\"\"\n",
    "    Function for extracting prefixes. Tickets have length of 1-3.\n",
    "    \"\"\"\n",
    "    l = x.split()\n",
    "    if len(x.split()) == 3:\n",
    "        return x.split()[0] + x.split()[1]\n",
    "    elif len(x.split()) == 2:\n",
    "        return x.split()[0]\n",
    "    else:\n",
    "        return 'None'\n",
    "\n",
    "df_train['TicketPrefix'] = df_train['Ticket'].apply(lambda x: Ticket_Prefix(x))\n",
    "df_test['TicketPrefix'] = df_test['Ticket'].apply(lambda x: Ticket_Prefix(x))"
   ]
  },
  {
   "cell_type": "code",
   "execution_count": null,
   "metadata": {
    "collapsed": false,
    "deletable": true,
    "editable": true
   },
   "outputs": [],
   "source": [
    "#There are many similar prefixes, but combining them doesn't yield a significantly better result.\n",
    "df_train.TicketPrefix.unique()"
   ]
  },
  {
   "cell_type": "markdown",
   "metadata": {
    "deletable": true,
    "editable": true
   },
   "source": [
    "## <a name=\"fare\">Fare</a>"
   ]
  },
  {
   "cell_type": "markdown",
   "metadata": {
    "deletable": true,
    "editable": true
   },
   "source": [
    "There is only one missing value, and in test. Fill it with median for its Pclass."
   ]
  },
  {
   "cell_type": "code",
   "execution_count": null,
   "metadata": {
    "collapsed": false,
    "deletable": true,
    "editable": true
   },
   "outputs": [],
   "source": [
    "ax = plt.subplot()\n",
    "ax.set_ylabel('Average Fare')\n",
    "df_train.groupby('Pclass').mean()['Fare'].plot(kind='bar',figsize=(7, 4), ax=ax)\n",
    "df_test['Fare'] = df_test.groupby(['Pclass'])['Fare'].apply(lambda x: x.fillna(x.median()))"
   ]
  },
  {
   "cell_type": "markdown",
   "metadata": {
    "deletable": true,
    "editable": true
   },
   "source": [
    "## <a name=\"cabin\">Cabin</a>"
   ]
  },
  {
   "cell_type": "markdown",
   "metadata": {
    "deletable": true,
    "editable": true
   },
   "source": [
    "I thought about ignoring this feature, but it turned out to be quite significant. And the most important for predicting was whether there was information about the Cabin or not.\n",
    "So I fill NA with 'Unknown\" value and use the first letter of the Cabin number as a feature."
   ]
  },
  {
   "cell_type": "code",
   "execution_count": null,
   "metadata": {
    "collapsed": false,
    "deletable": true,
    "editable": true
   },
   "outputs": [],
   "source": [
    "df_train.Cabin.fillna('Unknown',inplace=True)\n",
    "df_test.Cabin.fillna('Unknown',inplace=True)\n",
    "\n",
    "df_train['Cabin'] = df_train['Cabin'].map(lambda x: x[0])\n",
    "df_test['Cabin'] = df_test['Cabin'].map(lambda x: x[0])"
   ]
  },
  {
   "cell_type": "code",
   "execution_count": null,
   "metadata": {
    "collapsed": false,
    "deletable": true,
    "editable": true
   },
   "outputs": [],
   "source": [
    "#Now let's see. Most of the cabins aren't filled.\n",
    "f, ax = plt.subplots(figsize=(7, 3))\n",
    "sns.countplot(y='Cabin', data=df_train, color='c')"
   ]
  },
  {
   "cell_type": "code",
   "execution_count": null,
   "metadata": {
    "collapsed": false,
    "deletable": true,
    "editable": true
   },
   "outputs": [],
   "source": [
    "#Other cabins vary in number.\n",
    "sns.countplot(y='Cabin', data=df_train[df_train.Cabin != 'U'], color='c')"
   ]
  },
  {
   "cell_type": "code",
   "execution_count": null,
   "metadata": {
    "collapsed": false,
    "deletable": true,
    "editable": true
   },
   "outputs": [],
   "source": [
    "#Factorplot shows that most people, for whom there is no info on Cabin, didn't survive.\n",
    "sns.factorplot('Survived', col='Cabin', col_wrap=4, data=df_train[df_train.Cabin == 'U'], kind='count', size=2.5, aspect=.8)"
   ]
  },
  {
   "cell_type": "code",
   "execution_count": null,
   "metadata": {
    "collapsed": false,
    "deletable": true,
    "editable": true
   },
   "outputs": [],
   "source": [
    "#For passengers with known Cabins survival rate varies.\n",
    "sns.factorplot('Survived', col='Cabin', col_wrap=4, data=df_train[df_train.Cabin != 'U'], kind='count', size=2.5, aspect=.8)"
   ]
  },
  {
   "cell_type": "code",
   "execution_count": null,
   "metadata": {
    "collapsed": false,
    "deletable": true,
    "editable": true
   },
   "outputs": [],
   "source": [
    "df_train.groupby(['Cabin']).mean()[df_train.groupby(['Cabin']).mean().columns[1:2]]"
   ]
  },
  {
   "cell_type": "markdown",
   "metadata": {
    "deletable": true,
    "editable": true
   },
   "source": [
    "## <a name=\"em\">Embarked</a>\n",
    "\n",
    "I simply fill na with most common value."
   ]
  },
  {
   "cell_type": "code",
   "execution_count": null,
   "metadata": {
    "collapsed": false,
    "deletable": true,
    "editable": true
   },
   "outputs": [],
   "source": [
    "MedEmbarked = df_train.groupby('Embarked').count()['PassengerId']\n",
    "df_train.Embarked.fillna(MedEmbarked, inplace=True)"
   ]
  },
  {
   "cell_type": "markdown",
   "metadata": {
    "deletable": true,
    "editable": true
   },
   "source": [
    "## <a name=\"datprer\">Data preparation</a>"
   ]
  },
  {
   "cell_type": "code",
   "execution_count": null,
   "metadata": {
    "collapsed": false,
    "deletable": true,
    "editable": true
   },
   "outputs": [],
   "source": [
    "#This is how the data looks like now.\n",
    "df_train.head()"
   ]
  },
  {
   "cell_type": "markdown",
   "metadata": {
    "deletable": true,
    "editable": true
   },
   "source": [
    "For most algorithms it is better to have only numerical data, therefore categorical variables should be changed. In some cases normalizing numerical data is necessary, but in this case this caused worse results.\n",
    "I noticed that some columns with categorical values have different unique values in train and test.  I could deal with it by combining values in subgroups. But I decided to do feature selection first (lower) and the features selected were both in train and test."
   ]
  },
  {
   "cell_type": "code",
   "execution_count": null,
   "metadata": {
    "collapsed": false,
    "deletable": true,
    "editable": true
   },
   "outputs": [],
   "source": [
    "#Drop unnecessary columns\n",
    "to_drop = ['Ticket', 'Name', 'SibSp', 'Parch']\n",
    "for i in to_drop:\n",
    "    df_train.drop([i], axis=1, inplace=True)\n",
    "    df_test.drop([i], axis=1, inplace=True)"
   ]
  },
  {
   "cell_type": "code",
   "execution_count": null,
   "metadata": {
    "collapsed": false,
    "deletable": true,
    "editable": true
   },
   "outputs": [],
   "source": [
    "#Pclass in fact is a categorical variable, though it's type isn't object.\n",
    "for col in df_train.columns:\n",
    "    if df_train[col].dtype == 'object' or col == 'Pclass':\n",
    "        dummies = pd.get_dummies(df_train[col], drop_first=False)\n",
    "        dummies = dummies.add_prefix('{}_'.format(col))\n",
    "        df_train.drop(col, axis=1, inplace=True)\n",
    "        df_train = df_train.join(dummies)\n",
    "for col in df_test.columns:\n",
    "    if df_test[col].dtype == 'object' or col == 'Pclass':\n",
    "        dummies = pd.get_dummies(df_test[col], drop_first=False)\n",
    "        dummies = dummies.add_prefix('{}_'.format(col))\n",
    "        df_test.drop(col, axis=1, inplace=True)\n",
    "        df_test = df_test.join(dummies)"
   ]
  },
  {
   "cell_type": "code",
   "execution_count": null,
   "metadata": {
    "collapsed": false,
    "deletable": true,
    "editable": true
   },
   "outputs": [],
   "source": [
    "#This is how the data looks like now.\n",
    "df_train.head()"
   ]
  },
  {
   "cell_type": "code",
   "execution_count": null,
   "metadata": {
    "collapsed": false,
    "deletable": true,
    "editable": true
   },
   "outputs": [],
   "source": [
    "\n",
    "X_train = df_train.drop('Survived',axis=1)\n",
    "Y_train = df_train['Survived']\n",
    "X_test  = df_test"
   ]
  },
  {
   "cell_type": "markdown",
   "metadata": {
    "deletable": true,
    "editable": true
   },
   "source": [
    "Now feature selection. This code ranks features by their importance for Random Forest. At first for parameters I used \"n_estimators = 200\" then I used more optimal parameters, which were found lower."
   ]
  },
  {
   "cell_type": "code",
   "execution_count": null,
   "metadata": {
    "collapsed": false,
    "deletable": true,
    "editable": true,
    "scrolled": true
   },
   "outputs": [],
   "source": [
    "clf = RandomForestClassifier(n_estimators = 15,\n",
    "                                criterion = 'gini',\n",
    "                                max_features = 'sqrt',\n",
    "                                max_depth = None,                                \n",
    "                                min_samples_split =7,\n",
    "                                min_weight_fraction_leaf = 0.0,\n",
    "                                max_leaf_nodes = 18)\n",
    "clf = clf.fit(X_train, Y_train)\n",
    "indices = np.argsort(clf.feature_importances_)[::-1]\n",
    "\n",
    "print('Feature ranking:')\n",
    "for f in range(X_train.shape[1]):\n",
    "    print('%d. feature %d %s (%f)' % (f + 1, indices[f], X_train.columns[indices[f]], clf.feature_importances_[indices[f]]))"
   ]
  },
  {
   "cell_type": "markdown",
   "metadata": {
    "deletable": true,
    "editable": true
   },
   "source": [
    "Feature selection by sklearn based on importance weights."
   ]
  },
  {
   "cell_type": "code",
   "execution_count": null,
   "metadata": {
    "collapsed": false,
    "deletable": true,
    "editable": true
   },
   "outputs": [],
   "source": [
    "model = SelectFromModel(clf, prefit=True)\n",
    "train_new = model.transform(X_train)\n",
    "train_new.shape"
   ]
  },
  {
   "cell_type": "code",
   "execution_count": null,
   "metadata": {
    "collapsed": false,
    "deletable": true,
    "editable": true
   },
   "outputs": [],
   "source": [
    "best_features = X_train.columns[indices[0:train_new.shape[1]]]\n",
    "X = X_train[best_features]\n",
    "Xt = X_test[best_features]\n",
    "best_features"
   ]
  },
  {
   "cell_type": "markdown",
   "metadata": {
    "deletable": true,
    "editable": true
   },
   "source": [
    "Usually SelectFromModel gives 13-15 features. Sex is most important, which isn't surprising - as we know, most places in boats were given to women. Fare and Pclass prove that difference in wealth is important. Age, of course, is important. Size of family and titles are also significant, as expected. Absense of info about the Cabin is indeed significant. And for some reason PassengerId is also important. Maybe data leak?"
   ]
  },
  {
   "cell_type": "markdown",
   "metadata": {
    "deletable": true,
    "editable": true
   },
   "source": [
    "## <a name=\"model\">Model</a>"
   ]
  },
  {
   "cell_type": "code",
   "execution_count": null,
   "metadata": {
    "collapsed": false,
    "deletable": true,
    "editable": true
   },
   "outputs": [],
   "source": [
    "X_train, X_test, y_train, y_test = train_test_split(X, Y_train, test_size=0.33, random_state=44)"
   ]
  },
  {
   "cell_type": "markdown",
   "metadata": {
    "deletable": true,
    "editable": true
   },
   "source": [
    "I saw the next part of code there: https://www.kaggle.com/creepykoala/titanic/study-of-tree-and-forest-algorithms\n",
    "This is a great way to see how parameters influence the score of Random Forest."
   ]
  },
  {
   "cell_type": "code",
   "execution_count": null,
   "metadata": {
    "collapsed": false,
    "deletable": true,
    "editable": true
   },
   "outputs": [],
   "source": [
    "plt.figure(figsize=(15,10))\n",
    "\n",
    "#N Estimators\n",
    "plt.subplot(3,3,1)\n",
    "feature_param = range(1,21)\n",
    "scores=[]\n",
    "for feature in feature_param:\n",
    "    clf = RandomForestClassifier(n_estimators=feature)\n",
    "    clf.fit(X_train,y_train)\n",
    "    scores.append(clf.score(X_test,y_test))\n",
    "plt.plot(scores, '.-')\n",
    "plt.axis('tight')\n",
    "plt.title('N Estimators')\n",
    "plt.grid();\n",
    "\n",
    "#Criterion\n",
    "plt.subplot(3,3,2)\n",
    "feature_param = ['gini','entropy']\n",
    "scores=[]\n",
    "for feature in feature_param:\n",
    "    clf = RandomForestClassifier(criterion=feature)\n",
    "    clf.fit(X_train,y_train)\n",
    "    scores.append(clf.score(X_test,y_test))\n",
    "plt.plot(scores, '.-')\n",
    "plt.title('Criterion')\n",
    "plt.xticks(range(len(feature_param)), feature_param)\n",
    "plt.grid();\n",
    "\n",
    "#Max Features\n",
    "plt.subplot(3,3,3)\n",
    "feature_param = ['auto','sqrt','log2',None]\n",
    "scores=[]\n",
    "for feature in feature_param:\n",
    "    clf = RandomForestClassifier(max_features=feature)\n",
    "    clf.fit(X_train,y_train)\n",
    "    scores.append(clf.score(X_test,y_test))\n",
    "plt.plot(scores, '.-')\n",
    "plt.axis('tight')\n",
    "plt.title('Max Features')\n",
    "plt.xticks(range(len(feature_param)), feature_param)\n",
    "plt.grid();\n",
    "\n",
    "#Max Depth\n",
    "plt.subplot(3,3,4)\n",
    "feature_param = range(1,21)\n",
    "scores=[]\n",
    "for feature in feature_param:\n",
    "    clf = RandomForestClassifier(max_depth=feature)\n",
    "    clf.fit(X_train,y_train)\n",
    "    scores.append(clf.score(X_test,y_test))\n",
    "plt.plot(feature_param, scores, '.-')\n",
    "plt.axis('tight')\n",
    "plt.title('Max Depth')\n",
    "plt.grid();\n",
    "\n",
    "#Min Samples Split\n",
    "plt.subplot(3,3,5)\n",
    "feature_param = range(1,21)\n",
    "scores=[]\n",
    "for feature in feature_param:\n",
    "    clf = RandomForestClassifier(min_samples_split =feature)\n",
    "    clf.fit(X_train,y_train)\n",
    "    scores.append(clf.score(X_test,y_test))\n",
    "plt.plot(feature_param, scores, '.-')\n",
    "plt.axis('tight')\n",
    "plt.title('Min Samples Split')\n",
    "plt.grid();\n",
    "\n",
    "#Min Weight Fraction Leaf\n",
    "plt.subplot(3,3,6)\n",
    "feature_param = np.linspace(0,0.5,10)\n",
    "scores=[]\n",
    "for feature in feature_param:\n",
    "    clf = RandomForestClassifier(min_weight_fraction_leaf =feature)\n",
    "    clf.fit(X_train,y_train)\n",
    "    scores.append(clf.score(X_test,y_test))\n",
    "plt.plot(feature_param, scores, '.-')\n",
    "plt.axis('tight')\n",
    "plt.title('Min Weight Fraction Leaf')\n",
    "plt.grid();\n",
    "\n",
    "#Max Leaf Nodes\n",
    "plt.subplot(3,3,7)\n",
    "feature_param = range(2,21)\n",
    "scores=[]\n",
    "for feature in feature_param:\n",
    "    clf = RandomForestClassifier(max_leaf_nodes=feature)\n",
    "    clf.fit(X_train,y_train)\n",
    "    scores.append(clf.score(X_test,y_test))\n",
    "plt.plot(feature_param, scores, '.-')\n",
    "plt.axis('tight')\n",
    "plt.title('Max Leaf Nodes')\n",
    "plt.grid();"
   ]
  },
  {
   "cell_type": "markdown",
   "metadata": {
    "deletable": true,
    "editable": true
   },
   "source": [
    "Now based on these graphs I tune the model. Normally you input all parameters and their potential values and run GridSearchCV.\n",
    "My PC isn't good enough so I divide parameters in two groups and repeatedly run two GridSearchCV until I'm satisfied with the result. This gives a balance between the quality and the speed."
   ]
  },
  {
   "cell_type": "code",
   "execution_count": null,
   "metadata": {
    "collapsed": false,
    "deletable": true,
    "editable": true
   },
   "outputs": [],
   "source": [
    "forest = RandomForestClassifier(max_depth = 50,                                \n",
    "                                min_samples_split =7,\n",
    "                                min_weight_fraction_leaf = 0.0,\n",
    "                                max_leaf_nodes = 18)\n",
    "\n",
    "parameter_grid = {'n_estimators' : [15, 100, 200],\n",
    "                  'criterion' : ['gini', 'entropy'],\n",
    "                  'max_features' : ['auto', 'sqrt', 'log2', None]\n",
    "                 }\n",
    "\n",
    "grid_search = GridSearchCV(forest, param_grid=parameter_grid, cv=StratifiedKFold(5))\n",
    "grid_search.fit(X, Y_train)\n",
    "print('Best score: {}'.format(grid_search.best_score_))\n",
    "print('Best parameters: {}'.format(grid_search.best_params_))"
   ]
  },
  {
   "cell_type": "code",
   "execution_count": null,
   "metadata": {
    "collapsed": false,
    "deletable": true,
    "editable": true
   },
   "outputs": [],
   "source": [
    "forest = RandomForestClassifier(n_estimators = 200,\n",
    "                                criterion = 'entropy',\n",
    "                                max_features = None)\n",
    "parameter_grid = {\n",
    "                  'max_depth' : [None, 50],\n",
    "                  'min_samples_split' : [7, 11],\n",
    "                  'min_weight_fraction_leaf' : [0.0, 0.2],\n",
    "                  'max_leaf_nodes' : [18, 20],\n",
    "                 }\n",
    "\n",
    "grid_search = GridSearchCV(forest, param_grid=parameter_grid, cv=StratifiedKFold(5))\n",
    "grid_search.fit(X, Y_train)\n",
    "print('Best score: {}'.format(grid_search.best_score_))\n",
    "print('Best parameters: {}'.format(grid_search.best_params_))"
   ]
  },
  {
   "cell_type": "code",
   "execution_count": null,
   "metadata": {
    "collapsed": false,
    "deletable": true,
    "editable": true
   },
   "outputs": [],
   "source": [
    "#My optimal parameters\n",
    "clf = RandomForestClassifier(n_estimators = 200,\n",
    "                                criterion = 'entropy',\n",
    "                                max_features = None,\n",
    "                                max_depth = 50,                                \n",
    "                                min_samples_split =7,\n",
    "                                min_weight_fraction_leaf = 0.0,\n",
    "                                max_leaf_nodes = 18)\n",
    "\n",
    "clf.fit(X, Y_train)\n",
    "Y_pred_RF = clf.predict(Xt)\n",
    "\n",
    "clf.score(X_test,y_test)"
   ]
  },
  {
   "cell_type": "code",
   "execution_count": null,
   "metadata": {
    "collapsed": false,
    "deletable": true,
    "editable": true
   },
   "outputs": [],
   "source": [
    "submission = pd.DataFrame({\n",
    "        'PassengerId': df_test['PassengerId'],\n",
    "        'Survived': Y_pred_RF\n",
    "    })\n",
    "submission.to_csv('titanic.csv', index=False)"
   ]
  },
  {
   "cell_type": "markdown",
   "metadata": {
    "deletable": true,
    "editable": true
   },
   "source": [
    "I didn't aim for a perfect model in this project, I just wanted to use my skills. The best result I got was 0.80861. Reachable maximum accuracy is ~82-85%, so I think that my result is good enough."
   ]
  }
 ],
 "metadata": {
  "anaconda-cloud": {},
  "kernelspec": {
   "display_name": "Python [Root]",
   "language": "python",
   "name": "Python [Root]"
  },
  "language_info": {
   "codemirror_mode": {
    "name": "ipython",
    "version": 3
   },
   "file_extension": ".py",
   "mimetype": "text/x-python",
   "name": "python",
   "nbconvert_exporter": "python",
   "pygments_lexer": "ipython3",
   "version": "3.6.1"
  }
 },
 "nbformat": 4,
 "nbformat_minor": 0
}
