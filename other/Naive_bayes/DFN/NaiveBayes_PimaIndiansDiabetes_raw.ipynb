{
 "cells": [
  {
   "cell_type": "markdown",
   "metadata": {},
   "source": [
    "In this notebook I will try to show how to implement Naive Bayes in raw Python on Primal Indians Diabetes dataset from UCI Machine Learning repository (https://archive.ics.uci.edu/ml/datasets/Pima+Indians+Diabetes)."
   ]
  },
  {
   "cell_type": "code",
   "execution_count": 1,
   "metadata": {
    "collapsed": true
   },
   "outputs": [],
   "source": [
    "import os\n",
    "import pandas as pd\n",
    "import numpy as np\n",
    "import random\n",
    "from urllib.request import urlretrieve\n",
    "from tqdm import tqdm"
   ]
  },
  {
   "cell_type": "markdown",
   "metadata": {},
   "source": [
    "### Constants"
   ]
  },
  {
   "cell_type": "code",
   "execution_count": 2,
   "metadata": {
    "collapsed": true
   },
   "outputs": [],
   "source": [
    "DATA_URL = \"https://archive.ics.uci.edu/ml/machine-learning-databases/pima-indians-diabetes/pima-indians-diabetes.data\"\n",
    "DATA_FILE = \"./\" + \"pima-indians-diabetes.data\""
   ]
  },
  {
   "cell_type": "markdown",
   "metadata": {},
   "source": [
    "### Dataset info\n",
    "\n",
    "#### Features:\n",
    "1. Number of times pregnant \n",
    "2. Plasma glucose concentration a 2 hours in an oral glucose tolerance test \n",
    "3. Diastolic blood pressure (mm Hg) \n",
    "4. Triceps skin fold thickness (mm) \n",
    "5. 2-Hour serum insulin (mu U/ml) \n",
    "6. Body mass index (weight in kg/(height in m)^2) \n",
    "7. Diabetes pedigree function \n",
    "8. Age (years) \n",
    "9. Class variable (0 or 1) "
   ]
  },
  {
   "cell_type": "markdown",
   "metadata": {},
   "source": [
    "### Prepare data"
   ]
  },
  {
   "cell_type": "markdown",
   "metadata": {},
   "source": [
    "#### Download dataset"
   ]
  },
  {
   "cell_type": "code",
   "execution_count": 3,
   "metadata": {
    "collapsed": true
   },
   "outputs": [],
   "source": [
    "class DLProgress(tqdm):\n",
    "    last_block = 0\n",
    "\n",
    "    def hook(self, block_num=1, block_size=1, total_size=None):\n",
    "        self.total = total_size\n",
    "        self.update((block_num - self.last_block) * block_size)\n",
    "        self.last_block = block_num\n",
    "\n",
    "if not os.path.isfile(DATA_FILE):\n",
    "    with DLProgress(unit=\"B\", unit_scale=True, miniters=1, desc=\"Prima Indians Diabetes dataset\") as pbar:\n",
    "        urlretrieve(DATA_URL, DATA_FILE, pbar.hook)"
   ]
  },
  {
   "cell_type": "markdown",
   "metadata": {},
   "source": [
    "#### Loading files & extracting data"
   ]
  },
  {
   "cell_type": "code",
   "execution_count": 4,
   "metadata": {
    "collapsed": true
   },
   "outputs": [],
   "source": [
    "df_data = pd.read_csv(DATA_FILE, names = [\"Pregnant_Times\", \n",
    "                                          \"Glucose\", \n",
    "                                          \"Diastolic_Blood_Pressure\", \n",
    "                                          \"Triceps_Skin_Fold_Thickness\",\n",
    "                                          \"2-Hour_Serum_Insulin\",\n",
    "                                          \"Body_Mass_Index\",\n",
    "                                          \"Diabetes_Pedigree_Function\",\n",
    "                                          \"Age\",\n",
    "                                          \"Class\"])"
   ]
  },
  {
   "cell_type": "markdown",
   "metadata": {},
   "source": [
    "#### Presenting data"
   ]
  },
  {
   "cell_type": "code",
   "execution_count": 5,
   "metadata": {},
   "outputs": [
    {
     "data": {
      "text/html": [
       "<div>\n",
       "<style>\n",
       "    .dataframe thead tr:only-child th {\n",
       "        text-align: right;\n",
       "    }\n",
       "\n",
       "    .dataframe thead th {\n",
       "        text-align: left;\n",
       "    }\n",
       "\n",
       "    .dataframe tbody tr th {\n",
       "        vertical-align: top;\n",
       "    }\n",
       "</style>\n",
       "<table border=\"1\" class=\"dataframe\">\n",
       "  <thead>\n",
       "    <tr style=\"text-align: right;\">\n",
       "      <th></th>\n",
       "      <th>Pregnant_Times</th>\n",
       "      <th>Glucose</th>\n",
       "      <th>Diastolic_Blood_Pressure</th>\n",
       "      <th>Triceps_Skin_Fold_Thickness</th>\n",
       "      <th>2-Hour_Serum_Insulin</th>\n",
       "      <th>Body_Mass_Index</th>\n",
       "      <th>Diabetes_Pedigree_Function</th>\n",
       "      <th>Age</th>\n",
       "      <th>Class</th>\n",
       "    </tr>\n",
       "  </thead>\n",
       "  <tbody>\n",
       "    <tr>\n",
       "      <th>0</th>\n",
       "      <td>6</td>\n",
       "      <td>148</td>\n",
       "      <td>72</td>\n",
       "      <td>35</td>\n",
       "      <td>0</td>\n",
       "      <td>33.6</td>\n",
       "      <td>0.627</td>\n",
       "      <td>50</td>\n",
       "      <td>1</td>\n",
       "    </tr>\n",
       "    <tr>\n",
       "      <th>1</th>\n",
       "      <td>1</td>\n",
       "      <td>85</td>\n",
       "      <td>66</td>\n",
       "      <td>29</td>\n",
       "      <td>0</td>\n",
       "      <td>26.6</td>\n",
       "      <td>0.351</td>\n",
       "      <td>31</td>\n",
       "      <td>0</td>\n",
       "    </tr>\n",
       "    <tr>\n",
       "      <th>2</th>\n",
       "      <td>8</td>\n",
       "      <td>183</td>\n",
       "      <td>64</td>\n",
       "      <td>0</td>\n",
       "      <td>0</td>\n",
       "      <td>23.3</td>\n",
       "      <td>0.672</td>\n",
       "      <td>32</td>\n",
       "      <td>1</td>\n",
       "    </tr>\n",
       "    <tr>\n",
       "      <th>3</th>\n",
       "      <td>1</td>\n",
       "      <td>89</td>\n",
       "      <td>66</td>\n",
       "      <td>23</td>\n",
       "      <td>94</td>\n",
       "      <td>28.1</td>\n",
       "      <td>0.167</td>\n",
       "      <td>21</td>\n",
       "      <td>0</td>\n",
       "    </tr>\n",
       "    <tr>\n",
       "      <th>4</th>\n",
       "      <td>0</td>\n",
       "      <td>137</td>\n",
       "      <td>40</td>\n",
       "      <td>35</td>\n",
       "      <td>168</td>\n",
       "      <td>43.1</td>\n",
       "      <td>2.288</td>\n",
       "      <td>33</td>\n",
       "      <td>1</td>\n",
       "    </tr>\n",
       "  </tbody>\n",
       "</table>\n",
       "</div>"
      ],
      "text/plain": [
       "   Pregnant_Times  Glucose  Diastolic_Blood_Pressure  \\\n",
       "0               6      148                        72   \n",
       "1               1       85                        66   \n",
       "2               8      183                        64   \n",
       "3               1       89                        66   \n",
       "4               0      137                        40   \n",
       "\n",
       "   Triceps_Skin_Fold_Thickness  2-Hour_Serum_Insulin  Body_Mass_Index  \\\n",
       "0                           35                     0             33.6   \n",
       "1                           29                     0             26.6   \n",
       "2                            0                     0             23.3   \n",
       "3                           23                    94             28.1   \n",
       "4                           35                   168             43.1   \n",
       "\n",
       "   Diabetes_Pedigree_Function  Age  Class  \n",
       "0                       0.627   50      1  \n",
       "1                       0.351   31      0  \n",
       "2                       0.672   32      1  \n",
       "3                       0.167   21      0  \n",
       "4                       2.288   33      1  "
      ]
     },
     "execution_count": 5,
     "metadata": {},
     "output_type": "execute_result"
    }
   ],
   "source": [
    "df_data.head()"
   ]
  },
  {
   "cell_type": "code",
   "execution_count": 6,
   "metadata": {},
   "outputs": [
    {
     "data": {
      "text/html": [
       "<div>\n",
       "<style>\n",
       "    .dataframe thead tr:only-child th {\n",
       "        text-align: right;\n",
       "    }\n",
       "\n",
       "    .dataframe thead th {\n",
       "        text-align: left;\n",
       "    }\n",
       "\n",
       "    .dataframe tbody tr th {\n",
       "        vertical-align: top;\n",
       "    }\n",
       "</style>\n",
       "<table border=\"1\" class=\"dataframe\">\n",
       "  <thead>\n",
       "    <tr style=\"text-align: right;\">\n",
       "      <th></th>\n",
       "      <th>Pregnant_Times</th>\n",
       "      <th>Glucose</th>\n",
       "      <th>Diastolic_Blood_Pressure</th>\n",
       "      <th>Triceps_Skin_Fold_Thickness</th>\n",
       "      <th>2-Hour_Serum_Insulin</th>\n",
       "      <th>Body_Mass_Index</th>\n",
       "      <th>Diabetes_Pedigree_Function</th>\n",
       "      <th>Age</th>\n",
       "      <th>Class</th>\n",
       "    </tr>\n",
       "  </thead>\n",
       "  <tbody>\n",
       "    <tr>\n",
       "      <th>count</th>\n",
       "      <td>768.000000</td>\n",
       "      <td>768.000000</td>\n",
       "      <td>768.000000</td>\n",
       "      <td>768.000000</td>\n",
       "      <td>768.000000</td>\n",
       "      <td>768.000000</td>\n",
       "      <td>768.000000</td>\n",
       "      <td>768.000000</td>\n",
       "      <td>768.000000</td>\n",
       "    </tr>\n",
       "    <tr>\n",
       "      <th>mean</th>\n",
       "      <td>3.845052</td>\n",
       "      <td>120.894531</td>\n",
       "      <td>69.105469</td>\n",
       "      <td>20.536458</td>\n",
       "      <td>79.799479</td>\n",
       "      <td>31.992578</td>\n",
       "      <td>0.471876</td>\n",
       "      <td>33.240885</td>\n",
       "      <td>0.348958</td>\n",
       "    </tr>\n",
       "    <tr>\n",
       "      <th>std</th>\n",
       "      <td>3.369578</td>\n",
       "      <td>31.972618</td>\n",
       "      <td>19.355807</td>\n",
       "      <td>15.952218</td>\n",
       "      <td>115.244002</td>\n",
       "      <td>7.884160</td>\n",
       "      <td>0.331329</td>\n",
       "      <td>11.760232</td>\n",
       "      <td>0.476951</td>\n",
       "    </tr>\n",
       "    <tr>\n",
       "      <th>min</th>\n",
       "      <td>0.000000</td>\n",
       "      <td>0.000000</td>\n",
       "      <td>0.000000</td>\n",
       "      <td>0.000000</td>\n",
       "      <td>0.000000</td>\n",
       "      <td>0.000000</td>\n",
       "      <td>0.078000</td>\n",
       "      <td>21.000000</td>\n",
       "      <td>0.000000</td>\n",
       "    </tr>\n",
       "    <tr>\n",
       "      <th>25%</th>\n",
       "      <td>1.000000</td>\n",
       "      <td>99.000000</td>\n",
       "      <td>62.000000</td>\n",
       "      <td>0.000000</td>\n",
       "      <td>0.000000</td>\n",
       "      <td>27.300000</td>\n",
       "      <td>0.243750</td>\n",
       "      <td>24.000000</td>\n",
       "      <td>0.000000</td>\n",
       "    </tr>\n",
       "    <tr>\n",
       "      <th>50%</th>\n",
       "      <td>3.000000</td>\n",
       "      <td>117.000000</td>\n",
       "      <td>72.000000</td>\n",
       "      <td>23.000000</td>\n",
       "      <td>30.500000</td>\n",
       "      <td>32.000000</td>\n",
       "      <td>0.372500</td>\n",
       "      <td>29.000000</td>\n",
       "      <td>0.000000</td>\n",
       "    </tr>\n",
       "    <tr>\n",
       "      <th>75%</th>\n",
       "      <td>6.000000</td>\n",
       "      <td>140.250000</td>\n",
       "      <td>80.000000</td>\n",
       "      <td>32.000000</td>\n",
       "      <td>127.250000</td>\n",
       "      <td>36.600000</td>\n",
       "      <td>0.626250</td>\n",
       "      <td>41.000000</td>\n",
       "      <td>1.000000</td>\n",
       "    </tr>\n",
       "    <tr>\n",
       "      <th>max</th>\n",
       "      <td>17.000000</td>\n",
       "      <td>199.000000</td>\n",
       "      <td>122.000000</td>\n",
       "      <td>99.000000</td>\n",
       "      <td>846.000000</td>\n",
       "      <td>67.100000</td>\n",
       "      <td>2.420000</td>\n",
       "      <td>81.000000</td>\n",
       "      <td>1.000000</td>\n",
       "    </tr>\n",
       "  </tbody>\n",
       "</table>\n",
       "</div>"
      ],
      "text/plain": [
       "       Pregnant_Times     Glucose  Diastolic_Blood_Pressure  \\\n",
       "count      768.000000  768.000000                768.000000   \n",
       "mean         3.845052  120.894531                 69.105469   \n",
       "std          3.369578   31.972618                 19.355807   \n",
       "min          0.000000    0.000000                  0.000000   \n",
       "25%          1.000000   99.000000                 62.000000   \n",
       "50%          3.000000  117.000000                 72.000000   \n",
       "75%          6.000000  140.250000                 80.000000   \n",
       "max         17.000000  199.000000                122.000000   \n",
       "\n",
       "       Triceps_Skin_Fold_Thickness  2-Hour_Serum_Insulin  Body_Mass_Index  \\\n",
       "count                   768.000000            768.000000       768.000000   \n",
       "mean                     20.536458             79.799479        31.992578   \n",
       "std                      15.952218            115.244002         7.884160   \n",
       "min                       0.000000              0.000000         0.000000   \n",
       "25%                       0.000000              0.000000        27.300000   \n",
       "50%                      23.000000             30.500000        32.000000   \n",
       "75%                      32.000000            127.250000        36.600000   \n",
       "max                      99.000000            846.000000        67.100000   \n",
       "\n",
       "       Diabetes_Pedigree_Function         Age       Class  \n",
       "count                  768.000000  768.000000  768.000000  \n",
       "mean                     0.471876   33.240885    0.348958  \n",
       "std                      0.331329   11.760232    0.476951  \n",
       "min                      0.078000   21.000000    0.000000  \n",
       "25%                      0.243750   24.000000    0.000000  \n",
       "50%                      0.372500   29.000000    0.000000  \n",
       "75%                      0.626250   41.000000    1.000000  \n",
       "max                      2.420000   81.000000    1.000000  "
      ]
     },
     "execution_count": 6,
     "metadata": {},
     "output_type": "execute_result"
    }
   ],
   "source": [
    "df_data.describe()"
   ]
  },
  {
   "cell_type": "code",
   "execution_count": 7,
   "metadata": {},
   "outputs": [
    {
     "name": "stdout",
     "output_type": "stream",
     "text": [
      "Samples num: 768\n",
      "Features num: 8\n",
      "Class 0 samples: 500\n",
      "Class 1 samples: 268\n"
     ]
    }
   ],
   "source": [
    "print(\"Samples num: {}\".format(df_data.shape[0]))\n",
    "print(\"Features num: {}\".format(df_data.shape[1] - 1))\n",
    "print(\"Class 0 samples: {}\".format(df_data.loc[(df_data[\"Class\"] == 0)].shape[0]))\n",
    "print(\"Class 1 samples: {}\".format(df_data.loc[(df_data[\"Class\"] == 1)].shape[0]))"
   ]
  },
  {
   "cell_type": "markdown",
   "metadata": {},
   "source": [
    "### Dataset preparation"
   ]
  },
  {
   "cell_type": "markdown",
   "metadata": {},
   "source": [
    "#### Group data by class"
   ]
  },
  {
   "cell_type": "code",
   "execution_count": 8,
   "metadata": {
    "collapsed": true
   },
   "outputs": [],
   "source": [
    "df_diabetes = df_data.loc[(df_data[\"Class\"] == 1)]\n",
    "df_non_diabetes = df_data.loc[(df_data[\"Class\"] == 0)]"
   ]
  },
  {
   "cell_type": "code",
   "execution_count": 9,
   "metadata": {
    "collapsed": true
   },
   "outputs": [],
   "source": [
    "# Convert diabetes datafreme into numpy array\n",
    "df_diabetes_label = df_diabetes[\"Class\"].as_matrix()\n",
    "df_diabetes_data = df_diabetes.drop([\"Class\"], axis=1).as_matrix()\n",
    "\n",
    "# Convert non_diabetes datafreme into numpy array\n",
    "df_non_diabetes_label = df_non_diabetes[\"Class\"].as_matrix()\n",
    "df_non_diabetes_data = df_non_diabetes.drop([\"Class\"], axis=1).as_matrix()"
   ]
  },
  {
   "cell_type": "code",
   "execution_count": 10,
   "metadata": {
    "collapsed": true
   },
   "outputs": [],
   "source": [
    "# Stack diabetes samples into (features, class) tuple list\n",
    "diabetes_stacked_list = list()\n",
    "for data, label in zip(df_diabetes_data, df_diabetes_label):\n",
    "    diabetes_stacked_list.append((data, label))\n",
    "    \n",
    "# Stack non_diabetes samples into (features, class) tuple list\n",
    "non_diabetes_stacked_list = list()\n",
    "for data, label in zip(df_non_diabetes_data, df_non_diabetes_label):\n",
    "    non_diabetes_stacked_list.append((data, label))\n",
    "    \n",
    "# Shuffle data\n",
    "random.shuffle(diabetes_stacked_list)\n",
    "random.shuffle(non_diabetes_stacked_list)\n",
    "    \n",
    "classes = [diabetes_stacked_list, non_diabetes_stacked_list]"
   ]
  },
  {
   "cell_type": "code",
   "execution_count": 11,
   "metadata": {},
   "outputs": [
    {
     "name": "stdout",
     "output_type": "stream",
     "text": [
      "Diabetes samples: 268\n",
      "Non-diabetes samples: 500\n"
     ]
    }
   ],
   "source": [
    "print(\"Diabetes samples: {}\".format(len(diabetes_stacked_list)))\n",
    "print(\"Non-diabetes samples: {}\".format(len(non_diabetes_stacked_list)))"
   ]
  },
  {
   "cell_type": "markdown",
   "metadata": {},
   "source": [
    "#### Split into train, val, test"
   ]
  },
  {
   "cell_type": "code",
   "execution_count": 12,
   "metadata": {
    "collapsed": true
   },
   "outputs": [],
   "source": [
    "train_data = list()\n",
    "val_data = list()\n",
    "test_data = list()\n",
    "\n",
    "train_data_split_ratio = 0.7\n",
    "val_data_split_ratio = 0.2\n",
    "test_data_split_ration = 0.1"
   ]
  },
  {
   "cell_type": "code",
   "execution_count": 13,
   "metadata": {
    "collapsed": true
   },
   "outputs": [],
   "source": [
    "# Divide data so each split has the same ratio of each sample\n",
    "for class_data in classes: \n",
    "    train_split_first_index = 0\n",
    "    train_split_last_index = round(len(class_data) * train_data_split_ratio)\n",
    "    \n",
    "    val_split_first_index = train_split_last_index\n",
    "    val_split_last_index = round((len(class_data)) * (val_data_split_ratio + train_data_split_ratio))\n",
    "    \n",
    "    test_split_first_index = val_split_last_index\n",
    "    test_split_last_index = round((len(class_data)) * (\n",
    "        val_data_split_ratio + train_data_split_ratio + test_data_split_ration))\n",
    "    \n",
    "    train_data.extend(class_data[train_split_first_index:train_split_last_index])\n",
    "    val_data.extend(class_data[val_split_first_index:val_split_last_index])\n",
    "    test_data.extend(class_data[test_split_first_index:test_split_last_index])"
   ]
  },
  {
   "cell_type": "markdown",
   "metadata": {},
   "source": [
    "#### Present result after split"
   ]
  },
  {
   "cell_type": "code",
   "execution_count": 14,
   "metadata": {},
   "outputs": [
    {
     "name": "stdout",
     "output_type": "stream",
     "text": [
      "Train data samples: 538\n",
      "Validation data samples: 153\n",
      "Test data data samples: 77\n"
     ]
    }
   ],
   "source": [
    "print(\"Train data samples: {}\".format(len(train_data)))\n",
    "print(\"Validation data samples: {}\".format(len(val_data)))\n",
    "print(\"Test data data samples: {}\".format(len(test_data)))"
   ]
  },
  {
   "cell_type": "markdown",
   "metadata": {},
   "source": [
    "#### Helper functions"
   ]
  },
  {
   "cell_type": "code",
   "execution_count": 15,
   "metadata": {
    "collapsed": true
   },
   "outputs": [],
   "source": [
    "def unwrap_data(tuple_list):\n",
    "    \"\"\"Function that unwraps list of tuples into sample list and label list.\"\"\"\n",
    "    sample_list = list()\n",
    "    label_list = list()\n",
    "    \n",
    "    for sample, label in tuple_list:\n",
    "        sample_list.append(sample)\n",
    "        label_list.append(label)\n",
    "    \n",
    "    return sample_list, label_list"
   ]
  },
  {
   "cell_type": "markdown",
   "metadata": {},
   "source": [
    "### Naive Bayes - raw implementation"
   ]
  },
  {
   "cell_type": "code",
   "execution_count": 16,
   "metadata": {
    "collapsed": true
   },
   "outputs": [],
   "source": [
    "class NaiveBayes():\n",
    "    def __init__(self):\n",
    "        \"\"\"Implementation of Gaussian Naive Bayes using following rule:\n",
    "            \n",
    "                P(C|X) = (P(X|C) * P(C)) / P(X)\n",
    "            \n",
    "            where:\n",
    "            \n",
    "            - P(C|X): Posterior Probability\n",
    "            - P(X|C): Likelihood of sample X given Gaussian distribution C. \n",
    "            - P(C): Class Prior Probability of X belonging to specific class.\n",
    "            - P(X): Predictor Prior Probability which brings posterior to proper probability\n",
    "                    distribution value. It is ignored as we pick class P(C|X) with largest value\n",
    "                    and P(X) doesn't affect the result.\n",
    "        \"\"\"\n",
    "        self.class_representations = dict()\n",
    "        self.class_samples_num = dict()\n",
    "        \n",
    "    def _count_class_samples(self, y):\n",
    "        for y_class in y:\n",
    "            self.class_samples_num.setdefault(y_class, 0)\n",
    "            self.class_samples_num[y_class] += 1\n",
    "    \n",
    "    def _create_representation_of_each_class(self, X, y):\n",
    "        \"\"\"Groups all samples from X by classes in y. Using values from all samples creates\n",
    "        so called 'representation classes' - samples holding mean and std values based on\n",
    "        all samples of specific class.\"\"\"\n",
    "        \n",
    "        # Group samples by class\n",
    "        class_samples_dict = dict()\n",
    "        for sample, label in zip(X,y):\n",
    "            class_samples_dict.setdefault(label, list()) \n",
    "            class_samples_dict[label].append(sample)\n",
    "        \n",
    "        # Calculate mean and std of each class feature based on values from all it's samples\n",
    "        for class_label, class_samples_list in class_samples_dict.items():\n",
    "            # Calculating mean and std values columnwise \n",
    "            mean_features = np.mean(class_samples_list, axis = 0)\n",
    "            std_features = np.std(class_samples_list, axis = 0)\n",
    "            \n",
    "            # Stacking mean and std into tuples and forming sample which represents values of\n",
    "            # all samples from specific group\n",
    "            std_mean_stacked = [(mean, std) for mean, std in zip(mean_features, std_features)]\n",
    "            \n",
    "            # Saving created representation sample \n",
    "            self.class_representations[class_label] = std_mean_stacked\n",
    "            \n",
    "    def fit(self, X, y):\n",
    "        \"\"\"Given data X and it's labels it calculates mean and std of each feature\n",
    "        from all classes.\"\"\"\n",
    "        self._count_class_samples(y)\n",
    "        self._create_representation_of_each_class(X, y)\n",
    "    \n",
    "    def _calculate_class_prior_probability(self, c):\n",
    "        \"\"\"Calculate prior of class c.\"\"\"\n",
    "        all_classes_num = np.sum(list(self.class_samples_num.values()))\n",
    "        c_class_occurances = self.class_samples_num[c]\n",
    "        return c_class_occurances / c_class_occurances\n",
    "    \n",
    "    def _calculate_likelihood(self, feature_val, mean, std):\n",
    "        \"\"\"Likelihood calculated with Gaussian Density Function. Returns likelihood of data X \n",
    "        basedon its single feature value given mean and var based on all samples of specific \n",
    "        class.\"\"\"\n",
    "        coefficient = (1.0 / np.sqrt(2.0 * np.pi * std**2 + 1e-7))\n",
    "        exponent = np.exp(-((feature_val - mean)**2) / (2.0 * std**2 + 1e-7))\n",
    "        return coefficient * exponent\n",
    "            \n",
    "    def _calculate_posteriors(self, x_sample):\n",
    "        \"\"\"Calculate probabilities of x_sample belonging to specific class\"\"\"\n",
    "        posteriors = dict()\n",
    "        \n",
    "        for class_label, class_representation_values in self.class_representations.items():\n",
    "            # Setting posterior to 1 * prior P(C) value\n",
    "            class_posterior = self._calculate_class_prior_probability(class_label)\n",
    "            \n",
    "            # Calculating likelihood P(X|C) based on each feature of x_sample given mean, \n",
    "            # std of representation class and forming complete posterior\n",
    "            for feature_index, feature_val in enumerate(x_sample):\n",
    "                mean, std = class_representation_values[feature_index]\n",
    "                class_posterior += self._calculate_likelihood(feature_val, mean, std)\n",
    "            \n",
    "            # Storing posterior for each class\n",
    "            posteriors[class_label] = class_posterior\n",
    "            \n",
    "        return posteriors\n",
    "            \n",
    "    def predict(self, X):\n",
    "        \"\"\"Predicting value for every sample in array X.\"\"\"\n",
    "        predictions = list()\n",
    "        \n",
    "        # Making pradiction for every X sample\n",
    "        for x_sample in X:\n",
    "            posteriors = self._calculate_posteriors(x_sample)\n",
    "            \n",
    "            # Retriving position of posterior with max value and using it to get class name\n",
    "            probabilities_list = list(posteriors.values())\n",
    "            classes_list = list(posteriors.keys())\n",
    "            predictions.append(classes_list[probabilities_list.index(max(probabilities_list))])\n",
    "        \n",
    "        return predictions"
   ]
  },
  {
   "cell_type": "markdown",
   "metadata": {},
   "source": [
    "### Model"
   ]
  },
  {
   "cell_type": "code",
   "execution_count": 17,
   "metadata": {
    "collapsed": true
   },
   "outputs": [],
   "source": [
    "def accuracy(predictions, targets):\n",
    "    \"\"\"Calculates what percent of predictions have the same value as target.\"\"\"\n",
    "    correct_predictions = 0\n",
    "    for prediction, target in zip(predictions, targets):\n",
    "        if prediction == target:\n",
    "            correct_predictions += 1\n",
    "    return correct_predictions / len(targets)"
   ]
  },
  {
   "cell_type": "markdown",
   "metadata": {},
   "source": [
    "#### Creating new NaiveBayes model"
   ]
  },
  {
   "cell_type": "code",
   "execution_count": 18,
   "metadata": {
    "collapsed": true
   },
   "outputs": [],
   "source": [
    "naiveBayes = NaiveBayes()"
   ]
  },
  {
   "cell_type": "markdown",
   "metadata": {},
   "source": [
    "#### Fitting data"
   ]
  },
  {
   "cell_type": "code",
   "execution_count": 19,
   "metadata": {
    "collapsed": true
   },
   "outputs": [],
   "source": [
    "train_samples, train_labels = unwrap_data(train_data)\n",
    "naiveBayes.fit(train_samples, train_labels)"
   ]
  },
  {
   "cell_type": "markdown",
   "metadata": {},
   "source": [
    "#### Validation"
   ]
  },
  {
   "cell_type": "code",
   "execution_count": 20,
   "metadata": {
    "collapsed": true
   },
   "outputs": [],
   "source": [
    "val_samples, val_labels = unwrap_data(val_data)\n",
    "predictions = naiveBayes.predict(val_samples)"
   ]
  },
  {
   "cell_type": "code",
   "execution_count": 21,
   "metadata": {},
   "outputs": [
    {
     "name": "stdout",
     "output_type": "stream",
     "text": [
      "Validation accuracy: 0.6993464052287581\n"
     ]
    }
   ],
   "source": [
    "val_acc = accuracy(predictions, val_labels)\n",
    "print(\"Validation accuracy: {}\".format(val_acc))"
   ]
  },
  {
   "cell_type": "markdown",
   "metadata": {},
   "source": [
    "#### Test"
   ]
  },
  {
   "cell_type": "code",
   "execution_count": 22,
   "metadata": {
    "collapsed": true
   },
   "outputs": [],
   "source": [
    "test_samples, test_labels = unwrap_data(test_data)\n",
    "predictions = naiveBayes.predict(test_samples)"
   ]
  },
  {
   "cell_type": "code",
   "execution_count": 23,
   "metadata": {},
   "outputs": [
    {
     "name": "stdout",
     "output_type": "stream",
     "text": [
      "Test accuracy: 0.7012987012987013\n"
     ]
    }
   ],
   "source": [
    "test_acc = accuracy(predictions, test_labels)\n",
    "print(\"Test accuracy: {}\".format(test_acc))"
   ]
  }
 ],
 "metadata": {
  "kernelspec": {
   "display_name": "Python 3",
   "language": "python",
   "name": "python3"
  },
  "language_info": {
   "codemirror_mode": {
    "name": "ipython",
    "version": 3
   },
   "file_extension": ".py",
   "mimetype": "text/x-python",
   "name": "python",
   "nbconvert_exporter": "python",
   "pygments_lexer": "ipython3",
   "version": "3.6.1"
  }
 },
 "nbformat": 4,
 "nbformat_minor": 2
}
