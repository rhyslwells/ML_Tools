{
 "cells": [
  {
   "cell_type": "markdown",
   "id": "7497d95c",
   "metadata": {},
   "source": [
    "# Example Notebook (Markdown → ipynb)\n",
    "s sssssssssssssssssssssssss tttt\n",
    "This is a notebook written in Markdown using Jupytext.\n",
    "\n",
    "## 📌 Cell 1: Imports"
   ]
  },
  {
   "cell_type": "code",
   "execution_count": null,
   "id": "c3a692da",
   "metadata": {},
   "outputs": [],
   "source": [
    "import math\n",
    "import matplotlib.pyplot as plt\n",
    "import packaging"
   ]
  },
  {
   "cell_type": "markdown",
   "id": "fe6a488d",
   "metadata": {},
   "source": [
    "## 📌 Cell 2: A Simple Calculation"
   ]
  },
  {
   "cell_type": "code",
   "execution_count": null,
   "id": "3786aa82",
   "metadata": {},
   "outputs": [],
   "source": [
    "x = 3\n",
    "area = math.pi * x ** 2\n",
    "area"
   ]
  },
  {
   "cell_type": "markdown",
   "id": "ba52f1f3",
   "metadata": {},
   "source": [
    "## 📌 Cell 3: Plotting"
   ]
  },
  {
   "cell_type": "code",
   "execution_count": null,
   "id": "3e9d6dc1",
   "metadata": {},
   "outputs": [],
   "source": [
    "xs = range(10)\n",
    "ys = [i**2 for i in xs]\n",
    "\n",
    "plt.plot(xs, ys)\n",
    "plt.title(\"y = x^2\")\n",
    "plt.show()"
   ]
  }
 ],
 "metadata": {
  "jupytext": {
   "cell_metadata_filter": "-all",
   "formats": "ipynb,py:percent",
   "main_language": "python"
  },
  "language_info": {
   "name": "python"
  }
 },
 "nbformat": 4,
 "nbformat_minor": 5
}
