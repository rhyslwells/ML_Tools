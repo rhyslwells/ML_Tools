{
 "cells": [
  {
   "cell_type": "code",
   "execution_count": null,
   "metadata": {},
   "outputs": [],
   "source": [
    "import pandas as pd\n",
    "import numpy as np\n",
    "import matplotlib.pyplot as plt\n",
    "import seaborn as sns\n",
    "from sklearn.cluster import KMeans\n",
    "from sklearn.preprocessing import MinMaxScaler, StandardScaler\n",
    "from sklearn.metrics import classification_report"
   ]
  },
  {
   "cell_type": "markdown",
   "metadata": {},
   "source": [
    "# Utility Functions"
   ]
  },
  {
   "cell_type": "code",
   "execution_count": null,
   "metadata": {},
   "outputs": [],
   "source": [
    "def load_data(filepath):\n",
    "    return pd.read_csv(filepath)\n",
    "\n",
    "def plot_data(df, x_col, y_col, title=\"Data Distribution\"):\n",
    "    plt.scatter(df[x_col], df[y_col])\n",
    "    plt.xlabel(x_col)\n",
    "    plt.ylabel(y_col)\n",
    "    plt.title(title)\n",
    "    plt.show()\n",
    "\n",
    "def perform_kmeans(df, features, n_clusters=3):\n",
    "    km = KMeans(n_clusters=n_clusters, random_state=42, n_init=10)\n",
    "    df['cluster'] = km.fit_predict(df[features])\n",
    "    return km, df\n",
    "\n",
    "def plot_clusters(df, features, km):\n",
    "    colors = ['green', 'red', 'black']\n",
    "    for i in range(km.n_clusters):\n",
    "        cluster_data = df[df['cluster'] == i]\n",
    "        plt.scatter(cluster_data[features[0]], cluster_data[features[1]], color=colors[i], label=f'Cluster {i}')\n",
    "    plt.scatter(km.cluster_centers_[:, 0], km.cluster_centers_[:, 1], color='purple', marker='*', label='Centroids')\n",
    "    plt.xlabel(features[0])\n",
    "    plt.ylabel(features[1])\n",
    "    plt.legend()\n",
    "    plt.title(\"Clustered Data\")\n",
    "    plt.show()\n",
    "\n",
    "def scale_features(df, features):\n",
    "    scaler = MinMaxScaler()\n",
    "    df[features] = scaler.fit_transform(df[features])\n",
    "    return df\n",
    "\n",
    "def plot_elbow_method(df, features, k_range=(1, 10)):\n",
    "    sse = []\n",
    "    for k in range(*k_range):\n",
    "        km = KMeans(n_clusters=k, random_state=42, n_init=10)\n",
    "        km.fit(df[features])\n",
    "        sse.append(km.inertia_)\n",
    "    plt.plot(range(*k_range), sse, marker='o')\n",
    "    plt.xlabel('Number of Clusters (K)')\n",
    "    plt.ylabel('Sum of Squared Errors (SSE)')\n",
    "    plt.title('Elbow Method for Optimal K')\n",
    "    plt.show()\n",
    "\n",
    "# Explore Clustering for Multiple Elbow Numbers\n",
    "def scatter_elbow(X, X_scaled, n_clusters):\n",
    "    \"\"\"\n",
    "    Visualize clustering results for a given number of clusters.\n",
    "    \"\"\"\n",
    "    kmeans = KMeans(n_clusters=n_clusters, random_state=42)\n",
    "    labels = kmeans.fit_predict(X_scaled)\n",
    "    \n",
    "    plt.scatter(X_scaled[:, 0], X_scaled[:, 1], c=labels, cmap='rainbow', s=50, alpha=0.7)\n",
    "    plt.scatter(kmeans.cluster_centers_[:, 0], kmeans.cluster_centers_[:, 1], c='black', marker='X', s=200, label='Centroids')\n",
    "    plt.title(f'Clustering with {n_clusters} Clusters')\n",
    "    plt.xlabel('Feature 1 (Standardized)')\n",
    "    plt.ylabel('Feature 2 (Standardized)')\n",
    "    plt.legend()\n",
    "    plt.show()"
   ]
  },
  {
   "cell_type": "markdown",
   "metadata": {},
   "source": [
    "# Income Data Analysis"
   ]
  },
  {
   "cell_type": "code",
   "execution_count": null,
   "metadata": {},
   "outputs": [],
   "source": [
    "filepath = \"../data/income.csv\"\n",
    "features = ['Age', 'Income($)']\n",
    "df = load_data(filepath)\n",
    "plot_data(df, 'Age', 'Income($)', title=\"Initial Data Distribution\")\n",
    "df = scale_features(df, features)\n",
    "plot_data(df, 'Age', 'Income($)', title=\"Scaled Data Distribution\")\n",
    "km, df = perform_kmeans(df, features, n_clusters=3)\n",
    "plot_clusters(df, features, km)\n",
    "plot_elbow_method(df, features)"
   ]
  },
  {
   "cell_type": "markdown",
   "metadata": {},
   "source": [
    "# Iris Data Analysis"
   ]
  },
  {
   "cell_type": "code",
   "execution_count": null,
   "metadata": {},
   "outputs": [],
   "source": [
    "filepath = \"../data/income.csv\"\n",
    "iris = datasets.load_iris()\n",
    "X = iris.data\n",
    "y = pd.DataFrame(iris.target, columns=['Targets'])\n",
    "clustering = KMeans(n_clusters=3, random_state=5).fit(X)\n",
    "iris_df = pd.DataFrame(X, columns=['Sepal_Length', 'Sepal_Width', 'Petal_Length', 'Petal_Width'])\n",
    "relabel = np.choose(clustering.labels_, [2, 0, 1]).astype(np.int64)\n",
    "color_theme = np.array(['red', 'green', 'blue'])\n",
    "\n",
    "plt.figure(figsize=(12, 5))\n",
    "plt.subplot(1, 2, 1)\n",
    "plt.scatter(iris_df.Petal_Length, iris_df.Petal_Width, c=color_theme[y['Targets']], s=50)\n",
    "plt.title('Ground Truth Classification')\n",
    "plt.subplot(1, 2, 2)\n",
    "plt.scatter(iris_df.Petal_Length, iris_df.Petal_Width, c=color_theme[relabel], s=50)\n",
    "plt.title('K-Means Classification')\n",
    "plt.show()\n",
    "print(classification_report(y, relabel))"
   ]
  },
  {
   "cell_type": "markdown",
   "metadata": {},
   "source": [
    "# Categorical Data Analysis"
   ]
  },
  {
   "cell_type": "code",
   "execution_count": null,
   "metadata": {},
   "outputs": [],
   "source": [
    "\n",
    "df = pd.read_csv('data/Categorical.csv')\n",
    "df['continent_code'] = df['continent'].astype('category').cat.codes\n",
    "var1, var2, var3 = 'Longitude', 'Latitude', 'continent_code'\n",
    "plt.figure(figsize=(8, 6))\n",
    "plt.scatter(df[var1], df[var2], c=df[var3], cmap='rainbow')\n",
    "plt.xlabel(var1)\n",
    "plt.ylabel(var2)\n",
    "plt.title(\"Initial Data Distribution\")\n",
    "plt.show()\n",
    "df_scaled = StandardScaler().fit_transform(df[[var1, var2, var3]])\n",
    "wcss = []\n",
    "for i in range(2, 10):\n",
    "    kmeans = KMeans(n_clusters=i, random_state=42).fit(df_scaled)\n",
    "    wcss.append(kmeans.inertia_)\n",
    "plt.plot(range(2, 10), wcss, marker='o')\n",
    "plt.xlabel('Number of Clusters')\n",
    "plt.ylabel('Within-Cluster Sum of Squares (WCSS)')\n",
    "plt.title('The Elbow Method')\n",
    "plt.show()"
   ]
  },
  {
   "cell_type": "markdown",
   "metadata": {},
   "source": [
    "# Penguins Data Analysis"
   ]
  },
  {
   "cell_type": "code",
   "execution_count": null,
   "metadata": {},
   "outputs": [],
   "source": [
    "df = pd.read_csv(\"../../../Datasets/penguins.csv\")\n",
    "features = ['bill_length_mm', 'bill_depth_mm']\n",
    "X = df[features].dropna()\n",
    "scaler = StandardScaler()\n",
    "X_scaled = scaler.fit_transform(X)\n",
    "plt.scatter(X['bill_length_mm'], X['bill_depth_mm'], alpha=0.6, c='gray')\n",
    "plt.title('Initial Data Distribution')\n",
    "plt.xlabel('Bill Length (mm)')\n",
    "plt.ylabel('Bill Depth (mm)')\n",
    "plt.show()\n",
    "kmeans = KMeans(n_clusters=3, random_state=42).fit(X_scaled)\n",
    "plt.scatter(X_scaled[:, 0], X_scaled[:, 1], c=kmeans.labels_, cmap='viridis', s=50, alpha=0.7)\n",
    "plt.scatter(kmeans.cluster_centers_[:, 0], kmeans.cluster_centers_[:, 1], c='red', marker='X', s=200, label='Centroids')\n",
    "plt.title('K-Means Clustering')\n",
    "plt.xlabel('Feature 1 (Standardized)')\n",
    "plt.ylabel('Feature 2 (Standardized)')\n",
    "plt.legend()\n",
    "plt.show()\n",
    "wcss = [KMeans(n_clusters=k, random_state=42).fit(X_scaled).inertia_ for k in range(2, 10)]\n",
    "plt.plot(range(2, 10), wcss, marker='o')\n",
    "plt.title('Elbow Method for Optimal Clusters')\n",
    "plt.xlabel('Number of Clusters')\n",
    "plt.ylabel('Within-Cluster Sum of Squares')\n",
    "plt.show()\n",
    "\n",
    "\n",
    "# Test Different Cluster Numbers\n",
    "for n in [3, 4, 5, 6]:\n",
    "    scatter_elbow(X, X_scaled, n_clusters=n)"
   ]
  }
 ],
 "metadata": {
  "kernelspec": {
   "display_name": "venv",
   "language": "python",
   "name": "python3"
  },
  "language_info": {
   "codemirror_mode": {
    "name": "ipython",
    "version": 3
   },
   "file_extension": ".py",
   "mimetype": "text/x-python",
   "name": "python",
   "nbconvert_exporter": "python",
   "pygments_lexer": "ipython3",
   "version": "3.10.8"
  }
 },
 "nbformat": 4,
 "nbformat_minor": 2
}
