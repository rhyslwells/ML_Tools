{
 "cells": [
  {
   "cell_type": "markdown",
   "id": "eae68340",
   "metadata": {},
   "source": [
    "# Why Standardize in linear regression?\n",
    "\n",
    "Summary:\n",
    "In linear regression, standardization helps with:\n",
    "\n",
    "Interpreting coefficients on a comparable scale.\n",
    "\n",
    "Ensuring that features contribute equally, especially if they are on different scales.\n",
    "\n",
    "While standardization doesn't directly affect the final predictions (for a linear regression model), it ensures the model is more stable, interpretable, and effective in certain scenarios.\n"
   ]
  },
  {
   "cell_type": "code",
   "execution_count": 13,
   "id": "5d5a5b56",
   "metadata": {},
   "outputs": [],
   "source": [
    "# %% [markdown]\n",
    "# # Comparing Standardized and Unstandardized Linear Regression\n",
    "\n",
    "# %% [markdown]\n",
    "# ## 1. Import Required Libraries\n",
    "\n",
    "# %%\n",
    "import numpy as np\n",
    "import pandas as pd\n",
    "import matplotlib.pyplot as plt\n",
    "import seaborn as sns\n",
    "sns.set()\n",
    "\n",
    "from sklearn.linear_model import LinearRegression\n",
    "from sklearn.preprocessing import StandardScaler\n",
    "from sklearn.metrics import r2_score\n"
   ]
  },
  {
   "cell_type": "code",
   "execution_count": 14,
   "id": "22636af1",
   "metadata": {},
   "outputs": [
    {
     "name": "stdout",
     "output_type": "stream",
     "text": [
      "    SAT  Rand 1,2,3   GPA\n",
      "0  1714           1  2.40\n",
      "1  1664           3  2.52\n",
      "2  1760           3  2.54\n",
      "3  1685           3  2.74\n",
      "4  1693           2  2.83\n",
      "               SAT  Rand 1,2,3        GPA\n",
      "count    84.000000   84.000000  84.000000\n",
      "mean   1845.273810    2.059524   3.330238\n",
      "std     104.530661    0.855192   0.271617\n",
      "min    1634.000000    1.000000   2.400000\n",
      "25%    1772.000000    1.000000   3.190000\n",
      "50%    1846.000000    2.000000   3.380000\n",
      "75%    1934.000000    3.000000   3.502500\n",
      "max    2050.000000    3.000000   3.810000\n"
     ]
    }
   ],
   "source": [
    "\n",
    "# %% [markdown]\n",
    "# ## 2. Load and Inspect the Data\n",
    "\n",
    "# %%\n",
    "data = pd.read_csv('data/1.02. Multiple linear regression.csv')\n",
    "\n",
    "# Preview the dataset\n",
    "print(data.head())\n",
    "\n",
    "# Summary statistics\n",
    "print(data.describe())\n"
   ]
  },
  {
   "cell_type": "code",
   "execution_count": 15,
   "id": "b4eac798",
   "metadata": {},
   "outputs": [],
   "source": [
    "\n",
    "# %% [markdown]\n",
    "# ## 3. Define Features and Target\n",
    "\n",
    "# %%\n",
    "# Independent variables\n",
    "X = data[['SAT', 'Rand 1,2,3']]\n",
    "\n",
    "# Dependent variable\n",
    "y = data['GPA']\n",
    "\n",
    "# %% [markdown]\n",
    "# ## 4. Fit a Model Without Standardization\n",
    "\n",
    "# %%\n",
    "# Instantiate and fit a raw (unstandardized) regression\n",
    "reg_raw = LinearRegression()\n",
    "reg_raw.fit(X, y)\n",
    "\n",
    "# Extract coefficients and intercept\n",
    "coef_raw = reg_raw.coef_\n",
    "intercept_raw = reg_raw.intercept_\n"
   ]
  },
  {
   "cell_type": "code",
   "execution_count": 22,
   "id": "63fcbf8d",
   "metadata": {},
   "outputs": [
    {
     "name": "stdout",
     "output_type": "stream",
     "text": [
      "[ 0.00165354 -0.00826982]\n",
      "0.29603261264909486\n"
     ]
    }
   ],
   "source": [
    "print(coef_raw)\n",
    "print(intercept_raw)"
   ]
  },
  {
   "cell_type": "code",
   "execution_count": 23,
   "id": "02f50891",
   "metadata": {},
   "outputs": [
    {
     "name": "stdout",
     "output_type": "stream",
     "text": [
      "[ 0.17181389 -0.00703007]\n",
      "3.330238095238095\n"
     ]
    }
   ],
   "source": [
    "\n",
    "# %% [markdown]\n",
    "# ## 5. Standardize the Predictors and Fit a Model\n",
    "\n",
    "# %%\n",
    "# Standardize the predictors\n",
    "scaler = StandardScaler()\n",
    "X_scaled = scaler.fit_transform(X)\n",
    "\n",
    "# Fit model on scaled features\n",
    "reg_scaled = LinearRegression()\n",
    "reg_scaled.fit(X_scaled, y)\n",
    "\n",
    "# Extract coefficients and intercept\n",
    "coef_scaled = reg_scaled.coef_\n",
    "intercept_scaled = reg_scaled.intercept_\n",
    "\n",
    "print(coef_scaled)\n",
    "print(intercept_scaled)\n"
   ]
  },
  {
   "cell_type": "code",
   "execution_count": 17,
   "id": "8a10b489",
   "metadata": {},
   "outputs": [
    {
     "name": "stdout",
     "output_type": "stream",
     "text": [
      "          Model  R-squared  Adjusted R-squared\n",
      "0           Raw   0.406681            0.392031\n",
      "1  Standardized   0.406681            0.392031\n"
     ]
    }
   ],
   "source": [
    "\n",
    "# %% [markdown]\n",
    "# ## 6. Compare Model Fit Metrics\n",
    "\n",
    "# %%\n",
    "# Predictions on training data\n",
    "y_pred_raw = reg_raw.predict(X)\n",
    "y_pred_scaled = reg_scaled.predict(X_scaled)\n",
    "\n",
    "# R-squared scores\n",
    "r2_raw = r2_score(y, y_pred_raw)\n",
    "r2_scaled = r2_score(y, y_pred_scaled)\n",
    "\n",
    "# Adjusted R-squared\n",
    "def adjusted_r2(r2, n, k):\n",
    "    return 1 - (1 - r2) * (n - 1) / (n - k - 1)\n",
    "\n",
    "n, k = X.shape\n",
    "adj_r2_raw = adjusted_r2(r2_raw, n, k)\n",
    "adj_r2_scaled = adjusted_r2(r2_scaled, n, k)\n",
    "\n",
    "# Collect metrics in a table\n",
    "model_metrics = pd.DataFrame({\n",
    "    'Model': ['Raw', 'Standardized'],\n",
    "    'R-squared': [r2_raw, r2_scaled],\n",
    "    'Adjusted R-squared': [adj_r2_raw, adj_r2_scaled]\n",
    "})\n",
    "print(model_metrics)\n"
   ]
  },
  {
   "cell_type": "code",
   "execution_count": 18,
   "id": "2697093c",
   "metadata": {},
   "outputs": [
    {
     "name": "stdout",
     "output_type": "stream",
     "text": [
      "      Feature  Raw Coefficients  Standardized Coefficients\n",
      "0   Intercept          0.296033                   3.330238\n",
      "1         SAT          0.001654                   0.171814\n",
      "2  Rand 1,2,3         -0.008270                  -0.007030\n"
     ]
    }
   ],
   "source": [
    "\n",
    "# %% [markdown]\n",
    "# ## 7. Compare Regression Coefficients\n",
    "\n",
    "# %%\n",
    "coef_comparison = pd.DataFrame({\n",
    "    'Feature': ['Intercept', 'SAT', 'Rand 1,2,3'],\n",
    "    'Raw Coefficients': np.append(intercept_raw, coef_raw),\n",
    "    'Standardized Coefficients': np.append(intercept_scaled, coef_scaled)\n",
    "})\n",
    "print(coef_comparison)\n"
   ]
  },
  {
   "cell_type": "code",
   "execution_count": 19,
   "id": "9da092c6",
   "metadata": {},
   "outputs": [
    {
     "name": "stdout",
     "output_type": "stream",
     "text": [
      "    SAT  Rand 1,2,3  Prediction (Raw)  Prediction (Standardized)\n",
      "0  1700           2          3.090514                   3.090514\n",
      "1  1800           1          3.264138                   3.264138\n"
     ]
    }
   ],
   "source": [
    "\n",
    "# %% [markdown]\n",
    "# ## 8. Predict on New Observations\n",
    "\n",
    "# %%\n",
    "# Create a new dataframe with new observations\n",
    "new_data = pd.DataFrame([[1700, 2], [1800, 1]], columns=['SAT', 'Rand 1,2,3'])\n",
    "\n",
    "# Predictions without standardization\n",
    "pred_raw = reg_raw.predict(new_data)\n",
    "\n",
    "# Standardize new observations using same scaler\n",
    "new_data_scaled = scaler.transform(new_data)\n",
    "pred_scaled = reg_scaled.predict(new_data_scaled)\n",
    "\n",
    "# Combine into summary table\n",
    "pred_summary = new_data.copy()\n",
    "pred_summary['Prediction (Raw)'] = pred_raw\n",
    "pred_summary['Prediction (Standardized)'] = pred_scaled\n",
    "print(pred_summary)\n"
   ]
  },
  {
   "cell_type": "code",
   "execution_count": 20,
   "id": "281844ed",
   "metadata": {},
   "outputs": [
    {
     "name": "stdout",
     "output_type": "stream",
     "text": [
      "           SAT  Rand 1,2,3  Pred (Raw)  Pred (Standardized)\n",
      "0  1000.000000           2    1.933035             1.933035\n",
      "1  1111.111111           2    2.116762             2.116762\n",
      "2  1222.222222           2    2.300489             2.300489\n",
      "3  1333.333333           2    2.484215             2.484215\n",
      "4  1444.444444           2    2.667942             2.667942\n",
      "5  1555.555556           2    2.851669             2.851669\n",
      "6  1666.666667           2    3.035396             3.035396\n",
      "7  1777.777778           2    3.219123             3.219123\n",
      "8  1888.888889           2    3.402850             3.402850\n",
      "9  2000.000000           2    3.586577             3.586577\n"
     ]
    }
   ],
   "source": [
    "\n",
    "# %% [markdown]\n",
    "# ## 9. Compare Predictions Across a Range of SAT Values\n",
    "\n",
    "# %%\n",
    "# Fix Rand 1,2,3 = 2 and vary SAT\n",
    "sat_range = np.linspace(1000, 2000, 10)\n",
    "comparison_data = pd.DataFrame({\n",
    "    'SAT': sat_range,\n",
    "    'Rand 1,2,3': 2  # fixed value\n",
    "})\n",
    "\n",
    "# Raw prediction\n",
    "comparison_data['Pred (Raw)'] = reg_raw.predict(comparison_data)\n",
    "\n",
    "# Standardized prediction (only standardize input features)\n",
    "comparison_scaled = scaler.transform(comparison_data[['SAT', 'Rand 1,2,3']])\n",
    "comparison_data['Pred (Standardized)'] = reg_scaled.predict(comparison_scaled)\n",
    "\n",
    "\n",
    "print(comparison_data)\n"
   ]
  },
  {
   "cell_type": "code",
   "execution_count": 21,
   "id": "acb182cc",
   "metadata": {},
   "outputs": [
    {
     "data": {
      "image/png": "[encoded data removed]",
      "text/plain": [
       "<Figure size 800x500 with 1 Axes>"
      ]
     },
     "metadata": {},
     "output_type": "display_data"
    }
   ],
   "source": [
    "\n",
    "# %% [markdown]\n",
    "# ## 10. Optional: Visual Comparison of Prediction Lines\n",
    "\n",
    "# %%\n",
    "plt.figure(figsize=(8, 5))\n",
    "plt.plot(comparison_data['SAT'], comparison_data['Pred (Raw)'], label='Raw Model')\n",
    "plt.plot(comparison_data['SAT'], comparison_data['Pred (Standardized)'], linestyle='--', label='Standardized Model')\n",
    "plt.xlabel('SAT')\n",
    "plt.ylabel('Predicted GPA')\n",
    "plt.title('Prediction Comparison (Fixed Rand 1,2,3 = 2)')\n",
    "plt.legend()\n",
    "plt.grid(True)\n",
    "plt.show()\n"
   ]
  },
  {
   "cell_type": "markdown",
   "id": "08ae7601",
   "metadata": {},
   "source": [
    "# No difference in predictions"
   ]
  },
  {
   "cell_type": "markdown",
   "id": "5cbbaa3e",
   "metadata": {},
   "source": [
    "### The Role of Standardization\n",
    "\n",
    "Standardization (or feature scaling) transforms the features (independent variables) so that they have a mean of 0 and a standard deviation of 1. This makes the coefficients of the regression model comparable across features, which is particularly useful when the features are on different scales (e.g., `SAT` scores ranging from 1000 to 2000, and `Rand 1,2,3` ranging from 1 to 5).\n",
    "\n",
    "### Impact on Model Coefficients\n",
    "\n",
    "* **Unstandardized Model (Raw)**: In this model, the features (`SAT` and `Rand 1,2,3`) are used as-is, with their original scales. The model learns coefficients that reflect the relationship between these raw features and the target variable (in your case, GPA).\n",
    "\n",
    "* **Standardized Model**: In the standardized model, the features are scaled to have a mean of 0 and a standard deviation of 1. This means the model will learn coefficients that are related to the *standardized* values of the features. These coefficients tell you how much the target variable (GPA) changes in response to a one-standard-deviation change in each feature.\n",
    "\n",
    "### Why the Predictions Might Be Similar\n",
    "\n",
    "Now, both models are trained to minimize the same objective: **mean squared error (MSE)**. MSE measures how far the predicted values are from the actual values. Regardless of whether the features are raw or standardized, the model tries to find the best line (or hyperplane in higher dimensions) that fits the data to minimize this error.\n",
    "\n",
    "* **Linear Models**: In a simple linear regression, the relationship between the predictors and the target is linear. So, the **predictions** will be similar in both models, even though the coefficients might differ in scale. Essentially, the scaling of the coefficients doesn’t significantly alter the overall relationship between the predictors and the target variable.\n",
    "\n",
    "* **Why the Outputs Align**: Because both models are trained on the same data and minimize the same error (MSE), they are trying to fit the best line to the data. The standardization only changes how the coefficients are expressed, not the underlying relationship between the variables. Hence, the **predictions will generally be very similar**, especially when the feature scales aren't drastically different.\n",
    "\n",
    "### Example:\n",
    "\n",
    "* **Unstandardized Coefficients**: Let's say the unstandardized coefficients are:\n",
    "\n",
    "  * Coefficient for `SAT` = 0.003\n",
    "  * Coefficient for `Rand 1,2,3` = 0.1\n",
    "\n",
    "  These coefficients mean that for every unit increase in `SAT` (i.e., 1 point increase), the GPA is expected to increase by 0.003, and for each unit increase in `Rand 1,2,3`, GPA is expected to increase by 0.1.\n",
    "\n",
    "* **Standardized Coefficients**: After standardization, the coefficients might be:\n",
    "\n",
    "  * Coefficient for `SAT` = 0.5\n",
    "  * Coefficient for `Rand 1,2,3` = 0.2\n",
    "\n",
    "  These coefficients reflect the change in GPA for a one standard deviation change in `SAT` or `Rand 1,2,3`. Since standardization puts features on the same scale, the coefficients become more comparable across features.\n",
    "\n",
    "However, **the relationship between GPA and `SAT` and `Rand 1,2,3` remains the same**, and thus the predictions from both models are likely to be similar, even though the coefficients are expressed in different units (standardized vs raw).\n",
    "\n",
    "### In Short:\n",
    "\n",
    "* **Standardization alters the scale of coefficients**, but the linear relationships learned by the model remain unchanged.\n",
    "* **Predictions are driven by these relationships**, not by the scale of coefficients. Hence, the predictions are often similar in both the standardized and unstandardized models.\n"
   ]
  }
 ],
 "metadata": {
  "kernelspec": {
   "display_name": "venv",
   "language": "python",
   "name": "python3"
  },
  "language_info": {
   "codemirror_mode": {
    "name": "ipython",
    "version": 3
   },
   "file_extension": ".py",
   "mimetype": "text/x-python",
   "name": "python",
   "nbconvert_exporter": "python",
   "pygments_lexer": "ipython3",
   "version": "3.10.8"
  }
 },
 "nbformat": 4,
 "nbformat_minor": 5
}
