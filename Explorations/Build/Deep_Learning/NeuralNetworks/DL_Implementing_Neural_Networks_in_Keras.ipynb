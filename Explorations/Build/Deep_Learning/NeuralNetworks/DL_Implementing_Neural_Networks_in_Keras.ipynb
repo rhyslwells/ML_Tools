{
 "cells": [
  {
   "cell_type": "markdown",
   "metadata": {},
   "source": [
    "# Deep Learning\n",
    "Minicourse, University of Liverpool<br>\n",
    "April 2022<br>\n",
    "Lecturer: Mikko Pakkanen\n",
    "\n",
    "## Implementing Neural Networks in Keras\n",
    "<i>22 April 2022</i>"
   ]
  },
  {
   "cell_type": "markdown",
   "metadata": {},
   "source": [
    "First, we import <b>Keras</b> (this requires that <b>TensorFlow</b> is installed):"
   ]
  },
  {
   "cell_type": "code",
   "execution_count": 1,
   "metadata": {},
   "outputs": [],
   "source": [
    "import tensorflow.keras as keras"
   ]
  },
  {
   "cell_type": "markdown",
   "metadata": {},
   "source": [
    "Second, for later use we import <b>NumPy</b> and <b>matplotlib</b> (and set a nicer plotting style)."
   ]
  },
  {
   "cell_type": "code",
   "execution_count": 2,
   "metadata": {},
   "outputs": [],
   "source": [
    "import numpy as np\n",
    "import matplotlib.pyplot as plt\n",
    "plt.style.use('ggplot')"
   ]
  },
  {
   "cell_type": "markdown",
   "metadata": {},
   "source": [
    "Give the entire architecture "
   ]
  },
  {
   "cell_type": "markdown",
   "metadata": {},
   "source": [
    "We can specify a feedforward neural network\n",
    "$$\n",
    "f \\in \\mathcal{N}_3(2,100,100,1;\\mathrm{ReLU},\\mathrm{ReLU},\\mathrm{Id}),\n",
    "$$\n",
    "say, using the <code>Sequential</code> model of Keras by:"
   ]
  },
  {
   "cell_type": "code",
   "execution_count": 3,
   "metadata": {},
   "outputs": [],
   "source": [
    "f = keras.Sequential([\n",
    "    keras.layers.InputLayer(input_shape=(2,)), #can be higher rank matrix\n",
    "    keras.layers.Dense(100, activation=\"relu\"), #100 number of units, Dense weights not restricted, list or possible layers\n",
    "    keras.layers.Dense(100, activation=\"relu\"), #relu the activation function\n",
    "    keras.layers.Dense(1, activation=\"linear\") #identidy called lineat\n",
    "])\n",
    "\n",
    "#Sequential has restrictions, otherwise use functional API"
   ]
  },
  {
   "cell_type": "markdown",
   "metadata": {},
   "source": [
    "An alternative, but equivalent, way of doing the same using the <code>add</code> method is: Going network layer at a time"
   ]
  },
  {
   "cell_type": "code",
   "execution_count": 4,
   "metadata": {},
   "outputs": [],
   "source": [
    "f = keras.Sequential()\n",
    "f.add(keras.layers.InputLayer(input_shape=(2,)))\n",
    "f.add(keras.layers.Dense(100, activation=\"relu\"))\n",
    "f.add(keras.layers.Dense(100, activation=\"relu\"))\n",
    "f.add(keras.layers.Dense(1, activation=\"linear\"))"
   ]
  },
  {
   "cell_type": "markdown",
   "metadata": {},
   "source": [
    "The <code>summary</code> method lets us summarise the specified architecture of the network $f$ and its parameters."
   ]
  },
  {
   "cell_type": "code",
   "execution_count": 5,
   "metadata": {},
   "outputs": [
    {
     "name": "stdout",
     "output_type": "stream",
     "text": [
      "Model: \"sequential_1\"\n",
      "_________________________________________________________________\n",
      " Layer (type)                Output Shape              Param #   \n",
      "=================================================================\n",
      " dense_3 (Dense)             (None, 100)               300       \n",
      "                                                                 \n",
      " dense_4 (Dense)             (None, 100)               10100     \n",
      "                                                                 \n",
      " dense_5 (Dense)             (None, 1)                 101       \n",
      "                                                                 \n",
      "=================================================================\n",
      "Total params: 10,501\n",
      "Trainable params: 10,501\n",
      "Non-trainable params: 0\n",
      "_________________________________________________________________\n"
     ]
    }
   ],
   "source": [
    "f.summary() #to inspect network, output specifed when training i.e batch size.: input is 2 so: W has 200=100+100 (matrix) weights ,and b has 100"
   ]
  },
  {
   "cell_type": "markdown",
   "metadata": {},
   "source": [
    "We can also visualise the architecture using the function <code>plot_model</code> in <code>keras.utils</code>. (Which is particularly helpful when we have built a model with complicated routings.)"
   ]
  },
  {
   "cell_type": "code",
   "execution_count": 8,
   "metadata": {},
   "outputs": [
    {
     "name": "stdout",
     "output_type": "stream",
     "text": [
      "You must install pydot (`pip install pydot`) and install graphviz (see instructions at https://graphviz.gitlab.io/download/) for plot_model/model_to_dot to work.\n"
     ]
    }
   ],
   "source": [
    "keras.utils.plot_model(f, show_shapes=True) #Same as summary"
   ]
  },
  {
   "cell_type": "markdown",
   "metadata": {},
   "source": [
    "We can remove the final layer of the network using the <code>pop</code> method:"
   ]
  },
  {
   "cell_type": "code",
   "execution_count": 9,
   "metadata": {},
   "outputs": [],
   "source": [
    "f.pop()"
   ]
  },
  {
   "cell_type": "markdown",
   "metadata": {},
   "source": [
    "We should then get $f \\in \\mathcal{N}_2(2,100,100;\\mathrm{ReLU},\\mathrm{ReLU})$, which we can verify with the <code>summary</code> method."
   ]
  },
  {
   "cell_type": "code",
   "execution_count": 10,
   "metadata": {},
   "outputs": [
    {
     "name": "stdout",
     "output_type": "stream",
     "text": [
      "Model: \"sequential_1\"\n",
      "_________________________________________________________________\n",
      " Layer (type)                Output Shape              Param #   \n",
      "=================================================================\n",
      " dense_3 (Dense)             (None, 100)               300       \n",
      "                                                                 \n",
      " dense_4 (Dense)             (None, 100)               10100     \n",
      "                                                                 \n",
      "=================================================================\n",
      "Total params: 10,400\n",
      "Trainable params: 10,400\n",
      "Non-trainable params: 0\n",
      "_________________________________________________________________\n"
     ]
    }
   ],
   "source": [
    "f.summary()"
   ]
  },
  {
   "cell_type": "markdown",
   "metadata": {},
   "source": [
    "Let us however <code>add</code> the deleted layer back to the network $f$: "
   ]
  },
  {
   "cell_type": "code",
   "execution_count": 11,
   "metadata": {},
   "outputs": [],
   "source": [
    "f.add(keras.layers.Dense(1, activation=\"linear\"))"
   ]
  },
  {
   "cell_type": "markdown",
   "metadata": {},
   "source": [
    "We can study the layers of the network using the <code>get_layer</code> method. If we are, for example, interested in extracting the layer $\\boldsymbol{L}_1(\\boldsymbol{x}) = W^1\\boldsymbol{x} + \\boldsymbol{b}^1$, $\\boldsymbol{x} \\in \\mathbb{R}^2$, we can do it as follows (remember that in Python indexation starts from zero):"
   ]
  },
  {
   "cell_type": "code",
   "execution_count": 12,
   "metadata": {},
   "outputs": [],
   "source": [
    "L_1 = f.get_layer(index=0)"
   ]
  },
  {
   "cell_type": "markdown",
   "metadata": {},
   "source": [
    "We can inspect the weight matrix $W^1$ and bias vector $\\boldsymbol{b}^1$ using the <code>get_weights</code> method."
   ]
  },
  {
   "cell_type": "code",
   "execution_count": 13,
   "metadata": {},
   "outputs": [
    {
     "name": "stdout",
     "output_type": "stream",
     "text": [
      "[array([[-0.12700047, -0.15583843, -0.22265486,  0.19015694, -0.14508107,\n",
      "         0.21118864, -0.16222502, -0.08610085,  0.1146062 , -0.14591357,\n",
      "         0.23768976,  0.0627555 , -0.12311642, -0.21112572, -0.14658216,\n",
      "         0.07289571, -0.20110968,  0.13522848,  0.01741105,  0.14052394,\n",
      "         0.02931154, -0.0187223 , -0.17359775,  0.16002774, -0.21953654,\n",
      "        -0.09265693, -0.01098773, -0.0987356 , -0.15545626, -0.00535905,\n",
      "        -0.17067957,  0.21588692, -0.21269983,  0.14403188,  0.08507225,\n",
      "         0.15118113,  0.09000686, -0.09872942,  0.07439181, -0.24079706,\n",
      "        -0.10605961, -0.19590907, -0.16275707,  0.10930771, -0.14407913,\n",
      "        -0.24093844,  0.14971244,  0.0940744 ,  0.11947057,  0.02873629,\n",
      "         0.06251484,  0.00173324, -0.1049892 , -0.10033435, -0.00129591,\n",
      "         0.1936993 ,  0.03827366,  0.07486719,  0.13296464,  0.05989918,\n",
      "        -0.08223531,  0.10328978, -0.01157004, -0.00444303,  0.16748595,\n",
      "         0.13623935, -0.10688181,  0.14315087, -0.20651713,  0.11357316,\n",
      "         0.15292907, -0.13725828,  0.00141631, -0.1289432 , -0.11962512,\n",
      "         0.08003297,  0.19598013, -0.07671145,  0.0508199 ,  0.22990888,\n",
      "         0.15009663, -0.20169215, -0.11905329,  0.23661909, -0.23693688,\n",
      "        -0.0256355 ,  0.12608168,  0.18036923,  0.2224704 , -0.17257905,\n",
      "        -0.11088765, -0.18488201, -0.08641252, -0.15999651,  0.12073773,\n",
      "        -0.13306417,  0.13287017,  0.2261937 , -0.20504634,  0.02113348],\n",
      "       [ 0.16632822,  0.14958015, -0.08953576, -0.11682014,  0.15497309,\n",
      "        -0.17243062, -0.18910325,  0.05885828,  0.13268378,  0.14387229,\n",
      "        -0.21608236,  0.12614557, -0.07886554, -0.08573949, -0.01735826,\n",
      "         0.23008347, -0.03455853,  0.09811571,  0.23950711,  0.03132728,\n",
      "        -0.21670422,  0.13722745,  0.0620321 , -0.07891175, -0.09490471,\n",
      "         0.1918833 ,  0.0047971 , -0.07006401,  0.14672238, -0.24198808,\n",
      "        -0.01916917, -0.23829873,  0.01470107, -0.01192646, -0.02862857,\n",
      "         0.05326456,  0.07787257, -0.02942581, -0.15304427, -0.06105377,\n",
      "         0.17909974,  0.04082334,  0.11647382,  0.05917445, -0.08963691,\n",
      "        -0.1112147 , -0.00858736, -0.06235825, -0.04358929, -0.02477691,\n",
      "         0.03724322,  0.08008796, -0.11720388,  0.2301155 ,  0.08510858,\n",
      "         0.0857428 ,  0.04528981,  0.22614843, -0.21010216, -0.1710397 ,\n",
      "        -0.03869568,  0.18086174,  0.1380857 , -0.1897732 , -0.08476526,\n",
      "         0.01588336, -0.23506261, -0.19119298,  0.15503904, -0.16633523,\n",
      "        -0.19279468,  0.22541243,  0.06987596,  0.04851204,  0.14269122,\n",
      "        -0.2039328 , -0.23823275,  0.04264662, -0.17371526,  0.15824544,\n",
      "         0.02838963, -0.02309433,  0.13577917, -0.1707146 ,  0.13984889,\n",
      "         0.14743549, -0.1287621 , -0.03642108,  0.13700992, -0.22322583,\n",
      "        -0.10572243,  0.14700276,  0.08610743, -0.04051548, -0.06162803,\n",
      "        -0.10851052, -0.06483009, -0.2412371 , -0.06293604, -0.07774386]],\n",
      "      dtype=float32), array([0., 0., 0., 0., 0., 0., 0., 0., 0., 0., 0., 0., 0., 0., 0., 0., 0.,\n",
      "       0., 0., 0., 0., 0., 0., 0., 0., 0., 0., 0., 0., 0., 0., 0., 0., 0.,\n",
      "       0., 0., 0., 0., 0., 0., 0., 0., 0., 0., 0., 0., 0., 0., 0., 0., 0.,\n",
      "       0., 0., 0., 0., 0., 0., 0., 0., 0., 0., 0., 0., 0., 0., 0., 0., 0.,\n",
      "       0., 0., 0., 0., 0., 0., 0., 0., 0., 0., 0., 0., 0., 0., 0., 0., 0.,\n",
      "       0., 0., 0., 0., 0., 0., 0., 0., 0., 0., 0., 0., 0., 0., 0.],\n",
      "      dtype=float32)]\n"
     ]
    }
   ],
   "source": [
    "print(L_1.get_weights()) #Keras uses a random initialiser, weights , bias"
   ]
  },
  {
   "cell_type": "markdown",
   "metadata": {},
   "source": [
    "We have not trained $f$ yet, so $W^1 \\in \\mathbb{R}^{100 \\times 2}$ and $\\boldsymbol{b}^1 \\in \\mathbb{R}^{100}$ are at their initialiser values. By default, <b>Keras</b> uses the random <i>Glorot</i> initialiser for weights and just zeros for biases. We could also specify weights manually using the <code>set_weights</code> method."
   ]
  },
  {
   "cell_type": "markdown",
   "metadata": {},
   "source": [
    "The method <code>predict</code> lets us compute $f(\\boldsymbol{x})$ for given input $\\boldsymbol{x} \\in \\mathbb{R}^2$. The method expects here the input in the shape <code>(N,2)</code>, where <code>N</code> is the number of different values of $\\boldsymbol{x}$ for which we want $f(\\boldsymbol{x})$ to be computed. Let us just take <code>N=1</code> and try with $\\boldsymbol{x} = (1,0)$."
   ]
  },
  {
   "cell_type": "code",
   "execution_count": 14,
   "metadata": {},
   "outputs": [
    {
     "name": "stdout",
     "output_type": "stream",
     "text": [
      "[[-0.04202627]]\n"
     ]
    }
   ],
   "source": [
    "print(f.predict(np.reshape((1,0), (1,2)))) #Network just functions want to evaluate., can do for range then plot"
   ]
  },
  {
   "cell_type": "markdown",
   "metadata": {},
   "source": [
    "To gain some insight into what an untrained ReLU network looks like, let us use <code>predict</code> to plot $f(x,1)$ for $x \\in [-1,1]$."
   ]
  },
  {
   "cell_type": "code",
   "execution_count": 15,
   "metadata": {},
   "outputs": [
    {
     "data": {
      "image/png": "[encoded data removed]",
      "text/plain": [
       "<Figure size 432x288 with 1 Axes>"
      ]
     },
     "metadata": {},
     "output_type": "display_data"
    }
   ],
   "source": [
    "x_grid = np.linspace(-1, 1, num=2001)\n",
    "x_ones = np.ones((2001, ))\n",
    "xb = np.stack((x_grid, x_ones), -1) \n",
    "y_out = f.predict(xb)\n",
    "plt.plot(x_grid, y_out)\n",
    "plt.xlabel(r\"$x$\")\n",
    "plt.ylabel(r\"$f(x,1)$\")\n",
    "plt.show()"
   ]
  },
  {
   "cell_type": "markdown",
   "metadata": {},
   "source": [
    "Network doenst know task yet, we need the loss function for that."
   ]
  },
  {
   "cell_type": "markdown",
   "metadata": {},
   "source": [
    "To prepare $f$ for training, we can use the <code>compile</code> method to specify the loss function $\\ell$ and the optimisation method. For example, we can set $\\ell$ to be squared loss to be optimised with <i>Adam</i> by:"
   ]
  },
  {
   "cell_type": "code",
   "execution_count": null,
   "metadata": {},
   "outputs": [],
   "source": [
    "f.compile(optimizer=\"adam\", loss=\"mean_squared_error\") #Adam is adjusted version of SGD. \n",
    "#Epoch is one run through data."
   ]
  },
  {
   "cell_type": "markdown",
   "metadata": {},
   "source": [
    "With training data, consisting of <code>N</code> samples, supplied in arrays <code>X</code> and <code>Y</code> with shapes <code>(N,2)</code> and  <code>(N,1)</code>, respectively, we could now train $f$ with minibatch size $100$ for $10$ epochs, say, by <code>f.fit(X, Y, batch_size=100, epochs=10)</code>. <b>We will return to this in the next example (Example 4.2) where we look into regression.</b>"
   ]
  }
 ],
 "metadata": {
  "hide_input": false,
  "kernelspec": {
   "display_name": "Python 3 (ipykernel)",
   "language": "python",
   "name": "python3"
  },
  "language_info": {
   "codemirror_mode": {
    "name": "ipython",
    "version": 3
   },
   "file_extension": ".py",
   "mimetype": "text/x-python",
   "name": "python",
   "nbconvert_exporter": "python",
   "pygments_lexer": "ipython3",
   "version": "3.8.12"
  },
  "latex_envs": {
   "LaTeX_envs_menu_present": true,
   "autoclose": false,
   "autocomplete": true,
   "bibliofile": "biblio.bib",
   "cite_by": "apalike",
   "current_citInitial": 1,
   "eqLabelWithNumbers": true,
   "eqNumInitial": 1,
   "hotkeys": {
    "equation": "Ctrl-E",
    "itemize": "Ctrl-I"
   },
   "labels_anchors": false,
   "latex_user_defs": false,
   "report_style_numbering": false,
   "user_envs_cfg": false
  },
  "toc": {
   "base_numbering": 1,
   "nav_menu": {},
   "number_sections": true,
   "sideBar": true,
   "skip_h1_title": false,
   "title_cell": "Table of Contents",
   "title_sidebar": "Contents",
   "toc_cell": false,
   "toc_position": {},
   "toc_section_display": true,
   "toc_window_display": false
  }
 },
 "nbformat": 4,
 "nbformat_minor": 2
}
