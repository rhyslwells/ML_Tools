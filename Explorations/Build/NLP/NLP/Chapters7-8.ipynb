{
 "cells": [
  {
   "cell_type": "markdown",
   "metadata": {},
   "source": [
    "# Chapters 7 and 8: Sentiment Analysis\n",
    "\n",
    "## Data loading and preliminary inspection\n",
    "\n",
    "We will be using popular `polarity dataset 2.0` collected by [Bo Pang and colleagues from Cornell Univeristy](http://www.cs.cornell.edu/people/pabo/movie-review-data/). Let's first read it in and inspect the data. This code is very similar to the routine applied to spam filtering in Chapter 2:"
   ]
  },
  {
   "cell_type": "code",
   "execution_count": 1,
   "metadata": {},
   "outputs": [],
   "source": [
    "import os, codecs\n",
    "\n",
    "def read_in(folder):\n",
    "    files = os.listdir(folder)\n",
    "    a_dict = {}\n",
    "    for a_file in sorted(files):\n",
    "        if not a_file.startswith(\".\"):\n",
    "            with codecs.open(folder + a_file, encoding='ISO-8859-1', errors ='ignore') as f:\n",
    "                file_id = a_file.split(\".\")[0].strip()\n",
    "                a_dict[file_id] = f.read()\n",
    "            f.close()\n",
    "    return a_dict"
   ]
  },
  {
   "cell_type": "markdown",
   "metadata": {},
   "source": [
    "Now, when you download the dataset, it comes as two subfolders named `pos/` for all positive reviews and `neg/` for all negative ones, put within a folder called `review_polarity/txt_sentoken/`. If you don't change the folder names, you can simply read in the contents of all positive and negative reviews and put them in separate Python dictionaries of review titles mapped to the reviews content, using the method `read_in` from above.\n",
    "\n",
    "Let's also print out the number of reviews in positive and negative dictionaries, as well as the very first positive and very first negative reviews in the dictionaries."
   ]
  },
  {
   "cell_type": "code",
   "execution_count": 2,
   "metadata": {},
   "outputs": [
    {
     "name": "stdout",
     "output_type": "stream",
     "text": [
      "1000\n",
      "films adapted from comic books have had plenty of success , whether they're about superheroes ( batman , superman , spawn ) , or geared toward kids ( casper ) or the arthouse crowd ( ghost world ) , but there's never really been a comic book like from hell before . \n",
      "for starters , it was created by alan moore ( and eddie campbell ) , who brought the medium to a whole new level in the mid '80s with a 12-part series called the watchmen . \n",
      "to say moore and campbell thoroughly researched the subject of jack the ripper would be like saying michael jackson is starting to look a little odd . \n",
      "the book ( or \" graphic novel , \" if you will ) is over 500 pages long and includes nearly 30 more that consist of nothing but footnotes . \n",
      "in other words , don't dismiss this film because of its source . \n",
      "if you can get past the whole comic book thing , you might find another stumbling block in from hell's directors , albert and allen hughes . \n",
      "getting the hughes brothers to direct this seems almost as ludicrous as casting carrot top in , well , anything , but riddle me this : who better to direct a film that's set in the ghetto and features really violent street crime than the mad geniuses behind menace ii society ? \n",
      "the ghetto in question is , of course , whitechapel in 1888 london's east end . \n",
      "it's a filthy , sooty place where the whores ( called \" unfortunates \" ) are starting to get a little nervous about this mysterious psychopath who has been carving through their profession with surgical precision . \n",
      "when the first stiff turns up , copper peter godley ( robbie coltrane , the world is not enough ) calls in inspector frederick abberline ( johnny depp , blow ) to crack the case . \n",
      "abberline , a widower , has prophetic dreams he unsuccessfully tries to quell with copious amounts of absinthe and opium . \n",
      "upon arriving in whitechapel , he befriends an unfortunate named mary kelly ( heather graham , say it isn't so ) and proceeds to investigate the horribly gruesome crimes that even the police surgeon can't stomach . \n",
      "i don't think anyone needs to be briefed on jack the ripper , so i won't go into the particulars here , other than to say moore and campbell have a unique and interesting theory about both the identity of the killer and the reasons he chooses to slay . \n",
      "in the comic , they don't bother cloaking the identity of the ripper , but screenwriters terry hayes ( vertical limit ) and rafael yglesias ( les mis ? rables ) do a good job of keeping him hidden from viewers until the very end . \n",
      "it's funny to watch the locals blindly point the finger of blame at jews and indians because , after all , an englishman could never be capable of committing such ghastly acts . \n",
      "and from hell's ending had me whistling the stonecutters song from the simpsons for days ( \" who holds back the electric car/who made steve guttenberg a star ? \" ) . \n",
      "don't worry - it'll all make sense when you see it . \n",
      "now onto from hell's appearance : it's certainly dark and bleak enough , and it's surprising to see how much more it looks like a tim burton film than planet of the apes did ( at times , it seems like sleepy hollow 2 ) . \n",
      "the print i saw wasn't completely finished ( both color and music had not been finalized , so no comments about marilyn manson ) , but cinematographer peter deming ( don't say a word ) ably captures the dreariness of victorian-era london and helped make the flashy killing scenes remind me of the crazy flashbacks in twin peaks , even though the violence in the film pales in comparison to that in the black-and-white comic . \n",
      "oscar winner martin childs' ( shakespeare in love ) production design turns the original prague surroundings into one creepy place . \n",
      "even the acting in from hell is solid , with the dreamy depp turning in a typically strong performance and deftly handling a british accent . \n",
      "ians holm ( joe gould's secret ) and richardson ( 102 dalmatians ) log in great supporting roles , but the big surprise here is graham . \n",
      "i cringed the first time she opened her mouth , imagining her attempt at an irish accent , but it actually wasn't half bad . \n",
      "the film , however , is all good . \n",
      "2 : 00 - r for strong violence/gore , sexuality , language and drug content \n",
      "\n",
      "1000\n",
      "plot : two teen couples go to a church party , drink and then drive . \n",
      "they get into an accident . \n",
      "one of the guys dies , but his girlfriend continues to see him in her life , and has nightmares . \n",
      "what's the deal ? \n",
      "watch the movie and \" sorta \" find out . . . \n",
      "critique : a mind-fuck movie for the teen generation that touches on a very cool idea , but presents it in a very bad package . \n",
      "which is what makes this review an even harder one to write , since i generally applaud films which attempt to break the mold , mess with your head and such ( lost highway & memento ) , but there are good and bad ways of making all types of films , and these folks just didn't snag this one correctly . \n",
      "they seem to have taken this pretty neat concept , but executed it terribly . \n",
      "so what are the problems with the movie ? \n",
      "well , its main problem is that it's simply too jumbled . \n",
      "it starts off \" normal \" but then downshifts into this \" fantasy \" world in which you , as an audience member , have no idea what's going on . \n",
      "there are dreams , there are characters coming back from the dead , there are others who look like the dead , there are strange apparitions , there are disappearances , there are a looooot of chase scenes , there are tons of weird things that happen , and most of it is simply not explained . \n",
      "now i personally don't mind trying to unravel a film every now and then , but when all it does is give me the same clue over and over again , i get kind of fed up after a while , which is this film's biggest problem . \n",
      "it's obviously got this big secret to hide , but it seems to want to hide it completely until its final five minutes . \n",
      "and do they make things entertaining , thrilling or even engaging , in the meantime ? \n",
      "not really . \n",
      "the sad part is that the arrow and i both dig on flicks like this , so we actually figured most of it out by the half-way point , so all of the strangeness after that did start to make a little bit of sense , but it still didn't the make the film all that more entertaining . \n",
      "i guess the bottom line with movies like this is that you should always make sure that the audience is \" into it \" even before they are given the secret password to enter your world of understanding . \n",
      "i mean , showing melissa sagemiller running away from visions for about 20 minutes throughout the movie is just plain lazy ! ! \n",
      "okay , we get it . . . there \n",
      "are people chasing her and we don't know who they are . \n",
      "do we really need to see it over and over again ? \n",
      "how about giving us different scenes offering further insight into all of the strangeness going down in the movie ? \n",
      "apparently , the studio took this film away from its director and chopped it up themselves , and it shows . \n",
      "there might've been a pretty decent teen mind-fuck movie in here somewhere , but i guess \" the suits \" decided that turning it into a music video with little edge , would make more sense . \n",
      "the actors are pretty good for the most part , although wes bentley just seemed to be playing the exact same character that he did in american beauty , only in a new neighborhood . \n",
      "but my biggest kudos go out to sagemiller , who holds her own throughout the entire film , and actually has you feeling her character's unraveling . \n",
      "overall , the film doesn't stick because it doesn't entertain , it's confusing , it rarely excites and it feels pretty redundant for most of its runtime , despite a pretty cool ending and explanation to all of the craziness that came before it . \n",
      "oh , and by the way , this is not a horror or teen slasher flick . . . it's \n",
      "just packaged to look that way because someone is apparently assuming that the genre is still hot with the kids . \n",
      "it also wrapped production two years ago and has been sitting on the shelves ever since . \n",
      "whatever . . . skip \n",
      "it ! \n",
      "where's joblo coming from ? \n",
      "a nightmare of elm street 3 ( 7/10 ) - blair witch 2 ( 7/10 ) - the crow ( 9/10 ) - the crow : salvation ( 4/10 ) - lost highway ( 10/10 ) - memento ( 10/10 ) - the others ( 9/10 ) - stir of echoes ( 8/10 ) \n",
      "\n"
     ]
    }
   ],
   "source": [
    "folder = \"review_polarity/txt_sentoken/\"\n",
    "pos_dict = read_in(folder + \"pos/\")\n",
    "print(len(pos_dict))\n",
    "print(pos_dict.get(next(iter(pos_dict))))\n",
    "neg_dict = read_in(folder + \"neg/\")\n",
    "print(len(neg_dict))\n",
    "print(neg_dict.get(next(iter(neg_dict))))"
   ]
  },
  {
   "cell_type": "markdown",
   "metadata": {},
   "source": [
    "So far so good! There are a couple of observation that you can make at this point:\n",
    "\n",
    "- The dataset is balanced between positive and negative reviews – both subsets have `1000` texts.\n",
    "- Texts are already preprocessed: they are tokenized (i.e., each word token is separated from its neighbours by a white space, all words are converted to lower case).\n",
    "\n",
    "What can you tell about the word content? Does the first positive review contain many positive words: i.e., if you didn't know it came from the `pos/` folder, would you be able to tell it was a positive one?\n",
    "\n",
    "Let's next calculate some simple statistics, including: \n",
    "- Average length of a review in positive and negative subsets\n",
    "- Average number of words per sentence\n",
    "- Size of the vocabulary (unique words in each subset)\n",
    "- *Diversity* of sentiment vocabulary – average number of times each word occurs in a text with a specific sentiment\n",
    "\n",
    "Many of these calculations will rely on having words extracted from text. Since texts are already tokenized and words are separated by white spaces, it's a matter of simply splitting texts into words by white spaces – see method `tokenize`:"
   ]
  },
  {
   "cell_type": "code",
   "execution_count": 3,
   "metadata": {},
   "outputs": [
    {
     "name": "stdout",
     "output_type": "stream",
     "text": [
      " Category  Avg_Len(Review)  Avg_Len(Sent)  Vocabulary Size  Diversity \n",
      " Positive  787.051000       23.191531      36805.000000     21.384350 \n",
      " Negative  705.630000       21.524266      34542.000000     20.428174 \n"
     ]
    }
   ],
   "source": [
    "def tokenize(text):\n",
    "    text.replace(\"\\n\", \" \")\n",
    "    return text.split()\n",
    "\n",
    "def statistics(a_dict):\n",
    "    length = 0\n",
    "    sent_length = 0\n",
    "    num_sents = 0\n",
    "    vocab = []\n",
    "    for review in a_dict.values():\n",
    "        length += len(tokenize(review))\n",
    "        sents = review.split(\"\\n\")\n",
    "        num_sents += len(sents)\n",
    "        for sent in sents:\n",
    "            sent_length += len(tokenize(sent))\n",
    "        vocab += tokenize(review)\n",
    "    avg_length = float(length)/len(a_dict)\n",
    "    avg_sent_length = float(sent_length)/num_sents\n",
    "    vocab_size = len(set(vocab))\n",
    "    diversity = float(length)/float(vocab_size)\n",
    "    return avg_length, avg_sent_length, vocab_size, diversity\n",
    "        \n",
    "categories = [\"Positive\", \"Negative\"]\n",
    "rows = []\n",
    "rows.append([\"Category\", \"Avg_Len(Review)\", \"Avg_Len(Sent)\", \"Vocabulary Size\", \"Diversity\"])\n",
    "stats = {}\n",
    "stats[\"Positive\"] = statistics(pos_dict)\n",
    "stats[\"Negative\"] = statistics(neg_dict)\n",
    "for cat in categories:\n",
    "    rows.append([cat, f\"{stats.get(cat)[0]:.6f}\", \n",
    "                f\"{stats.get(cat)[1]:.6f}\",\n",
    "                f\"{stats.get(cat)[2]:.6f}\",\n",
    "                f\"{stats.get(cat)[3]:.6f}\"])\n",
    "\n",
    "columns = zip(*rows)\n",
    "column_widths = [max(len(item) for item in col) for col in columns]\n",
    "for row in rows:\n",
    "    print(''.join(' {:{width}} '.format(row[i], width=column_widths[i]) \n",
    "                  for i in range(0, len(row))))   "
   ]
  },
  {
   "cell_type": "markdown",
   "metadata": {},
   "source": [
    "As it shows, positive reviews are overall longer than negative ones; they also have longer sentences with larger and more diverse vocabularies. Let's see how many words there are in overlap between positive and negative vocabularies:"
   ]
  },
  {
   "cell_type": "code",
   "execution_count": 4,
   "metadata": {
    "scrolled": false
   },
   "outputs": [
    {
     "name": "stdout",
     "output_type": "stream",
     "text": [
      "['asssss', 'assuaged', 'asthmatic', 'astin', 'astonishment', 'astor', \"astronauts'\", 'astronomer/writer', 'astronomical', 'astronomically', 'asuma', 'at-odds', 'atf', 'atheism', 'atheists', 'atkine', \"atlanta's\", \"atlantic's\", 'atlantis', \"atlantis'\", 'atmospheres', 'atmospherically', 'atmostpheric', 'atomizers', 'atone', 'atreus', 'atrophied', 'atrophy', 'attachs', 'attainable', \"attanasio's\", \"attendant's\", 'attendees', 'attention-grabbing', 'attentive', 'attentiveness', 'attest', 'attilla-looking', 'attractions', 'attractive-seeming', 'attractiveness', 'au/~koukoula/', 'auberjonois', 'audacious', 'audacious--and', 'audience--in', 'audience-friendly', 'audience-pleaser', 'audience-pleasing', 'audiotapes', 'auditioned', 'auditor', 'audre', 'aug', 'aughra', 'augment', \"august's\", 'augusts', 'aulon', 'aumont', 'aunjanue', 'auntie', 'aural', 'aurally', 'aurelien', 'aurelius', \"aurelius'\", 'auriga', 'auriol', 'aurora', 'auschwitz', 'austen-like', \"australian's\", 'australian/belgian', 'auteil', 'auteuil', \"auteuil's\", \"auteur's\", 'authentically', 'authorial', 'authoritarian', 'authoritarianism', 'authoritatively', \"authorities'\", 'authoritive', 'authorizes', 'authorship', 'authorties', 'auto-arousal', 'autocrat', 'automation', 'autonomous', 'autonomy', \"autumn's\", 'autumnal', 'aux', 'auxiliary', 'availability', 'avant', 'avary']\n",
      "['baffling', 'bafflingly', 'bafta', 'baggy', 'baghdad', 'bah', 'bahia', 'bahns', 'baigelman', \"baigelman's\", 'baileygaites', 'bails', 'baio', 'baird', 'bakalian', 'baker-enhanced', 'bakersfield', 'bakker', 'bakkers', 'bakula', 'balaban', 'balasko', 'balbricker', 'baldly', 'balinski', 'balki', 'ball-peen', 'ball-picking', 'ball-sniffing', 'ballard', 'ballet-type', 'ballhaus', 'ballisitic', 'ballistics', 'ballooning', 'ballyhooed', 'balm', 'bamboozled', \"band's\", 'bandaras', \"banderas'\", \"banderas's\", 'banderes', 'bandies', 'bane', 'bangkok', 'bangy', 'banish', 'bankability', 'bankroll', 'banshee', 'banzai', 'baotian', 'bar-owner', 'bar-room', 'bar/whorehouse', 'barbarino', 'barbarity', 'barbecue', 'barbell', 'barbeque', 'barby', 'barcalow', 'bare-chested', 'barely-funny', 'barely-in-control', 'barest', 'barfing', 'bark', 'barked', 'barkeep', 'barkeeps', 'barker', 'barnacles', 'barnett', 'barney', 'barnfield', 'barr', 'barracking', 'barrie', 'barring', 'barta', 'bartenders', 'barter', 'bartholomew', 'bartkiwiak', 'bartusiak', 'bascially', 'baseball-related', 'baseless', 'baser', 'bashfully', 'basic--and', \"basinger's\", 'basquiat', 'bastardizing', 'bastards', 'bastion', 'bat-loathing', 'bat-people']\n",
      "\n",
      "16378 unique words in positive reviews only\n",
      "14115 unique words in negative reviews only\n"
     ]
    }
   ],
   "source": [
    "def vocab_difference(list1, list2):\n",
    "    vocab1 = []\n",
    "    vocab2 = []\n",
    "    for rev in list1:\n",
    "        vocab1 += tokenize(rev)\n",
    "    for rev in list2:\n",
    "        vocab2 += tokenize(rev)\n",
    "    return sorted(list(set(vocab1) - set(vocab2)))\n",
    "\n",
    "pos_wordlist = pos_dict.values()\n",
    "neg_wordlist = neg_dict.values()\n",
    "\n",
    "print(vocab_difference(pos_wordlist, neg_wordlist)[1500:1600])\n",
    "print(vocab_difference(neg_wordlist, pos_wordlist)[1500:1600])\n",
    "print()\n",
    "print(str(len(vocab_difference(pos_wordlist, neg_wordlist))) + \" unique words in positive reviews only\")\n",
    "print(str(len(vocab_difference(neg_wordlist, pos_wordlist))) + \" unique words in negative reviews only\")"
   ]
  },
  {
   "cell_type": "markdown",
   "metadata": {},
   "source": [
    "There are $16378$ unique words in the `positive` dictionary and $14115$ unique words in the `negative` one.\n",
    "\n",
    "So far, you've been looking at word forms – i.e., words like *movie* and *movies*, *like* and *liked* were considered as separate tokens in the statistics above. How much diversity is there in reviews when you take lemmas? Let's apply further NLP analysis and see how many word lemmas, not word forms (i.e., original tokens), there are in each subset.\n",
    "\n",
    "First, import `spacy` and implement the method `lemmatize`, that, when the \"switch\" is turned on, will return lemmas rather than word tokens."
   ]
  },
  {
   "cell_type": "code",
   "execution_count": 5,
   "metadata": {},
   "outputs": [],
   "source": [
    "import spacy\n",
    "nlp = spacy.load(\"en_core_web_md\")"
   ]
  },
  {
   "cell_type": "code",
   "execution_count": 6,
   "metadata": {
    "scrolled": false
   },
   "outputs": [
    {
     "name": "stdout",
     "output_type": "stream",
     "text": [
      "['film', 'adapt', 'from', 'comic', 'book', 'have', 'have', 'plenty', 'of', 'success', ',', 'whether', '-PRON-', 'be', 'about', 'superhero', '(', 'batman', ',', 'superman', ',', 'spawn', ')', ',', 'or', 'gear', 'toward', 'kid', '(', 'casper', ')', 'or', 'the', 'arthouse', 'crowd', '(', 'ghost', 'world', ')', ',', 'but', 'there', 'be', 'never', 'really', 'be', 'a', 'comic', 'book', 'like', 'from', 'hell', 'before', '.', ' ', 'for', 'starter', ',', '-PRON-', 'be', 'create', 'by', 'alan', 'moore', '(', 'and', 'eddie', 'campbell', ')', ',', 'who', 'bring', 'the', 'medium', 'to', 'a', 'whole', 'new', 'level', 'in', 'the', 'mid', \"'\", '80', 'with', 'a', '12-part', 'series', 'call', 'the', 'watchman', '.', ' ', 'to', 'say', 'moore', 'and', 'campbell', 'thoroughly', 'research', 'the', 'subject', 'of', 'jack', 'the', 'ripper', 'would', 'be', 'like', 'say', 'michael', 'jackson', 'be', 'start', 'to', 'look', 'a', 'little', 'odd', '.', ' ', 'the', 'book', '(', 'or', '\"', 'graphic', 'novel', ',', '\"', 'if', '-PRON-', 'will', ')', 'be', 'over', '500', 'page', 'long', 'and', 'include', 'nearly', '30', 'more', 'that', 'consist', 'of', 'nothing', 'but', 'footnote', '.', ' ', 'in', 'other', 'word', ',', 'do', 'not', 'dismiss', 'this', 'film', 'because', 'of', '-PRON-', 'source', '.', ' ', 'if', '-PRON-', 'can', 'get', 'past', 'the', 'whole', 'comic', 'book', 'thing', ',', '-PRON-', 'may', 'find', 'another', 'stumble', 'block', 'in', 'from', 'hell', \"'s\", 'director', ',', 'albert', 'and', 'allen', 'hughes', '.', ' ', 'get', 'the', 'hughe', 'brother']\n",
      "\n",
      "[films, adapted, from, comic, books, have, had, plenty, of, success, ,, whether, they, 're, about, superheroes, (, batman, ,, superman, ,, spawn, ), ,, or, geared, toward, kids, (, casper, ), or, the, arthouse, crowd, (, ghost, world, ), ,, but, there, 's, never, really, been, a, comic, book, like, from, hell, before, .,  , for, starters, ,, it, was, created, by, alan, moore, (, and, eddie, campbell, ), ,, who, brought, the, medium, to, a, whole, new, level, in, the, mid, ', 80s, with, a, 12-part, series, called, the, watchmen, .,  , to, say, moore, and, campbell, thoroughly, researched, the, subject, of, jack, the, ripper, would, be, like, saying, michael, jackson, is, starting, to, look, a, little, odd, .,  , the, book, (, or, \", graphic, novel, ,, \", if, you, will, ), is, over, 500, pages, long, and, includes, nearly, 30, more, that, consist, of, nothing, but, footnotes, .,  , in, other, words, ,, do, n't, dismiss, this, film, because, of, its, source, .,  , if, you, can, get, past, the, whole, comic, book, thing, ,, you, might, find, another, stumbling, block, in, from, hell, 's, directors, ,, albert, and, allen, hughes, .,  , getting, the, hughes, brothers]\n"
     ]
    }
   ],
   "source": [
    "def lemmatize(sentence, switch):\n",
    "    text = nlp(sentence.replace(\"\\n\", \" \"))\n",
    "    if switch==\"on\":\n",
    "        lemmas = [text[i].lemma_ for i in range(len(text))]\n",
    "        return lemmas\n",
    "    else:\n",
    "        tokens = [text[i] for i in range(len(text))]\n",
    "        return tokens\n",
    "\n",
    "#print out the results and compare\n",
    "print(lemmatize(pos_dict.get(next(iter(pos_dict))), \"on\")[:200])\n",
    "print()\n",
    "print(lemmatize(pos_dict.get(next(iter(pos_dict))), \"off\")[:200])"
   ]
  },
  {
   "cell_type": "markdown",
   "metadata": {},
   "source": [
    "Since processing with `spacy` might take time, let's run it once and store the results in specific data structures as we did in the previous chapters:"
   ]
  },
  {
   "cell_type": "code",
   "execution_count": 7,
   "metadata": {},
   "outputs": [
    {
     "name": "stdout",
     "output_type": "stream",
     "text": [
      "200 reviews processed\n",
      "400 reviews processed\n",
      "600 reviews processed\n",
      "800 reviews processed\n",
      "Dataset processed\n",
      "200 reviews processed\n",
      "400 reviews processed\n",
      "600 reviews processed\n",
      "800 reviews processed\n",
      "Dataset processed\n"
     ]
    }
   ],
   "source": [
    "def spacy_preprocess_reviews(source):\n",
    "    source_docs = {}\n",
    "    index = 0\n",
    "    for review_id in source.keys():\n",
    "        #to speed processing up, you can disable \"ner\" – Named Entity Recognition module of spaCy\n",
    "        source_docs[review_id] = nlp(source.get(review_id).replace(\"\\n\", \"\"), disable=[\"ner\"])\n",
    "        if index>0 and (index%200)==0:\n",
    "            print(str(index) + \" reviews processed\")\n",
    "        index += 1\n",
    "    print(\"Dataset processed\")\n",
    "    return source_docs\n",
    "\n",
    "pos_docs = spacy_preprocess_reviews(pos_dict)\n",
    "neg_docs = spacy_preprocess_reviews(neg_dict)"
   ]
  },
  {
   "cell_type": "markdown",
   "metadata": {},
   "source": [
    "Now, let's calculate statistics as before, but this time taking lemmas rather than word tokens into account – intuitively, this should make the space of unique 'words' smaller:"
   ]
  },
  {
   "cell_type": "code",
   "execution_count": 8,
   "metadata": {},
   "outputs": [
    {
     "name": "stdout",
     "output_type": "stream",
     "text": [
      " Category  Avg_Len(Review)  Vocabulary Size  Diversity \n",
      " Positive  818.722000       24432.000000     33.510232 \n",
      " Negative  737.379000       22839.000000     32.285958 \n"
     ]
    }
   ],
   "source": [
    "def statistics_lem(source_docs):\n",
    "    length = 0\n",
    "    vocab = []\n",
    "    for review_id in source_docs.keys():\n",
    "        review_doc = source_docs.get(review_id)\n",
    "        lemmas = []\n",
    "        for token in review_doc:\n",
    "            lemmas.append(token.lemma_)\n",
    "        length += len(lemmas)\n",
    "        vocab += lemmas\n",
    "    avg_length = float(length)/len(source_docs)\n",
    "    vocab_size = len(set(vocab))\n",
    "    diversity = float(length)/float(vocab_size)\n",
    "    return avg_length, vocab_size, diversity\n",
    "        \n",
    "categories = [\"Positive\", \"Negative\"]\n",
    "rows = []\n",
    "rows.append([\"Category\", \"Avg_Len(Review)\", \"Vocabulary Size\", \"Diversity\"])\n",
    "stats = {}\n",
    "stats[\"Positive\"] = statistics_lem(pos_docs)\n",
    "stats[\"Negative\"] = statistics_lem(neg_docs)\n",
    "for cat in categories:\n",
    "    rows.append([cat, f\"{stats.get(cat)[0]:.6f}\", \n",
    "                f\"{stats.get(cat)[1]:.6f}\",\n",
    "                f\"{stats.get(cat)[2]:.6f}\"])\n",
    "\n",
    "columns = zip(*rows)\n",
    "column_widths = [max(len(item) for item in col) for col in columns]\n",
    "for row in rows:\n",
    "    print(''.join(' {:{width}} '.format(row[i], width=column_widths[i]) \n",
    "                  for i in range(0, len(row))))"
   ]
  },
  {
   "cell_type": "markdown",
   "metadata": {},
   "source": [
    "The difference gets considerably smaller, but you can still see that positive reviews are longer and more diverse than negative ones. What do you think it says about the nature of positive and negative reviews?\n",
    "\n",
    "Let's now extract the non-overlapping lemmas from the positive and negative subsets. This requires you to modify the code for `vocab_difference` above slightly:"
   ]
  },
  {
   "cell_type": "code",
   "execution_count": 9,
   "metadata": {},
   "outputs": [
    {
     "name": "stdout",
     "output_type": "stream",
     "text": [
      "9230 unique lemmas in positive reviews only\n",
      "7637 unique lemmas in negative reviews only\n"
     ]
    }
   ],
   "source": [
    "def vocab_lem_difference(source_docs1, source_docs2):\n",
    "    vocab1 = []\n",
    "    vocab2 = []\n",
    "    for rev_id in source_docs1.keys():\n",
    "        rev = source_docs1.get(rev_id)\n",
    "        for token in rev:\n",
    "            vocab1.append(token.lemma_)\n",
    "    for rev_id in source_docs2.keys():\n",
    "        rev = source_docs2.get(rev_id)\n",
    "        for token in rev:\n",
    "            vocab2.append(token.lemma_)\n",
    "    return sorted(list(set(vocab1) - set(vocab2)))\n",
    "\n",
    "print(str(len(vocab_lem_difference(pos_docs, neg_docs))) + \" unique lemmas in positive reviews only\")\n",
    "print(str(len(vocab_lem_difference(neg_docs, pos_docs))) + \" unique lemmas in negative reviews only\")"
   ]
  },
  {
   "cell_type": "markdown",
   "metadata": {},
   "source": [
    "Compare these numbers to the ones for word tokens above.\n",
    "\n",
    "Finally, let's see if the number of unique adjectives and adverbs differs across the reviews with different polarity:"
   ]
  },
  {
   "cell_type": "code",
   "execution_count": 10,
   "metadata": {},
   "outputs": [
    {
     "name": "stdout",
     "output_type": "stream",
     "text": [
      " Category  Unique adj's  Unique adv's \n",
      " Positive  2374.000000   574.000000   \n",
      " Negative  1906.000000   495.000000   \n"
     ]
    }
   ],
   "source": [
    "def vocab_pos_difference(source_docs1, source_docs2, pos):\n",
    "    vocab1 = []\n",
    "    vocab2 = []\n",
    "    for rev_id in source_docs1.keys():\n",
    "        rev = source_docs1.get(rev_id)\n",
    "        for token in rev:\n",
    "            if token.pos_==pos:\n",
    "                vocab1.append(token.text)\n",
    "    for rev_id in source_docs2.keys():\n",
    "        rev = source_docs2.get(rev_id)\n",
    "        for token in rev:\n",
    "            if token.pos_==pos:\n",
    "                vocab2.append(token.text)\n",
    "    return sorted(list(set(vocab1) - set(vocab2)))\n",
    "\n",
    "\n",
    "categories = [\"Positive\", \"Negative\"]\n",
    "rows = []\n",
    "rows.append([\"Category\", \"Unique adj's\", \"Unique adv's\"])\n",
    "stats = {}\n",
    "stats[\"Positive\"] = (len(vocab_pos_difference(pos_docs, neg_docs, \"ADJ\")), \n",
    "                     len(vocab_pos_difference(pos_docs, neg_docs, \"ADV\"))) \n",
    "stats[\"Negative\"] = (len(vocab_pos_difference(neg_docs, pos_docs, \"ADJ\")), \n",
    "                     len(vocab_pos_difference(neg_docs, pos_docs, \"ADV\"))) \n",
    "for cat in categories:\n",
    "    rows.append([cat, f\"{stats.get(cat)[0]:.6f}\", \n",
    "                f\"{stats.get(cat)[1]:.6f}\"])\n",
    "\n",
    "columns = zip(*rows)\n",
    "column_widths = [max(len(item) for item in col) for col in columns]\n",
    "for row in rows:\n",
    "    print(''.join(' {:{width}} '.format(row[i], width=column_widths[i]) \n",
    "                  for i in range(0, len(row))))      "
   ]
  },
  {
   "cell_type": "markdown",
   "metadata": {},
   "source": [
    "As before, positive reviews turn out to have more unique adjectives and adverbs.\n",
    "\n",
    "## Simple approach with sentiment lexicons\n",
    "\n",
    "[William Hamilton and his colleagues from Stanford](https://nlp.stanford.edu/projects/socialsent/) collected lists of words with sentiment scores assigned:\n",
    "\n",
    "- per part of speech, for instance for all words vs for adjectives only\n",
    "- per decade, registering how sentiment changed over time, e.g. between 1990's and 2000's (take a look at how the sentiment of different words changed, e.g., '*wicked*' becoming much more positive these days, changing from $-3.09$ in 1890's up to $-0.76$ in 2000's)\n",
    "- per domain, e.g. movie-related words specifically.\n",
    "\n",
    "To this end, let's build a simple \"classifier\" that will decide upon the sentiment taking the overall weight of different sentimental words in a review into account. \n",
    "\n",
    "Let's first implement a method that will collect sentiment score per word, depending on the source list:"
   ]
  },
  {
   "cell_type": "code",
   "execution_count": 11,
   "metadata": {},
   "outputs": [
    {
     "name": "stdout",
     "output_type": "stream",
     "text": [
      "1.28\n",
      "1968\n",
      "1.19\n",
      "2041\n",
      "4924\n",
      "4924\n",
      "4981\n"
     ]
    }
   ],
   "source": [
    "def collect_wordlist(input_file):\n",
    "    word_dict = {}\n",
    "    with codecs.open(input_file, encoding='ISO-8859-1', errors ='ignore') as f:\n",
    "        for a_line in f.readlines():\n",
    "            cols = a_line.split(\"\\t\")\n",
    "            if len(cols)>2:\n",
    "                word = cols[0].strip()\n",
    "                score = float(cols[1].strip())\n",
    "                word_dict[word] = score\n",
    "    f.close()\n",
    "    return word_dict\n",
    "\n",
    "\n",
    "adj_90 = collect_wordlist(\"sentiment_words/adjectives/1990.tsv\")\n",
    "print(adj_90.get(\"cool\"))\n",
    "print(len(adj_90))\n",
    "adj_00 = collect_wordlist(\"sentiment_words/adjectives/2000.tsv\")\n",
    "print(adj_00.get(\"cool\"))\n",
    "print(len(adj_00))\n",
    "all_90 = collect_wordlist(\"sentiment_words/frequent_words/1990.tsv\")\n",
    "print(len(all_90))\n",
    "all_00 = collect_wordlist(\"sentiment_words/frequent_words/2000.tsv\")\n",
    "print(len(all_00))\n",
    "movie_words = collect_wordlist(\"sentiment_words/subreddits/movies.tsv\")\n",
    "print(len(movie_words))"
   ]
  },
  {
   "cell_type": "markdown",
   "metadata": {},
   "source": [
    "Now, let's implement a simple threshold-based approach, based on the idea that if the cumulative score is positive, it's a positive review, and if it is negative, it is a negative one. You have a choice between two strategies:\n",
    "- each positive word is worth +1 point and each negative one -1\n",
    "- each positive and negative word has different weight defined by the score from the lexicon.\n"
   ]
  },
  {
   "cell_type": "code",
   "execution_count": 12,
   "metadata": {},
   "outputs": [
    {
     "name": "stdout",
     "output_type": "stream",
     "text": [
      " List    Acc(positive)  Acc(negative)  Acc(all) \n",
      " Adj_90  0.889000       0.267000       0.578000 \n",
      " Adj_00  0.825000       0.354000       0.589500 \n",
      " All_90  1.000000       0.000000       0.500000 \n",
      " All_00  0.935000       0.086000       0.510500 \n",
      " Movies  0.014000       0.996000       0.505000 \n"
     ]
    }
   ],
   "source": [
    "def bin_decisions(a_dict, label, sent_dict):\n",
    "    decisions = []\n",
    "    for rev_id in a_dict.keys():\n",
    "        score = 0\n",
    "        for token in a_dict.get(rev_id):\n",
    "            if token.text in sent_dict.keys():\n",
    "                if sent_dict.get(token.text)<0:\n",
    "                    score -= 1\n",
    "                else:\n",
    "                    score += 1\n",
    "        if score < 0:\n",
    "            decisions.append((-1, label))\n",
    "        else:\n",
    "            decisions.append((1, label))\n",
    "    return decisions\n",
    "\n",
    "def weighted_decisions(a_dict, label, sent_dict):\n",
    "    decisions = []\n",
    "    for rev_id in a_dict.keys():\n",
    "        score = 0\n",
    "        for token in a_dict.get(rev_id):\n",
    "            if token.text in sent_dict.keys():\n",
    "                score += sent_dict.get(token.text)\n",
    "        if score < 0:\n",
    "            decisions.append((-1, label))\n",
    "        else:\n",
    "            decisions.append((1, label))\n",
    "    return decisions\n",
    "\n",
    "def get_accuracy(pos_docs, neg_docs, sent_dict):\n",
    "    decisions_pos = bin_decisions(pos_docs, 1, sent_dict)\n",
    "    decisions_neg = bin_decisions(neg_docs, -1, sent_dict)\n",
    "    decisions_all = decisions_pos + decisions_neg\n",
    "    lists = [decisions_pos, decisions_neg, decisions_all]\n",
    "    accuracies = []\n",
    "    for i in range(0, len(lists)):\n",
    "        match = 0\n",
    "        for item in lists[i]:\n",
    "            if item[0]==item[1]:\n",
    "                match += 1\n",
    "        accuracies.append(float(match)/float(len(lists[i])))\n",
    "    return accuracies\n",
    "\n",
    "        \n",
    "categories = [\"Adj_90\", \"Adj_00\", \"All_90\", \"All_00\", \"Movies\"]\n",
    "rows = []\n",
    "rows.append([\"List\", \"Acc(positive)\", \"Acc(negative)\", \"Acc(all)\"])\n",
    "accs = {}\n",
    "accs[\"Adj_90\"] = get_accuracy(pos_docs, neg_docs, adj_90) \n",
    "accs[\"Adj_00\"] = get_accuracy(pos_docs, neg_docs, adj_00) \n",
    "accs[\"All_90\"] = get_accuracy(pos_docs, neg_docs, all_90) \n",
    "accs[\"All_00\"] = get_accuracy(pos_docs, neg_docs, all_00) \n",
    "accs[\"Movies\"] = get_accuracy(pos_docs, neg_docs, movie_words) \n",
    "for cat in categories:\n",
    "    rows.append([cat, f\"{accs.get(cat)[0]:.6f}\", \n",
    "                f\"{accs.get(cat)[1]:.6f}\",\n",
    "                f\"{accs.get(cat)[2]:.6f}\"])\n",
    "\n",
    "columns = zip(*rows)\n",
    "column_widths = [max(len(item) for item in col) for col in columns]\n",
    "for row in rows:\n",
    "    print(''.join(' {:{width}} '.format(row[i], width=column_widths[i]) \n",
    "                  for i in range(0, len(row))))    "
   ]
  },
  {
   "cell_type": "markdown",
   "metadata": {},
   "source": [
    "Here is the summary of the **results:**\n",
    "\n",
    "- With binary approach:\n",
    "    - adj_90: Positive: 0.889; Negative: 0.267; All: 0.578\n",
    "    - adj_00: Positive: 0.825; Negative: 0.354; All: **0.5895**\n",
    "    - all_90: Positive: **1.0**; Negative: 0.0; All: 0.5\n",
    "    - all_00: Positive: 0.935; Negative: 0.086; All: 0.5105\n",
    "    - movie_words: Positive: 0.014; Negative: **0.996**; All: 0.505\n",
    "\n",
    "- With weighted scores approach:\n",
    "    - adj_90: Positive: 0.788; Negative: 0.507; All: **0.6475**\n",
    "    - adj_00: Positive: 0.818; Negative: 0.424; All: 0.621\n",
    "    - all_90: Positive: **0.984**; Negative: 0.017; All: 0.5005\n",
    "    - all_00: Positive: 0.805; Negative: 0.373; All: 0.589\n",
    "    - movie_words: Positive: 0.008; Negative: **0.997**; All: 0.5025\n",
    "    \n",
    "Let's check how many words from the lexicons occur in each type of reviews:"
   ]
  },
  {
   "cell_type": "code",
   "execution_count": 13,
   "metadata": {},
   "outputs": [
    {
     "name": "stdout",
     "output_type": "stream",
     "text": [
      " List    Occurs(pos)  Occurs(neg) \n",
      " Adj_90  1726.000000  1667.000000 \n",
      " Adj_00  1782.000000  1731.000000 \n",
      " All_90  4772.000000  4712.000000 \n",
      " All_00  4789.000000  4732.000000 \n",
      " Movies  4675.000000  4660.000000 \n"
     ]
    }
   ],
   "source": [
    "def occurrences(a_dict, sent_dict):\n",
    "    occur = []\n",
    "    for rev_id in a_dict.keys():\n",
    "        for token in a_dict.get(rev_id):\n",
    "            if token.text in sent_dict.keys():\n",
    "                occur.append(token.text)\n",
    "    return len(set(occur))\n",
    "\n",
    "categories = [\"Adj_90\", \"Adj_00\", \"All_90\", \"All_00\", \"Movies\"]\n",
    "rows = []\n",
    "rows.append([\"List\", \"Occurs(pos)\", \"Occurs(neg)\"])\n",
    "occs = {}\n",
    "occs[\"Adj_90\"] = occurrences(pos_docs, adj_90), occurrences(neg_docs, adj_90)\n",
    "occs[\"Adj_00\"] = occurrences(pos_docs, adj_00), occurrences(neg_docs, adj_00)\n",
    "occs[\"All_90\"] = occurrences(pos_docs, all_90), occurrences(neg_docs, all_90)\n",
    "occs[\"All_00\"] = occurrences(pos_docs, all_00), occurrences(neg_docs, all_00)\n",
    "occs[\"Movies\"] = occurrences(pos_docs, movie_words), occurrences(neg_docs, movie_words)\n",
    "for cat in categories:\n",
    "    rows.append([cat, f\"{occs.get(cat)[0]:.6f}\", \n",
    "                f\"{occs.get(cat)[1]:.6f}\"])\n",
    "\n",
    "columns = zip(*rows)\n",
    "column_widths = [max(len(item) for item in col) for col in columns]\n",
    "for row in rows:\n",
    "    print(''.join(' {:{width}} '.format(row[i], width=column_widths[i]) \n",
    "                  for i in range(0, len(row))))    "
   ]
  },
  {
   "cell_type": "markdown",
   "metadata": {},
   "source": [
    "## Sentiment Analysis using SentiWordNet\n",
    "\n",
    "One of the problems with the previous approach is that words may express different meanings, and each may have different polarity or strength of sentiment.\n",
    "\n",
    "NLTK provides an interface to the `WordNet` (a lexical database that helps distinguish between vaiorus senses of the word) and [SentiWordNet](http://www.nltk.org/howto/sentiwordnet.html) that was created by researchers from the [Text Learning Group of the University of Pisa](http://sentiwordnet.isti.cnr.it).\n",
    "\n",
    "First, let's explore what the SentiWordNet contains. For instance, here is how you can check how many different senses a given word has (you can check the examples of use and the definition of each sense through [the online version of the WordNet](http://wordnetweb.princeton.edu/perl/webwn)):"
   ]
  },
  {
   "cell_type": "code",
   "execution_count": 14,
   "metadata": {},
   "outputs": [
    {
     "name": "stdout",
     "output_type": "stream",
     "text": [
      "[SentiSynset('joy.n.01'), SentiSynset('joy.n.02'), SentiSynset('rejoice.v.01'), SentiSynset('gladden.v.01')]\n",
      "[SentiSynset('trouble.n.01'), SentiSynset('fuss.n.02'), SentiSynset('trouble.n.03'), SentiSynset('trouble.n.04'), SentiSynset('worry.n.02'), SentiSynset('trouble.n.06'), SentiSynset('disturb.v.01'), SentiSynset('trouble.v.02'), SentiSynset('perturb.v.01'), SentiSynset('trouble_oneself.v.01'), SentiSynset('trouble.v.05')]\n"
     ]
    }
   ],
   "source": [
    "from nltk.corpus import sentiwordnet as swn\n",
    "\n",
    "print(list(swn.senti_synsets('joy')))\n",
    "print(list(swn.senti_synsets('trouble')))"
   ]
  },
  {
   "cell_type": "markdown",
   "metadata": {},
   "source": [
    "The code above shows that *joy* may be either a noun meaning the \"emotion of great happiness\" (the synset `'joy.n.01'`) or \"something / someone providing a source of happiness as in \"*a joy to behold*\" (the synset `'joy.n.02'`). As a verb, it can mean \"rejoice\" i.e. \"feel happiness or joy\" (`'rejoice.v.01'`) or \"gladden\" i.e. \"make glad or happy\" (`'rejoice.v.02'`). \n",
    "\n",
    "*Trouble* is a more complex case, with as many as 6 different meanings as a noun (for instance, it can mean a particular event causing pain as in \"*heart trouble*\", or a difficulty as in \"he went to a lot of trouble\"), and 5 senses for the verb! The differences may be quite subtle, yet leading to different interpretations, potentially with sentiments of different strength. Let's check this out:"
   ]
  },
  {
   "cell_type": "code",
   "execution_count": 15,
   "metadata": {},
   "outputs": [
    {
     "name": "stdout",
     "output_type": "stream",
     "text": [
      " List      Positive score  Negative Score \n",
      " Joy1      0.500           0.250          \n",
      " Joy2      0.375           0.000          \n",
      " Trouble1  0.000           0.625          \n",
      " Trouble2  0.000           0.500          \n"
     ]
    }
   ],
   "source": [
    "joy1 = swn.senti_synset('joy.n.01')\n",
    "joy2 = swn.senti_synset('joy.n.02')\n",
    "\n",
    "trouble1 = swn.senti_synset('trouble.n.03')\n",
    "trouble2 = swn.senti_synset('trouble.n.04')\n",
    "\n",
    "\n",
    "categories = [\"Joy1\", \"Joy2\", \"Trouble1\", \"Trouble2\"]\n",
    "rows = []\n",
    "rows.append([\"List\", \"Positive score\", \"Negative Score\"])\n",
    "accs = {}\n",
    "accs[\"Joy1\"] = [joy1.pos_score(), joy1.neg_score()]\n",
    "accs[\"Joy2\"] = [joy2.pos_score(), joy2.neg_score()]\n",
    "accs[\"Trouble1\"] = [trouble1.pos_score(), trouble1.neg_score()]\n",
    "accs[\"Trouble2\"] = [trouble2.pos_score(), trouble2.neg_score()] \n",
    "for cat in categories:\n",
    "    rows.append([cat, f\"{accs.get(cat)[0]:.3f}\", \n",
    "                f\"{accs.get(cat)[1]:.3f}\"])\n",
    "\n",
    "columns = zip(*rows)\n",
    "column_widths = [max(len(item) for item in col) for col in columns]\n",
    "for row in rows:\n",
    "    print(''.join(' {:{width}} '.format(row[i], width=column_widths[i]) \n",
    "                  for i in range(0, len(row)))) "
   ]
  },
  {
   "cell_type": "markdown",
   "metadata": {},
   "source": [
    "Finally, here is how we can check the sentiment for all synsets assigned to a word, additionally taking its part of speech into account:"
   ]
  },
  {
   "cell_type": "code",
   "execution_count": 16,
   "metadata": {},
   "outputs": [
    {
     "name": "stdout",
     "output_type": "stream",
     "text": [
      "pos: +0.25 neg: -0.25\n",
      "pos: +0.75 neg: -0.0\n",
      "pos: +0.0 neg: -0.625\n"
     ]
    }
   ],
   "source": [
    "synsets = swn.senti_synsets('terrific', 'a')\n",
    "for synset in synsets:\n",
    "    print(\"pos: +\" + str(synset.pos_score()) + \" neg: -\" + str(synset.neg_score()))"
   ]
  },
  {
   "cell_type": "markdown",
   "metadata": {},
   "source": [
    "Now, let's update our sentiment analyzer with SentiWordNet scores:"
   ]
  },
  {
   "cell_type": "code",
   "execution_count": 17,
   "metadata": {},
   "outputs": [],
   "source": [
    "from nltk.corpus import wordnet as wn\n",
    "\n",
    "#use token.tag_ and see https://spacy.io/api/annotation\n",
    "def convert_tags(pos_tag):\n",
    "    if pos_tag.startswith(\"JJ\"):\n",
    "         return wn.ADJ\n",
    "    elif pos_tag.startswith(\"NN\"):\n",
    "         return wn.NOUN\n",
    "    elif pos_tag.startswith(\"RB\"):\n",
    "         return wn.ADV\n",
    "    elif pos_tag.startswith(\"VB\") or pos_tag.startswith(\"MD\"):\n",
    "         return wn.VERB\n",
    "    return None\n",
    " \n",
    "def swn_decisions(a_dict, label):   \n",
    "    decisions = []\n",
    "    for rev_id in a_dict.keys():\n",
    "        score = 0\n",
    "        neg_count = 0\n",
    "        pos_count = 0\n",
    "        for token in a_dict.get(rev_id):\n",
    "            wn_tag = convert_tags(token.tag_)\n",
    "            if wn_tag in (wn.ADJ, wn.ADV, wn.NOUN, wn.VERB):\n",
    "                synsets = list(swn.senti_synsets(token.lemma_, pos=wn_tag))\n",
    "                if len(synsets)>0:\n",
    "                    temp_score = 0.0\n",
    "                    for synset in synsets:\n",
    "                        temp_score += synset.pos_score() - synset.neg_score()\n",
    "                    score += temp_score/len(synsets)\n",
    "        if score < 0:\n",
    "            decisions.append((-1, label))  \n",
    "        else:\n",
    "            decisions.append((1, label))\n",
    "    return decisions"
   ]
  },
  {
   "cell_type": "code",
   "execution_count": 18,
   "metadata": {},
   "outputs": [
    {
     "name": "stdout",
     "output_type": "stream",
     "text": [
      " List          Acc(positive)  Acc(negative)  Acc(all) \n",
      " SentiWordNet  0.686000       0.690000       0.688000 \n"
     ]
    }
   ],
   "source": [
    "def get_swn_accuracy(pos_docs, neg_docs):\n",
    "    decisions_pos = swn_decisions(pos_docs, 1)\n",
    "    decisions_neg = swn_decisions(neg_docs, -1)\n",
    "    decisions_all = decisions_pos + decisions_neg\n",
    "    lists = [decisions_pos, decisions_neg, decisions_all]\n",
    "    accuracies = []\n",
    "    for i in range(0, len(lists)):\n",
    "        match = 0\n",
    "        for item in lists[i]:\n",
    "            if item[0]==item[1]:\n",
    "                match += 1\n",
    "        accuracies.append(float(match)/float(len(lists[i])))\n",
    "    return accuracies\n",
    "\n",
    "\n",
    "accuracies = get_swn_accuracy(pos_docs, neg_docs)  \n",
    "\n",
    "rows = []\n",
    "rows.append([\"List\", \"Acc(positive)\", \"Acc(negative)\", \"Acc(all)\"])\n",
    "rows.append([\"SentiWordNet\", f\"{accuracies[0]:.6f}\", \n",
    "                f\"{accuracies[1]:.6f}\",\n",
    "                f\"{accuracies[2]:.6f}\"])\n",
    "\n",
    "columns = zip(*rows)\n",
    "column_widths = [max(len(item) for item in col) for col in columns]\n",
    "for row in rows:\n",
    "    print(''.join(' {:{width}} '.format(row[i], width=column_widths[i]) \n",
    "                  for i in range(0, len(row))))   "
   ]
  },
  {
   "cell_type": "markdown",
   "metadata": {},
   "source": [
    "Before moving on, let's visualize the results as you did before:"
   ]
  },
  {
   "cell_type": "code",
   "execution_count": 19,
   "metadata": {},
   "outputs": [
    {
     "data": {
      "image/png": "[encoded data removed]",
      "text/plain": [
       "<Figure size 432x288 with 1 Axes>"
      ]
     },
     "metadata": {
      "needs_background": "light"
     },
     "output_type": "display_data"
    },
    {
     "data": {
      "text/plain": [
       "<function matplotlib.pyplot.legend(*args, **kwargs)>"
      ]
     },
     "execution_count": 19,
     "metadata": {},
     "output_type": "execute_result"
    }
   ],
   "source": [
    "%matplotlib inline\n",
    "\n",
    "import matplotlib.pyplot as plt\n",
    "\n",
    "a = [\"Sentiment Lexicons\", \"SentiWordNet\"]\n",
    "index = range(len(a))\n",
    "b = [64.75, 68.80] # Accuracy scores for the compared methods\n",
    "\n",
    "fig, ax = plt.subplots()\n",
    "axes = plt.gca()\n",
    "# Let's set 50 as the lower bound as the majority class baseline is at 50 for this dataset\n",
    "axes.set_ylim([50,70])\n",
    "\n",
    "ax.bar(index, b, color=['#0A40A4', '#61A4F6'])\n",
    "plt.xticks(index, a) \n",
    "\n",
    "plt.show()\n",
    "\n",
    "import matplotlib\n",
    "matplotlib.axes.Axes.plot\n",
    "matplotlib.pyplot.plot\n",
    "matplotlib.axes.Axes.legend\n",
    "matplotlib.pyplot.legend"
   ]
  },
  {
   "cell_type": "markdown",
   "metadata": {},
   "source": [
    "## Data-driven approach with a machine learning classifier\n",
    "\n",
    "First, let's filter out punctuation marks and stopwords (you can add any other filters if you'd like) and prepare the data for the machine learning pipeline:"
   ]
  },
  {
   "cell_type": "code",
   "execution_count": 20,
   "metadata": {},
   "outputs": [
    {
     "name": "stdout",
     "output_type": "stream",
     "text": [
      "2000 2000\n",
      "the central focus of michael winterbottom 's welcome to sarajevo is sarajevo itself the city under siege and its different effect on the characters unfortunate enough to be stuck there it proves the backdrop for a stunningly realized story which refreshingly strays from mythic portents platoon racial tumultuosness the risible the walking dead or a tinge of schmaltziness schindler 's list the two leads stephen dillane as a reporter and emira nusevic as an orphan with a plight few can identify with are extremely believable not one moment with them involved rings false the question is not what went right the question is what went wrong for one the film fails to provide a political overview of the war as it progresses the dillane characters reports an american plane departing from sarajevo as it departs and that 's about it the assortment of high profile supporting actors ranging from woody harrelson as a yankee reporter into liquor and cigarrettes to marisa tomei as a huggable children 's aid or somesuch are incapable of rising above the sketchiness of their characters albeit they strive the interrupted use of authentic war footage somewhat hampers the rest of the film it makes the fictional characters seem powerless by comparison still winterbottom eschews mawkishness through flashy frantic editing and imaginative use of music and it 's a plus because he does n't toy with our emotions with sentimental blandness he wants us to know that in war no one is victorious the sweet hereafter starring ian holm sarah polley bruce greenwood tom mccamus gabrielle rose arsinee khanjian alberta watson maury chaykin caerthan banks produced by atom egoyan and camelia frieberg script by atom egoyan based on the novel by russell banks directed by atom egoyan running time 110 mins rated r atom egoyan 's powerfully meditative the sweet hereafter is as anything as haunting and transcendental as i 've seen this year it not only explores the aftermaths of a terrible tragedy with magnificent subtlety with cold and stunning shots of the backdrop of this mistfortune but also by telegraphing the sense of devastation that has permeated the small town with an enormous amount of dignity and respect for each and every soul affected ian holm as the somber lonely lawyer seeking compensation for the townspeople has a decency and a restraint uncommon with lawyers he 's a lion for the wrong reasons the pain for having lost his daughter she 's a druggie who frequently calls him begging for money is reflected on the town and in some mesmerizing flashbacks we witness how she lost her purity it 's one of the most strikingly breathtaking takes on the loss of innocence i 've ever seen but the most astounding part goes to sarah polly the peaceful benevolent girl who in contrast to the other characters remains the most mentally stable during past present or future her ability to convey concealed pain and unconditional love is the opposite yet near revolutionary role that won emily watson an oscar nomination for breaking the waves both women are torn apart by an extraordinary incident but it is only then that we truly see truly feel their wordless omnipotent love   the sweet hereafter though is atom egoyan 's movie and as of now he is emerging as the definite face of independent cinema after surging to worldwide recognition with 1994 's exotica the sweet hereafter makes him something few people in this industry can call themselves an artist he interweaves time with a delicacy and sees a soul with a purity that is just not common\n"
     ]
    }
   ],
   "source": [
    "import random\n",
    "import string\n",
    "#from spacy.lang.en.stop_words import STOP_WORDS as stopwords_list # stopwords list\n",
    "punctuation_list = [punct for punct in string.punctuation]\n",
    "\n",
    "def text_filter(a_dict, label, exclude_lists):\n",
    "    data = []\n",
    "    for rev_id in a_dict.keys():\n",
    "        tokens = []\n",
    "        for token in a_dict.get(rev_id):\n",
    "            if not token.text in exclude_lists:\n",
    "                tokens.append(token.text)\n",
    "                #tokens.append(token.lemma_) # for the use of lemmas instead of word tokens\n",
    "        data.append((' '.join(tokens), label))\n",
    "    return data\n",
    "\n",
    "def prepare_data(pos_docs, neg_docs, exclude_lists):\n",
    "    data = text_filter(pos_docs, 1, exclude_lists)\n",
    "    data += text_filter(neg_docs, -1, exclude_lists)\n",
    "    random.seed(42)\n",
    "    random.shuffle(data)\n",
    "    texts = []\n",
    "    labels = []\n",
    "    for item in data:\n",
    "        texts.append(item[0])\n",
    "        labels.append(item[1])\n",
    "    return texts, labels\n",
    "\n",
    "# for the use of both lists in filtering:\n",
    "#texts, labels = prepare_data(pos_docs, neg_docs, list(stopwords_list) + punctuation_list)\n",
    "\n",
    "texts, labels = prepare_data(pos_docs, neg_docs, punctuation_list) \n",
    "\n",
    "print(len(texts), len(labels))\n",
    "print(texts[0])"
   ]
  },
  {
   "cell_type": "markdown",
   "metadata": {},
   "source": [
    "Note, how the content is filtered down to meaningful words only. Let's set up a small experiment: first set $80\\%$ of the data for training and rest for testing in this randomly shuffled set:"
   ]
  },
  {
   "cell_type": "code",
   "execution_count": 21,
   "metadata": {},
   "outputs": [
    {
     "name": "stdout",
     "output_type": "stream",
     "text": [
      "1600\n",
      "1600\n",
      "400\n",
      "400\n",
      "[1, -1, 1, 1, -1, -1, -1, -1, 1, -1]\n",
      "[-1, 1, 1, -1, -1, 1, -1, 1, 1, 1]\n"
     ]
    }
   ],
   "source": [
    "def split(texts, labels, proportion):\n",
    "    train_data = []\n",
    "    train_targets = []\n",
    "    test_data = []\n",
    "    test_targets = []\n",
    "    for i in range(0, len(texts)):\n",
    "        if i < proportion*len(texts):\n",
    "            train_data.append(texts[i])\n",
    "            train_targets.append(labels[i])\n",
    "        else:\n",
    "            test_data.append(texts[i])\n",
    "            test_targets.append(labels[i])\n",
    "    return train_data, train_targets, test_data, test_targets\n",
    "\n",
    "train_data, train_targets, test_data, test_targets = split(texts, labels, 0.8)\n",
    "        \n",
    "print(len(train_data)) # 1600?\n",
    "print(len(train_targets)) # 1600?      \n",
    "print(len(test_data)) # 400?       \n",
    "print(len(test_targets)) # 400? \n",
    "print(train_targets[:10]) # print out the targets for the first 10 training reviews \n",
    "print(test_targets[:10]) # print out the targets for the first 10 test reviews "
   ]
  },
  {
   "cell_type": "markdown",
   "metadata": {},
   "source": [
    "Now, let's estimate the distribution of words across texts using `sklearn`'s `CountVectorizer`. Here is an example of how it will work on a random selection of 1000 reviews:"
   ]
  },
  {
   "cell_type": "code",
   "execution_count": 22,
   "metadata": {},
   "outputs": [
    {
     "name": "stdout",
     "output_type": "stream",
     "text": [
      "(1600, 36094)\n"
     ]
    }
   ],
   "source": [
    "from sklearn.feature_extraction.text import CountVectorizer\n",
    "\n",
    "count_vect = CountVectorizer()\n",
    "train_counts = count_vect.fit_transform(train_data)\n",
    "# Check the dimensionality \n",
    "print(train_counts.shape)"
   ]
  },
  {
   "cell_type": "markdown",
   "metadata": {},
   "source": [
    "This shows that our training set contains over $35,000$ distinct words (the exact number may change depending on your split). This is our training set vocabulary, and it will be applied to all test reviews only. Note that this vocabulary is learned on the training data only. Let's look 'under the hood' and print out the counts for some words in the first $10$ reviews from the training set:"
   ]
  },
  {
   "cell_type": "code",
   "execution_count": 23,
   "metadata": {},
   "outputs": [
    {
     "name": "stdout",
     "output_type": "stream",
     "text": [
      "  (0, 32056)\t41\n",
      "  (0, 5161)\t1\n",
      "  (0, 12240)\t1\n",
      "  (0, 22070)\t18\n",
      "  (0, 20177)\t1\n",
      "  (0, 35454)\t2\n",
      "  (0, 35114)\t1\n",
      "  (0, 32450)\t9\n",
      "  (0, 27596)\t3\n",
      "  (0, 16795)\t11\n",
      "  (0, 16856)\t1\n",
      "  (0, 5707)\t1\n",
      "  (0, 33478)\t1\n",
      "  (0, 28858)\t1\n",
      "  (0, 1445)\t16\n",
      "  (0, 16855)\t1\n",
      "  (0, 8681)\t1\n",
      "  (0, 10024)\t1\n",
      "  (0, 22176)\t4\n",
      "  (0, 5285)\t5\n",
      "  (0, 33682)\t1\n",
      "  (0, 10525)\t1\n",
      "  (0, 2862)\t1\n",
      "  (0, 30800)\t1\n",
      "  (0, 32104)\t1\n",
      "  :\t:\n",
      "  (10, 8382)\t1\n",
      "  (10, 24977)\t1\n",
      "  (10, 18290)\t1\n",
      "  (10, 27020)\t1\n",
      "  (10, 15133)\t1\n",
      "  (10, 13610)\t1\n",
      "  (10, 23180)\t1\n",
      "  (10, 12099)\t1\n",
      "  (10, 24500)\t1\n",
      "  (10, 22155)\t1\n",
      "  (10, 30112)\t1\n",
      "  (10, 30275)\t1\n",
      "  (10, 30764)\t1\n",
      "  (10, 10569)\t1\n",
      "  (10, 14226)\t1\n",
      "  (10, 10259)\t1\n",
      "  (10, 11863)\t1\n",
      "  (10, 30584)\t1\n",
      "  (10, 18070)\t1\n",
      "  (10, 21762)\t1\n",
      "  (10, 33771)\t1\n",
      "  (10, 29624)\t1\n",
      "  (10, 26149)\t1\n",
      "  (10, 2265)\t1\n",
      "  (10, 396)\t1\n"
     ]
    }
   ],
   "source": [
    "print(train_counts[:11])"
   ]
  },
  {
   "cell_type": "markdown",
   "metadata": {},
   "source": [
    "Now, I have the following results: (0, 5240)\t5 and (0, 33493)\t1. What does it mean? The first review (index 0) contains $5$ occurrences of some word with an index $5240$ and $2$ occurrences of a word with an index $33493$ from the vocabulary. Let's see what those indexes correspond to:"
   ]
  },
  {
   "cell_type": "code",
   "execution_count": 24,
   "metadata": {},
   "outputs": [
    {
     "data": {
      "text/plain": [
       "'unfortunate'"
      ]
     },
     "execution_count": 24,
     "metadata": {},
     "output_type": "execute_result"
    }
   ],
   "source": [
    "count_vect.get_feature_names()[33682]"
   ]
  },
  {
   "cell_type": "code",
   "execution_count": 25,
   "metadata": {},
   "outputs": [
    {
     "data": {
      "text/plain": [
       "'stuck'"
      ]
     },
     "execution_count": 25,
     "metadata": {},
     "output_type": "execute_result"
    }
   ],
   "source": [
    "count_vect.get_feature_names()[30800]"
   ]
  },
  {
   "cell_type": "markdown",
   "metadata": {},
   "source": [
    "In this particular iteration, index $5240$ corresponds to the word *characters* and index $33493$ to the word *unfortunate*. By the way, according to the `train_targets`, the first review is positive (label `1`). Here is how you can check the whole list:"
   ]
  },
  {
   "cell_type": "code",
   "execution_count": 26,
   "metadata": {},
   "outputs": [
    {
     "name": "stdout",
     "output_type": "stream",
     "text": [
      "[array(['00', '000', '0009f', ..., 'anticipating', 'anticipation',\n",
      "       'anticlimactic'], dtype='<U32')]\n"
     ]
    }
   ],
   "source": [
    "print(count_vect.inverse_transform(train_data))"
   ]
  },
  {
   "cell_type": "code",
   "execution_count": 27,
   "metadata": {},
   "outputs": [
    {
     "name": "stdout",
     "output_type": "stream",
     "text": [
      "(1600, 36094)\n",
      "  (0, 32056)\t1\n",
      "  (0, 5161)\t1\n",
      "  (0, 12240)\t1\n",
      "  (0, 22070)\t1\n",
      "  (0, 20177)\t1\n",
      "  (0, 35454)\t1\n",
      "  (0, 35114)\t1\n",
      "  (0, 32450)\t1\n",
      "  (0, 27596)\t1\n",
      "  (0, 16795)\t1\n",
      "  (0, 16856)\t1\n",
      "  (0, 5707)\t1\n",
      "  (0, 33478)\t1\n",
      "  (0, 28858)\t1\n",
      "  (0, 1445)\t1\n",
      "  (0, 16855)\t1\n",
      "  (0, 8681)\t1\n",
      "  (0, 10024)\t1\n",
      "  (0, 22176)\t1\n",
      "  (0, 5285)\t1\n",
      "  (0, 33682)\t1\n",
      "  (0, 10525)\t1\n",
      "  (0, 2862)\t1\n",
      "  (0, 30800)\t1\n",
      "  (0, 32104)\t1\n",
      "  :\t:\n",
      "  (0, 32193)\t1\n",
      "  (0, 20907)\t1\n",
      "  (0, 21810)\t1\n",
      "  (0, 10294)\t1\n",
      "  (0, 8110)\t1\n",
      "  (0, 11343)\t1\n",
      "  (0, 16040)\t1\n",
      "  (0, 5659)\t1\n",
      "  (0, 940)\t1\n",
      "  (0, 31239)\t1\n",
      "  (0, 35640)\t1\n",
      "  (0, 25810)\t1\n",
      "  (0, 194)\t1\n",
      "  (0, 11115)\t1\n",
      "  (0, 29672)\t1\n",
      "  (0, 23331)\t1\n",
      "  (0, 16105)\t1\n",
      "  (0, 4658)\t1\n",
      "  (0, 32085)\t1\n",
      "  (0, 1975)\t1\n",
      "  (0, 16595)\t1\n",
      "  (0, 8175)\t1\n",
      "  (0, 28157)\t1\n",
      "  (0, 17325)\t1\n",
      "  (0, 6270)\t1\n"
     ]
    }
   ],
   "source": [
    "from sklearn.preprocessing import Binarizer\n",
    "\n",
    "transformer = Binarizer()\n",
    "train_bin = transformer.fit_transform(train_counts)\n",
    "print(train_bin.shape)\n",
    "print(train_bin[0])"
   ]
  },
  {
   "cell_type": "markdown",
   "metadata": {},
   "source": [
    "Finally, let's run the classifier on the designated test set: "
   ]
  },
  {
   "cell_type": "code",
   "execution_count": 28,
   "metadata": {},
   "outputs": [
    {
     "name": "stdout",
     "output_type": "stream",
     "text": [
      "'lengthy and lousy are two words to describe the boring drama the english patient great acting music ' => pos\n",
      "'capsule a short punchy action sequel to the two dinosaur films made by steven spielberg joe johnston' => neg\n",
      "'now lets first look into the history of shark films there was the unforgettable jaws the exciting ja' => neg\n",
      "'five girls spend a day in a closed building doing inventory when a strange box gets delivered there ' => neg\n",
      "'one sided doom and gloom documentary about the possible annihilation of the human race as foretold b' => neg\n",
      "\"robert redford 's a river runs through it is not a film i watch often it is a masterpiece -- one of \" => pos\n",
      "\"susan granger 's review of america 's sweethearts columbia sony what a waste of a talented cast bill\" => neg\n",
      "'  the fugitive is probably one of the greatest thrillers ever made it takes realistic believable cha' => pos\n",
      "'just look back two years ago at the coen brothers comedic gem the big lebowski change the actors tak' => pos\n",
      "'plot during a 10-week span in london in the fall of 1888 jack the ripper a man whose identity was ne' => pos\n"
     ]
    }
   ],
   "source": [
    "from sklearn.naive_bayes import MultinomialNB\n",
    "\n",
    "clf = MultinomialNB().fit(train_counts, train_targets)\n",
    "test_counts = count_vect.transform(test_data)\n",
    "predicted = clf.predict(test_counts)\n",
    "\n",
    "for text, label in list(zip(test_data, predicted))[:10]:\n",
    "    if label==1:\n",
    "        print('%r => %s' % (text[:100], \"pos\"))\n",
    "    else:\n",
    "        print('%r => %s' % (text[:100], \"neg\"))"
   ]
  },
  {
   "cell_type": "markdown",
   "metadata": {},
   "source": [
    "Alternatively, do the same using `sklearn`'s pipeline: "
   ]
  },
  {
   "cell_type": "code",
   "execution_count": 29,
   "metadata": {},
   "outputs": [
    {
     "name": "stdout",
     "output_type": "stream",
     "text": [
      "Pipeline(memory=None,\n",
      "         steps=[('vect',\n",
      "                 CountVectorizer(analyzer='word', binary=False,\n",
      "                                 decode_error='strict',\n",
      "                                 dtype=<class 'numpy.int64'>, encoding='utf-8',\n",
      "                                 input='content', lowercase=True, max_df=0.5,\n",
      "                                 max_features=None, min_df=10,\n",
      "                                 ngram_range=(1, 1), preprocessor=None,\n",
      "                                 stop_words=None, strip_accents=None,\n",
      "                                 token_pattern='(?u)\\\\b\\\\w\\\\w+\\\\b',\n",
      "                                 tokenizer=None, vocabulary=None)),\n",
      "                ('binarizer', Binarizer(copy=True, threshold=0.0)),\n",
      "                ('clf',\n",
      "                 MultinomialNB(alpha=1.0, class_prior=None, fit_prior=True))],\n",
      "         verbose=False)\n"
     ]
    }
   ],
   "source": [
    "from sklearn.pipeline import Pipeline\n",
    "from sklearn.preprocessing import Binarizer\n",
    "\n",
    "text_clf = Pipeline([('vect', CountVectorizer(min_df=10, max_df=0.5)), \n",
    "                     ('binarizer', Binarizer()), # include this for detecting presence-absence of features\n",
    "                     ('clf', MultinomialNB())\n",
    "                    ])\n",
    "\n",
    "text_clf.fit(train_data, train_targets) \n",
    "print(text_clf)\n",
    "predicted = text_clf.predict(test_data)"
   ]
  },
  {
   "cell_type": "markdown",
   "metadata": {},
   "source": [
    "Evaluate the results:"
   ]
  },
  {
   "cell_type": "code",
   "execution_count": 30,
   "metadata": {},
   "outputs": [
    {
     "name": "stdout",
     "output_type": "stream",
     "text": [
      "\n",
      "Confusion matrix:\n",
      "[[173  29]\n",
      " [ 41 157]]\n",
      "              precision    recall  f1-score   support\n",
      "\n",
      "          -1       0.81      0.86      0.83       202\n",
      "           1       0.84      0.79      0.82       198\n",
      "\n",
      "    accuracy                           0.82       400\n",
      "   macro avg       0.83      0.82      0.82       400\n",
      "weighted avg       0.83      0.82      0.82       400\n",
      "\n"
     ]
    }
   ],
   "source": [
    "from sklearn import metrics\n",
    "\n",
    "print(\"\\nConfusion matrix:\")\n",
    "print(metrics.confusion_matrix(test_targets, predicted))\n",
    "print(metrics.classification_report(test_targets, predicted))"
   ]
  },
  {
   "cell_type": "markdown",
   "metadata": {},
   "source": [
    "And now with the cross-validation:"
   ]
  },
  {
   "cell_type": "code",
   "execution_count": 31,
   "metadata": {},
   "outputs": [
    {
     "name": "stdout",
     "output_type": "stream",
     "text": [
      "[0.87  0.805 0.87  0.785 0.86  0.82  0.845 0.85  0.81  0.845]\n",
      "Accuracy: 0.8360000000000001\n",
      "\n",
      "Confusion matrix:\n",
      "[[862 138]\n",
      " [190 810]]\n",
      "              precision    recall  f1-score   support\n",
      "\n",
      "          -1       0.82      0.86      0.84      1000\n",
      "           1       0.85      0.81      0.83      1000\n",
      "\n",
      "    accuracy                           0.84      2000\n",
      "   macro avg       0.84      0.84      0.84      2000\n",
      "weighted avg       0.84      0.84      0.84      2000\n",
      "\n"
     ]
    }
   ],
   "source": [
    "from sklearn.model_selection import cross_val_score, cross_val_predict\n",
    "\n",
    "scores = cross_val_score(text_clf, texts, labels, cv=10)\n",
    "print(scores)\n",
    "print(\"Accuracy: \" + str(sum(scores)/10))\n",
    "predicted = cross_val_predict(text_clf, texts, labels, cv=10)\n",
    "print(\"\\nConfusion matrix:\")\n",
    "print(metrics.confusion_matrix(labels, predicted))\n",
    "print(metrics.classification_report(labels, predicted))"
   ]
  },
  {
   "cell_type": "code",
   "execution_count": 42,
   "metadata": {},
   "outputs": [
    {
     "data": {
      "image/png": "[encoded data removed]",
      "text/plain": [
       "<Figure size 432x288 with 1 Axes>"
      ]
     },
     "metadata": {
      "needs_background": "light"
     },
     "output_type": "display_data"
    },
    {
     "data": {
      "text/plain": [
       "<function matplotlib.pyplot.legend(*args, **kwargs)>"
      ]
     },
     "execution_count": 42,
     "metadata": {},
     "output_type": "execute_result"
    }
   ],
   "source": [
    "%matplotlib inline\n",
    "\n",
    "import matplotlib.pyplot as plt\n",
    "\n",
    "a = [\"Sentiment Lexicons\", \"SentiWordNet\", \"ML, unigrams\"]\n",
    "index = range(len(a))\n",
    "b = [64.75, 68.80, 83.60] # Accuracy scores for the compared methods\n",
    "\n",
    "fig, ax = plt.subplots()\n",
    "axes = plt.gca()\n",
    "# Let's set 50 as the lower bound as the majority class baseline is at 50 for this dataset\n",
    "axes.set_ylim([50,90])\n",
    "\n",
    "ax.bar(index, b, color=['#0A40A4', '#61A4F6', '#DB025B'])\n",
    "plt.xticks(index, a) \n",
    "\n",
    "plt.show()\n",
    "\n",
    "import matplotlib\n",
    "matplotlib.axes.Axes.plot\n",
    "matplotlib.pyplot.plot\n",
    "matplotlib.axes.Axes.legend\n",
    "matplotlib.pyplot.legend"
   ]
  },
  {
   "cell_type": "markdown",
   "metadata": {},
   "source": [
    "Alternatively, run the `CountVectorizer` on a set of word uni- and bi-grams (with `ngram_range=(1, 2)`) or even uni- + bi- + tri-grams (with `ngram_range=(1, 3)`)"
   ]
  },
  {
   "cell_type": "code",
   "execution_count": 54,
   "metadata": {},
   "outputs": [
    {
     "name": "stdout",
     "output_type": "stream",
     "text": [
      "Pipeline(memory=None,\n",
      "         steps=[('vect',\n",
      "                 CountVectorizer(analyzer='word', binary=False,\n",
      "                                 decode_error='strict',\n",
      "                                 dtype=<class 'numpy.int64'>, encoding='utf-8',\n",
      "                                 input='content', lowercase=True, max_df=1.0,\n",
      "                                 max_features=None, min_df=1,\n",
      "                                 ngram_range=(1, 3), preprocessor=None,\n",
      "                                 stop_words=None, strip_accents=None,\n",
      "                                 token_pattern='(?u)\\\\b\\\\w\\\\w+\\\\b',\n",
      "                                 tokenizer=None, vocabulary=None)),\n",
      "                ('binarizer', Binarizer(copy=True, threshold=0.0)),\n",
      "                ('clf',\n",
      "                 MultinomialNB(alpha=1.0, class_prior=None, fit_prior=True))],\n",
      "         verbose=False)\n"
     ]
    }
   ],
   "source": [
    "text_clf = Pipeline([('vect', CountVectorizer(ngram_range=(1, 3))), \n",
    "                     ('binarizer', Binarizer()), #presence-absence of features\n",
    "                     ('clf', MultinomialNB())\n",
    "                    ])\n",
    "\n",
    "text_clf.fit(train_data, train_targets) \n",
    "print(text_clf)\n",
    "predicted = text_clf.predict(test_data)"
   ]
  },
  {
   "cell_type": "code",
   "execution_count": 55,
   "metadata": {},
   "outputs": [
    {
     "name": "stdout",
     "output_type": "stream",
     "text": [
      "\n",
      "Confusion matrix:\n",
      "[[158  44]\n",
      " [ 24 174]]\n",
      "              precision    recall  f1-score   support\n",
      "\n",
      "          -1       0.87      0.78      0.82       202\n",
      "           1       0.80      0.88      0.84       198\n",
      "\n",
      "    accuracy                           0.83       400\n",
      "   macro avg       0.83      0.83      0.83       400\n",
      "weighted avg       0.83      0.83      0.83       400\n",
      "\n"
     ]
    }
   ],
   "source": [
    "print(\"\\nConfusion matrix:\")\n",
    "print(metrics.confusion_matrix(test_targets, predicted))\n",
    "print(metrics.classification_report(test_targets, predicted))"
   ]
  },
  {
   "cell_type": "code",
   "execution_count": 56,
   "metadata": {},
   "outputs": [
    {
     "name": "stdout",
     "output_type": "stream",
     "text": [
      "[0.89  0.86  0.87  0.835 0.895 0.82  0.86  0.855 0.825 0.88 ]\n",
      "Accuracy: 0.859\n",
      "\n",
      "Confusion matrix:\n",
      "[[810 190]\n",
      " [ 92 908]]\n",
      "              precision    recall  f1-score   support\n",
      "\n",
      "          -1       0.90      0.81      0.85      1000\n",
      "           1       0.83      0.91      0.87      1000\n",
      "\n",
      "    accuracy                           0.86      2000\n",
      "   macro avg       0.86      0.86      0.86      2000\n",
      "weighted avg       0.86      0.86      0.86      2000\n",
      "\n"
     ]
    }
   ],
   "source": [
    "scores = cross_val_score(text_clf, texts, labels, cv=10)\n",
    "print(scores)\n",
    "print(\"Accuracy: \" + str(sum(scores)/10))\n",
    "predicted = cross_val_predict(text_clf, texts, labels, cv=10)\n",
    "print(\"\\nConfusion matrix:\")\n",
    "print(metrics.confusion_matrix(labels, predicted))\n",
    "print(metrics.classification_report(labels, predicted))"
   ]
  },
  {
   "cell_type": "code",
   "execution_count": 49,
   "metadata": {},
   "outputs": [
    {
     "data": {
      "image/png": "[encoded data removed]",
      "text/plain": [
       "<Figure size 432x288 with 1 Axes>"
      ]
     },
     "metadata": {
      "needs_background": "light"
     },
     "output_type": "display_data"
    },
    {
     "data": {
      "text/plain": [
       "<function matplotlib.pyplot.legend(*args, **kwargs)>"
      ]
     },
     "execution_count": 49,
     "metadata": {},
     "output_type": "execute_result"
    }
   ],
   "source": [
    "%matplotlib inline\n",
    "\n",
    "import matplotlib.pyplot as plt\n",
    "\n",
    "a = [\"Sentiment\\nLexicons\", \"Senti-\\nWordNet\", \"Unigrams\", \"1-2-grams\", \"1-3-grams\"]\n",
    "index = range(len(a))\n",
    "b = [64.75, 68.80, 83.60, 85.05, 85.90] # Accuracy scores for the compared methods\n",
    "\n",
    "fig, ax = plt.subplots()\n",
    "axes = plt.gca()\n",
    "# Let's set 50 as the lower bound as the majority class baseline is at 50 for this dataset\n",
    "axes.set_ylim([50,90])\n",
    "\n",
    "ax.bar(index, b, color=['#0A40A4', '#61A4F6', '#DB025B', '#BE33FF', '#811883'])\n",
    "plt.xticks(index, a) \n",
    "\n",
    "plt.show()\n",
    "\n",
    "import matplotlib\n",
    "matplotlib.axes.Axes.plot\n",
    "matplotlib.pyplot.plot\n",
    "matplotlib.axes.Axes.legend\n",
    "matplotlib.pyplot.legend"
   ]
  },
  {
   "cell_type": "markdown",
   "metadata": {},
   "source": [
    "### Optional exercise: Consider only pre-defined words as features\n",
    "\n",
    "You can use selected words (e.g., adjectives identified by their part-of-speech tag or words from specific  sentiment lexicons) only.\n",
    "\n",
    "First with the lexicons:"
   ]
  },
  {
   "cell_type": "code",
   "execution_count": 35,
   "metadata": {},
   "outputs": [
    {
     "name": "stdout",
     "output_type": "stream",
     "text": [
      "2000 2000\n",
      "at end an action scene wall near warrior her face floor she into then abruptly says oh my car keys mention scene because only moment whole damned production made me smile based an incredibly popular video game lousy movie structure goes poorly action sequence boring exposition poorly action sequence boring exposition etc etc end basically film exists jolie puffy lips tits close ups framed oh carefully include her million dollar running scenes highlight her breasts fashion there even include shower scene offers brief side view them filmmakers ca even flash audience correctly one extended display nudity get ready guy no particular reason muscular supporting character around naked about 30 seconds each shot barely cover his package la austin powers now enjoy good looking male body much next gay guy what hell doing flick aimed at males course what else should one expect film does virtually nothing right sets up elaborate action set pieces then them incomprehensible needless jump cut editing promising dual battle ruined by excessive cuts promises series exotic then cavernous sets grimy paintings throw some basement computer graphics end up movie come down many intended indiana jones style adventure any sense tension low point comes when threatened by monkey warriors giant armed figure come life cgi easily ever seen creatures move fall apart single shot from gun if ever by monsters pray get monkey warriors tells story sort once every 5 years planets group very bad men out find two an object if planets will give them control over time itself goal stop them rescue her long missing jon jolie real life dad none matters though because stunning internal logic plot lame ever other aspect film except jolie lips breasts\n"
     ]
    }
   ],
   "source": [
    "def text_filter_incl(a_dict, label, include_lists):\n",
    "    data = []\n",
    "    for rev_id in a_dict.keys():\n",
    "        tokens = []\n",
    "        for token in a_dict.get(rev_id):\n",
    "            if token.text in include_lists:\n",
    "                tokens.append(token.text)\n",
    "        data.append((' '.join(tokens), label))\n",
    "    return data\n",
    "\n",
    "def prepare_data_incl(pos_docs, neg_docs, include_lists):\n",
    "    data = text_filter_incl(pos_docs, 1, include_lists)\n",
    "    data += text_filter_incl(neg_docs, -1, include_lists)\n",
    "    random.shuffle(data)\n",
    "    texts = []\n",
    "    labels = []\n",
    "    for item in data:\n",
    "        texts.append(item[0])\n",
    "        labels.append(item[1])\n",
    "    return texts, labels\n",
    "\n",
    "#texts_incl, labels_incl = prepare_data(pos_docs, neg_docs, set(list(adj_90.keys()) + list(adj_00.keys())))\n",
    "texts_incl, labels_incl = prepare_data_incl(pos_docs, neg_docs, \n",
    "                                       set(list(adj_90.keys()) + list(adj_00.keys()) + \n",
    "                                       list(all_90.keys()) + list(all_00.keys()) + list(movie_words.keys())))\n",
    "\n",
    "print(len(texts_incl), len(labels_incl))\n",
    "print(texts_incl[0])"
   ]
  },
  {
   "cell_type": "code",
   "execution_count": 36,
   "metadata": {},
   "outputs": [
    {
     "name": "stdout",
     "output_type": "stream",
     "text": [
      "Pipeline(memory=None,\n",
      "         steps=[('vect',\n",
      "                 CountVectorizer(analyzer='word', binary=False,\n",
      "                                 decode_error='strict',\n",
      "                                 dtype=<class 'numpy.int64'>, encoding='utf-8',\n",
      "                                 input='content', lowercase=True, max_df=1.0,\n",
      "                                 max_features=None, min_df=1,\n",
      "                                 ngram_range=(1, 2), preprocessor=None,\n",
      "                                 stop_words=None, strip_accents=None,\n",
      "                                 token_pattern='(?u)\\\\b\\\\w\\\\w+\\\\b',\n",
      "                                 tokenizer=None, vocabulary=None)),\n",
      "                ('binarizer', Binarizer(copy=True, threshold=0.0)),\n",
      "                ('clf',\n",
      "                 MultinomialNB(alpha=1.0, class_prior=None, fit_prior=True))],\n",
      "         verbose=False)\n"
     ]
    }
   ],
   "source": [
    "text_clf = Pipeline([('vect', CountVectorizer(ngram_range=(1, 2))), \n",
    "                     #options: ngram_range=(1, 2) or min_df=10, max_df=0.5\n",
    "                     ('binarizer', Binarizer()), #presence-absence of features\n",
    "                     ('clf', MultinomialNB()),\n",
    "                    ])\n",
    "\n",
    "print(text_clf)"
   ]
  },
  {
   "cell_type": "code",
   "execution_count": 37,
   "metadata": {},
   "outputs": [
    {
     "name": "stdout",
     "output_type": "stream",
     "text": [
      "[0.88  0.82  0.87  0.835 0.85  0.885 0.87  0.82  0.855 0.865]\n",
      "Accuracy: 0.8550000000000001\n",
      "\n",
      "Confusion matrix:\n",
      "[[830 170]\n",
      " [120 880]]\n",
      "              precision    recall  f1-score   support\n",
      "\n",
      "          -1       0.87      0.83      0.85      1000\n",
      "           1       0.84      0.88      0.86      1000\n",
      "\n",
      "    accuracy                           0.85      2000\n",
      "   macro avg       0.86      0.85      0.85      2000\n",
      "weighted avg       0.86      0.85      0.85      2000\n",
      "\n"
     ]
    }
   ],
   "source": [
    "scores = cross_val_score(text_clf, texts_incl, labels_incl, cv=10)\n",
    "print(scores)\n",
    "print(\"Accuracy: \" + str(sum(scores)/10))\n",
    "predicted = cross_val_predict(text_clf, texts_incl, labels_incl, cv=10)\n",
    "print(\"\\nConfusion matrix:\")\n",
    "print(metrics.confusion_matrix(labels_incl, predicted))\n",
    "print(metrics.classification_report(labels_incl, predicted))"
   ]
  },
  {
   "cell_type": "markdown",
   "metadata": {},
   "source": [
    "And now with the part-of-speech tags:"
   ]
  },
  {
   "cell_type": "code",
   "execution_count": 38,
   "metadata": {},
   "outputs": [
    {
     "name": "stdout",
     "output_type": "stream",
     "text": [
      "2000 2000\n",
      "last sore when not aloud virtually n't as much second first great goofy dandy energetic inspired flat most fun zippy retro straight slapstick then extremely rich venetian unusual high half very special together lucky where simple n there ahead first wrong next few flashy trashy big erudite conservative more little wary together clear fierce competitive currently most hated all enormous high vengeful new cheerful odd little italian also narcoleptic asleep most inopportune wayne hyper tense human fearful angry together so mini green young crooked stupid poorly only close finally smart first blandly wholesome when periodically where right bizarre few flat high intricately bizarre outdoor utterly tasteless screamingly funny filmmaking where instead same also different really yet smash enough terrific diverse again when hilarious surely\n"
     ]
    }
   ],
   "source": [
    "def text_filter_postag(a_dict, label, pos_lists):\n",
    "    data = []\n",
    "    for rev_id in a_dict.keys():\n",
    "        tokens = []\n",
    "        for token in a_dict.get(rev_id):\n",
    "            if token.pos_ in pos_lists:\n",
    "                tokens.append(token.text)\n",
    "        data.append((' '.join(tokens), label))\n",
    "    return data\n",
    "\n",
    "def prepare_data_postag(pos_docs, neg_docs, pos_lists):\n",
    "    data = text_filter_postag(pos_docs, 1, pos_lists)\n",
    "    data += text_filter_postag(neg_docs, -1, pos_lists)\n",
    "    random.shuffle(data)\n",
    "    texts = []\n",
    "    labels = []\n",
    "    for item in data:\n",
    "        texts.append(item[0])\n",
    "        labels.append(item[1])\n",
    "    return texts, labels\n",
    "\n",
    "texts_postag, labels_postag = prepare_data_postag(pos_docs, neg_docs, [\"ADJ\", \"ADV\"])\n",
    "\n",
    "print(len(texts_postag), len(labels_postag))\n",
    "print(texts_postag[0])"
   ]
  },
  {
   "cell_type": "code",
   "execution_count": 39,
   "metadata": {},
   "outputs": [
    {
     "name": "stdout",
     "output_type": "stream",
     "text": [
      "[0.845 0.875 0.845 0.875 0.855 0.82  0.85  0.81  0.82  0.865]\n",
      "Accuracy: 0.8460000000000001\n",
      "\n",
      "Confusion matrix:\n",
      "[[828 172]\n",
      " [136 864]]\n",
      "              precision    recall  f1-score   support\n",
      "\n",
      "          -1       0.86      0.83      0.84      1000\n",
      "           1       0.83      0.86      0.85      1000\n",
      "\n",
      "    accuracy                           0.85      2000\n",
      "   macro avg       0.85      0.85      0.85      2000\n",
      "weighted avg       0.85      0.85      0.85      2000\n",
      "\n"
     ]
    }
   ],
   "source": [
    "scores = cross_val_score(text_clf, texts_postag, labels_postag, cv=10)\n",
    "print(scores)\n",
    "print(\"Accuracy: \" + str(sum(scores)/10))\n",
    "predicted = cross_val_predict(text_clf, texts_postag, labels_postag, cv=10)\n",
    "print(\"\\nConfusion matrix:\")\n",
    "print(metrics.confusion_matrix(labels_postag, predicted))\n",
    "print(metrics.classification_report(labels_postag, predicted))"
   ]
  },
  {
   "cell_type": "markdown",
   "metadata": {},
   "source": [
    "## Addressing negation\n",
    "\n",
    "Use NLTK's negation \"trick\":"
   ]
  },
  {
   "cell_type": "code",
   "execution_count": 57,
   "metadata": {},
   "outputs": [
    {
     "name": "stdout",
     "output_type": "stream",
     "text": [
      "2000 2000\n",
      "the central focus of michael winterbottom's welcome to sarajevo is sarajevo itself the city under siege and its different effect on the characters unfortunate enough to be stuck there it proves the backdrop for a stunningly realized story which refreshingly strays from mythic portents platoon racial tumultuosness the risible the walking dead or a tinge of schmaltziness schindler's list the two leads stephen dillane as a reporter and emira nusevic as an orphan with a plight few can identify with are extremely believable not one_NEG moment_NEG with_NEG them_NEG involved_NEG rings_NEG false_NEG the question is not what_NEG went_NEG right_NEG the question is what went wrong for one the film fails to provide a political overview of the war as it progresses the dillane characters reports an american plane departing from sarajevo as it departs and that's about it the assortment of high-profile supporting actors ranging from woody harrelson as a yankee reporter into liquor and cigarrettes to marisa tomei as a huggable children's aid or somesuch are incapable of rising above the sketchiness of their characters albeit they strive the interrupted use of authentic war footage somewhat hampers the rest of the film it makes the fictional characters seem powerless by comparison still winterbottom eschews mawkishness through flashy frantic editing and imaginative use of music and it's a plus because he doesn't toy_NEG with_NEG our_NEG emotions_NEG with_NEG sentimental_NEG blandness_NEG he wants us to know that in war no one_NEG is_NEG victorious_NEG the sweet hereafter starring ian holm sarah polley bruce greenwood tom mccamus gabrielle rose arsinee khanjian alberta watson maury chaykin caerthan banks produced by atom egoyan and camelia frieberg script by atom egoyan based on the novel by russell banks directed by atom egoyan running time 110 mins rated r ___ ___ ___ ___ ___ ___ ___ ___ ___ ___ ___ ___ ___ ___ ___ ___ ___ ___ __ atom egoyan's powerfully meditative the sweet hereafter is as anything as haunting and transcendental as i've seen this year it not only_NEG explores_NEG the_NEG aftermaths_NEG of_NEG a_NEG terrible_NEG tragedy_NEG with_NEG magnificent_NEG subtlety_NEG ,_NEG with_NEG cold_NEG ,_NEG and_NEG stunning_NEG shots_NEG of_NEG the_NEG backdrop_NEG of_NEG this_NEG mistfortune_NEG but_NEG also_NEG by_NEG telegraphing_NEG the_NEG sense_NEG of_NEG devastation_NEG that_NEG has_NEG permeated_NEG the_NEG small_NEG town_NEG with_NEG an_NEG enormous_NEG amount_NEG of_NEG dignity_NEG and_NEG respect_NEG for_NEG each_NEG and_NEG every_NEG soul_NEG affected_NEG ian holm as the somber lonely lawyer seeking compensation for the townspeople has a decency and a restraint uncommon with lawyers he's a lion for the wrong reasons the pain for having lost his daughter she's a druggie who frequently calls him begging for money is reflected on the town and in some mesmerizing flashbacks we witness how she lost her purity it's one of the most strikingly breathtaking takes on the loss of innocence i've ever seen but the most astounding part goes to sarah polly the peaceful benevolent girl who in contrast to the other characters remains the most mentally stable during past present or future her ability to convey concealed pain and unconditional love is the opposite yet near-revolutionary role that won emily watson an oscar nomination for breaking the waves both women are torn apart by an extraordinary incident but it is only then that we truly see truly feel their wordless omnipotent love the sweet hereafter though is atom egoyan's movie and as of now he is emerging as the definite face of independent cinema after surging to worldwide recognition with 1994's exotica the sweet hereafter makes him something few people in this industry can call themselves an artist he interweaves time with a delicacy and sees a soul with a purity that is just not common_NEG\n"
     ]
    }
   ],
   "source": [
    "from nltk.sentiment.util import mark_negation\n",
    "\n",
    "def text_filter_neg(a_dict, label, exclude_lists):\n",
    "    data = []\n",
    "    for rev_id in a_dict.keys():\n",
    "        tokens = []\n",
    "        for sent in a_dict.get(rev_id).sents:\n",
    "            neg_tokens = mark_negation(sent.text.split())\n",
    "            #print (neg_tokens)\n",
    "            for token in neg_tokens:\n",
    "                if not token in exclude_lists:\n",
    "                    tokens.append(token)\n",
    "        data.append((' '.join(tokens), label))\n",
    "    return data\n",
    "\n",
    "def prepare_data_neg(pos_docs, neg_docs, exclude_lists):\n",
    "    data = text_filter_neg(pos_docs, 1, exclude_lists)\n",
    "    data += text_filter_neg(neg_docs, -1, exclude_lists)\n",
    "    random.seed(42)\n",
    "    random.shuffle(data)\n",
    "    texts = []\n",
    "    labels = []\n",
    "    for item in data:\n",
    "        texts.append(item[0])\n",
    "        labels.append(item[1])\n",
    "    return texts, labels\n",
    "\n",
    "\n",
    "texts_neg, labels_neg = prepare_data_neg(pos_docs, neg_docs, punctuation_list) \n",
    "\n",
    "print(len(texts_neg), len(labels_neg))\n",
    "print(texts_neg[0])"
   ]
  },
  {
   "cell_type": "code",
   "execution_count": 62,
   "metadata": {},
   "outputs": [
    {
     "name": "stdout",
     "output_type": "stream",
     "text": [
      "[0.89  0.865 0.875 0.82  0.895 0.8   0.855 0.885 0.82  0.88 ]\n",
      "Accuracy: 0.8585\n",
      "\n",
      "Confusion matrix:\n",
      "[[828 172]\n",
      " [111 889]]\n",
      "              precision    recall  f1-score   support\n",
      "\n",
      "          -1       0.88      0.83      0.85      1000\n",
      "           1       0.84      0.89      0.86      1000\n",
      "\n",
      "    accuracy                           0.86      2000\n",
      "   macro avg       0.86      0.86      0.86      2000\n",
      "weighted avg       0.86      0.86      0.86      2000\n",
      "\n"
     ]
    }
   ],
   "source": [
    "text_clf = Pipeline([('vect', CountVectorizer(ngram_range=(1, 2))), \n",
    "                     #options: ngram_range=(1, 2) or min_df=10, max_df=0.5\n",
    "                     ('binarizer', Binarizer()), #presence-absence of features\n",
    "                     ('clf', MultinomialNB()),\n",
    "                    ])\n",
    "\n",
    "scores = cross_val_score(text_clf, texts_neg, labels_neg, cv=10)\n",
    "print(scores)\n",
    "print(\"Accuracy: \" + str(sum(scores)/10))\n",
    "predicted = cross_val_predict(text_clf, texts_neg, labels_neg, cv=10)\n",
    "print(\"\\nConfusion matrix:\")\n",
    "print(metrics.confusion_matrix(labels_neg, predicted))\n",
    "print(metrics.classification_report(labels_neg, predicted))"
   ]
  },
  {
   "cell_type": "code",
   "execution_count": 66,
   "metadata": {},
   "outputs": [
    {
     "data": {
      "image/png": "[encoded data removed]",
      "text/plain": [
       "<Figure size 432x288 with 1 Axes>"
      ]
     },
     "metadata": {
      "needs_background": "light"
     },
     "output_type": "display_data"
    },
    {
     "data": {
      "text/plain": [
       "<function matplotlib.pyplot.legend(*args, **kwargs)>"
      ]
     },
     "execution_count": 66,
     "metadata": {},
     "output_type": "execute_result"
    }
   ],
   "source": [
    "%matplotlib inline\n",
    "\n",
    "import matplotlib.pyplot as plt\n",
    "\n",
    "a = [\"Sentiment\\nLexicons\", \"Senti-\\nWordNet\", \"Unigrams\", \"1-2-grams\", \"1-3-grams\", \"+negation\"]\n",
    "index = range(len(a))\n",
    "b = [64.75, 68.80, 83.60, 85.05, 85.90, 85.85] # Accuracy scores for the compared methods\n",
    "\n",
    "fig, ax = plt.subplots()\n",
    "axes = plt.gca()\n",
    "# Let's set 50 as the lower bound as the majority class baseline is at 50 for this dataset\n",
    "axes.set_ylim([50,90])\n",
    "\n",
    "ax.bar(index, b, color=['#0A40A4', '#61A4F6', '#DB025B', '#BE33FF', '#811883', '#4B169C'])\n",
    "plt.xticks(index, a) \n",
    "\n",
    "plt.show()\n",
    "\n",
    "import matplotlib\n",
    "matplotlib.axes.Axes.plot\n",
    "matplotlib.pyplot.plot\n",
    "matplotlib.axes.Axes.legend\n",
    "matplotlib.pyplot.legend"
   ]
  },
  {
   "cell_type": "code",
   "execution_count": null,
   "metadata": {},
   "outputs": [],
   "source": []
  }
 ],
 "metadata": {
  "kernelspec": {
   "display_name": "Python 3",
   "language": "python",
   "name": "python3"
  },
  "language_info": {
   "codemirror_mode": {
    "name": "ipython",
    "version": 3
   },
   "file_extension": ".py",
   "mimetype": "text/x-python",
   "name": "python",
   "nbconvert_exporter": "python",
   "pygments_lexer": "ipython3",
   "version": "3.7.6"
  }
 },
 "nbformat": 4,
 "nbformat_minor": 4
}
