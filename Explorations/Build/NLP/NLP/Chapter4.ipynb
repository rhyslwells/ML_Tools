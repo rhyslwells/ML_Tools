{
 "cells": [
  {
   "cell_type": "markdown",
   "metadata": {},
   "source": [
    "# Understanding the task\n",
    "\n",
    "First, a simple example:"
   ]
  },
  {
   "cell_type": "code",
   "execution_count": 1,
   "metadata": {},
   "outputs": [
    {
     "name": "stdout",
     "output_type": "stream",
     "text": [
      "Participant1 = Harry\n",
      "Action = met\n",
      "Participant2 = Sally\n"
     ]
    }
   ],
   "source": [
    "information = \"When Harry met Sally\"\n",
    "words = information.split()\n",
    "print (f\"Participant1 = {words[words.index('met')-1]}\")\n",
    "print (f\"Action = met\")\n",
    "print (f\"Participant2 = {words[words.index('met')+1]}\")"
   ]
  },
  {
   "cell_type": "markdown",
   "metadata": {},
   "source": [
    "Represent the action and its participants as tuples. Then you can easily extract the answers to queries:"
   ]
  },
  {
   "cell_type": "code",
   "execution_count": 1,
   "metadata": {},
   "outputs": [
    {
     "name": "stdout",
     "output_type": "stream",
     "text": [
      "['his cabinet', 'Finnish President']\n"
     ]
    }
   ],
   "source": [
    "meetings = [('Boris Johnson', 'meets with', 'the Queen'),\n",
    "            ('Donald Trump', 'meets with', 'his cabinet'),\n",
    "            ('administration', 'meets with', 'tech giants'),\n",
    "            ('the Queen', 'meets with', 'the Prime Minister'),\n",
    "            ('Donald Trump', 'meets with', 'Finnish President')]\n",
    "query = [p2 for (p1, act, p2) in meetings if p1=='Donald Trump']\n",
    "print(query)"
   ]
  },
  {
   "cell_type": "markdown",
   "metadata": {},
   "source": [
    "As \"meeting\" is a mutual action, a participant may appear on the right or on the left – make sure both cases are covered:"
   ]
  },
  {
   "cell_type": "code",
   "execution_count": 2,
   "metadata": {},
   "outputs": [
    {
     "name": "stdout",
     "output_type": "stream",
     "text": [
      "['the Prime Minister', 'Boris Johnson']\n"
     ]
    }
   ],
   "source": [
    "query = [p2 for (p1, act, p2) in meetings if p1=='the Queen']\n",
    "query += [p1 for (p1, act, p2) in meetings if p2=='the Queen']\n",
    "print(query)"
   ]
  },
  {
   "cell_type": "markdown",
   "metadata": {},
   "source": [
    "# Natural Language Processing with spaCy\n",
    "\n",
    "## Part-of-speech tagging\n",
    "\n",
    "Run `nlp` pipeline on some input text:"
   ]
  },
  {
   "cell_type": "code",
   "execution_count": 3,
   "metadata": {},
   "outputs": [
    {
     "name": "stdout",
     "output_type": "stream",
     "text": [
      " Word         Position  Lowercase    Lemma        POS    Alphanumeric  Stopword \n",
      " On           0         on           on           ADP    True          True     \n",
      " Friday       1         friday       Friday       PROPN  True          False    \n",
      " board        2         board        board        NOUN   True          False    \n",
      " members      3         members      member       NOUN   True          False    \n",
      " meet         4         meet         meet         VERB   True          False    \n",
      " with         5         with         with         ADP    True          True     \n",
      " senior       6         senior       senior       ADJ    True          False    \n",
      " managers     7         managers     manager      NOUN   True          False    \n",
      " to           8         to           to           PART   True          True     \n",
      " discuss      9         discuss      discuss      VERB   True          False    \n",
      " future       10        future       future       ADJ    True          False    \n",
      " development  11        development  development  NOUN   True          False    \n",
      " of           12        of           of           ADP    True          True     \n",
      " the          13        the          the          DET    True          True     \n",
      " company      14        company      company      NOUN   True          False    \n",
      " .            15        .            .            PUNCT  False         False    \n"
     ]
    }
   ],
   "source": [
    "import spacy\n",
    "\n",
    "nlp = spacy.load(\"en_core_web_sm\")\n",
    "doc = nlp(\"On Friday board members meet with senior managers \" +\n",
    "          \"to discuss future development of the company.\")\n",
    "\n",
    "rows = []\n",
    "rows.append([\"Word\", \"Position\", \"Lowercase\", \"Lemma\", \"POS\", \"Alphanumeric\", \"Stopword\"])\n",
    "for token in doc:\n",
    "    rows.append([token.text, str(token.i), token.lower_, token.lemma_, \n",
    "                 token.pos_, str(token.is_alpha), str(token.is_stop)])\n",
    "\n",
    "columns = zip(*rows)\n",
    "column_widths = [max(len(item) for item in col) for col in columns]\n",
    "for row in rows:\n",
    "    print(''.join(' {:{width}} '.format(row[i], width=column_widths[i]) \n",
    "                  for i in range(0, len(row))))\n"
   ]
  },
  {
   "cell_type": "markdown",
   "metadata": {},
   "source": [
    "Use more challenging text, for example \"Jabberwocky\":"
   ]
  },
  {
   "cell_type": "code",
   "execution_count": 4,
   "metadata": {},
   "outputs": [
    {
     "name": "stdout",
     "output_type": "stream",
     "text": [
      " Word          Position  Lowercase     Lemma         POS    Alphanumeric  Stopword \n",
      " Beware        0         beware        beware        VERB   True          False    \n",
      " the           1         the           the           DET    True          True     \n",
      " Jabberwock    2         jabberwock    Jabberwock    PROPN  True          False    \n",
      " ,             3         ,             ,             PUNCT  False         False    \n",
      " my            4         my            my            PRON   True          True     \n",
      " son           5         son           son           NOUN   True          False    \n",
      " !             6         !             !             PUNCT  False         False    \n",
      " The           7         the           the           DET    True          True     \n",
      " jaws          8         jaws          jaw           NOUN   True          False    \n",
      " that          9         that          that          DET    True          True     \n",
      " bite          10        bite          bite          VERB   True          False    \n",
      " ,             11        ,             ,             PUNCT  False         False    \n",
      " the           12        the           the           DET    True          True     \n",
      " claws         13        claws         claw          NOUN   True          False    \n",
      " that          14        that          that          DET    True          True     \n",
      " catch         15        catch         catch         VERB   True          False    \n",
      " !             16        !             !             PUNCT  False         False    \n",
      " Beware        17        beware        beware        VERB   True          False    \n",
      " the           18        the           the           DET    True          True     \n",
      " Jubjub        19        jubjub        Jubjub        PROPN  True          False    \n",
      " bird          20        bird          bird          NOUN   True          False    \n",
      " ,             21        ,             ,             PUNCT  False         False    \n",
      " and           22        and           and           CCONJ  True          True     \n",
      " shun          23        shun          shun          VERB   True          False    \n",
      " The           24        the           the           DET    True          True     \n",
      " frumious      25        frumious      frumious      ADJ    True          False    \n",
      " Bandersnatch  26        bandersnatch  Bandersnatch  PROPN  True          False    \n",
      " !             27        !             !             PUNCT  False         False    \n"
     ]
    }
   ],
   "source": [
    "import spacy\n",
    "\n",
    "nlp = spacy.load(\"en_core_web_sm\")\n",
    "doc = nlp(\"Beware the Jabberwock, my son! The jaws that bite, the claws that catch! \" +\n",
    "          \"Beware the Jubjub bird, and shun The frumious Bandersnatch!\")\n",
    "\n",
    "rows = []\n",
    "rows.append([\"Word\", \"Position\", \"Lowercase\", \"Lemma\", \"POS\", \"Alphanumeric\", \"Stopword\"])\n",
    "for token in doc:\n",
    "    rows.append([token.text, str(token.i), token.lower_, token.lemma_, \n",
    "                 token.pos_, str(token.is_alpha), str(token.is_stop)])\n",
    "\n",
    "columns = zip(*rows)\n",
    "column_widths = [max(len(item) for item in col) for col in columns]\n",
    "for row in rows:\n",
    "    print(''.join(' {:{width}} '.format(row[i], width=column_widths[i]) \n",
    "                  for i in range(0, len(row))))"
   ]
  },
  {
   "cell_type": "markdown",
   "metadata": {},
   "source": [
    "## Parsing\n",
    "\n",
    "Identify all noun phrases (groups of words that include a noun and all related words). These will be good candidates for the participants of the event:"
   ]
  },
  {
   "cell_type": "code",
   "execution_count": 5,
   "metadata": {},
   "outputs": [
    {
     "name": "stdout",
     "output_type": "stream",
     "text": [
      "Friday\tFriday\tpobj\tOn\n",
      "board members\tmembers\tnsubj\tmeet\n",
      "senior managers\tmanagers\tpobj\twith\n",
      "future development\tdevelopment\tdobj\tdiscuss\n",
      "the company\tcompany\tpobj\tof\n"
     ]
    }
   ],
   "source": [
    "import spacy\n",
    "\n",
    "nlp = spacy.load(\"en_core_web_sm\")\n",
    "doc = nlp(\"On Friday, board members meet with senior managers \" +\n",
    "          \"to discuss future development of the company.\")\n",
    "\n",
    "for chunk in doc.noun_chunks:\n",
    "    print('\\t'.join([chunk.text, chunk.root.text, chunk.root.dep_,\n",
    "            chunk.root.head.text]))"
   ]
  },
  {
   "cell_type": "markdown",
   "metadata": {},
   "source": [
    "Here is how you can visualize the dependencies – call on `displacy` and store output in a file:"
   ]
  },
  {
   "cell_type": "code",
   "execution_count": 6,
   "metadata": {},
   "outputs": [
    {
     "data": {
      "text/plain": [
       "12233"
      ]
     },
     "execution_count": 6,
     "metadata": {},
     "output_type": "execute_result"
    }
   ],
   "source": [
    "from spacy import displacy\n",
    "from pathlib import Path\n",
    "\n",
    "svg = displacy.render(doc, style='dep', jupyter=False)\n",
    "file_name = '-'.join([w.text for w in doc if not w.is_punct]) + \".svg\"\n",
    "output_path = Path(file_name)\n",
    "output_path.open(\"w\", encoding=\"utf-8\").write(svg)"
   ]
  },
  {
   "cell_type": "markdown",
   "metadata": {},
   "source": [
    "Get all the dependencies for all the words in the sentence:"
   ]
  },
  {
   "cell_type": "code",
   "execution_count": 7,
   "metadata": {},
   "outputs": [
    {
     "name": "stdout",
     "output_type": "stream",
     "text": [
      "On prep meet VERB [Friday]\n",
      "Friday pobj On ADP []\n",
      ", punct meet VERB []\n",
      "board compound members NOUN []\n",
      "members nsubj meet VERB [board]\n",
      "meet ROOT meet VERB [On, ,, members, with, discuss, .]\n",
      "with prep meet VERB [managers]\n",
      "senior amod managers NOUN []\n",
      "managers pobj with ADP [senior]\n",
      "to aux discuss VERB []\n",
      "discuss advcl meet VERB [to, development]\n",
      "future amod development NOUN []\n",
      "development dobj discuss VERB [future, of]\n",
      "of prep development NOUN [company]\n",
      "the det company NOUN []\n",
      "company pobj of ADP [the]\n",
      ". punct meet VERB []\n"
     ]
    }
   ],
   "source": [
    "for token in doc:\n",
    "    print(token.text, token.dep_, token.head.text, token.head.pos_,\n",
    "            [child for child in token.children])"
   ]
  },
  {
   "cell_type": "markdown",
   "metadata": {},
   "source": [
    "Now let's iterate through the words and only identify the participants of the action when the action is expressed with \"meet\":"
   ]
  },
  {
   "cell_type": "code",
   "execution_count": 8,
   "metadata": {},
   "outputs": [
    {
     "name": "stdout",
     "output_type": "stream",
     "text": [
      "Participant1 = board members\n",
      "Action = meet with\n",
      "Participant2 = senior managers\n"
     ]
    }
   ],
   "source": [
    "for token in doc:\n",
    "    if token.lemma_==\"meet\" and token.pos_==\"VERB\" and token.dep_==\"ROOT\":\n",
    "        action = token.text\n",
    "        children = [child for child in token.children]\n",
    "        participant1 = \"\"\n",
    "        participant2 = \"\"\n",
    "        for child1 in children:\n",
    "            if child1.dep_==\"nsubj\":\n",
    "                participant1 = \" \".join([attr.text for \n",
    "                                         attr in child1.children]) + \" \" + child1.text\n",
    "            elif child1.text==\"with\":\n",
    "                action += \" \" + child1.text\n",
    "                child1_children = [child for child in child1.children]\n",
    "                for child2 in child1_children:\n",
    "                    if child2.pos_ == \"NOUN\":\n",
    "                        participant2 = \" \".join([attr.text for \n",
    "                                             attr in child2.children]) + \" \" + child2.text\n",
    "print (f\"Participant1 = {participant1}\")\n",
    "print (f\"Action = {action}\")\n",
    "print (f\"Participant2 = {participant2}\")    "
   ]
  },
  {
   "cell_type": "markdown",
   "metadata": {},
   "source": [
    "Use various sentences and improve the code so that it can deal with different formats of the expression:"
   ]
  },
  {
   "cell_type": "code",
   "execution_count": 9,
   "metadata": {},
   "outputs": [
    {
     "name": "stdout",
     "output_type": "stream",
     "text": [
      "\n",
      "Sentence = On Friday, board members meet with senior managers to discuss future development of the company.\n",
      "Participant1 = board members\n",
      "Action = meet with\n",
      "Participant2 = senior managers\n",
      "\n",
      "Sentence = Boris Johnson met with the Queen last week.\n",
      "Participant1 = Boris Johnson\n",
      "Action = met with\n",
      "Participant2 = the Queen\n",
      "\n",
      "Sentence = Donald Trump meets the Queen at Buckingham Palace.\n",
      "Participant1 = Donald Trump\n",
      "Action = meets\n",
      "Participant2 = the Queen\n",
      "\n",
      "Sentence = The two leaders also posed for photographs and the President talked to reporters.\n",
      "Participant1 = \n",
      "Action = \n",
      "Participant2 = \n"
     ]
    }
   ],
   "source": [
    "sentences = [\"On Friday, board members meet with senior managers \" +\n",
    "             \"to discuss future development of the company.\", \n",
    "             \"Boris Johnson met with the Queen last week.\",\n",
    "             \"Donald Trump meets the Queen at Buckingham Palace.\",\n",
    "             \"The two leaders also posed for photographs and \" +\n",
    "             \"the President talked to reporters.\"]\n",
    "\n",
    "def extract_information(doc):\n",
    "    action=\"\"\n",
    "    participant1 = \"\"\n",
    "    participant2 = \"\"\n",
    "    for token in doc:\n",
    "        if token.lemma_==\"meet\" and token.pos_==\"VERB\" and token.dep_==\"ROOT\":\n",
    "            action = token.text\n",
    "            children = [child for child in token.children]   \n",
    "            for child1 in children:\n",
    "                if child1.dep_==\"nsubj\":\n",
    "                    participant1 = \" \".join([attr.text for \n",
    "                                             attr in child1.children]) + \" \" + child1.text\n",
    "                elif child1.text==\"with\":\n",
    "                    action += \" \" + child1.text\n",
    "                    child1_children = [child for child in child1.children]\n",
    "                    for child2 in child1_children:\n",
    "                        if child2.pos_ == \"NOUN\" or child2.pos_ == \"PROPN\":\n",
    "                            participant2 = \" \".join([attr.text for \n",
    "                                                 attr in child2.children]) + \" \" + child2.text\n",
    "                elif child1.dep_==\"dobj\" and (child1.pos_ == \"NOUN\"\n",
    "                                              or child1.pos_ == \"PROPN\"):\n",
    "                    participant2 = \" \".join([attr.text for \n",
    "                                             attr in child1.children]) + \" \" + child1.text\n",
    "    print (f\"Participant1 = {participant1}\")\n",
    "    print (f\"Action = {action}\")\n",
    "    print (f\"Participant2 = {participant2}\")\n",
    "\n",
    "for sent in sentences:\n",
    "    print(f\"\\nSentence = {sent}\")\n",
    "    doc = nlp(sent)\n",
    "    extract_information(doc)"
   ]
  },
  {
   "cell_type": "code",
   "execution_count": null,
   "metadata": {},
   "outputs": [],
   "source": []
  }
 ],
 "metadata": {
  "kernelspec": {
   "display_name": "Python 3",
   "language": "python",
   "name": "python3"
  },
  "language_info": {
   "codemirror_mode": {
    "name": "ipython",
    "version": 3
   },
   "file_extension": ".py",
   "mimetype": "text/x-python",
   "name": "python",
   "nbconvert_exporter": "python",
   "pygments_lexer": "ipython3",
   "version": "3.7.6"
  }
 },
 "nbformat": 4,
 "nbformat_minor": 2
}
