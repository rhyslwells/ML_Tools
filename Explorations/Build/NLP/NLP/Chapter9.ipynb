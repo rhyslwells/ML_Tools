{
 "cells": [
  {
   "cell_type": "markdown",
   "metadata": {},
   "source": [
    "# Chapter 9: Topic Analysis\n",
    "\n",
    "## Supervised Approach\n",
    "\n",
    "First, let's import the libraries that we are going to use in this notebook:"
   ]
  },
  {
   "cell_type": "code",
   "execution_count": 1,
   "metadata": {},
   "outputs": [],
   "source": [
    "from sklearn.datasets import fetch_20newsgroups\n",
    "import numpy as np"
   ]
  },
  {
   "cell_type": "markdown",
   "metadata": {},
   "source": [
    "Now, let's define a method to load *training* and *test* subsets using a predefined list of categories. Note that following options are also available:\n",
    "- you can use `load_dataset('all', categories)` to load the whole dataset\n",
    "- you can use `load_dataset('train', None)` to load the set of all topics"
   ]
  },
  {
   "cell_type": "code",
   "execution_count": 2,
   "metadata": {},
   "outputs": [],
   "source": [
    "def load_dataset(a_set, cats):\n",
    "    dataset = fetch_20newsgroups(subset=a_set, categories=cats,\n",
    "                          remove=('headers', 'footers', 'quotes'),\n",
    "                          shuffle=True)\n",
    "    return dataset"
   ]
  },
  {
   "cell_type": "code",
   "execution_count": 3,
   "metadata": {},
   "outputs": [],
   "source": [
    "categories = [\"comp.windows.x\", \"misc.forsale\", \"rec.autos\", \"rec.motorcycles\", \"rec.sport.baseball\"]\n",
    "categories += [\"rec.sport.hockey\", \"sci.crypt\", \"sci.med\", \"sci.space\", \"talk.politics.mideast\"]\n",
    "\n",
    "newsgroups_train = load_dataset('train', categories)\n",
    "newsgroups_test = load_dataset('test', categories)"
   ]
  },
  {
   "cell_type": "markdown",
   "metadata": {},
   "source": [
    "Let's check our uploaded data subsets:"
   ]
  },
  {
   "cell_type": "code",
   "execution_count": 4,
   "metadata": {},
   "outputs": [],
   "source": [
    "def check_data(dataset):\n",
    "    print(list(dataset.target_names))\n",
    "    print(dataset.filenames.shape)\n",
    "    print(dataset.target.shape)\n",
    "    if dataset.filenames.shape[0]==dataset.target.shape[0]:\n",
    "        print(\"Equal sizes for data and targets\")\n",
    "    print(dataset.filenames[0])\n",
    "    print(dataset.data[0])\n",
    "    print(dataset.target[:10])"
   ]
  },
  {
   "cell_type": "code",
   "execution_count": 5,
   "metadata": {},
   "outputs": [
    {
     "name": "stdout",
     "output_type": "stream",
     "text": [
      "['comp.windows.x', 'misc.forsale', 'rec.autos', 'rec.motorcycles', 'rec.sport.baseball', 'rec.sport.hockey', 'sci.crypt', 'sci.med', 'sci.space', 'talk.politics.mideast']\n",
      "(5913,)\n",
      "(5913,)\n",
      "Equal sizes for data and targets\n",
      "/Users/ekaterinakochmar/scikit_learn_data/20news_home/20news-bydate-train/rec.sport.baseball/102665\n",
      "I have posted the logos of the NL East teams to alt.binaries.pictures.misc \n",
      " Hopefully, I'll finish the series up next week with the NL West.\n",
      "\n",
      " Darren\n",
      "\n",
      "[4 3 9 7 4 3 0 5 7 8]\n",
      "\n",
      "***\n",
      "\n",
      "['comp.windows.x', 'misc.forsale', 'rec.autos', 'rec.motorcycles', 'rec.sport.baseball', 'rec.sport.hockey', 'sci.crypt', 'sci.med', 'sci.space', 'talk.politics.mideast']\n",
      "(3937,)\n",
      "(3937,)\n",
      "Equal sizes for data and targets\n",
      "/Users/ekaterinakochmar/scikit_learn_data/20news_home/20news-bydate-test/misc.forsale/76785\n",
      "As the title says. I would like to sell my Star LV2010 9 pin printer.\n",
      "Its a narrow colum dot matrix, supports both parallel and serial\n",
      "interfacing, prints at 200 characters per second, has a 16K buffer, \n",
      "and is very dependable...\n",
      "\n",
      "Drop some mail if your interested in it. $55 Plus shipping get the\n",
      "printer, and 6 extra srink-wraped ribbons, parallel connection\n",
      "cable, power cord, manual, and ONE sheet of paper (smile)...\n",
      "[1 7 2 5 3 5 7 3 0 2]\n"
     ]
    }
   ],
   "source": [
    "check_data(newsgroups_train)\n",
    "print(\"\\n***\\n\")\n",
    "check_data(newsgroups_test)"
   ]
  },
  {
   "cell_type": "markdown",
   "metadata": {},
   "source": [
    "Now let's create word vectors based on the content of the posts:"
   ]
  },
  {
   "cell_type": "code",
   "execution_count": 6,
   "metadata": {},
   "outputs": [],
   "source": [
    "from sklearn.feature_extraction.text import TfidfVectorizer\n",
    "\n",
    "vectorizer = TfidfVectorizer(stop_words = 'english')\n",
    "\n",
    "def text2vec(vectorizer, train_set, test_set):\n",
    "    vectors_train = vectorizer.fit_transform(train_set.data)\n",
    "    vectors_test = vectorizer.transform(test_set.data)\n",
    "    return vectors_train, vectors_test\n",
    "\n",
    "vectors_train, vectors_test = text2vec(vectorizer, newsgroups_train, newsgroups_test)"
   ]
  },
  {
   "cell_type": "markdown",
   "metadata": {},
   "source": [
    "Let's check how the data looks like now:"
   ]
  },
  {
   "cell_type": "code",
   "execution_count": 7,
   "metadata": {},
   "outputs": [
    {
     "name": "stdout",
     "output_type": "stream",
     "text": [
      "(5913, 52746)\n",
      "(3937, 52746)\n",
      "  (0, 15218)\t0.31618146678372416\n",
      "  (0, 50534)\t0.20153071455804605\n",
      "  (0, 50435)\t0.1817612919269656\n",
      "  (0, 42031)\t0.1891577831889085\n",
      "  (0, 20349)\t0.2372918776268056\n",
      "  (0, 29215)\t0.14244326085583361\n",
      "  (0, 24214)\t0.23045715683316248\n",
      "  (0, 31546)\t0.21952696479551445\n",
      "  (0, 36274)\t0.23637098993673133\n",
      "  (0, 9616)\t0.2606508810838842\n",
      "  (0, 6736)\t0.23045715683316248\n",
      "  (0, 46098)\t0.18751137951875305\n",
      "  (0, 17820)\t0.1996672692556469\n",
      "  (0, 33404)\t0.47274197987346267\n",
      "  (0, 29330)\t0.32348469409130415\n",
      "  (0, 36985)\t0.1806134526365663\n",
      "nl\n"
     ]
    }
   ],
   "source": [
    "print(vectors_train.shape)\n",
    "print(vectors_test.shape)\n",
    "print(vectors_train[0])\n",
    "print(vectorizer.get_feature_names()[33404])"
   ]
  },
  {
   "cell_type": "markdown",
   "metadata": {},
   "source": [
    "Next, let's apply the Multinomial Naive Bayes classifier:"
   ]
  },
  {
   "cell_type": "code",
   "execution_count": 8,
   "metadata": {},
   "outputs": [],
   "source": [
    "from sklearn.naive_bayes import MultinomialNB\n",
    "\n",
    "clf = MultinomialNB(alpha=0.1)\n",
    "clf.fit(vectors_train, newsgroups_train.target)\n",
    "predictions = clf.predict(vectors_test)"
   ]
  },
  {
   "cell_type": "markdown",
   "metadata": {},
   "source": [
    "Finally, let's evaluate the results, extract the most informative terms per topic, and print out and vosialise the confusion matrix:"
   ]
  },
  {
   "cell_type": "code",
   "execution_count": 11,
   "metadata": {},
   "outputs": [
    {
     "name": "stdout",
     "output_type": "stream",
     "text": [
      "                       precision    recall  f1-score   support\n",
      "\n",
      "       comp.windows.x       0.92      0.90      0.91       395\n",
      "         misc.forsale       0.88      0.87      0.87       390\n",
      "            rec.autos       0.83      0.78      0.80       396\n",
      "      rec.motorcycles       0.85      0.80      0.83       398\n",
      "   rec.sport.baseball       0.92      0.84      0.88       397\n",
      "     rec.sport.hockey       0.71      0.94      0.81       399\n",
      "            sci.crypt       0.82      0.85      0.83       396\n",
      "              sci.med       0.92      0.82      0.87       396\n",
      "            sci.space       0.86      0.82      0.84       394\n",
      "talk.politics.mideast       0.86      0.90      0.88       376\n",
      "\n",
      "             accuracy                           0.85      3937\n",
      "            macro avg       0.86      0.85      0.85      3937\n",
      "         weighted avg       0.86      0.85      0.85      3937\n",
      "\n",
      "comp.windows.x: program using application windows widget use thanks motif server window\n",
      "misc.forsale: asking email sell price condition new shipping offer 00 sale\n",
      "rec.autos: know don new good dealer engine just like cars car\n",
      "rec.motorcycles: don helmet riding just like motorcycle ride bikes dod bike\n",
      "rec.sport.baseball: braves pitching hit think runs games game baseball team year\n",
      "rec.sport.hockey: think year nhl season games players play hockey team game\n",
      "sci.crypt: escrow people use nsa keys government clipper chip encryption key\n",
      "sci.med: cadre dsl chastity n3jxp skepticism banks pitt geb gordon msg\n",
      "sci.space: lunar just shuttle earth like moon orbit launch nasa space\n",
      "talk.politics.mideast: just said arab turkish armenians people armenian jews israeli israel\n"
     ]
    }
   ],
   "source": [
    "from sklearn import metrics\n",
    "\n",
    "def show_top(classifier, categories, vectorizer, n):\n",
    "    feature_names = np.asarray(vectorizer.get_feature_names())\n",
    "    for i, category in enumerate(categories):\n",
    "        top = np.argsort(classifier.coef_[i])[-n:]\n",
    "        print(f'{category}: {\" \".join(feature_names[top])}')\n",
    "        \n",
    "\n",
    "full_report = metrics.classification_report(newsgroups_test.target, \n",
    "                                            predictions, target_names=newsgroups_test.target_names)\n",
    "print(full_report)\n",
    "show_top(clf, categories, vectorizer, 10)"
   ]
  },
  {
   "cell_type": "code",
   "execution_count": 12,
   "metadata": {},
   "outputs": [
    {
     "name": "stdout",
     "output_type": "stream",
     "text": [
      "[[355   8   2   2   1   8  12   2   5   0]\n",
      " [  3 339  16   9   4  11   2   1   5   0]\n",
      " [  0   9 308  25   3  27   7   3   9   5]\n",
      " [  2   8  26 320   4  15   9   4   6   4]\n",
      " [  3   7   0   2 333  33   4   5   2   8]\n",
      " [  1   0   0   2   6 374   8   2   2   4]\n",
      " [  9   7   3   3   2  18 335   2   7  10]\n",
      " [  2   4   9   5   3  17   7 324  13  12]\n",
      " [  9   3   7   2   3  18  11   6 324  11]\n",
      " [  2   0   2   7   2   9  13   2   2 337]]\n"
     ]
    },
    {
     "data": {
      "image/png": "[encoded data removed]",
      "text/plain": [
       "<Figure size 432x288 with 2 Axes>"
      ]
     },
     "metadata": {
      "needs_background": "light"
     },
     "output_type": "display_data"
    },
    {
     "name": "stdout",
     "output_type": "stream",
     "text": [
      "0 comp.windows.x\n",
      "1 misc.forsale\n",
      "2 rec.autos\n",
      "3 rec.motorcycles\n",
      "4 rec.sport.baseball\n",
      "5 rec.sport.hockey\n",
      "6 sci.crypt\n",
      "7 sci.med\n",
      "8 sci.space\n",
      "9 talk.politics.mideast\n"
     ]
    }
   ],
   "source": [
    "from sklearn.metrics import plot_confusion_matrix\n",
    "import matplotlib.pyplot as plt\n",
    "\n",
    "classifier = clf.fit(vectors_train, newsgroups_train.target)\n",
    "\n",
    "disp = plot_confusion_matrix(classifier, vectors_test, \n",
    "                             newsgroups_test.target,\n",
    "                             values_format=\"0.0f\",\n",
    "                             cmap=plt.cm.Blues)\n",
    "    \n",
    "print(disp.confusion_matrix)\n",
    "\n",
    "plt.show()\n",
    "for i, category in enumerate(newsgroups_train.target_names):\n",
    "    print(i, category)"
   ]
  },
  {
   "cell_type": "markdown",
   "metadata": {},
   "source": [
    "# Unsupervised Approach\n",
    "\n",
    "First, let's prepare the data:"
   ]
  },
  {
   "cell_type": "code",
   "execution_count": 51,
   "metadata": {},
   "outputs": [
    {
     "name": "stdout",
     "output_type": "stream",
     "text": [
      "Data:\n",
      "9850 posts in 10 categories\n",
      "\n",
      "Labels: \n",
      "[2, 6, 1, 9, 0, 5, 1, 2, 9, 0]\n",
      "Assumed number of clusters: 10\n"
     ]
    }
   ],
   "source": [
    "import random\n",
    "random.seed(42)\n",
    "\n",
    "all_news = list(zip(newsgroups_train.data, newsgroups_train.target))\n",
    "all_news += list(zip(newsgroups_test.data, newsgroups_test.target))\n",
    "random.shuffle(all_news)\n",
    "\n",
    "all_news_data = [text for (text, label) in all_news]\n",
    "all_news_labels = [label for (text, label) in all_news]\n",
    "\n",
    "print(\"Data:\")\n",
    "print(str(len(all_news_data)) + \" posts in \"\n",
    "      + str(np.unique(all_news_labels).shape[0]) + \" categories\\n\")\n",
    "\n",
    "print(\"Labels: \")\n",
    "print(all_news_labels[:10])\n",
    "num_clusters = np.unique(all_news_labels).shape[0]\n",
    "print(\"Assumed number of clusters: \" + str(num_clusters))"
   ]
  },
  {
   "cell_type": "markdown",
   "metadata": {},
   "source": [
    "Since the original dimensionality of the data is prohibitively large to allow for efficient clustering, let's reduce its dimensionality using [`Singular Value Decomposition`](https://scikit-learn.org/stable/modules/generated/sklearn.decomposition.TruncatedSVD.html#sklearn.decomposition.TruncatedSVD):"
   ]
  },
  {
   "cell_type": "code",
   "execution_count": 46,
   "metadata": {},
   "outputs": [],
   "source": [
    "from sklearn.decomposition import TruncatedSVD\n",
    "from sklearn.pipeline import make_pipeline\n",
    "from sklearn.preprocessing import Normalizer\n",
    "\n",
    "vectorizer = TfidfVectorizer(min_df=2, max_df=0.5,\n",
    "                             stop_words='english',\n",
    "                             use_idf=True)\n",
    "\n",
    "def transform(data, vectorizer, dimensions):\n",
    "    trans_data = vectorizer.fit_transform(data)\n",
    "    print(\"Transformed data contains: \" + str(trans_data.shape[0]) +\n",
    "          \" with \" + str(trans_data.shape[1]) + \" features =>\")\n",
    "\n",
    "    #See more examples here:\n",
    "    #https://scikit-learn.org/stable/auto_examples/text/plot_document_clustering.html#sphx-glr-auto-examples-text-plot-document-clustering-py\n",
    "    svd = TruncatedSVD(dimensions)\n",
    "    pipe = make_pipeline(svd, Normalizer(copy=False))\n",
    "    reduced_data = pipe.fit_transform(trans_data)\n",
    "\n",
    "    return reduced_data, svd"
   ]
  },
  {
   "cell_type": "code",
   "execution_count": 47,
   "metadata": {},
   "outputs": [
    {
     "name": "stdout",
     "output_type": "stream",
     "text": [
      "Transformed data contains: 9850 with 33976 features =>\n",
      "Reduced data contains: 9850 with 300 features\n"
     ]
    }
   ],
   "source": [
    "reduced_data, svd = transform(all_news_data, vectorizer, 300)\n",
    "print(\"Reduced data contains: \" + str(reduced_data.shape[0]) +\n",
    "        \" with \" + str(reduced_data.shape[1]) + \" features\")"
   ]
  },
  {
   "cell_type": "markdown",
   "metadata": {},
   "source": [
    "Now, let's cluster the data using [`KMeans`](https://scikit-learn.org/stable/modules/generated/sklearn.cluster.KMeans.html) algorithm:"
   ]
  },
  {
   "cell_type": "code",
   "execution_count": 70,
   "metadata": {},
   "outputs": [],
   "source": [
    "from sklearn.cluster import KMeans\n",
    "\n",
    "def cluster(data, num_clusters):\n",
    "    km = KMeans(n_clusters=num_clusters, init='k-means++', \n",
    "                max_iter=100, random_state=0)\n",
    "    km.fit(data)\n",
    "    return km\n",
    "\n",
    "km = cluster(reduced_data, num_clusters)"
   ]
  },
  {
   "cell_type": "markdown",
   "metadata": {},
   "source": [
    "And finally evaluate:"
   ]
  },
  {
   "cell_type": "code",
   "execution_count": 75,
   "metadata": {},
   "outputs": [],
   "source": [
    "def evaluate(km, labels, svd):\n",
    "    print(\"Clustering report:\\n\")\n",
    "    print(f\"* Homogeneity: {str(metrics.homogeneity_score(labels, km.labels_))}\")\n",
    "    print(f\"* Completeness: {str(metrics.completeness_score(labels, km.labels_))}\")\n",
    "    print(f\"* V-measure: {str(metrics.v_measure_score(labels, km.labels_))}\")\n",
    "\n",
    "    print(\"\\nMost discriminative words per cluster:\")\n",
    "    original_space_centroids = svd.inverse_transform(km.cluster_centers_)\n",
    "    order_centroids = original_space_centroids.argsort()[:, ::-1]\n",
    "\n",
    "    terms = vectorizer.get_feature_names()\n",
    "    for i in range(num_clusters):\n",
    "        print(\"Cluster \" + str(i) + \": \")\n",
    "        cl_terms = \"\"\n",
    "        for ind in order_centroids[i, :50]:\n",
    "            cl_terms += terms[ind] + \" \"\n",
    "        print(cl_terms + \"\\n\")"
   ]
  },
  {
   "cell_type": "code",
   "execution_count": 76,
   "metadata": {},
   "outputs": [
    {
     "name": "stdout",
     "output_type": "stream",
     "text": [
      "Clustering report:\n",
      "\n",
      "* Homogeneity: 0.4905834160659784\n",
      "* Completeness: 0.5545553250427578\n",
      "* V-measure: 0.5206115419058042\n",
      "\n",
      "Most discriminative words per cluster:\n",
      "Cluster 0: \n",
      "key chip clipper encryption government keys nsa escrow algorithm use des people secure security phone public law crypto don privacy secret encrypted just data enforcement think bit know phones chips message number used using like agencies make wiretap way scheme trust rsa time private court serial fbi does police right \n",
      "\n",
      "Cluster 1: \n",
      "doctor disease medical msg patients pain don cause cancer know treatment food people like patient gordon drug body good geb candida yeast time skepticism effects banks pitt diet n3jxp dsl cadre chastity intellect health shameful medicine surrender edu ve just does blood effect soon years think use drugs chronic kidney \n",
      "\n",
      "Cluster 2: \n",
      "game team games year hockey players season play think don win baseball good player teams league like time nhl espn just did hit better fans best know really series played years night detroit playing great pens playoffs boston toronto runs goal won going ll pitching 10 leafs braves way lot \n",
      "\n",
      "Cluster 3: \n",
      "just don like think know people does good right say time make did edu sure way new ll want got use ve really going better com years let actually read probably thought things need used article come maybe dod didn stuff heard believe day problem little thing long lot oh \n",
      "\n",
      "Cluster 4: \n",
      "window server motif widget use using display application file windows program running code set x11r5 sun problem xterm does run color like x11 mit help version screen error openwindows manager know work files want user way thanks lib include client ve hi widgets just available unix xlib usr colormap source \n",
      "\n",
      "Cluster 5: \n",
      "sale 00 offer shipping condition asking new drive sell interested price email original 10 card excellent used edu 50 best 25 cd mail 20 monitor brand meg includes software obo following box 15 old manuals disk make disks included great like power modem model 40 manual hard ram 30 printer \n",
      "\n",
      "Cluster 6: \n",
      "car bike engine cars just like new miles good don ride ve rear know speed oil road ford think dealer really time right drive riding driving used got make bikes honda tires power way gear problem buy does price little want clutch manual thing wheel turn year work auto need \n",
      "\n",
      "Cluster 7: \n",
      "thanks mail advance know address send list email edu hi info does information com looking like mailing interested help reply appreciate anybody ve tell new use copy post net appreciated don responses just group need good thank hello wondering replies people read time request kind want available internet file contact \n",
      "\n",
      "Cluster 8: \n",
      "space orbit launch nasa shuttle moon earth mission lunar solar satellite spacecraft like hst cost just think program time station use data long mars don know low years sky science satellites project idea dc new sun people sci missions high technology need going power large money work rocket mass commercial \n",
      "\n",
      "Cluster 9: \n",
      "israel jews israeli armenian arab people jewish armenians turkish arabs muslims war said killed muslim state government just palestinian peace genocide palestinians did world like turks armenia turkey right israelis 000 soldiers don population rights land children human anti know greek fact think serbs time soviet say does villages bosnian \n",
      "\n",
      "\n",
      "Categories:\n",
      "* comp.windows.x\n",
      "* misc.forsale\n",
      "* rec.autos\n",
      "* rec.motorcycles\n",
      "* rec.sport.baseball\n",
      "* rec.sport.hockey\n",
      "* sci.crypt\n",
      "* sci.med\n",
      "* sci.space\n",
      "* talk.politics.mideast\n"
     ]
    }
   ],
   "source": [
    "evaluate(km, all_news_labels, svd)\n",
    "\n",
    "print(\"\\nCategories:\")\n",
    "for i, category in enumerate(newsgroups_train.target_names):\n",
    "    print(\"*\", category)"
   ]
  },
  {
   "cell_type": "code",
   "execution_count": null,
   "metadata": {},
   "outputs": [],
   "source": []
  }
 ],
 "metadata": {
  "kernelspec": {
   "display_name": "Python 3",
   "language": "python",
   "name": "python3"
  },
  "language_info": {
   "codemirror_mode": {
    "name": "ipython",
    "version": 3
   },
   "file_extension": ".py",
   "mimetype": "text/x-python",
   "name": "python",
   "nbconvert_exporter": "python",
   "pygments_lexer": "ipython3",
   "version": "3.7.6"
  }
 },
 "nbformat": 4,
 "nbformat_minor": 4
}
