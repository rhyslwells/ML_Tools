{
 "cells": [
  {
   "cell_type": "code",
   "execution_count": 1,
   "id": "45b5c394",
   "metadata": {},
   "outputs": [],
   "source": [
    "# Import necessary libraries\n",
    "import numpy as np\n",
    "import pandas as pd\n",
    "from sklearn.linear_model import LinearRegression\n",
    "from sklearn.feature_selection import f_regression\n"
   ]
  },
  {
   "cell_type": "code",
   "execution_count": null,
   "id": "3af6f3be",
   "metadata": {},
   "outputs": [],
   "source": [
    "# Notes:\n",
    "# This script demonstrates the process of performing multiple linear regression and feature selection\n",
    "# using the f_regression function from sklearn. \n",
    "# The purpose of f_regression is to evaluate the statistical significance of each feature (SAT, Rand 1,2,3)\n",
    "# in predicting the dependent variable (GPA). \n",
    "# The output includes the F-statistics and p-values for each feature, helping us assess their relevance.\n"
   ]
  },
  {
   "cell_type": "code",
   "execution_count": 2,
   "id": "02c1036c",
   "metadata": {},
   "outputs": [
    {
     "name": "stdout",
     "output_type": "stream",
     "text": [
      "First 5 rows of the dataset:\n",
      "    SAT  Rand 1,2,3   GPA\n",
      "0  1714           1  2.40\n",
      "1  1664           3  2.52\n",
      "2  1760           3  2.54\n",
      "3  1685           3  2.74\n",
      "4  1693           2  2.83\n"
     ]
    }
   ],
   "source": [
    "\n",
    "# Load the data (replace '1.02. Multiple linear regression.csv' with your actual file path)\n",
    "data = pd.read_csv('data/1.02. Multiple linear regression.csv')\n",
    "\n",
    "# Display the first 5 rows of the dataset to understand its structure\n",
    "print(\"First 5 rows of the dataset:\")\n",
    "print(data.head())\n"
   ]
  },
  {
   "cell_type": "code",
   "execution_count": 3,
   "id": "6a11c6d5",
   "metadata": {},
   "outputs": [
    {
     "name": "stdout",
     "output_type": "stream",
     "text": [
      "\n",
      "Regression Coefficients:\n",
      "[ 0.00165354 -0.00826982]\n"
     ]
    }
   ],
   "source": [
    "\n",
    "# Declare the independent (X) and dependent (y) variables\n",
    "X = data[['SAT', 'Rand 1,2,3']]  # Independent variables (features)\n",
    "y = data['GPA']  # Dependent variable (target)\n",
    "\n",
    "# Initialize the LinearRegression model\n",
    "regressor = LinearRegression()\n",
    "\n",
    "# Fit the regression model on the data\n",
    "regressor.fit(X, y)\n",
    "\n",
    "# Get the coefficients of the regression (slope of the line for each feature)\n",
    "print(\"\\nRegression Coefficients:\")\n",
    "print(regressor.coef_)\n"
   ]
  },
  {
   "cell_type": "code",
   "execution_count": 4,
   "id": "e2ec9f8e",
   "metadata": {},
   "outputs": [
    {
     "name": "stdout",
     "output_type": "stream",
     "text": [
      "\n",
      "Intercept:\n",
      "0.29603261264909486\n",
      "\n",
      "R-squared of the regression model: 0.4066811952814282\n"
     ]
    }
   ],
   "source": [
    "\n",
    "# Get the intercept of the regression (the constant term)\n",
    "print(\"\\nIntercept:\")\n",
    "print(regressor.intercept_)\n",
    "\n",
    "# Calculate R-squared to see the proportion of variance explained by the model\n",
    "r_squared = regressor.score(X, y)\n",
    "print(\"\\nR-squared of the regression model:\", r_squared)\n"
   ]
  },
  {
   "cell_type": "code",
   "execution_count": 5,
   "id": "b712d538",
   "metadata": {},
   "outputs": [
    {
     "name": "stdout",
     "output_type": "stream",
     "text": [
      "\n",
      "Feature Selection Results (F-statistics and p-values):\n",
      "      Feature  F-statistic  p-value\n",
      "0         SAT       56.048    0.000\n",
      "1  Rand 1,2,3        0.176    0.676\n"
     ]
    }
   ],
   "source": [
    "\n",
    "# Perform feature selection using f_regression to evaluate individual features\n",
    "# f_regression returns two arrays: F-statistics and p-values\n",
    "f_stats, p_values = f_regression(X, y)\n",
    "\n",
    "# Round the p-values to 3 decimal places for easy interpretation\n",
    "rounded_p_values = np.round(p_values, 3)\n",
    "\n",
    "# Prepare the final results in a table format\n",
    "result_table = pd.DataFrame({\n",
    "    'Feature': X.columns,\n",
    "    'F-statistic': np.round(f_stats, 3),\n",
    "    'p-value': rounded_p_values\n",
    "})\n",
    "\n",
    "# Display the results as a table\n",
    "print(\"\\nFeature Selection Results (F-statistics and p-values):\")\n",
    "print(result_table)\n"
   ]
  },
  {
   "cell_type": "code",
   "execution_count": null,
   "id": "52d96e52",
   "metadata": {},
   "outputs": [],
   "source": [
    "# Final Interpretation Notes:\n",
    "# - If the p-value is below 0.05, the feature is considered statistically significant.\n",
    "# - If the p-value is above 0.05, the feature may not contribute significantly to the prediction of GPA.\n",
    "# - The F-statistic indicates how well the feature explains the variance in the dependent variable.\n",
    "# - Features with higher F-statistics are more important in explaining the variance of the dependent variable.\n",
    "\n",
    "# Example Output Interpretation:\n",
    "# If the p-value for 'SAT' is below 0.05, we would consider it to be a statistically significant predictor for GPA.\n",
    "# If the p-value for 'Rand 1,2,3' is above 0.05, we may consider removing it from the model.\n"
   ]
  }
 ],
 "metadata": {
  "kernelspec": {
   "display_name": "venv",
   "language": "python",
   "name": "python3"
  },
  "language_info": {
   "codemirror_mode": {
    "name": "ipython",
    "version": 3
   },
   "file_extension": ".py",
   "mimetype": "text/x-python",
   "name": "python",
   "nbconvert_exporter": "python",
   "pygments_lexer": "ipython3",
   "version": "3.10.8"
  }
 },
 "nbformat": 4,
 "nbformat_minor": 5
}
