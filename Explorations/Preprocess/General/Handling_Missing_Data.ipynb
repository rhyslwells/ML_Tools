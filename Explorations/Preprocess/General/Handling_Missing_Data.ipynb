{
 "cells": [
  {
   "cell_type": "code",
   "execution_count": 69,
   "metadata": {},
   "outputs": [],
   "source": [
    "import pandas as pd\n",
    "import numpy as np\n",
    "from sklearn.impute import KNNImputer\n",
    "from sklearn.neighbors import NearestNeighbors"
   ]
  },
  {
   "cell_type": "code",
   "execution_count": 30,
   "metadata": {},
   "outputs": [],
   "source": [
    "# # loading from csv\n",
    "# # Read CSV and replace empty values with NaN\n",
    "# df = pd.read_csv(\"Datasets/data.csv\", na_values=[\"\", \" \"])\n",
    "\n",
    "# # Display the DataFrame after replacing empty values with NaN\n",
    "# print(\"DataFrame with NaN values:\")\n",
    "# print(df)"
   ]
  },
  {
   "cell_type": "code",
   "execution_count": 31,
   "metadata": {},
   "outputs": [
    {
     "name": "stdout",
     "output_type": "stream",
     "text": [
      "Original DataFrame:\n",
      "  Category  Value  Feature1  Feature2\n",
      "0        A    NaN       1.2       NaN\n",
      "1        A    NaN       NaN       0.5\n",
      "2        B   20.0       2.4       NaN\n",
      "3        B   25.0       2.5       1.0\n",
      "4        C    NaN       3.0       1.5\n",
      "5        C   30.0       NaN       2.0\n",
      "6        B    NaN       3.1       NaN\n",
      "7        A   15.0       1.5       0.3\n"
     ]
    }
   ],
   "source": [
    "# Creating example datasets\n",
    "data = {\n",
    "    'Category': ['A', 'A', 'B', 'B', 'C', 'C', 'B', 'A'],\n",
    "    'Value': [np.nan, np.nan, 20, 25, np.nan, 30, np.nan, 15],\n",
    "    'Feature1': [1.2, np.nan, 2.4, 2.5, 3.0, np.nan, 3.1, 1.5],\n",
    "    'Feature2': [np.nan, 0.5, np.nan, 1.0, 1.5, 2.0, np.nan, 0.3]\n",
    "}\n",
    "df = pd.DataFrame(data)\n",
    "\n",
    "print(\"Original DataFrame:\")\n",
    "print(df)"
   ]
  },
  {
   "cell_type": "code",
   "execution_count": null,
   "metadata": {},
   "outputs": [],
   "source": [
    "# save this as a csv\n",
    "df.to_csv('Datasets/data.csv', index=False)"
   ]
  },
  {
   "cell_type": "code",
   "execution_count": 33,
   "metadata": {},
   "outputs": [],
   "source": [
    "# load the csv\n",
    "df = pd.read_csv('Datasets/data.csv')"
   ]
  },
  {
   "cell_type": "code",
   "execution_count": 34,
   "metadata": {},
   "outputs": [
    {
     "name": "stdout",
     "output_type": "stream",
     "text": [
      "\n",
      "Missing Values Count:\n",
      "Category    0\n",
      "Value       4\n",
      "Feature1    2\n",
      "Feature2    3\n",
      "dtype: int64\n"
     ]
    }
   ],
   "source": [
    "# Identifying Missing Data\n",
    "missing_values = df.isnull().sum()\n",
    "print(\"\\nMissing Values Count:\")\n",
    "print(missing_values)"
   ]
  },
  {
   "cell_type": "code",
   "execution_count": 35,
   "metadata": {},
   "outputs": [
    {
     "name": "stdout",
     "output_type": "stream",
     "text": [
      "\n",
      "DataFrame after Dropping Rows with Missing Values:\n",
      "  Category  Value  Feature1  Feature2\n",
      "3        B   25.0       2.5       1.0\n",
      "7        A   15.0       1.5       0.3\n",
      "\n",
      "DataFrame after Dropping Rows with Missing Values:\n",
      "  Category  Value  Feature1  Feature2\n",
      "0        B   20.0       2.4       NaN\n",
      "1        B   25.0       2.5       1.0\n",
      "2        C   30.0       NaN       2.0\n",
      "3        A   15.0       1.5       0.3\n"
     ]
    }
   ],
   "source": [
    "# Removing Missing Values\n",
    "df_dropna = df.dropna()\n",
    "print(\"\\nDataFrame after Dropping Rows with Missing Values:\")\n",
    "print(df_dropna)\n",
    "# Can you dropna for aspecific column?\n",
    "df_dropna= df.dropna(subset=['Value'])\n",
    "df_dropna.reset_index(inplace=True, drop=True)\n",
    "print(\"\\nDataFrame after Dropping Rows with Missing Values:\")\n",
    "print(df_dropna)"
   ]
  },
  {
   "cell_type": "markdown",
   "metadata": {},
   "source": [
    "### Imputation Techniques"
   ]
  },
  {
   "cell_type": "code",
   "execution_count": 36,
   "metadata": {},
   "outputs": [],
   "source": [
    "def track_missing(df, col):\n",
    "    \"\"\"\n",
    "    Adds a new column to track missing values in the specified column.\n",
    "    \"\"\"\n",
    "    df[f\"{col}_missing\"] = df[col].isna().astype(int)\n",
    "    return df"
   ]
  },
  {
   "cell_type": "code",
   "execution_count": 37,
   "metadata": {},
   "outputs": [
    {
     "name": "stdout",
     "output_type": "stream",
     "text": [
      "\n",
      "DataFrame after Column Average Imputation:\n",
      "  Category  Value  Feature1  Feature2\n",
      "0        A   22.5       1.2       NaN\n",
      "1        A   22.5       NaN       0.5\n",
      "2        B   20.0       2.4       NaN\n",
      "3        B   25.0       2.5       1.0\n",
      "4        C   22.5       3.0       1.5\n",
      "5        C   30.0       NaN       2.0\n",
      "6        B   22.5       3.1       NaN\n",
      "7        A   15.0       1.5       0.3\n"
     ]
    }
   ],
   "source": [
    "# Column Average Imputation\n",
    "df_filled_mean = df.copy()\n",
    "df_filled_mean['Value'] = df_filled_mean['Value'].fillna(df_filled_mean['Value'].mean())\n",
    "print(\"\\nDataFrame after Column Average Imputation:\")\n",
    "print(df_filled_mean)"
   ]
  },
  {
   "cell_type": "code",
   "execution_count": 38,
   "metadata": {},
   "outputs": [
    {
     "name": "stdout",
     "output_type": "stream",
     "text": [
      "\n",
      "DataFrame after Groupby-Based Imputation:\n",
      "  Category  Value  Feature1  Feature2  Value_missing\n",
      "0        A   15.0       1.2       NaN              1\n",
      "1        A   15.0       NaN       0.5              1\n",
      "2        B   20.0       2.4       NaN              0\n",
      "3        B   25.0       2.5       1.0              0\n",
      "4        C   30.0       3.0       1.5              1\n",
      "5        C   30.0       NaN       2.0              0\n",
      "6        B   22.5       3.1       NaN              1\n",
      "7        A   15.0       1.5       0.3              0\n"
     ]
    }
   ],
   "source": [
    "# Groupby-Based Imputation\n",
    "df_grouped = df.copy()\n",
    "track_missing(df_grouped, 'Value')\n",
    "df_grouped['Value'] = df_grouped.groupby('Category')['Value'].transform(lambda x: x.fillna(x.mean()))\n",
    "print(\"\\nDataFrame after Groupby-Based Imputation:\")\n",
    "print(df_grouped)"
   ]
  },
  {
   "cell_type": "code",
   "execution_count": 42,
   "metadata": {},
   "outputs": [
    {
     "name": "stdout",
     "output_type": "stream",
     "text": [
      "\n",
      "DataFrame after Filling with Specific Values:\n",
      "  Category  Value  Feature1  Feature2  Feature2_missing\n",
      "0        A    NaN       1.2     999.0                 1\n",
      "1        A    NaN       NaN       0.5                 0\n",
      "2        B   20.0       2.4     999.0                 1\n",
      "3        B   25.0       2.5       1.0                 0\n",
      "4        C    NaN       3.0       1.5                 0\n",
      "5        C   30.0       NaN       2.0                 0\n",
      "6        B    NaN       3.1     999.0                 1\n",
      "7        A   15.0       1.5       0.3                 0\n"
     ]
    }
   ],
   "source": [
    "# Filling with Specific Values\n",
    "df_specific = df.copy()\n",
    "track_missing(df_specific, 'Feature2')\n",
    "df_specific.loc[df_specific['Feature2'].isnull(), 'Feature2'] = 999  # Filling missing Feature2 values with 1.0\n",
    "print(\"\\nDataFrame after Filling with Specific Values:\")\n",
    "print(df_specific)"
   ]
  },
  {
   "cell_type": "code",
   "execution_count": 46,
   "metadata": {},
   "outputs": [
    {
     "name": "stdout",
     "output_type": "stream",
     "text": [
      "\n",
      "DataFrame after Filling with a Generalized Function:\n",
      "  Category     Value  Feature1  Feature2  Value_missing\n",
      "0        A  111111.0       1.2       NaN              1\n",
      "1        A  111111.0       NaN       0.5              1\n",
      "2        B      20.0       2.4       NaN              0\n",
      "3        B      25.0       2.5       1.0              0\n",
      "4        C  999999.0       3.0       1.5              1\n",
      "5        C      30.0       NaN       2.0              0\n",
      "6        B  222222.0       3.1       NaN              1\n",
      "7        A      15.0       1.5       0.3              0\n"
     ]
    }
   ],
   "source": [
    "# Filling using functions\n",
    "df_funct = df.copy()\n",
    "track_missing(df_funct, 'Value')\n",
    "\n",
    "# Define a general function for filling missing values\n",
    "def fill_nan_generic(row, target_column, category_column, category_means, generic_mean):\n",
    "    var1 = row[target_column]  # Target column (e.g., 'Value')\n",
    "    var2 = row[category_column]  # Category column (e.g., 'Category')\n",
    "\n",
    "    # If target column value is missing, fill with the category-specific mean or generic mean\n",
    "    if pd.isnull(var1):\n",
    "        return category_means.get(var2, generic_mean)  # Use category mean if available, else generic mean\n",
    "    return var1\n",
    "\n",
    "# Define means (you can compute these dynamically as well)\n",
    "# Define means\n",
    "# element_1_mean = df_funct[df_funct['Category'] == 'A']['Value'].mean()\n",
    "# element_2_mean = df_funct[df_funct['Category'] == 'B']['Value'].mean()\n",
    "# generic_mean = df_funct['Value'].mean()\n",
    "category_means = {\n",
    "    'A': 111111,\n",
    "    'B': 222222\n",
    "}\n",
    "\n",
    "generic_mean = 999999  # Global mean\n",
    "\n",
    "# Apply function to fill 'Value' column, using generalized method\n",
    "df_funct['Value'] = df_funct.apply(fill_nan_generic, axis=1, target_column='Value', category_column='Category', category_means=category_means, generic_mean=generic_mean)\n",
    "\n",
    "print(\"\\nDataFrame after Filling with a Generalized Function:\")\n",
    "print(df_funct)"
   ]
  },
  {
   "cell_type": "markdown",
   "metadata": {},
   "source": [
    "### Clustering Methods"
   ]
  },
  {
   "cell_type": "code",
   "execution_count": 74,
   "metadata": {},
   "outputs": [
    {
     "name": "stdout",
     "output_type": "stream",
     "text": [
      "  Category  Value  Feature1  Feature2\n",
      "0        A    NaN       1.2       NaN\n",
      "1        A    NaN       NaN       0.5\n",
      "2        B   20.0       2.4       NaN\n",
      "3        B   25.0       2.5       1.0\n",
      "4        C    NaN       3.0       1.5\n",
      "5        C   30.0       NaN       2.0\n",
      "6        B    NaN       3.1       NaN\n",
      "7        A   15.0       1.5       0.3\n"
     ]
    }
   ],
   "source": [
    "print(df)"
   ]
  },
  {
   "cell_type": "code",
   "execution_count": 87,
   "metadata": {},
   "outputs": [
    {
     "name": "stdout",
     "output_type": "stream",
     "text": [
      "\n",
      "DataFrame after KNN Imputation:\n",
      "  Category  Value  Feature1  Feature2  Category_A  Category_B  Category_C\n",
      "0        A   22.5      1.20      0.40         1.0         0.0         0.0\n",
      "1        A   20.0      1.35      0.50         1.0         0.0         0.0\n",
      "2        B   20.0      2.40      1.00         0.0         1.0         0.0\n",
      "3        B   25.0      2.50      1.00         0.0         1.0         0.0\n",
      "4        C   27.5      3.00      1.50         0.0         0.0         1.0\n",
      "5        C   30.0      3.05      2.00         0.0         0.0         1.0\n",
      "6        B   22.5      3.10      1.25         0.0         1.0         0.0\n",
      "7        A   15.0      1.50      0.30         1.0         0.0         0.0\n"
     ]
    }
   ],
   "source": [
    "# 1. Create a copy of the original DataFrame to preserve the original data\n",
    "df_knn = df.copy()\n",
    "\n",
    "# 2. Initialize the KNN imputer with the desired number of neighbors\n",
    "imputer = KNNImputer(n_neighbors=2)\n",
    "\n",
    "# 3. Apply One-Hot Encoding to categorical data\n",
    "# We convert the 'Category' column into multiple binary columns (dummy variables)\n",
    "df_encoded = pd.get_dummies(df, columns=['Category'])\n",
    "\n",
    "# 4. Apply KNN imputation to the numerical columns (exclude 'Category' columns, which are now encoded)\n",
    "# Select all columns starting from the second one, which excludes the original 'Category' column\n",
    "numerical_data = df_encoded\n",
    "\n",
    "# 5. Impute missing values in the numerical data\n",
    "imputed_data = imputer.fit_transform(numerical_data)\n",
    "\n",
    "# 6. Create a new DataFrame from the imputed data\n",
    "df_knn = pd.DataFrame(imputed_data, columns=numerical_data.columns)\n",
    "\n",
    "# 7. Insert the original 'Category' column back into the DataFrame (first column)\n",
    "df_knn.insert(0, 'Category', df['Category'])\n",
    "\n",
    "# 8. Print the DataFrame after KNN imputation\n",
    "print(\"\\nDataFrame after KNN Imputation:\")\n",
    "print(df_knn)\n"
   ]
  },
  {
   "cell_type": "code",
   "execution_count": 89,
   "metadata": {},
   "outputs": [],
   "source": [
    "df_knn_num=df_knn.copy()\n",
    "df_knn_num.drop(columns=['Category'], inplace=True)"
   ]
  },
  {
   "cell_type": "code",
   "execution_count": null,
   "metadata": {},
   "outputs": [],
   "source": [
    "# df_knn.drop(columns=['Category_A', 'Category_B', 'Category_C'], inplace=True)"
   ]
  },
  {
   "cell_type": "markdown",
   "metadata": {},
   "source": [
    "Lets check that KNN we will not encode categorical here to make it easier\n"
   ]
  },
  {
   "cell_type": "code",
   "execution_count": 104,
   "metadata": {},
   "outputs": [
    {
     "name": "stdout",
     "output_type": "stream",
     "text": [
      "\n",
      "DataFrame after KNN Imputation:\n",
      "   Value  Feature1  Feature2\n",
      "0   17.5      1.20      0.65\n",
      "1   20.0      2.00      0.50\n",
      "2   20.0      2.40      1.25\n",
      "3   25.0      2.50      1.00\n",
      "4   27.5      3.00      1.50\n",
      "5   30.0      2.75      2.00\n",
      "6   22.5      3.10      1.25\n",
      "7   15.0      1.50      0.30\n"
     ]
    }
   ],
   "source": [
    "# 1. Create a copy of the original DataFrame to preserve the original data\n",
    "df_knn = df.copy()\n",
    "\n",
    "# 2. Initialize the KNN imputer with the desired number of neighbors\n",
    "imputer = KNNImputer(n_neighbors=2)\n",
    "\n",
    "\n",
    "# 4. Apply KNN imputation to the numerical columns (exclude 'Category' columns, which are now encoded)\n",
    "# Select all columns starting from the second one, which excludes the original 'Category' column\n",
    "numerical_data = df_knn.drop(columns=['Category'])\n",
    "\n",
    "# 5. Impute missing values in the numerical data\n",
    "imputed_data = imputer.fit_transform(numerical_data)\n",
    "\n",
    "# 6. Create a new DataFrame from the imputed data\n",
    "df_knn = pd.DataFrame(imputed_data, columns=numerical_data.columns)\n",
    "\n",
    "# 7. Insert the original 'Category' column back into the DataFrame (first column)\n",
    "# df_knn.insert(0, 'Category', df['Category'])\n",
    "\n",
    "# 8. Print the DataFrame after KNN imputation\n",
    "print(\"\\nDataFrame after KNN Imputation:\")\n",
    "print(df_knn)\n"
   ]
  },
  {
   "cell_type": "code",
   "execution_count": 105,
   "metadata": {},
   "outputs": [
    {
     "name": "stdout",
     "output_type": "stream",
     "text": [
      "  Category  Value  Feature1  Feature2\n",
      "0        A    NaN       1.2       NaN\n",
      "1        A    NaN       NaN       0.5\n",
      "2        B   20.0       2.4       NaN\n",
      "3        B   25.0       2.5       1.0\n",
      "4        C    NaN       3.0       1.5\n",
      "5        C   30.0       NaN       2.0\n",
      "6        B    NaN       3.1       NaN\n",
      "7        A   15.0       1.5       0.3\n",
      "   Value  Feature1  Feature2\n",
      "0   17.5      1.20      0.65\n",
      "1   20.0      2.00      0.50\n",
      "2   20.0      2.40      1.25\n",
      "3   25.0      2.50      1.00\n",
      "4   27.5      3.00      1.50\n",
      "5   30.0      2.75      2.00\n",
      "6   22.5      3.10      1.25\n",
      "7   15.0      1.50      0.30\n"
     ]
    }
   ],
   "source": [
    "print(df)\n",
    "\n",
    "print(df_knn)"
   ]
  },
  {
   "cell_type": "code",
   "execution_count": 112,
   "metadata": {},
   "outputs": [
    {
     "name": "stdout",
     "output_type": "stream",
     "text": [
      "\n",
      "Nearest Neighbors and Distances for the first few rows:\n",
      "Indices of Nearest Neighbors:\n",
      " [[0 7]\n",
      " [1 2]\n",
      " [2 1]\n",
      " [3 6]\n",
      " [4 5]\n",
      " [5 4]\n",
      " [6 3]\n",
      " [7 0]]\n",
      "Distances to Nearest Neighbors:\n",
      " [[0.         2.54214476]\n",
      " [0.         0.85      ]\n",
      " [0.         0.85      ]\n",
      " [0.         2.58311827]\n",
      " [0.         2.56173769]\n",
      " [0.         2.56173769]\n",
      " [0.         2.58311827]\n",
      " [0.         2.54214476]]\n",
      "\n",
      "Number: 0\n",
      "\n",
      "Row Comparision 0 of the DataFrame:\n",
      "  Category  Value  Feature1  Feature2\n",
      "0        A    NaN       1.2       NaN\n",
      "   Value  Feature1  Feature2\n",
      "0   17.5       1.2      0.65\n",
      "\n",
      "\n",
      "Nearest Neighbors for Row 0 with Indices: [0 7]\n",
      "  Category  Value  Feature1  Feature2\n",
      "0        A    NaN       1.2       NaN\n",
      "  Category  Value  Feature1  Feature2\n",
      "7        A   15.0       1.5       0.3\n",
      "\n",
      "\n",
      "\n",
      "Number: 1\n",
      "\n",
      "Row Comparision 1 of the DataFrame:\n",
      "  Category  Value  Feature1  Feature2\n",
      "1        A    NaN       NaN       0.5\n",
      "   Value  Feature1  Feature2\n",
      "1   20.0       2.0       0.5\n",
      "\n",
      "\n",
      "Nearest Neighbors for Row 1 with Indices: [1 2]\n",
      "  Category  Value  Feature1  Feature2\n",
      "1        A    NaN       NaN       0.5\n",
      "  Category  Value  Feature1  Feature2\n",
      "2        B   20.0       2.4       NaN\n",
      "\n",
      "\n",
      "\n",
      "Number: 2\n",
      "\n",
      "Row Comparision 2 of the DataFrame:\n",
      "  Category  Value  Feature1  Feature2\n",
      "2        B   20.0       2.4       NaN\n",
      "   Value  Feature1  Feature2\n",
      "2   20.0       2.4      1.25\n",
      "\n",
      "\n",
      "Nearest Neighbors for Row 2 with Indices: [2 1]\n",
      "  Category  Value  Feature1  Feature2\n",
      "2        B   20.0       2.4       NaN\n",
      "  Category  Value  Feature1  Feature2\n",
      "1        A    NaN       NaN       0.5\n",
      "\n",
      "\n",
      "\n",
      "Number: 3\n",
      "\n",
      "Row Comparision 3 of the DataFrame:\n",
      "  Category  Value  Feature1  Feature2\n",
      "3        B   25.0       2.5       1.0\n",
      "   Value  Feature1  Feature2\n",
      "3   25.0       2.5       1.0\n",
      "\n",
      "\n",
      "Nearest Neighbors for Row 3 with Indices: [3 6]\n",
      "  Category  Value  Feature1  Feature2\n",
      "3        B   25.0       2.5       1.0\n",
      "  Category  Value  Feature1  Feature2\n",
      "6        B    NaN       3.1       NaN\n",
      "\n",
      "\n",
      "\n",
      "Number: 4\n",
      "\n",
      "Row Comparision 4 of the DataFrame:\n",
      "  Category  Value  Feature1  Feature2\n",
      "4        C    NaN       3.0       1.5\n",
      "   Value  Feature1  Feature2\n",
      "4   27.5       3.0       1.5\n",
      "\n",
      "\n",
      "Nearest Neighbors for Row 4 with Indices: [4 5]\n",
      "  Category  Value  Feature1  Feature2\n",
      "4        C    NaN       3.0       1.5\n",
      "  Category  Value  Feature1  Feature2\n",
      "5        C   30.0       NaN       2.0\n",
      "\n",
      "\n",
      "\n",
      "Number: 5\n",
      "\n",
      "Row Comparision 5 of the DataFrame:\n",
      "  Category  Value  Feature1  Feature2\n",
      "5        C   30.0       NaN       2.0\n",
      "   Value  Feature1  Feature2\n",
      "5   30.0      2.75       2.0\n",
      "\n",
      "\n",
      "Nearest Neighbors for Row 5 with Indices: [5 4]\n",
      "  Category  Value  Feature1  Feature2\n",
      "5        C   30.0       NaN       2.0\n",
      "  Category  Value  Feature1  Feature2\n",
      "4        C    NaN       3.0       1.5\n",
      "\n",
      "\n",
      "\n",
      "Number: 6\n",
      "\n",
      "Row Comparision 6 of the DataFrame:\n",
      "  Category  Value  Feature1  Feature2\n",
      "6        B    NaN       3.1       NaN\n",
      "   Value  Feature1  Feature2\n",
      "6   22.5       3.1      1.25\n",
      "\n",
      "\n",
      "Nearest Neighbors for Row 6 with Indices: [6 3]\n",
      "  Category  Value  Feature1  Feature2\n",
      "6        B    NaN       3.1       NaN\n",
      "  Category  Value  Feature1  Feature2\n",
      "3        B   25.0       2.5       1.0\n",
      "\n",
      "\n",
      "\n",
      "Number: 7\n",
      "\n",
      "Row Comparision 7 of the DataFrame:\n",
      "  Category  Value  Feature1  Feature2\n",
      "7        A   15.0       1.5       0.3\n",
      "   Value  Feature1  Feature2\n",
      "7   15.0       1.5       0.3\n",
      "\n",
      "\n",
      "Nearest Neighbors for Row 7 with Indices: [7 0]\n",
      "  Category  Value  Feature1  Feature2\n",
      "7        A   15.0       1.5       0.3\n",
      "  Category  Value  Feature1  Feature2\n",
      "0        A    NaN       1.2       NaN\n",
      "\n",
      "\n"
     ]
    }
   ],
   "source": [
    "# Check the imputation distances and neighbors (optional debugging step)\n",
    "\n",
    "# Get the fitted neighbors for debugging purposes\n",
    "neighbors = NearestNeighbors(n_neighbors=2)\n",
    "neighbors.fit(df_knn)  # Use only numerical data for nearest neighbor search\n",
    "distances, indices = neighbors.kneighbors(df_knn)\n",
    "\n",
    "# Display the nearest neighbors for the first few samples (for debugging)\n",
    "print(\"\\nNearest Neighbors and Distances for the first few rows:\")\n",
    "print(\"Indices of Nearest Neighbors:\\n\", indices)\n",
    "print(\"Distances to Nearest Neighbors:\\n\", distances)\n",
    "\n",
    "# Loop through and display the neighbors for the first few rows to understand the imputation process\n",
    "for num, ind in enumerate(indices):\n",
    "    # print the first row of df_knn\n",
    "    print(\"\\nNumber:\", num)\n",
    "    \n",
    "    # Print the original row of the DataFrame (the one being imputed)\n",
    "    print(\"\\nRow Comparision\", num, \"of the DataFrame:\")\n",
    "    print(df.iloc[num:num+1])  # Slice to keep the row in DataFrame format\n",
    "    print(df_knn.iloc[num:num+1])\n",
    "\n",
    "    print(\"\\n\")\n",
    "\n",
    "    # Loop through and print the nearest neighbors\n",
    "    print(\"Nearest Neighbors for Row\", num, \"with Indices:\", ind)\n",
    "    for term in ind:\n",
    "        print(df.iloc[term:term+1])  # Slice to keep the row in DataFrame format\n",
    "    print(\"\\n\")\n"
   ]
  },
  {
   "cell_type": "code",
   "execution_count": null,
   "metadata": {},
   "outputs": [],
   "source": []
  },
  {
   "cell_type": "code",
   "execution_count": null,
   "metadata": {},
   "outputs": [
    {
     "name": "stdout",
     "output_type": "stream",
     "text": [
      "number: 0\n",
      "\n",
      "Row 0 of the DataFrame:\n",
      "  Category  Value  Feature1  Feature2\n",
      "0        A    NaN       1.2       NaN\n",
      "\n",
      "\n",
      "  Category  Value  Feature1  Feature2\n",
      "0        A    NaN       1.2       NaN\n",
      "  Category  Value  Feature1  Feature2\n",
      "7        A   15.0       1.5       0.3\n",
      "\n",
      "\n",
      "number: 1\n",
      "\n",
      "Row 1 of the DataFrame:\n",
      "  Category  Value  Feature1  Feature2\n",
      "1        A    NaN       NaN       0.5\n",
      "\n",
      "\n",
      "  Category  Value  Feature1  Feature2\n",
      "1        A    NaN       NaN       0.5\n",
      "  Category  Value  Feature1  Feature2\n",
      "2        B   20.0       2.4       NaN\n",
      "\n",
      "\n",
      "number: 2\n",
      "\n",
      "Row 2 of the DataFrame:\n",
      "  Category  Value  Feature1  Feature2\n",
      "2        B   20.0       2.4       NaN\n",
      "\n",
      "\n",
      "  Category  Value  Feature1  Feature2\n",
      "2        B   20.0       2.4       NaN\n",
      "  Category  Value  Feature1  Feature2\n",
      "1        A    NaN       NaN       0.5\n",
      "\n",
      "\n",
      "number: 3\n",
      "\n",
      "Row 3 of the DataFrame:\n",
      "  Category  Value  Feature1  Feature2\n",
      "3        B   25.0       2.5       1.0\n",
      "\n",
      "\n",
      "  Category  Value  Feature1  Feature2\n",
      "3        B   25.0       2.5       1.0\n",
      "  Category  Value  Feature1  Feature2\n",
      "6        B    NaN       3.1       NaN\n",
      "\n",
      "\n",
      "number: 4\n",
      "\n",
      "Row 4 of the DataFrame:\n",
      "  Category  Value  Feature1  Feature2\n",
      "4        C    NaN       3.0       1.5\n",
      "\n",
      "\n",
      "  Category  Value  Feature1  Feature2\n",
      "4        C    NaN       3.0       1.5\n",
      "  Category  Value  Feature1  Feature2\n",
      "5        C   30.0       NaN       2.0\n",
      "\n",
      "\n",
      "number: 5\n",
      "\n",
      "Row 5 of the DataFrame:\n",
      "  Category  Value  Feature1  Feature2\n",
      "5        C   30.0       NaN       2.0\n",
      "\n",
      "\n",
      "  Category  Value  Feature1  Feature2\n",
      "5        C   30.0       NaN       2.0\n",
      "  Category  Value  Feature1  Feature2\n",
      "4        C    NaN       3.0       1.5\n",
      "\n",
      "\n",
      "number: 6\n",
      "\n",
      "Row 6 of the DataFrame:\n",
      "  Category  Value  Feature1  Feature2\n",
      "6        B    NaN       3.1       NaN\n",
      "\n",
      "\n",
      "  Category  Value  Feature1  Feature2\n",
      "6        B    NaN       3.1       NaN\n",
      "  Category  Value  Feature1  Feature2\n",
      "3        B   25.0       2.5       1.0\n",
      "\n",
      "\n",
      "number: 7\n",
      "\n",
      "Row 7 of the DataFrame:\n",
      "  Category  Value  Feature1  Feature2\n",
      "7        A   15.0       1.5       0.3\n",
      "\n",
      "\n",
      "  Category  Value  Feature1  Feature2\n",
      "7        A   15.0       1.5       0.3\n",
      "  Category  Value  Feature1  Feature2\n",
      "0        A    NaN       1.2       NaN\n",
      "\n",
      "\n"
     ]
    }
   ],
   "source": [
    "# Check the imputation distances and neighbors (optional debugging step)\n",
    "\n",
    "# Get the fitted neighbors for debugging purposes\n",
    "neighbors = NearestNeighbors(n_neighbors=2)\n",
    "neighbors.fit(df_knn)\n",
    "distances, indices = neighbors.kneighbors(df_knn)\n",
    "\n",
    "# Display the nearest neighbors for the first few samples (for debugging)\n",
    "print(\"\\nNearest Neighbors and Distances for the first few rows:\")\n",
    "print(\"Indices of Nearest Neighbors:\\n\", indices)\n",
    "print(\"Distances to Nearest Neighbors:\\n\", distances)\n",
    "\n",
    "for num, ind in enumerate(indices):\n",
    "    print(\"number:\", num)\n",
    "    \n",
    "    # Print the num row of the DataFrame (using the correct row based on num)\n",
    "    print(\"\\nRow\", num, \"of the DataFrame:\")\n",
    "    print(df.iloc[num:num+1])  # Slice to keep the row in DataFrame format\n",
    "    print(\"\\n\")\n",
    "\n",
    "    # Loop through and print the other neighbors as DataFrame (using the 'ind' variable for neighbors)\n",
    "    for term in ind:\n",
    "        print(df.iloc[term:term+1])  # Slice to keep the row in DataFrame format\n",
    "    print(\"\\n\")"
   ]
  },
  {
   "cell_type": "code",
   "execution_count": null,
   "metadata": {},
   "outputs": [],
   "source": []
  }
 ],
 "metadata": {
  "kernelspec": {
   "display_name": "venv",
   "language": "python",
   "name": "python3"
  },
  "language_info": {
   "codemirror_mode": {
    "name": "ipython",
    "version": 3
   },
   "file_extension": ".py",
   "mimetype": "text/x-python",
   "name": "python",
   "nbconvert_exporter": "python",
   "pygments_lexer": "ipython3",
   "version": "3.10.8"
  }
 },
 "nbformat": 4,
 "nbformat_minor": 2
}
