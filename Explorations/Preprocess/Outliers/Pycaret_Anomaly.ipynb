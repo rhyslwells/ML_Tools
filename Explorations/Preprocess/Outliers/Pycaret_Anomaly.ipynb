{
 "cells": [
  {
   "cell_type": "markdown",
   "metadata": {},
   "source": [
    "# Overview"
   ]
  },
  {
   "cell_type": "markdown",
   "metadata": {},
   "source": [
    "In this notebooks we wil detect outliers using pycaret for various strategies. We will then compare the results."
   ]
  },
  {
   "cell_type": "markdown",
   "metadata": {},
   "source": [
    "### Detecting Outliers using Pycaret"
   ]
  },
  {
   "cell_type": "code",
   "execution_count": 1,
   "metadata": {},
   "outputs": [],
   "source": [
    "from pycaret.anomaly import AnomalyExperiment\n",
    "from pycaret.datasets import get_data\n",
    "import pandas as pd\n",
    "import matplotlib.pyplot as plt\n",
    "import seaborn as sns\n",
    "from sklearn.decomposition import PCA"
   ]
  },
  {
   "cell_type": "markdown",
   "metadata": {},
   "source": [
    "There are more model options available: Search create_model:\n",
    "https://pycaret.readthedocs.io/en/stable/api/anomaly.html#pycaret.anomaly.create_model"
   ]
  },
  {
   "cell_type": "code",
   "execution_count": null,
   "metadata": {},
   "outputs": [],
   "source": [
    "# Load dataset\n",
    "data = get_data('anomaly')\n",
    "\n",
    "# Initialize experiment\n",
    "exp = AnomalyExperiment()\n",
    "exp.setup(data, session_id=123, normalize=True, transformation=True)  # Added normalization and transformation\n",
    "\n",
    "# Train multiple models\n",
    "iforest = exp.create_model('iforest')\n",
    "knn = exp.create_model('knn')\n",
    "lof = exp.create_model('lof')\n",
    "cof = exp.create_model('cof')  # Added Connectivity-Based Local Outlier Factor\n",
    "svm = exp.create_model('svm')  # Added One-Class SVM\n",
    "\n",
    "# Assign anomaly labels\n",
    "iforest_results = exp.assign_model(iforest)\n",
    "knn_results = exp.assign_model(knn)\n",
    "lof_results = exp.assign_model(lof)\n",
    "cof_results = exp.assign_model(cof)\n",
    "svm_results = exp.assign_model(svm)"
   ]
  },
  {
   "cell_type": "code",
   "execution_count": 5,
   "metadata": {},
   "outputs": [],
   "source": [
    "# Combine anomaly assignments into a single table\n",
    "anomaly_df = data.copy()\n",
    "anomaly_df['IForest_Anomaly'] = iforest_results['Anomaly']\n",
    "anomaly_df['KNN_Anomaly'] = knn_results['Anomaly']\n",
    "anomaly_df['LOF_Anomaly'] = lof_results['Anomaly']\n",
    "anomaly_df['cof_Anomaly'] = cof_results['Anomaly']\n",
    "anomaly_df['SVM_Anomaly'] = svm_results['Anomaly']"
   ]
  },
  {
   "cell_type": "code",
   "execution_count": null,
   "metadata": {},
   "outputs": [
    {
     "data": {
      "text/html": [
       "<div>\n",
       "<style scoped>\n",
       "    .dataframe tbody tr th:only-of-type {\n",
       "        vertical-align: middle;\n",
       "    }\n",
       "\n",
       "    .dataframe tbody tr th {\n",
       "        vertical-align: top;\n",
       "    }\n",
       "\n",
       "    .dataframe thead th {\n",
       "        text-align: right;\n",
       "    }\n",
       "</style>\n",
       "<table border=\"1\" class=\"dataframe\">\n",
       "  <thead>\n",
       "    <tr style=\"text-align: right;\">\n",
       "      <th></th>\n",
       "      <th>IForest_Anomaly</th>\n",
       "      <th>KNN_Anomaly</th>\n",
       "      <th>LOF_Anomaly</th>\n",
       "      <th>cof_Anomaly</th>\n",
       "      <th>SVM_Anomaly</th>\n",
       "    </tr>\n",
       "  </thead>\n",
       "  <tbody>\n",
       "    <tr>\n",
       "      <th>0</th>\n",
       "      <td>0</td>\n",
       "      <td>0</td>\n",
       "      <td>0</td>\n",
       "      <td>0</td>\n",
       "      <td>0</td>\n",
       "    </tr>\n",
       "    <tr>\n",
       "      <th>1</th>\n",
       "      <td>0</td>\n",
       "      <td>0</td>\n",
       "      <td>0</td>\n",
       "      <td>0</td>\n",
       "      <td>0</td>\n",
       "    </tr>\n",
       "    <tr>\n",
       "      <th>2</th>\n",
       "      <td>0</td>\n",
       "      <td>1</td>\n",
       "      <td>0</td>\n",
       "      <td>0</td>\n",
       "      <td>0</td>\n",
       "    </tr>\n",
       "    <tr>\n",
       "      <th>3</th>\n",
       "      <td>1</td>\n",
       "      <td>1</td>\n",
       "      <td>1</td>\n",
       "      <td>1</td>\n",
       "      <td>1</td>\n",
       "    </tr>\n",
       "    <tr>\n",
       "      <th>4</th>\n",
       "      <td>0</td>\n",
       "      <td>0</td>\n",
       "      <td>0</td>\n",
       "      <td>0</td>\n",
       "      <td>0</td>\n",
       "    </tr>\n",
       "  </tbody>\n",
       "</table>\n",
       "</div>"
      ],
      "text/plain": [
       "   IForest_Anomaly  KNN_Anomaly  LOF_Anomaly  cof_Anomaly  SVM_Anomaly\n",
       "0                0            0            0            0            0\n",
       "1                0            0            0            0            0\n",
       "2                0            1            0            0            0\n",
       "3                1            1            1            1            1\n",
       "4                0            0            0            0            0"
      ]
     },
     "execution_count": 12,
     "metadata": {},
     "output_type": "execute_result"
    }
   ],
   "source": [
    "# anomaly_df.columns\n",
    "# anomaly_df.head()\n",
    "anomaly_cols = ['IForest_Anomaly', 'KNN_Anomaly', 'LOF_Anomaly', 'cof_Anomaly', 'SVM_Anomaly']\n",
    "df_anomaly_only = anomaly_df[anomaly_cols]\n",
    "df_anomaly_only.head()"
   ]
  },
  {
   "cell_type": "code",
   "execution_count": null,
   "metadata": {},
   "outputs": [
    {
     "name": "stdout",
     "output_type": "stream",
     "text": [
      "No null values found in df_anomaly.\n"
     ]
    }
   ],
   "source": [
    "# determine if there are any blanks in df_anomaly_only\n",
    "if df_anomaly_only.isnull().values.any():\n",
    "    print(\"There are null values in df_anomaly.\")\n",
    "else:\n",
    "    print(\"No null values found in df_anomaly.\")    "
   ]
  },
  {
   "cell_type": "code",
   "execution_count": null,
   "metadata": {},
   "outputs": [],
   "source": [
    "# Save processed dataset\n",
    "# anomaly_df.to_csv('anomaly_comparison.csv', index=False)"
   ]
  },
  {
   "cell_type": "markdown",
   "metadata": {},
   "source": [
    "### Analysis of the Detected Anomalies"
   ]
  },
  {
   "cell_type": "markdown",
   "metadata": {},
   "source": [
    "We now look at the anomalies detected in a single combined dataset."
   ]
  },
  {
   "cell_type": "code",
   "execution_count": 17,
   "metadata": {},
   "outputs": [],
   "source": [
    "# df_anomaly.value_counts()\n",
    "# if it is blank it it just so that it does not repeat the above term."
   ]
  },
  {
   "cell_type": "code",
   "execution_count": null,
   "metadata": {},
   "outputs": [],
   "source": [
    "# Count anomalies detected by each model\n",
    "anomaly_counts = df_anomaly.iloc[:, 1:].apply(lambda x: (x == 1).sum())\n",
    "print(\"\\nAnomaly Counts per Model:\")\n",
    "print(anomaly_counts)"
   ]
  },
  {
   "cell_type": "code",
   "execution_count": null,
   "metadata": {},
   "outputs": [],
   "source": [
    "# Correlation analysis among anomaly detections\n",
    "correlation_matrix = anomaly_df.iloc[:, 1:].corr()\n",
    "# print(\"\\nCorrelation Matrix:\")\n",
    "# print(correlation_matrix)\n",
    "\n",
    "# Visualize correlations using a heatmap\n",
    "plt.figure(figsize=(8, 6))\n",
    "sns.heatmap(correlation_matrix, annot=True, cmap='coolwarm', fmt=\".2f\")\n",
    "plt.title(\"Correlation Matrix of Anomaly Assignments\")\n",
    "plt.show()"
   ]
  },
  {
   "cell_type": "markdown",
   "metadata": {},
   "source": [
    "### Visualisation of the Detected Anomalies"
   ]
  },
  {
   "cell_type": "code",
   "execution_count": null,
   "metadata": {},
   "outputs": [],
   "source": [
    "def plot_anomaly_scatter(df, model_column, feature1, feature2):\n",
    "    plt.figure(figsize=(8, 6))\n",
    "    sns.scatterplot(x=df[feature1], y=df[feature2], hue=df[model_column], palette={0: \"blue\", 1: \"red\"})\n",
    "    plt.xlabel(feature1)\n",
    "    plt.ylabel(feature2)\n",
    "    plt.title(f'Anomalies Detected by {model_column}')\n",
    "    plt.legend(title=\"Anomaly (1=Yes, 0=No)\")\n",
    "    plt.show()\n",
    "\n",
    "# Example usage (change feature names based on dataset)\n",
    "plot_anomaly_scatter(anomaly_df, 'IForest_Anomaly', 'Col1', 'Col2')"
   ]
  },
  {
   "cell_type": "markdown",
   "metadata": {},
   "source": [
    "Since datasets often have multiple features, PCA reduces them to two principal components for visualization.\n"
   ]
  },
  {
   "cell_type": "code",
   "execution_count": null,
   "metadata": {},
   "outputs": [],
   "source": [
    "def plot_pca_anomalies(df, model_column):\n",
    "    pca = PCA(n_components=2)\n",
    "    principal_components = pca.fit_transform(df.drop(columns=['IForest_Anomaly', 'KNN_Anomaly', 'LOF_Anomaly', 'cof_Anomaly', 'SVM_Anomaly']))  # Drop anomaly labels for PCA\n",
    "    df_pca = pd.DataFrame(principal_components, columns=['PC1', 'PC2'])\n",
    "    df_pca[model_column] = df[model_column]\n",
    "\n",
    "    plt.figure(figsize=(8, 6))\n",
    "    sns.scatterplot(x=df_pca['PC1'], y=df_pca['PC2'], hue=df_pca[model_column], palette={0: \"blue\", 1: \"red\"})\n",
    "    plt.xlabel('Principal Component 1')\n",
    "    plt.ylabel('Principal Component 2')\n",
    "    plt.title(f'PCA Projection of Anomalies ({model_column})')\n",
    "    plt.legend(title=\"Anomaly (1=Yes, 0=No)\")\n",
    "    plt.show()\n",
    "\n",
    "# Example usage\n",
    "plot_pca_anomalies(anomaly_df, 'IForest_Anomaly')"
   ]
  },
  {
   "cell_type": "markdown",
   "metadata": {},
   "source": [
    "We plot anomaly distributions\n"
   ]
  },
  {
   "cell_type": "code",
   "execution_count": null,
   "metadata": {},
   "outputs": [],
   "source": [
    "\n",
    "def plot_anomaly_comparison(*datasets, labels):\n",
    "    plt.figure(figsize=(10, 6))\n",
    "    for dataset, label in zip(datasets, labels):\n",
    "        plt.hist(dataset['Anomaly'], bins=3, alpha=0.5, label=label)\n",
    "    plt.xlabel('Anomaly Score')\n",
    "    plt.ylabel('Frequency')\n",
    "    plt.title('Comparison of Anomalies Across Models')\n",
    "    plt.legend()\n",
    "    plt.show()\n",
    "\n",
    "# Call function to compare anomaly detection results\n",
    "plot_anomaly_comparison(iforest_results, knn_results, lof_results, cof_results, svm_results, \n",
    "                         labels=['IForest', 'KNN', 'LOF', 'cof', 'SVM'])"
   ]
  }
 ],
 "metadata": {
  "kernelspec": {
   "display_name": "venv",
   "language": "python",
   "name": "python3"
  },
  "language_info": {
   "codemirror_mode": {
    "name": "ipython",
    "version": 3
   },
   "file_extension": ".py",
   "mimetype": "text/x-python",
   "name": "python",
   "nbconvert_exporter": "python",
   "pygments_lexer": "ipython3",
   "version": "3.10.8"
  }
 },
 "nbformat": 4,
 "nbformat_minor": 2
}
