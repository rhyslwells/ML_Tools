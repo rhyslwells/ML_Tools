{
 "cells": [
  {
   "cell_type": "markdown",
   "metadata": {},
   "source": [
    "# Overview"
   ]
  },
  {
   "cell_type": "markdown",
   "metadata": {},
   "source": [
    "In this notebook we detect outliers using pycaret for various strategies. We will then compare the results."
   ]
  },
  {
   "cell_type": "markdown",
   "metadata": {},
   "source": [
    "### Detecting Outliers using Pycaret"
   ]
  },
  {
   "cell_type": "code",
   "execution_count": null,
   "metadata": {},
   "outputs": [],
   "source": [
    "from pycaret.anomaly import AnomalyExperiment\n",
    "from pycaret.datasets import get_data"
   ]
  },
  {
   "cell_type": "markdown",
   "metadata": {},
   "source": [
    "There are more model options available: Search create_model:\n",
    "https://pycaret.readthedocs.io/en/stable/api/anomaly.html#pycaret.anomaly.create_model"
   ]
  },
  {
   "cell_type": "code",
   "execution_count": 2,
   "metadata": {},
   "outputs": [
    {
     "data": {
      "text/html": [
       "<div>\n",
       "<style scoped>\n",
       "    .dataframe tbody tr th:only-of-type {\n",
       "        vertical-align: middle;\n",
       "    }\n",
       "\n",
       "    .dataframe tbody tr th {\n",
       "        vertical-align: top;\n",
       "    }\n",
       "\n",
       "    .dataframe thead th {\n",
       "        text-align: right;\n",
       "    }\n",
       "</style>\n",
       "<table border=\"1\" class=\"dataframe\">\n",
       "  <thead>\n",
       "    <tr style=\"text-align: right;\">\n",
       "      <th></th>\n",
       "      <th>Col1</th>\n",
       "      <th>Col2</th>\n",
       "      <th>Col3</th>\n",
       "      <th>Col4</th>\n",
       "      <th>Col5</th>\n",
       "      <th>Col6</th>\n",
       "      <th>Col7</th>\n",
       "      <th>Col8</th>\n",
       "      <th>Col9</th>\n",
       "      <th>Col10</th>\n",
       "    </tr>\n",
       "  </thead>\n",
       "  <tbody>\n",
       "    <tr>\n",
       "      <th>0</th>\n",
       "      <td>0.263995</td>\n",
       "      <td>0.764929</td>\n",
       "      <td>0.138424</td>\n",
       "      <td>0.935242</td>\n",
       "      <td>0.605867</td>\n",
       "      <td>0.518790</td>\n",
       "      <td>0.912225</td>\n",
       "      <td>0.608234</td>\n",
       "      <td>0.723782</td>\n",
       "      <td>0.733591</td>\n",
       "    </tr>\n",
       "    <tr>\n",
       "      <th>1</th>\n",
       "      <td>0.546092</td>\n",
       "      <td>0.653975</td>\n",
       "      <td>0.065575</td>\n",
       "      <td>0.227772</td>\n",
       "      <td>0.845269</td>\n",
       "      <td>0.837066</td>\n",
       "      <td>0.272379</td>\n",
       "      <td>0.331679</td>\n",
       "      <td>0.429297</td>\n",
       "      <td>0.367422</td>\n",
       "    </tr>\n",
       "    <tr>\n",
       "      <th>2</th>\n",
       "      <td>0.336714</td>\n",
       "      <td>0.538842</td>\n",
       "      <td>0.192801</td>\n",
       "      <td>0.553563</td>\n",
       "      <td>0.074515</td>\n",
       "      <td>0.332993</td>\n",
       "      <td>0.365792</td>\n",
       "      <td>0.861309</td>\n",
       "      <td>0.899017</td>\n",
       "      <td>0.088600</td>\n",
       "    </tr>\n",
       "    <tr>\n",
       "      <th>3</th>\n",
       "      <td>0.092108</td>\n",
       "      <td>0.995017</td>\n",
       "      <td>0.014465</td>\n",
       "      <td>0.176371</td>\n",
       "      <td>0.241530</td>\n",
       "      <td>0.514724</td>\n",
       "      <td>0.562208</td>\n",
       "      <td>0.158963</td>\n",
       "      <td>0.073715</td>\n",
       "      <td>0.208463</td>\n",
       "    </tr>\n",
       "    <tr>\n",
       "      <th>4</th>\n",
       "      <td>0.325261</td>\n",
       "      <td>0.805968</td>\n",
       "      <td>0.957033</td>\n",
       "      <td>0.331665</td>\n",
       "      <td>0.307923</td>\n",
       "      <td>0.355315</td>\n",
       "      <td>0.501899</td>\n",
       "      <td>0.558449</td>\n",
       "      <td>0.885169</td>\n",
       "      <td>0.182754</td>\n",
       "    </tr>\n",
       "  </tbody>\n",
       "</table>\n",
       "</div>"
      ],
      "text/plain": [
       "       Col1      Col2      Col3      Col4      Col5      Col6      Col7  \\\n",
       "0  0.263995  0.764929  0.138424  0.935242  0.605867  0.518790  0.912225   \n",
       "1  0.546092  0.653975  0.065575  0.227772  0.845269  0.837066  0.272379   \n",
       "2  0.336714  0.538842  0.192801  0.553563  0.074515  0.332993  0.365792   \n",
       "3  0.092108  0.995017  0.014465  0.176371  0.241530  0.514724  0.562208   \n",
       "4  0.325261  0.805968  0.957033  0.331665  0.307923  0.355315  0.501899   \n",
       "\n",
       "       Col8      Col9     Col10  \n",
       "0  0.608234  0.723782  0.733591  \n",
       "1  0.331679  0.429297  0.367422  \n",
       "2  0.861309  0.899017  0.088600  \n",
       "3  0.158963  0.073715  0.208463  \n",
       "4  0.558449  0.885169  0.182754  "
      ]
     },
     "metadata": {},
     "output_type": "display_data"
    },
    {
     "data": {
      "text/html": [
       "<style type=\"text/css\">\n",
       "#T_3a68d_row4_col1, #T_3a68d_row8_col1, #T_3a68d_row10_col1 {\n",
       "  background-color: lightgreen;\n",
       "}\n",
       "</style>\n",
       "<table id=\"T_3a68d\">\n",
       "  <thead>\n",
       "    <tr>\n",
       "      <th class=\"blank level0\" >&nbsp;</th>\n",
       "      <th id=\"T_3a68d_level0_col0\" class=\"col_heading level0 col0\" >Description</th>\n",
       "      <th id=\"T_3a68d_level0_col1\" class=\"col_heading level0 col1\" >Value</th>\n",
       "    </tr>\n",
       "  </thead>\n",
       "  <tbody>\n",
       "    <tr>\n",
       "      <th id=\"T_3a68d_level0_row0\" class=\"row_heading level0 row0\" >0</th>\n",
       "      <td id=\"T_3a68d_row0_col0\" class=\"data row0 col0\" >Session id</td>\n",
       "      <td id=\"T_3a68d_row0_col1\" class=\"data row0 col1\" >123</td>\n",
       "    </tr>\n",
       "    <tr>\n",
       "      <th id=\"T_3a68d_level0_row1\" class=\"row_heading level0 row1\" >1</th>\n",
       "      <td id=\"T_3a68d_row1_col0\" class=\"data row1 col0\" >Original data shape</td>\n",
       "      <td id=\"T_3a68d_row1_col1\" class=\"data row1 col1\" >(1000, 10)</td>\n",
       "    </tr>\n",
       "    <tr>\n",
       "      <th id=\"T_3a68d_level0_row2\" class=\"row_heading level0 row2\" >2</th>\n",
       "      <td id=\"T_3a68d_row2_col0\" class=\"data row2 col0\" >Transformed data shape</td>\n",
       "      <td id=\"T_3a68d_row2_col1\" class=\"data row2 col1\" >(1000, 10)</td>\n",
       "    </tr>\n",
       "    <tr>\n",
       "      <th id=\"T_3a68d_level0_row3\" class=\"row_heading level0 row3\" >3</th>\n",
       "      <td id=\"T_3a68d_row3_col0\" class=\"data row3 col0\" >Numeric features</td>\n",
       "      <td id=\"T_3a68d_row3_col1\" class=\"data row3 col1\" >10</td>\n",
       "    </tr>\n",
       "    <tr>\n",
       "      <th id=\"T_3a68d_level0_row4\" class=\"row_heading level0 row4\" >4</th>\n",
       "      <td id=\"T_3a68d_row4_col0\" class=\"data row4 col0\" >Preprocess</td>\n",
       "      <td id=\"T_3a68d_row4_col1\" class=\"data row4 col1\" >True</td>\n",
       "    </tr>\n",
       "    <tr>\n",
       "      <th id=\"T_3a68d_level0_row5\" class=\"row_heading level0 row5\" >5</th>\n",
       "      <td id=\"T_3a68d_row5_col0\" class=\"data row5 col0\" >Imputation type</td>\n",
       "      <td id=\"T_3a68d_row5_col1\" class=\"data row5 col1\" >simple</td>\n",
       "    </tr>\n",
       "    <tr>\n",
       "      <th id=\"T_3a68d_level0_row6\" class=\"row_heading level0 row6\" >6</th>\n",
       "      <td id=\"T_3a68d_row6_col0\" class=\"data row6 col0\" >Numeric imputation</td>\n",
       "      <td id=\"T_3a68d_row6_col1\" class=\"data row6 col1\" >mean</td>\n",
       "    </tr>\n",
       "    <tr>\n",
       "      <th id=\"T_3a68d_level0_row7\" class=\"row_heading level0 row7\" >7</th>\n",
       "      <td id=\"T_3a68d_row7_col0\" class=\"data row7 col0\" >Categorical imputation</td>\n",
       "      <td id=\"T_3a68d_row7_col1\" class=\"data row7 col1\" >mode</td>\n",
       "    </tr>\n",
       "    <tr>\n",
       "      <th id=\"T_3a68d_level0_row8\" class=\"row_heading level0 row8\" >8</th>\n",
       "      <td id=\"T_3a68d_row8_col0\" class=\"data row8 col0\" >Transformation</td>\n",
       "      <td id=\"T_3a68d_row8_col1\" class=\"data row8 col1\" >True</td>\n",
       "    </tr>\n",
       "    <tr>\n",
       "      <th id=\"T_3a68d_level0_row9\" class=\"row_heading level0 row9\" >9</th>\n",
       "      <td id=\"T_3a68d_row9_col0\" class=\"data row9 col0\" >Transformation method</td>\n",
       "      <td id=\"T_3a68d_row9_col1\" class=\"data row9 col1\" >yeo-johnson</td>\n",
       "    </tr>\n",
       "    <tr>\n",
       "      <th id=\"T_3a68d_level0_row10\" class=\"row_heading level0 row10\" >10</th>\n",
       "      <td id=\"T_3a68d_row10_col0\" class=\"data row10 col0\" >Normalize</td>\n",
       "      <td id=\"T_3a68d_row10_col1\" class=\"data row10 col1\" >True</td>\n",
       "    </tr>\n",
       "    <tr>\n",
       "      <th id=\"T_3a68d_level0_row11\" class=\"row_heading level0 row11\" >11</th>\n",
       "      <td id=\"T_3a68d_row11_col0\" class=\"data row11 col0\" >Normalize method</td>\n",
       "      <td id=\"T_3a68d_row11_col1\" class=\"data row11 col1\" >zscore</td>\n",
       "    </tr>\n",
       "    <tr>\n",
       "      <th id=\"T_3a68d_level0_row12\" class=\"row_heading level0 row12\" >12</th>\n",
       "      <td id=\"T_3a68d_row12_col0\" class=\"data row12 col0\" >CPU Jobs</td>\n",
       "      <td id=\"T_3a68d_row12_col1\" class=\"data row12 col1\" >-1</td>\n",
       "    </tr>\n",
       "    <tr>\n",
       "      <th id=\"T_3a68d_level0_row13\" class=\"row_heading level0 row13\" >13</th>\n",
       "      <td id=\"T_3a68d_row13_col0\" class=\"data row13 col0\" >Use GPU</td>\n",
       "      <td id=\"T_3a68d_row13_col1\" class=\"data row13 col1\" >False</td>\n",
       "    </tr>\n",
       "    <tr>\n",
       "      <th id=\"T_3a68d_level0_row14\" class=\"row_heading level0 row14\" >14</th>\n",
       "      <td id=\"T_3a68d_row14_col0\" class=\"data row14 col0\" >Log Experiment</td>\n",
       "      <td id=\"T_3a68d_row14_col1\" class=\"data row14 col1\" >False</td>\n",
       "    </tr>\n",
       "    <tr>\n",
       "      <th id=\"T_3a68d_level0_row15\" class=\"row_heading level0 row15\" >15</th>\n",
       "      <td id=\"T_3a68d_row15_col0\" class=\"data row15 col0\" >Experiment Name</td>\n",
       "      <td id=\"T_3a68d_row15_col1\" class=\"data row15 col1\" >anomaly-default-name</td>\n",
       "    </tr>\n",
       "    <tr>\n",
       "      <th id=\"T_3a68d_level0_row16\" class=\"row_heading level0 row16\" >16</th>\n",
       "      <td id=\"T_3a68d_row16_col0\" class=\"data row16 col0\" >USI</td>\n",
       "      <td id=\"T_3a68d_row16_col1\" class=\"data row16 col1\" >6a41</td>\n",
       "    </tr>\n",
       "  </tbody>\n",
       "</table>\n"
      ],
      "text/plain": [
       "<pandas.io.formats.style.Styler at 0x134b12d2770>"
      ]
     },
     "metadata": {},
     "output_type": "display_data"
    },
    {
     "data": {
      "text/html": [],
      "text/plain": [
       "<IPython.core.display.HTML object>"
      ]
     },
     "metadata": {},
     "output_type": "display_data"
    },
    {
     "data": {
      "text/html": [],
      "text/plain": [
       "<IPython.core.display.HTML object>"
      ]
     },
     "metadata": {},
     "output_type": "display_data"
    },
    {
     "data": {
      "text/html": [],
      "text/plain": [
       "<IPython.core.display.HTML object>"
      ]
     },
     "metadata": {},
     "output_type": "display_data"
    },
    {
     "data": {
      "text/html": [],
      "text/plain": [
       "<IPython.core.display.HTML object>"
      ]
     },
     "metadata": {},
     "output_type": "display_data"
    },
    {
     "data": {
      "text/html": [],
      "text/plain": [
       "<IPython.core.display.HTML object>"
      ]
     },
     "metadata": {},
     "output_type": "display_data"
    },
    {
     "data": {
      "text/html": [],
      "text/plain": [
       "<IPython.core.display.HTML object>"
      ]
     },
     "metadata": {},
     "output_type": "display_data"
    },
    {
     "data": {
      "text/html": [],
      "text/plain": [
       "<IPython.core.display.HTML object>"
      ]
     },
     "metadata": {},
     "output_type": "display_data"
    },
    {
     "data": {
      "text/html": [],
      "text/plain": [
       "<IPython.core.display.HTML object>"
      ]
     },
     "metadata": {},
     "output_type": "display_data"
    },
    {
     "data": {
      "text/html": [],
      "text/plain": [
       "<IPython.core.display.HTML object>"
      ]
     },
     "metadata": {},
     "output_type": "display_data"
    },
    {
     "data": {
      "text/html": [],
      "text/plain": [
       "<IPython.core.display.HTML object>"
      ]
     },
     "metadata": {},
     "output_type": "display_data"
    },
    {
     "data": {
      "text/html": [],
      "text/plain": [
       "<IPython.core.display.HTML object>"
      ]
     },
     "metadata": {},
     "output_type": "display_data"
    },
    {
     "data": {
      "text/html": [],
      "text/plain": [
       "<IPython.core.display.HTML object>"
      ]
     },
     "metadata": {},
     "output_type": "display_data"
    },
    {
     "data": {
      "text/html": [],
      "text/plain": [
       "<IPython.core.display.HTML object>"
      ]
     },
     "metadata": {},
     "output_type": "display_data"
    },
    {
     "data": {
      "text/html": [],
      "text/plain": [
       "<IPython.core.display.HTML object>"
      ]
     },
     "metadata": {},
     "output_type": "display_data"
    },
    {
     "data": {
      "text/html": [],
      "text/plain": [
       "<IPython.core.display.HTML object>"
      ]
     },
     "metadata": {},
     "output_type": "display_data"
    }
   ],
   "source": [
    "# Load dataset\n",
    "data = get_data('anomaly')\n",
    "\n",
    "# Initialize experiment\n",
    "exp = AnomalyExperiment()\n",
    "exp.setup(data, session_id=123, normalize=True, transformation=True)  # Added normalization and transformation\n",
    "\n",
    "# Train multiple models\n",
    "iforest = exp.create_model('iforest')\n",
    "knn = exp.create_model('knn')\n",
    "lof = exp.create_model('lof')\n",
    "cof = exp.create_model('cof')  # Added Connectivity-Based Local Outlier Factor\n",
    "svm = exp.create_model('svm')  # Added One-Class SVM\n",
    "\n",
    "# Assign anomaly labels\n",
    "iforest_results = exp.assign_model(iforest)\n",
    "knn_results = exp.assign_model(knn)\n",
    "lof_results = exp.assign_model(lof)\n",
    "cof_results = exp.assign_model(cof)\n",
    "svm_results = exp.assign_model(svm)"
   ]
  },
  {
   "cell_type": "code",
   "execution_count": 3,
   "metadata": {},
   "outputs": [],
   "source": [
    "# Combine anomaly assignments into a single table\n",
    "anomaly_df = data.copy()\n",
    "anomaly_df['IForest_Anomaly'] = iforest_results['Anomaly']\n",
    "anomaly_df['KNN_Anomaly'] = knn_results['Anomaly']\n",
    "anomaly_df['LOF_Anomaly'] = lof_results['Anomaly']\n",
    "anomaly_df['cof_Anomaly'] = cof_results['Anomaly']\n",
    "anomaly_df['SVM_Anomaly'] = svm_results['Anomaly']"
   ]
  },
  {
   "cell_type": "code",
   "execution_count": 5,
   "metadata": {},
   "outputs": [],
   "source": [
    "# Save processed dataset\n",
    "anomaly_df.to_csv('pycaret_anomaly_comparison.csv', index=False)"
   ]
  }
 ],
 "metadata": {
  "kernelspec": {
   "display_name": "venv",
   "language": "python",
   "name": "python3"
  },
  "language_info": {
   "codemirror_mode": {
    "name": "ipython",
    "version": 3
   },
   "file_extension": ".py",
   "mimetype": "text/x-python",
   "name": "python",
   "nbconvert_exporter": "python",
   "pygments_lexer": "ipython3",
   "version": "3.10.8"
  }
 },
 "nbformat": 4,
 "nbformat_minor": 2
}
