{
 "cells": [
  {
   "cell_type": "markdown",
   "metadata": {},
   "source": [
    "# Overview"
   ]
  },
  {
   "cell_type": "markdown",
   "metadata": {},
   "source": [
    "In this notebooks we wil detect outliers using pycaret for various strategies. We will then compare the results."
   ]
  },
  {
   "cell_type": "markdown",
   "metadata": {},
   "source": [
    "### Detecting Outliers using Pycaret"
   ]
  },
  {
   "cell_type": "code",
   "execution_count": null,
   "metadata": {},
   "outputs": [],
   "source": [
    "from pycaret.anomaly import AnomalyExperiment\n",
    "from pycaret.datasets import get_data\n",
    "import pandas as pd\n",
    "import matplotlib.pyplot as plt\n",
    "import seaborn as sns\n",
    "from sklearn.decomposition import PCA"
   ]
  },
  {
   "cell_type": "code",
   "execution_count": null,
   "metadata": {},
   "outputs": [],
   "source": [
    "# Load dataset\n",
    "data = get_data('anomaly')\n",
    "\n",
    "# Initialize experiment\n",
    "exp = AnomalyExperiment()\n",
    "exp.setup(data, session_id=123, normalize=True, transformation=True)  # Added normalization and transformation\n",
    "\n",
    "# Train multiple models\n",
    "iforest = exp.create_model('iforest')\n",
    "knn = exp.create_model('knn')\n",
    "lof = exp.create_model('lof')\n",
    "cblof = exp.create_model('cblof')  # Added Cluster-Based Local Outlier Factor\n",
    "svm = exp.create_model('svm')  # Added One-Class SVM\n",
    "\n",
    "# Assign anomaly labels\n",
    "iforest_results = exp.assign_model(iforest)\n",
    "knn_results = exp.assign_model(knn)\n",
    "lof_results = exp.assign_model(lof)\n",
    "cblof_results = exp.assign_model(cblof)\n",
    "svm_results = exp.assign_model(svm)"
   ]
  },
  {
   "cell_type": "code",
   "execution_count": null,
   "metadata": {},
   "outputs": [],
   "source": [
    "# Combine anomaly assignments into a single table\n",
    "anomaly_df = data.copy()\n",
    "anomaly_df['IForest_Anomaly'] = iforest_results['Anomaly']\n",
    "anomaly_df['KNN_Anomaly'] = knn_results['Anomaly']\n",
    "anomaly_df['LOF_Anomaly'] = lof_results['Anomaly']\n",
    "anomaly_df['CBLOF_Anomaly'] = cblof_results['Anomaly']\n",
    "anomaly_df['SVM_Anomaly'] = svm_results['Anomaly']"
   ]
  },
  {
   "cell_type": "code",
   "execution_count": null,
   "metadata": {},
   "outputs": [],
   "source": [
    "# Save processed dataset\n",
    "anomaly_df.to_csv('anomaly_comparison.csv', index=False)\n"
   ]
  },
  {
   "cell_type": "markdown",
   "metadata": {},
   "source": [
    "### Analysis of the Detected Anomalies"
   ]
  },
  {
   "cell_type": "markdown",
   "metadata": {},
   "source": [
    "We now look at the anomalies detected in a single combined dataset."
   ]
  },
  {
   "cell_type": "code",
   "execution_count": null,
   "metadata": {},
   "outputs": [],
   "source": [
    "# Explore dataset statistics\n",
    "print(\"Dataset Summary:\")\n",
    "print(anomaly_df.describe())\n",
    "\n",
    "# Count anomalies detected by each model\n",
    "anomaly_counts = anomaly_df.iloc[:, 1:].apply(lambda x: (x == 1).sum())\n",
    "print(\"\\nAnomaly Counts per Model:\")\n",
    "print(anomaly_counts)\n",
    "\n",
    "# Correlation analysis among anomaly detections\n",
    "correlation_matrix = anomaly_df.iloc[:, 1:].corr()\n",
    "print(\"\\nCorrelation Matrix:\")\n",
    "print(correlation_matrix)\n",
    "\n",
    "# Visualize correlations using a heatmap\n",
    "plt.figure(figsize=(8, 6))\n",
    "sns.heatmap(correlation_matrix, annot=True, cmap='coolwarm', fmt=\".2f\")\n",
    "plt.title(\"Correlation Matrix of Anomaly Assignments\")\n",
    "plt.show()"
   ]
  },
  {
   "cell_type": "markdown",
   "metadata": {},
   "source": [
    "### Visualisation of the Detected Anomalies"
   ]
  },
  {
   "cell_type": "code",
   "execution_count": null,
   "metadata": {},
   "outputs": [],
   "source": [
    "def plot_anomaly_scatter(df, model_column, feature1, feature2):\n",
    "    plt.figure(figsize=(8, 6))\n",
    "    sns.scatterplot(x=df[feature1], y=df[feature2], hue=df[model_column], palette={0: \"blue\", 1: \"red\"})\n",
    "    plt.xlabel(feature1)\n",
    "    plt.ylabel(feature2)\n",
    "    plt.title(f'Anomalies Detected by {model_column}')\n",
    "    plt.legend(title=\"Anomaly (1=Yes, 0=No)\")\n",
    "    plt.show()\n",
    "\n",
    "# Example usage (change feature names based on dataset)\n",
    "plot_anomaly_scatter(anomaly_df, 'IForest_Anomaly', 'Feature1', 'Feature2')"
   ]
  },
  {
   "cell_type": "markdown",
   "metadata": {},
   "source": [
    "Since datasets often have multiple features, PCA reduces them to two principal components for visualization.\n"
   ]
  },
  {
   "cell_type": "code",
   "execution_count": null,
   "metadata": {},
   "outputs": [],
   "source": [
    "def plot_pca_anomalies(df, model_column):\n",
    "    pca = PCA(n_components=2)\n",
    "    principal_components = pca.fit_transform(df.drop(columns=['IForest_Anomaly', 'KNN_Anomaly', 'LOF_Anomaly', 'CBLOF_Anomaly', 'SVM_Anomaly']))  # Drop anomaly labels for PCA\n",
    "    df_pca = pd.DataFrame(principal_components, columns=['PC1', 'PC2'])\n",
    "    df_pca[model_column] = df[model_column]\n",
    "\n",
    "    plt.figure(figsize=(8, 6))\n",
    "    sns.scatterplot(x=df_pca['PC1'], y=df_pca['PC2'], hue=df_pca[model_column], palette={0: \"blue\", 1: \"red\"})\n",
    "    plt.xlabel('Principal Component 1')\n",
    "    plt.ylabel('Principal Component 2')\n",
    "    plt.title(f'PCA Projection of Anomalies ({model_column})')\n",
    "    plt.legend(title=\"Anomaly (1=Yes, 0=No)\")\n",
    "    plt.show()\n",
    "\n",
    "# Example usage\n",
    "plot_pca_anomalies(anomaly_df, 'IForest_Anomaly')"
   ]
  },
  {
   "cell_type": "markdown",
   "metadata": {},
   "source": [
    "We plot anomaly distributions\n"
   ]
  },
  {
   "cell_type": "code",
   "execution_count": null,
   "metadata": {},
   "outputs": [],
   "source": [
    "\n",
    "def plot_anomaly_comparison(*datasets, labels):\n",
    "    plt.figure(figsize=(10, 6))\n",
    "    for dataset, label in zip(datasets, labels):\n",
    "        plt.hist(dataset['Anomaly'], bins=3, alpha=0.5, label=label)\n",
    "    plt.xlabel('Anomaly Score')\n",
    "    plt.ylabel('Frequency')\n",
    "    plt.title('Comparison of Anomalies Across Models')\n",
    "    plt.legend()\n",
    "    plt.show()\n",
    "\n",
    "# Call function to compare anomaly detection results\n",
    "plot_anomaly_comparison(iforest_results, knn_results, lof_results, cblof_results, svm_results, \n",
    "                         labels=['IForest', 'KNN', 'LOF', 'CBLOF', 'SVM'])"
   ]
  }
 ],
 "metadata": {
  "language_info": {
   "name": "python"
  }
 },
 "nbformat": 4,
 "nbformat_minor": 2
}
