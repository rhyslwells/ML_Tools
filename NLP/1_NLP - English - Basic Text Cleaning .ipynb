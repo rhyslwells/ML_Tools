{
 "cells": [
  {
   "cell_type": "markdown",
   "metadata": {},
   "source": [
    "### Description"
   ]
  },
  {
   "cell_type": "markdown",
   "metadata": {},
   "source": [
    "This notebook shows simple an basic operations that can be performed on text in order to tokenize it and use in Machine Learning model. Techniques will have mostly application in English as each language is different and might require different preprocessing because of that."
   ]
  },
  {
   "cell_type": "markdown",
   "metadata": {
    "ExecuteTime": {
     "end_time": "2020-01-18T20:07:02.195804Z",
     "start_time": "2020-01-18T20:07:02.193434Z"
    }
   },
   "source": [
    "### Imports"
   ]
  },
  {
   "cell_type": "code",
   "execution_count": 1,
   "metadata": {
    "ExecuteTime": {
     "end_time": "2020-01-18T21:08:43.418806Z",
     "start_time": "2020-01-18T21:08:42.545058Z"
    }
   },
   "outputs": [
    {
     "name": "stderr",
     "output_type": "stream",
     "text": [
      "[nltk_data] Downloading package punkt to\n",
      "[nltk_data]     C:\\Users\\RhysL\\AppData\\Roaming\\nltk_data...\n",
      "[nltk_data]   Package punkt is already up-to-date!\n",
      "[nltk_data] Downloading package stopwords to\n",
      "[nltk_data]     C:\\Users\\RhysL\\AppData\\Roaming\\nltk_data...\n",
      "[nltk_data]   Package stopwords is already up-to-date!\n",
      "[nltk_data] Downloading package wordnet to\n",
      "[nltk_data]     C:\\Users\\RhysL\\AppData\\Roaming\\nltk_data...\n",
      "[nltk_data]   Package wordnet is already up-to-date!\n"
     ]
    },
    {
     "data": {
      "text/plain": [
       "True"
      ]
     },
     "execution_count": 1,
     "metadata": {},
     "output_type": "execute_result"
    }
   ],
   "source": [
    "import nltk\n",
    "nltk.download(\"punkt\")\n",
    "nltk.download(\"stopwords\")\n",
    "nltk.download(\"wordnet\")"
   ]
  },
  {
   "cell_type": "code",
   "execution_count": 3,
   "metadata": {},
   "outputs": [
    {
     "name": "stdout",
     "output_type": "stream",
     "text": [
      "{'where', 'over', 'by', 'above', 'out', \"aren't\", 've', 'doing', 'a', 'didn', 'wouldn', \"weren't\", 'nor', 't', \"didn't\", 'then', 'ours', 'theirs', 'y', 'my', \"wasn't\", 'this', 'these', 'ain', 'your', 'most', 'both', 'yours', \"you'd\", 'some', 'd', 'had', 'no', 'our', 'him', 'but', 'as', 'any', \"doesn't\", \"you've\", 'did', \"shan't\", \"hadn't\", 'during', 'shan', 'be', \"isn't\", \"it's\", 'me', 'at', 'itself', 'too', 'ma', 'with', 'than', 'herself', 'himself', 'it', \"mustn't\", \"couldn't\", \"she's\", 'before', 'so', \"don't\", 'he', 'm', 'up', 'have', 'from', 'themselves', 'hadn', 'i', 'are', 'an', 'in', 'hasn', 'while', 'through', 'doesn', 'if', \"should've\", 'do', 'and', 'few', 'or', 'couldn', 'their', 'o', 'its', 'we', 'being', 'yourselves', 'myself', 'that', 'each', 'needn', 'other', \"you'll\", 'which', 'here', 'does', 'only', 'weren', 'were', 'when', 'mustn', 'on', 'between', 'has', 'should', 'yourself', 'having', 'against', 'more', 'what', 'all', 'hers', 'there', 'was', 'the', 'now', 'you', 'them', 'own', 'just', 'about', 'his', 'until', 'won', 'mightn', 'those', 'wasn', 'will', 'of', \"shouldn't\", 'further', 'been', 'such', 'to', 'very', 'they', \"haven't\", 'why', 'how', 'ourselves', 'again', 'am', \"you're\", 'aren', 're', \"mightn't\", 'who', 'down', 'shouldn', 'below', 'same', \"wouldn't\", 'into', \"won't\", 'she', 'because', \"hasn't\", \"needn't\", 'once', 'under', 'don', 'can', 'for', 'her', 'is', 's', 'whom', 'off', 'll', 'not', \"that'll\", 'after', 'haven', 'isn'}\n"
     ]
    }
   ],
   "source": [
    "import nltk\n",
    "from nltk.corpus import stopwords\n",
    "\n",
    "stops = set(stopwords.words('english'))\n",
    "print(stops)"
   ]
  },
  {
   "cell_type": "markdown",
   "metadata": {},
   "source": [
    "### Data\n",
    "Data for showcase will be a part of \"History of Poland\" from Wikipedia. https://en.wikipedia.org/wiki/History_of_Poland."
   ]
  },
  {
   "cell_type": "code",
   "execution_count": 4,
   "metadata": {
    "ExecuteTime": {
     "end_time": "2020-01-18T21:08:43.423953Z",
     "start_time": "2020-01-18T21:08:43.420872Z"
    }
   },
   "outputs": [],
   "source": [
    "text_original = \"\"\"\n",
    "The history of Poland has its roots in the early migrations of Slavs, who established permanent West Slavic settlements in the Polish lands during the Early Middle Ages.[1] The first ruling dynasty, the Piasts, emerged by the 10th century AD. Duke Mieszko I (d. 992) is considered the de facto creator of the Polish state and is widely recognized for the adoption of Western Christianity that followed his Catholic baptism in 966. Mieszko's duchy of Poland was formally reconstituted as a medieval kingdom in 1025 by his son Bolesław I the Brave, known for military expansion under his rule. Perhaps the most successful of the Piast kings was the last one, Casimir III the Great, who presided over a brilliant period of economic prosperity and territorial aggrandizement before his death in 1370 without male heirs. The period of the Jagiellonian dynasty in the 14th–16th centuries brought close ties with the Grand Duchy of Lithuania, a cultural Renaissance in Poland and continued territorial expansion that culminated in the establishment of the Polish–Lithuanian Commonwealth in 1569.\n",
    "\n",
    "In its early phases, the Commonwealth was able to sustain the levels of prosperity achieved during the Jagiellonian period, while its political system matured as a unique noble democracy. From the mid-17th century, however, the huge state entered a period of decline caused by devastating wars and the deterioration of its political system. Significant internal reforms were introduced during the later part of the 18th century, especially in the Constitution of 3 May 1791, but neighboring powers did not allow the reform process to advance. The independent existence of the Commonwealth ended in 1795 after a series of invasions and partitions of Polish territory carried out by the Russian Empire, the Kingdom of Prussia and the Habsburg Monarchy.\n",
    "\"\"\""
   ]
  },
  {
   "cell_type": "markdown",
   "metadata": {},
   "source": [
    "### Text as data"
   ]
  },
  {
   "cell_type": "markdown",
   "metadata": {},
   "source": [
    "Letters were created for sake of human communication and knowledge docummentation. Computers doesn't prescribe world in the same way as humans. That's why for computer each character is a different number which value depends on used encoding.\n",
    "\n",
    "For example ASCII encoding:\n",
    "\n",
    "```\n",
    "Dec  Char                           Dec  Char     Dec  Char     Dec  Char\n",
    "---------                           ---------     ---------     ----------\n",
    "  0  NUL (null)                      32  SPACE     64  @         96  `\n",
    "  1  SOH (start of heading)          33  !         65  A         97  a\n",
    "  2  STX (start of text)             34  \"         66  B         98  b\n",
    "  3  ETX (end of text)               35  #         67  C         99  c\n",
    "  4  EOT (end of transmission)       36  $         68  D        100  d\n",
    "  5  ENQ (enquiry)                   37  %         69  E        101  e\n",
    "  6  ACK (acknowledge)               38  &         70  F        102  f\n",
    "  7  BEL (bell)                      39  '         71  G        103  g\n",
    "  8  BS  (backspace)                 40  (         72  H        104  h\n",
    "  9  TAB (horizontal tab)            41  )         73  I        105  i\n",
    " 10  LF  (NL line feed, new line)    42  *         74  J        106  j\n",
    " 11  VT  (vertical tab)              43  +         75  K        107  k\n",
    " 12  FF  (NP form feed, new page)    44  ,         76  L        108  l\n",
    " 13  CR  (carriage return)           45  -         77  M        109  m\n",
    " 14  SO  (shift out)                 46  .         78  N        110  n\n",
    " 15  SI  (shift in)                  47  /         79  O        111  o\n",
    " 16  DLE (data link escape)          48  0         80  P        112  p\n",
    " 17  DC1 (device control 1)          49  1         81  Q        113  q\n",
    " 18  DC2 (device control 2)          50  2         82  R        114  r\n",
    " 19  DC3 (device control 3)          51  3         83  S        115  s\n",
    " 20  DC4 (device control 4)          52  4         84  T        116  t\n",
    " 21  NAK (negative acknowledge)      53  5         85  U        117  u\n",
    " 22  SYN (synchronous idle)          54  6         86  V        118  v\n",
    " 23  ETB (end of trans. block)       55  7         87  W        119  w\n",
    " 24  CAN (cancel)                    56  8         88  X        120  x\n",
    " 25  EM  (end of medium)             57  9         89  Y        121  y\n",
    " 26  SUB (substitute)                58  :         90  Z        122  z\n",
    " 27  ESC (escape)                    59  ;         91  [        123  {\n",
    " 28  FS  (file separator)            60  <         92  \\        124  |\n",
    " 29  GS  (group separator)           61  =         93  ]        125  }\n",
    " 30  RS  (record separator)          62  >         94  ^        126  ~\n",
    " 31  US  (unit separator)            63  ?         95  _        127  DEL\n",
    " ```"
   ]
  },
  {
   "cell_type": "markdown",
   "metadata": {},
   "source": [
    "### Basic Preprocessing Operations\n",
    "\n",
    "Goal is to make each word being treated the same way. For example word \"car\" and \"Car\" have different numerical value from computer perspective, while for humans it's same thing."
   ]
  },
  {
   "cell_type": "code",
   "execution_count": 5,
   "metadata": {
    "ExecuteTime": {
     "end_time": "2020-01-18T21:08:43.430514Z",
     "start_time": "2020-01-18T21:08:43.426128Z"
    }
   },
   "outputs": [
    {
     "name": "stdout",
     "output_type": "stream",
     "text": [
      "'car' numerical values:  [99, 97, 114]\n",
      "'Car' numerical values:  [67, 97, 114]\n",
      "'car.' numerical values:  [99, 97, 114, 46]\n"
     ]
    }
   ],
   "source": [
    "car_lower = \"car\"\n",
    "car_capital = \"Car\"\n",
    "car_dot = \"car.\"\n",
    "\n",
    "print(\"'{}' numerical values: \".format(car_lower), [ord(char) for char in car_lower])\n",
    "print(\"'{}' numerical values: \".format(car_capital), [ord(char) for char in car_capital])\n",
    "print(\"'{}' numerical values: \".format(car_dot), [ord(char) for char in car_dot])"
   ]
  },
  {
   "cell_type": "markdown",
   "metadata": {},
   "source": [
    "#### 1. Normalization\n",
    "a) Bringing letters to lowercase."
   ]
  },
  {
   "cell_type": "code",
   "execution_count": 6,
   "metadata": {
    "ExecuteTime": {
     "end_time": "2020-01-18T21:08:43.435654Z",
     "start_time": "2020-01-18T21:08:43.432666Z"
    }
   },
   "outputs": [
    {
     "name": "stdout",
     "output_type": "stream",
     "text": [
      "\n",
      "the history of poland has its roots in the early migrations of slavs, who established permanent west slavic settlements in the polish lands during the early middle ages.[1] the first ruling dynasty, the piasts, emerged by the 10th century ad. duke mieszko i (d. 992) is considered the de facto creator of the polish state and is widely recognized for the adoption of western christianity that followed his catholic baptism in 966. mieszko's duchy of poland was formally reconstituted as a medieval kingdom in 1025 by his son bolesław i the brave, known for military expansion under his rule. perhaps the most successful of the piast kings was the last one, casimir iii the great, who presided over a brilliant period of economic prosperity and territorial aggrandizement before his death in 1370 without male heirs. the period of the jagiellonian dynasty in the 14th–16th centuries brought close ties with the grand duchy of lithuania, a cultural renaissance in poland and continued territorial expansion that culminated in the establishment of the polish–lithuanian commonwealth in 1569.\n",
      "\n",
      "in its early phases, the commonwealth was able to sustain the levels of prosperity achieved during the jagiellonian period, while its political system matured as a unique noble democracy. from the mid-17th century, however, the huge state entered a period of decline caused by devastating wars and the deterioration of its political system. significant internal reforms were introduced during the later part of the 18th century, especially in the constitution of 3 may 1791, but neighboring powers did not allow the reform process to advance. the independent existence of the commonwealth ended in 1795 after a series of invasions and partitions of polish territory carried out by the russian empire, the kingdom of prussia and the habsburg monarchy.\n",
      "\n"
     ]
    }
   ],
   "source": [
    "text_lower_case = text_original.lower()\n",
    "print(text_lower_case)"
   ]
  },
  {
   "cell_type": "markdown",
   "metadata": {},
   "source": [
    "b) Removing punctuation by replacing it with space."
   ]
  },
  {
   "cell_type": "code",
   "execution_count": 7,
   "metadata": {
    "ExecuteTime": {
     "end_time": "2020-01-18T21:08:43.441488Z",
     "start_time": "2020-01-18T21:08:43.437582Z"
    }
   },
   "outputs": [
    {
     "name": "stdout",
     "output_type": "stream",
     "text": [
      " The history of Poland has its roots in the early migrations of Slavs  who established permanent West Slavic settlements in the Polish lands during the Early Middle Ages  1  The first ruling dynasty  the Piasts  emerged by the 10th century AD  Duke Mieszko I  d  992  is considered the de facto creator of the Polish state and is widely recognized for the adoption of Western Christianity that followed his Catholic baptism in 966  Mieszko s duchy of Poland was formally reconstituted as a medieval kingdom in 1025 by his son Boles aw I the Brave  known for military expansion under his rule  Perhaps the most successful of the Piast kings was the last one  Casimir III the Great  who presided over a brilliant period of economic prosperity and territorial aggrandizement before his death in 1370 without male heirs  The period of the Jagiellonian dynasty in the 14th 16th centuries brought close ties with the Grand Duchy of Lithuania  a cultural Renaissance in Poland and continued territorial expansion that culminated in the establishment of the Polish Lithuanian Commonwealth in 1569   In its early phases  the Commonwealth was able to sustain the levels of prosperity achieved during the Jagiellonian period  while its political system matured as a unique noble democracy  From the mid 17th century  however  the huge state entered a period of decline caused by devastating wars and the deterioration of its political system  Significant internal reforms were introduced during the later part of the 18th century  especially in the Constitution of 3 May 1791  but neighboring powers did not allow the reform process to advance  The independent existence of the Commonwealth ended in 1795 after a series of invasions and partitions of Polish territory carried out by the Russian Empire  the Kingdom of Prussia and the Habsburg Monarchy  \n"
     ]
    }
   ],
   "source": [
    "import re\n",
    "\n",
    "text_no_punctuation = re.sub(r\"[^a-zA-Z0-9]\", \" \", text_original) \n",
    "\n",
    "\"\"\"the re.sub() function is used to substitute (replace) all characters in the text_original string that do not match the pattern [a-zA-Z0-9] with a\n",
    "\"\"\"\n",
    "print(text_no_punctuation)"
   ]
  },
  {
   "cell_type": "markdown",
   "metadata": {},
   "source": [
    "c) Sometimes text will require additional cleaning. In this case if punctuation removal is performed by leaving only letters and digits, wikipedia source addnotations (e.g. `[3]`) will become a noise."
   ]
  },
  {
   "cell_type": "markdown",
   "metadata": {},
   "source": [
    "[1] The first ruling dynasty, the Piasts, emerged by the 10th century AD."
   ]
  },
  {
   "cell_type": "code",
   "execution_count": 8,
   "metadata": {
    "ExecuteTime": {
     "end_time": "2020-01-18T21:08:43.447559Z",
     "start_time": "2020-01-18T21:08:43.443410Z"
    }
   },
   "outputs": [
    {
     "name": "stdout",
     "output_type": "stream",
     "text": [
      " The first ruling dynasty, the Piasts, emerged by the 10th century AD.\n"
     ]
    }
   ],
   "source": [
    "sentence_with_addonation = \"[1] The first ruling dynasty, the Piasts, emerged by the 10th century AD.\"\n",
    "text_no_addnotation = re.sub(r\"\\[[0-9]+\\]\", \"\", sentence_with_addonation) \n",
    "print(text_no_addnotation)"
   ]
  },
  {
   "cell_type": "markdown",
   "metadata": {},
   "source": [
    "#### 2. Tokenization\n",
    "Operation of separating e.g. words or sentences."
   ]
  },
  {
   "cell_type": "markdown",
   "metadata": {
    "ExecuteTime": {
     "end_time": "2020-01-18T19:32:22.126014Z",
     "start_time": "2020-01-18T19:32:22.122607Z"
    }
   },
   "source": [
    "- Word tokenization"
   ]
  },
  {
   "cell_type": "code",
   "execution_count": 9,
   "metadata": {
    "ExecuteTime": {
     "end_time": "2020-01-18T21:08:43.453207Z",
     "start_time": "2020-01-18T21:08:43.449836Z"
    }
   },
   "outputs": [
    {
     "name": "stdout",
     "output_type": "stream",
     "text": [
      "['The', 'history', 'of', 'Poland', 'has', 'its', 'roots', 'in', 'the', 'early', 'migrations', 'of', 'Slavs,', 'who', 'established', 'permanent', 'West', 'Slavic', 'settlements', 'in', 'the', 'Polish', 'lands', 'during', 'the', 'Early', 'Middle', 'Ages.[1]', 'The', 'first', 'ruling', 'dynasty,', 'the', 'Piasts,', 'emerged', 'by', 'the', '10th', 'century', 'AD.', 'Duke', 'Mieszko', 'I', '(d.', '992)', 'is', 'considered', 'the', 'de', 'facto', 'creator', 'of', 'the', 'Polish', 'state', 'and', 'is', 'widely', 'recognized', 'for', 'the', 'adoption', 'of', 'Western', 'Christianity', 'that', 'followed', 'his', 'Catholic', 'baptism', 'in', '966.', \"Mieszko's\", 'duchy', 'of', 'Poland', 'was', 'formally', 'reconstituted', 'as', 'a', 'medieval', 'kingdom', 'in', '1025', 'by', 'his', 'son', 'Bolesław', 'I', 'the', 'Brave,', 'known', 'for', 'military', 'expansion', 'under', 'his', 'rule.', 'Perhaps', 'the', 'most', 'successful', 'of', 'the', 'Piast', 'kings', 'was', 'the', 'last', 'one,', 'Casimir', 'III', 'the', 'Great,', 'who', 'presided', 'over', 'a', 'brilliant', 'period', 'of', 'economic', 'prosperity', 'and', 'territorial', 'aggrandizement', 'before', 'his', 'death', 'in', '1370', 'without', 'male', 'heirs.', 'The', 'period', 'of', 'the', 'Jagiellonian', 'dynasty', 'in', 'the', '14th–16th', 'centuries', 'brought', 'close', 'ties', 'with', 'the', 'Grand', 'Duchy', 'of', 'Lithuania,', 'a', 'cultural', 'Renaissance', 'in', 'Poland', 'and', 'continued', 'territorial', 'expansion', 'that', 'culminated', 'in', 'the', 'establishment', 'of', 'the', 'Polish–Lithuanian', 'Commonwealth', 'in', '1569.', 'In', 'its', 'early', 'phases,', 'the', 'Commonwealth', 'was', 'able', 'to', 'sustain', 'the', 'levels', 'of', 'prosperity', 'achieved', 'during', 'the', 'Jagiellonian', 'period,', 'while', 'its', 'political', 'system', 'matured', 'as', 'a', 'unique', 'noble', 'democracy.', 'From', 'the', 'mid-17th', 'century,', 'however,', 'the', 'huge', 'state', 'entered', 'a', 'period', 'of', 'decline', 'caused', 'by', 'devastating', 'wars', 'and', 'the', 'deterioration', 'of', 'its', 'political', 'system.', 'Significant', 'internal', 'reforms', 'were', 'introduced', 'during', 'the', 'later', 'part', 'of', 'the', '18th', 'century,', 'especially', 'in', 'the', 'Constitution', 'of', '3', 'May', '1791,', 'but', 'neighboring', 'powers', 'did', 'not', 'allow', 'the', 'reform', 'process', 'to', 'advance.', 'The', 'independent', 'existence', 'of', 'the', 'Commonwealth', 'ended', 'in', '1795', 'after', 'a', 'series', 'of', 'invasions', 'and', 'partitions', 'of', 'Polish', 'territory', 'carried', 'out', 'by', 'the', 'Russian', 'Empire,', 'the', 'Kingdom', 'of', 'Prussia', 'and', 'the', 'Habsburg', 'Monarchy.']\n"
     ]
    }
   ],
   "source": [
    "text_word_tokens = text_original.split()\n",
    "print(text_word_tokens)"
   ]
  },
  {
   "cell_type": "markdown",
   "metadata": {},
   "source": [
    "Issue of this metod is that punctuation has to be removed beforehand."
   ]
  },
  {
   "cell_type": "markdown",
   "metadata": {},
   "source": [
    "- Word tokenization with NLTK lib"
   ]
  },
  {
   "cell_type": "code",
   "execution_count": 8,
   "metadata": {
    "ExecuteTime": {
     "end_time": "2020-01-18T21:08:43.471614Z",
     "start_time": "2020-01-18T21:08:43.455748Z"
    }
   },
   "outputs": [
    {
     "name": "stdout",
     "output_type": "stream",
     "text": [
      "['The', 'history', 'of', 'Poland', 'has', 'its', 'roots', 'in', 'the', 'early', 'migrations', 'of', 'Slavs', ',', 'who', 'established', 'permanent', 'West', 'Slavic', 'settlements', 'in', 'the', 'Polish', 'lands', 'during', 'the', 'Early', 'Middle', 'Ages', '.', '[', '1', ']', 'The', 'first', 'ruling', 'dynasty', ',', 'the', 'Piasts', ',', 'emerged', 'by', 'the', '10th', 'century', 'AD', '.', 'Duke', 'Mieszko', 'I', '(', 'd.', '992', ')', 'is', 'considered', 'the', 'de', 'facto', 'creator', 'of', 'the', 'Polish', 'state', 'and', 'is', 'widely', 'recognized', 'for', 'the', 'adoption', 'of', 'Western', 'Christianity', 'that', 'followed', 'his', 'Catholic', 'baptism', 'in', '966', '.', 'Mieszko', \"'s\", 'duchy', 'of', 'Poland', 'was', 'formally', 'reconstituted', 'as', 'a', 'medieval', 'kingdom', 'in', '1025', 'by', 'his', 'son', 'Bolesław', 'I', 'the', 'Brave', ',', 'known', 'for', 'military', 'expansion', 'under', 'his', 'rule', '.', 'Perhaps', 'the', 'most', 'successful', 'of', 'the', 'Piast', 'kings', 'was', 'the', 'last', 'one', ',', 'Casimir', 'III', 'the', 'Great', ',', 'who', 'presided', 'over', 'a', 'brilliant', 'period', 'of', 'economic', 'prosperity', 'and', 'territorial', 'aggrandizement', 'before', 'his', 'death', 'in', '1370', 'without', 'male', 'heirs', '.', 'The', 'period', 'of', 'the', 'Jagiellonian', 'dynasty', 'in', 'the', '14th–16th', 'centuries', 'brought', 'close', 'ties', 'with', 'the', 'Grand', 'Duchy', 'of', 'Lithuania', ',', 'a', 'cultural', 'Renaissance', 'in', 'Poland', 'and', 'continued', 'territorial', 'expansion', 'that', 'culminated', 'in', 'the', 'establishment', 'of', 'the', 'Polish–Lithuanian', 'Commonwealth', 'in', '1569', '.', 'In', 'its', 'early', 'phases', ',', 'the', 'Commonwealth', 'was', 'able', 'to', 'sustain', 'the', 'levels', 'of', 'prosperity', 'achieved', 'during', 'the', 'Jagiellonian', 'period', ',', 'while', 'its', 'political', 'system', 'matured', 'as', 'a', 'unique', 'noble', 'democracy', '.', 'From', 'the', 'mid-17th', 'century', ',', 'however', ',', 'the', 'huge', 'state', 'entered', 'a', 'period', 'of', 'decline', 'caused', 'by', 'devastating', 'wars', 'and', 'the', 'deterioration', 'of', 'its', 'political', 'system', '.', 'Significant', 'internal', 'reforms', 'were', 'introduced', 'during', 'the', 'later', 'part', 'of', 'the', '18th', 'century', ',', 'especially', 'in', 'the', 'Constitution', 'of', '3', 'May', '1791', ',', 'but', 'neighboring', 'powers', 'did', 'not', 'allow', 'the', 'reform', 'process', 'to', 'advance', '.', 'The', 'independent', 'existence', 'of', 'the', 'Commonwealth', 'ended', 'in', '1795', 'after', 'a', 'series', 'of', 'invasions', 'and', 'partitions', 'of', 'Polish', 'territory', 'carried', 'out', 'by', 'the', 'Russian', 'Empire', ',', 'the', 'Kingdom', 'of', 'Prussia', 'and', 'the', 'Habsburg', 'Monarchy', '.']\n"
     ]
    }
   ],
   "source": [
    "from nltk.tokenize import word_tokenize\n",
    "\n",
    "text_word_tokens_nltk = word_tokenize(text_original)\n",
    "print(text_word_tokens_nltk)"
   ]
  },
  {
   "cell_type": "markdown",
   "metadata": {},
   "source": [
    "In this case special characters - different than letters/digits are treated as separate tokens."
   ]
  },
  {
   "cell_type": "markdown",
   "metadata": {},
   "source": [
    "- Sentence tokenization with NLTK lib"
   ]
  },
  {
   "cell_type": "code",
   "execution_count": 10,
   "metadata": {
    "ExecuteTime": {
     "end_time": "2020-01-18T21:08:43.477879Z",
     "start_time": "2020-01-18T21:08:43.473433Z"
    }
   },
   "outputs": [
    {
     "name": "stdout",
     "output_type": "stream",
     "text": [
      "['\\nThe history of Poland has its roots in the early migrations of Slavs, who established permanent West Slavic settlements in the Polish lands during the Early Middle Ages.', '[1] The first ruling dynasty, the Piasts, emerged by the 10th century AD.', 'Duke Mieszko I (d. 992) is considered the de facto creator of the Polish state and is widely recognized for the adoption of Western Christianity that followed his Catholic baptism in 966.', \"Mieszko's duchy of Poland was formally reconstituted as a medieval kingdom in 1025 by his son Bolesław I the Brave, known for military expansion under his rule.\", 'Perhaps the most successful of the Piast kings was the last one, Casimir III the Great, who presided over a brilliant period of economic prosperity and territorial aggrandizement before his death in 1370 without male heirs.', 'The period of the Jagiellonian dynasty in the 14th–16th centuries brought close ties with the Grand Duchy of Lithuania, a cultural Renaissance in Poland and continued territorial expansion that culminated in the establishment of the Polish–Lithuanian Commonwealth in 1569.', 'In its early phases, the Commonwealth was able to sustain the levels of prosperity achieved during the Jagiellonian period, while its political system matured as a unique noble democracy.', 'From the mid-17th century, however, the huge state entered a period of decline caused by devastating wars and the deterioration of its political system.', 'Significant internal reforms were introduced during the later part of the 18th century, especially in the Constitution of 3 May 1791, but neighboring powers did not allow the reform process to advance.', 'The independent existence of the Commonwealth ended in 1795 after a series of invasions and partitions of Polish territory carried out by the Russian Empire, the Kingdom of Prussia and the Habsburg Monarchy.']\n"
     ]
    }
   ],
   "source": [
    "from nltk.tokenize import sent_tokenize\n",
    "\n",
    "text_sentence_tokens_nltk = sent_tokenize(text_original)\n",
    "print(text_sentence_tokens_nltk)"
   ]
  },
  {
   "cell_type": "code",
   "execution_count": 12,
   "metadata": {},
   "outputs": [
    {
     "name": "stdout",
     "output_type": "stream",
     "text": [
      "\n",
      "The history of Poland has its roots in the early migrations of Slavs, who established permanent West Slavic settlements in the Polish lands during the Early Middle Ages.\n",
      "[1] The first ruling dynasty, the Piasts, emerged by the 10th century AD.\n",
      "Duke Mieszko I (d. 992) is considered the de facto creator of the Polish state and is widely recognized for the adoption of Western Christianity that followed his Catholic baptism in 966.\n",
      "Mieszko's duchy of Poland was formally reconstituted as a medieval kingdom in 1025 by his son Bolesław I the Brave, known for military expansion under his rule.\n",
      "Perhaps the most successful of the Piast kings was the last one, Casimir III the Great, who presided over a brilliant period of economic prosperity and territorial aggrandizement before his death in 1370 without male heirs.\n",
      "The period of the Jagiellonian dynasty in the 14th–16th centuries brought close ties with the Grand Duchy of Lithuania, a cultural Renaissance in Poland and continued territorial expansion that culminated in the establishment of the Polish–Lithuanian Commonwealth in 1569.\n",
      "In its early phases, the Commonwealth was able to sustain the levels of prosperity achieved during the Jagiellonian period, while its political system matured as a unique noble democracy.\n",
      "From the mid-17th century, however, the huge state entered a period of decline caused by devastating wars and the deterioration of its political system.\n",
      "Significant internal reforms were introduced during the later part of the 18th century, especially in the Constitution of 3 May 1791, but neighboring powers did not allow the reform process to advance.\n",
      "The independent existence of the Commonwealth ended in 1795 after a series of invasions and partitions of Polish territory carried out by the Russian Empire, the Kingdom of Prussia and the Habsburg Monarchy.\n"
     ]
    }
   ],
   "source": [
    "# for i in text_sentence_tokens_nltk:\n",
    "#     print(i)"
   ]
  },
  {
   "cell_type": "markdown",
   "metadata": {},
   "source": [
    "#### 3. Stop Word Removal"
   ]
  },
  {
   "cell_type": "markdown",
   "metadata": {},
   "source": [
    "In English there are words which doesn't contain much information. Those won't bring much to the model as they appear in every kind of text and in almost every sentence."
   ]
  },
  {
   "cell_type": "code",
   "execution_count": 10,
   "metadata": {
    "ExecuteTime": {
     "end_time": "2020-01-18T21:08:43.485263Z",
     "start_time": "2020-01-18T21:08:43.479777Z"
    }
   },
   "outputs": [
    {
     "name": "stdout",
     "output_type": "stream",
     "text": [
      "['i', 'me', 'my', 'myself', 'we', 'our', 'ours', 'ourselves', 'you', \"you're\", \"you've\", \"you'll\", \"you'd\", 'your', 'yours', 'yourself', 'yourselves', 'he', 'him', 'his', 'himself', 'she', \"she's\", 'her', 'hers', 'herself', 'it', \"it's\", 'its', 'itself', 'they', 'them', 'their', 'theirs', 'themselves', 'what', 'which', 'who', 'whom', 'this', 'that', \"that'll\", 'these', 'those', 'am', 'is', 'are', 'was', 'were', 'be', 'been', 'being', 'have', 'has', 'had', 'having', 'do', 'does', 'did', 'doing', 'a', 'an', 'the', 'and', 'but', 'if', 'or', 'because', 'as', 'until', 'while', 'of', 'at', 'by', 'for', 'with', 'about', 'against', 'between', 'into', 'through', 'during', 'before', 'after', 'above', 'below', 'to', 'from', 'up', 'down', 'in', 'out', 'on', 'off', 'over', 'under', 'again', 'further', 'then', 'once', 'here', 'there', 'when', 'where', 'why', 'how', 'all', 'any', 'both', 'each', 'few', 'more', 'most', 'other', 'some', 'such', 'no', 'nor', 'not', 'only', 'own', 'same', 'so', 'than', 'too', 'very', 's', 't', 'can', 'will', 'just', 'don', \"don't\", 'should', \"should've\", 'now', 'd', 'll', 'm', 'o', 're', 've', 'y', 'ain', 'aren', \"aren't\", 'couldn', \"couldn't\", 'didn', \"didn't\", 'doesn', \"doesn't\", 'hadn', \"hadn't\", 'hasn', \"hasn't\", 'haven', \"haven't\", 'isn', \"isn't\", 'ma', 'mightn', \"mightn't\", 'mustn', \"mustn't\", 'needn', \"needn't\", 'shan', \"shan't\", 'shouldn', \"shouldn't\", 'wasn', \"wasn't\", 'weren', \"weren't\", 'won', \"won't\", 'wouldn', \"wouldn't\"]\n"
     ]
    }
   ],
   "source": [
    "from nltk.corpus import stopwords\n",
    "\n",
    "print(stopwords.words(\"english\"))"
   ]
  },
  {
   "cell_type": "markdown",
   "metadata": {},
   "source": [
    "Now it is possible to remove tokens which are in stop words list."
   ]
  },
  {
   "cell_type": "code",
   "execution_count": 11,
   "metadata": {
    "ExecuteTime": {
     "end_time": "2020-01-18T21:08:43.551985Z",
     "start_time": "2020-01-18T21:08:43.488154Z"
    }
   },
   "outputs": [
    {
     "name": "stdout",
     "output_type": "stream",
     "text": [
      "['history', 'poland', 'roots', 'early', 'migrations', 'slavs', 'established', 'permanent', 'west', 'slavic', 'settlements', 'polish', 'lands', 'early', 'middle', 'ages', '1', 'first', 'ruling', 'dynasty', 'piasts', 'emerged', '10th', 'century', 'ad', 'duke', 'mieszko', '992', 'considered', 'de', 'facto', 'creator', 'polish', 'state', 'widely', 'recognized', 'adoption', 'western', 'christianity', 'followed', 'catholic', 'baptism', '966', 'mieszko', 'duchy', 'poland', 'formally', 'reconstituted', 'medieval', 'kingdom', '1025', 'son', 'boles', 'aw', 'brave', 'known', 'military', 'expansion', 'rule', 'perhaps', 'successful', 'piast', 'kings', 'last', 'one', 'casimir', 'iii', 'great', 'presided', 'brilliant', 'period', 'economic', 'prosperity', 'territorial', 'aggrandizement', 'death', '1370', 'without', 'male', 'heirs', 'period', 'jagiellonian', 'dynasty', '14th', '16th', 'centuries', 'brought', 'close', 'ties', 'grand', 'duchy', 'lithuania', 'cultural', 'renaissance', 'poland', 'continued', 'territorial', 'expansion', 'culminated', 'establishment', 'polish', 'lithuanian', 'commonwealth', '1569', 'early', 'phases', 'commonwealth', 'able', 'sustain', 'levels', 'prosperity', 'achieved', 'jagiellonian', 'period', 'political', 'system', 'matured', 'unique', 'noble', 'democracy', 'mid', '17th', 'century', 'however', 'huge', 'state', 'entered', 'period', 'decline', 'caused', 'devastating', 'wars', 'deterioration', 'political', 'system', 'significant', 'internal', 'reforms', 'introduced', 'later', 'part', '18th', 'century', 'especially', 'constitution', '3', 'may', '1791', 'neighboring', 'powers', 'allow', 'reform', 'process', 'advance', 'independent', 'existence', 'commonwealth', 'ended', '1795', 'series', 'invasions', 'partitions', 'polish', 'territory', 'carried', 'russian', 'empire', 'kingdom', 'prussia', 'habsburg', 'monarchy']\n"
     ]
    }
   ],
   "source": [
    "temp = text_original.lower()\n",
    "temp = re.sub(r\"[^a-zA-Z0-9]\", \" \", temp) \n",
    "temp = re.sub(r\"\\[[0-9]+\\]\", \"\", temp) \n",
    "temp = word_tokenize(temp)\n",
    "\n",
    "tokens_no_stopwords = [token for token in temp if token not in stopwords.words(\"english\")]\n",
    "print(tokens_no_stopwords)"
   ]
  },
  {
   "cell_type": "markdown",
   "metadata": {},
   "source": [
    "#### 4. Stemming/Lematization"
   ]
  },
  {
   "cell_type": "markdown",
   "metadata": {},
   "source": [
    "a) Stemming is a process of returning part of word that never changes e.g. shared part of \"establishment\", \"established\", \"establishing\", is \"establish\"."
   ]
  },
  {
   "cell_type": "code",
   "execution_count": 12,
   "metadata": {
    "ExecuteTime": {
     "end_time": "2020-01-18T21:08:43.615646Z",
     "start_time": "2020-01-18T21:08:43.553752Z"
    }
   },
   "outputs": [
    {
     "name": "stdout",
     "output_type": "stream",
     "text": [
      "['histori', 'poland', 'root', 'earli', 'migrat', 'slav', 'establish', 'perman', 'west', 'slavic', 'settlement', 'polish', 'land', 'earli', 'middl', 'age', '1', 'first', 'rule', 'dynasti', 'piast', 'emerg', '10th', 'centuri', 'ad', 'duke', 'mieszko', '992', 'consid', 'de', 'facto', 'creator', 'polish', 'state', 'wide', 'recogn', 'adopt', 'western', 'christian', 'follow', 'cathol', 'baptism', '966', 'mieszko', 'duchi', 'poland', 'formal', 'reconstitut', 'mediev', 'kingdom', '1025', 'son', 'bole', 'aw', 'brave', 'known', 'militari', 'expans', 'rule', 'perhap', 'success', 'piast', 'king', 'last', 'one', 'casimir', 'iii', 'great', 'presid', 'brilliant', 'period', 'econom', 'prosper', 'territori', 'aggrandiz', 'death', '1370', 'without', 'male', 'heir', 'period', 'jagiellonian', 'dynasti', '14th', '16th', 'centuri', 'brought', 'close', 'tie', 'grand', 'duchi', 'lithuania', 'cultur', 'renaiss', 'poland', 'continu', 'territori', 'expans', 'culmin', 'establish', 'polish', 'lithuanian', 'commonwealth', '1569', 'earli', 'phase', 'commonwealth', 'abl', 'sustain', 'level', 'prosper', 'achiev', 'jagiellonian', 'period', 'polit', 'system', 'matur', 'uniqu', 'nobl', 'democraci', 'mid', '17th', 'centuri', 'howev', 'huge', 'state', 'enter', 'period', 'declin', 'caus', 'devast', 'war', 'deterior', 'polit', 'system', 'signific', 'intern', 'reform', 'introduc', 'later', 'part', '18th', 'centuri', 'especi', 'constitut', '3', 'may', '1791', 'neighbor', 'power', 'allow', 'reform', 'process', 'advanc', 'independ', 'exist', 'commonwealth', 'end', '1795', 'seri', 'invas', 'partit', 'polish', 'territori', 'carri', 'russian', 'empir', 'kingdom', 'prussia', 'habsburg', 'monarchi']\n"
     ]
    }
   ],
   "source": [
    "from nltk.stem.porter import PorterStemmer\n",
    "\n",
    "temp = text_original.lower()\n",
    "temp = re.sub(r\"[^a-zA-Z0-9]\", \" \", temp) \n",
    "temp = re.sub(r\"\\[[0-9]+\\]\", \"\", temp) \n",
    "temp = word_tokenize(temp)\n",
    "temp = [token for token in temp if token not in stopwords.words(\"english\")]\n",
    "\n",
    "porter_stemmer = PorterStemmer()\n",
    "stemmed_tokens = [porter_stemmer.stem(token) for token in temp]\n",
    "\n",
    "print(stemmed_tokens)"
   ]
  },
  {
   "cell_type": "markdown",
   "metadata": {},
   "source": [
    "b) Lematization is a proces of reducing word to it's base form e.g. words \"is\", \"was\", \"were\" will turn into \"be\"."
   ]
  },
  {
   "cell_type": "code",
   "execution_count": 13,
   "metadata": {
    "ExecuteTime": {
     "end_time": "2020-01-18T21:08:45.322080Z",
     "start_time": "2020-01-18T21:08:43.617204Z"
    }
   },
   "outputs": [
    {
     "name": "stdout",
     "output_type": "stream",
     "text": [
      "['history', 'poland', 'root', 'early', 'migrations', 'slavs', 'establish', 'permanent', 'west', 'slavic', 'settlements', 'polish', 'land', 'early', 'middle', 'age', '1', 'first', 'rule', 'dynasty', 'piasts', 'emerge', '10th', 'century', 'ad', 'duke', 'mieszko', '992', 'consider', 'de', 'facto', 'creator', 'polish', 'state', 'widely', 'recognize', 'adoption', 'western', 'christianity', 'follow', 'catholic', 'baptism', '966', 'mieszko', 'duchy', 'poland', 'formally', 'reconstitute', 'medieval', 'kingdom', '1025', 'son', 'boles', 'aw', 'brave', 'know', 'military', 'expansion', 'rule', 'perhaps', 'successful', 'piast', 'kings', 'last', 'one', 'casimir', 'iii', 'great', 'preside', 'brilliant', 'period', 'economic', 'prosperity', 'territorial', 'aggrandizement', 'death', '1370', 'without', 'male', 'heirs', 'period', 'jagiellonian', 'dynasty', '14th', '16th', 'centuries', 'bring', 'close', 'tie', 'grand', 'duchy', 'lithuania', 'cultural', 'renaissance', 'poland', 'continue', 'territorial', 'expansion', 'culminate', 'establishment', 'polish', 'lithuanian', 'commonwealth', '1569', 'early', 'phase', 'commonwealth', 'able', 'sustain', 'level', 'prosperity', 'achieve', 'jagiellonian', 'period', 'political', 'system', 'mature', 'unique', 'noble', 'democracy', 'mid', '17th', 'century', 'however', 'huge', 'state', 'enter', 'period', 'decline', 'cause', 'devastate', 'war', 'deterioration', 'political', 'system', 'significant', 'internal', 'reform', 'introduce', 'later', 'part', '18th', 'century', 'especially', 'constitution', '3', 'may', '1791', 'neighbor', 'power', 'allow', 'reform', 'process', 'advance', 'independent', 'existence', 'commonwealth', 'end', '1795', 'series', 'invasions', 'partition', 'polish', 'territory', 'carry', 'russian', 'empire', 'kingdom', 'prussia', 'habsburg', 'monarchy']\n"
     ]
    }
   ],
   "source": [
    "from nltk.stem.wordnet import WordNetLemmatizer\n",
    "\n",
    "temp = text_original.lower()\n",
    "temp = re.sub(r\"[^a-zA-Z0-9]\", \" \", temp) \n",
    "temp = word_tokenize(temp)\n",
    "temp = [token for token in temp if token not in stopwords.words(\"english\")]\n",
    "\n",
    "wordnet_lemmatizer = WordNetLemmatizer()\n",
    "lemmatized_tokens = [wordnet_lemmatizer.lemmatize(token, pos=\"v\") for token in temp]\n",
    "\n",
    "print(lemmatized_tokens)"
   ]
  },
  {
   "cell_type": "markdown",
   "metadata": {},
   "source": [
    "### Other Helpful Operations"
   ]
  },
  {
   "cell_type": "markdown",
   "metadata": {},
   "source": [
    "#### Part of Speech Tagging"
   ]
  },
  {
   "cell_type": "markdown",
   "metadata": {},
   "source": [
    "Adding speed part TAG to each token."
   ]
  },
  {
   "cell_type": "code",
   "execution_count": 14,
   "metadata": {
    "ExecuteTime": {
     "end_time": "2020-01-18T21:08:45.476200Z",
     "start_time": "2020-01-18T21:08:45.323846Z"
    },
    "scrolled": false
   },
   "outputs": [
    {
     "data": {
      "text/plain": [
       "[('history', 'NN'),\n",
       " ('poland', 'NN'),\n",
       " ('roots', 'NNS'),\n",
       " ('early', 'JJ'),\n",
       " ('migrations', 'NNS'),\n",
       " ('slavs', 'VBP'),\n",
       " ('established', 'VBN'),\n",
       " ('permanent', 'JJ'),\n",
       " ('west', 'NN'),\n",
       " ('slavic', 'NN'),\n",
       " ('settlements', 'NNS'),\n",
       " ('polish', 'JJ'),\n",
       " ('lands', 'NNS'),\n",
       " ('early', 'RB'),\n",
       " ('middle', 'JJ'),\n",
       " ('ages', 'NNS'),\n",
       " ('1', 'CD'),\n",
       " ('first', 'JJ'),\n",
       " ('ruling', 'NN'),\n",
       " ('dynasty', 'NN')]"
      ]
     },
     "execution_count": 14,
     "metadata": {},
     "output_type": "execute_result"
    }
   ],
   "source": [
    "from nltk import pos_tag\n",
    "\n",
    "temp = text_original.lower()\n",
    "temp = re.sub(r\"[^a-zA-Z0-9]\", \" \", temp) \n",
    "temp = re.sub(r\"\\[[0-9]+\\]\", \"\", temp) \n",
    "temp = word_tokenize(temp)\n",
    "temp = [token for token in temp if token not in stopwords.words(\"english\")]\n",
    "\n",
    "pos_tag(temp[:20])"
   ]
  }
 ],
 "metadata": {
  "kernelspec": {
   "display_name": "Python 3",
   "language": "python",
   "name": "python3"
  },
  "language_info": {
   "codemirror_mode": {
    "name": "ipython",
    "version": 3
   },
   "file_extension": ".py",
   "mimetype": "text/x-python",
   "name": "python",
   "nbconvert_exporter": "python",
   "pygments_lexer": "ipython3",
   "version": "3.10.8"
  }
 },
 "nbformat": 4,
 "nbformat_minor": 2
}
